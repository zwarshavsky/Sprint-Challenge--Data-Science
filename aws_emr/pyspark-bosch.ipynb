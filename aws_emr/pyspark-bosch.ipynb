{
 "cells": [
  {
   "cell_type": "code",
   "execution_count": 1,
   "metadata": {},
   "outputs": [
    {
     "data": {
      "application/vnd.jupyter.widget-view+json": {
       "model_id": "82b80348f8dc46f78e0141a19858a025",
       "version_major": 2,
       "version_minor": 0
      },
      "text/plain": [
       "VBox()"
      ]
     },
     "metadata": {},
     "output_type": "display_data"
    },
    {
     "name": "stdout",
     "output_type": "stream",
     "text": [
      "Starting Spark application\n"
     ]
    },
    {
     "data": {
      "text/html": [
       "<table>\n",
       "<tr><th>ID</th><th>YARN Application ID</th><th>Kind</th><th>State</th><th>Spark UI</th><th>Driver log</th><th>Current session?</th></tr><tr><td>10</td><td>application_1588472063188_0023</td><td>pyspark</td><td>idle</td><td><a target=\"_blank\" href=\"http://ip-172-31-92-38.ec2.internal:20888/proxy/application_1588472063188_0023/\">Link</a></td><td><a target=\"_blank\" href=\"http://ip-172-31-95-205.ec2.internal:8042/node/containerlogs/container_1588472063188_0023_01_000001/livy\">Link</a></td><td>✔</td></tr></table>"
      ],
      "text/plain": [
       "<IPython.core.display.HTML object>"
      ]
     },
     "metadata": {},
     "output_type": "display_data"
    },
    {
     "data": {
      "application/vnd.jupyter.widget-view+json": {
       "model_id": "",
       "version_major": 2,
       "version_minor": 0
      },
      "text/plain": [
       "FloatProgress(value=0.0, bar_style='info', description='Progress:', layout=Layout(height='25px', width='50%'),…"
      ]
     },
     "metadata": {},
     "output_type": "display_data"
    },
    {
     "name": "stdout",
     "output_type": "stream",
     "text": [
      "SparkSession available as 'spark'.\n"
     ]
    },
    {
     "data": {
      "application/vnd.jupyter.widget-view+json": {
       "model_id": "",
       "version_major": 2,
       "version_minor": 0
      },
      "text/plain": [
       "FloatProgress(value=0.0, bar_style='info', description='Progress:', layout=Layout(height='25px', width='50%'),…"
      ]
     },
     "metadata": {},
     "output_type": "display_data"
    },
    {
     "name": "stdout",
     "output_type": "stream",
     "text": [
      "Processing /mnt/var/lib/livy/.cache/pip/wheels/23/9d/42/5ec745cbbb17517000a53cecc49d6a865450d1f5cb16dc8a9c/sklearn-0.0-py2.py3-none-any.whl\n",
      "Collecting scikit-learn\n",
      "  Using cached scikit_learn-0.23.0-cp36-cp36m-manylinux1_x86_64.whl (7.3 MB)\n",
      "Collecting threadpoolctl>=2.0.0\n",
      "  Using cached threadpoolctl-2.0.0-py3-none-any.whl (34 kB)\n",
      "Requirement already satisfied: numpy>=1.13.3 in /usr/local/lib64/python3.6/site-packages (from scikit-learn->sklearn) (1.14.5)\n",
      "Collecting scipy>=0.19.1\n",
      "  Using cached scipy-1.4.1-cp36-cp36m-manylinux1_x86_64.whl (26.1 MB)\n",
      "Collecting joblib>=0.11\n",
      "  Using cached joblib-0.14.1-py2.py3-none-any.whl (294 kB)\n",
      "Installing collected packages: threadpoolctl, scipy, joblib, scikit-learn, sklearn\n",
      "Successfully installed joblib-0.14.1 scikit-learn-0.23.0 scipy-1.4.1 sklearn-0.0 threadpoolctl-2.0.0\n",
      "\n",
      "Collecting pandas==0.25.1\n",
      "  Using cached pandas-0.25.1-cp36-cp36m-manylinux1_x86_64.whl (10.5 MB)\n",
      "Collecting python-dateutil>=2.6.1\n",
      "  Using cached python_dateutil-2.8.1-py2.py3-none-any.whl (227 kB)\n",
      "Requirement already satisfied: numpy>=1.13.3 in /usr/local/lib64/python3.6/site-packages (from pandas==0.25.1) (1.14.5)\n",
      "Requirement already satisfied: pytz>=2017.2 in /usr/local/lib/python3.6/site-packages (from pandas==0.25.1) (2019.3)\n",
      "Requirement already satisfied: six>=1.5 in /usr/local/lib/python3.6/site-packages (from python-dateutil>=2.6.1->pandas==0.25.1) (1.13.0)\n",
      "Installing collected packages: python-dateutil, pandas\n",
      "Successfully installed pandas-0.25.1 python-dateutil-2.8.1\n",
      "\n",
      "Requirement already satisfied: numpy in /usr/local/lib64/python3.6/site-packages (1.14.5)"
     ]
    }
   ],
   "source": [
    "from pyspark.sql import functions as F\n",
    "from pyspark.sql.functions import isnan, when, count, col\n",
    "from pyspark.ml.feature import Imputer\n",
    "from pyspark.ml.feature import MinMaxScaler\n",
    "from pyspark.ml.feature import VectorAssembler\n",
    "from pyspark.ml.classification import LogisticRegression\n",
    "from pyspark.mllib.util import MLUtils\n",
    "from pyspark.mllib.evaluation import MulticlassMetrics\n",
    "from pyspark.ml.evaluation import BinaryClassificationEvaluator\n",
    "from pyspark.ml.classification import RandomForestClassifier\n",
    "sc.install_pypi_package(\"sklearn\")\n",
    "sc.install_pypi_package(\"pandas==0.25.1\")\n",
    "sc.install_pypi_package(\"numpy\")\n",
    "from sklearn.metrics import matthews_corrcoef\n",
    "from sklearn.metrics import accuracy_score\n",
    "from sklearn.metrics import average_precision_score\n",
    "import pandas as pd\n",
    "import numpy as np\n",
    "from pyspark.mllib.classification import SVMWithSGD, SVMModel\n",
    "from pyspark.mllib.regression import LabeledPoint"
   ]
  },
  {
   "cell_type": "markdown",
   "metadata": {},
   "source": [
    "# Github Commands "
   ]
  },
  {
   "cell_type": "code",
   "execution_count": 2,
   "metadata": {},
   "outputs": [
    {
     "data": {
      "application/vnd.jupyter.widget-view+json": {
       "model_id": "dd09cbbc18234542bed94dc11f7727ff",
       "version_major": 2,
       "version_minor": 0
      },
      "text/plain": [
       "VBox()"
      ]
     },
     "metadata": {},
     "output_type": "display_data"
    },
    {
     "data": {
      "application/vnd.jupyter.widget-view+json": {
       "model_id": "",
       "version_major": 2,
       "version_minor": 0
      },
      "text/plain": [
       "FloatProgress(value=0.0, bar_style='info', description='Progress:', layout=Layout(height='25px', width='50%'),…"
      ]
     },
     "metadata": {},
     "output_type": "display_data"
    }
   ],
   "source": [
    "# !github ..... commands not working!!!"
   ]
  },
  {
   "cell_type": "markdown",
   "metadata": {},
   "source": [
    "# Sample Data"
   ]
  },
  {
   "cell_type": "code",
   "execution_count": null,
   "metadata": {
    "jupyter": {
     "source_hidden": true
    }
   },
   "outputs": [],
   "source": [
    "input_bucket = 's3://amazon-reviews-pds'\n",
    "input_path = '/parquet/product_category=Books/*.parquet'\n",
    "df = spark.read.parquet(input_bucket + input_path)"
   ]
  },
  {
   "cell_type": "code",
   "execution_count": 9,
   "metadata": {
    "collapsed": true,
    "jupyter": {
     "outputs_hidden": true,
     "source_hidden": true
    }
   },
   "outputs": [
    {
     "data": {
      "application/vnd.jupyter.widget-view+json": {
       "model_id": "10067f14148244bf829e1721d77ae7a7",
       "version_major": 2,
       "version_minor": 0
      },
      "text/plain": [
       "VBox()"
      ]
     },
     "metadata": {},
     "output_type": "display_data"
    },
    {
     "data": {
      "application/vnd.jupyter.widget-view+json": {
       "model_id": "",
       "version_major": 2,
       "version_minor": 0
      },
      "text/plain": [
       "FloatProgress(value=0.0, bar_style='info', description='Progress:', layout=Layout(height='25px', width='50%'),…"
      ]
     },
     "metadata": {},
     "output_type": "display_data"
    },
    {
     "name": "stdout",
     "output_type": "stream",
     "text": [
      "+-----------+-----------+--------------+----------+--------------+--------------------+-----------+-------------+-----------+----+-----------------+--------------------+--------------------+-----------+----+\n",
      "|marketplace|customer_id|     review_id|product_id|product_parent|       product_title|star_rating|helpful_votes|total_votes|vine|verified_purchase|     review_headline|         review_body|review_date|year|\n",
      "+-----------+-----------+--------------+----------+--------------+--------------------+-----------+-------------+-----------+----+-----------------+--------------------+--------------------+-----------+----+\n",
      "|         US|   15444933|R1WWG70WK9VUCH|1848192576|     835940987|Standing Qigong f...|          5|            9|         10|   N|                Y|Informative AND i...|After attending a...| 2015-05-02|2015|\n",
      "|         US|   20595117|R1EQ3POS0RIOD5|145162445X|     574044348|A Universe from N...|          4|            4|          7|   N|                N|Between 'Nothing'...|Krauss traces the...| 2012-06-29|2012|\n",
      "|         US|   52925878|R10SRJA4VVGUBD|055341805X|     846590203|Hyacinth Girls: A...|          4|            0|          0|   Y|                N|Mysteries upon my...|Rebecca, a dental...| 2015-05-02|2015|\n",
      "|         US|   40062567| RD3268X41GM7U|0425263908|     119148606|        Bared to You|          5|            1|          1|   N|                N|\"RAW, STEAMY, HYP...|\\\\\"BARED TO YOU\\\\...| 2012-06-29|2012|\n",
      "|         US|   47221489|R3KGQL5X5BSJE1|1416556141|     987400385|     Healer: A Novel|          5|            0|          0|   N|                Y|  Well written story|Good characters a...| 2015-05-02|2015|\n",
      "|         US|   20709973|R3IY9A2Z7N2R49|1455523003|     181218559|The Missionary Po...|          4|            5|          7|   N|                Y|Eye opening, yet ...|This book was fas...| 2012-06-29|2012|\n",
      "|         US|   18052694|R12PGYPH9B9UVJ|0990388697|     840404589|I'm Tired of Bein...|          4|            1|          1|   N|                Y|                 JOY|A personal world ...| 2015-05-02|2015|\n",
      "|         US|   48279565|R2CA9LLJBEORNZ|0345803485|     600633062|Fifty Shades of G...|          1|            7|          7|   N|                N|This book is Twil...|I bought this boo...| 2012-06-29|2012|\n",
      "|         US|   14297627|R2C8BZMS1JRZ04|1469245167|     466321651|The Thrill of Vic...|          4|            0|          0|   N|                Y|          Four Stars|Sandra Brown is a...| 2015-05-02|2015|\n",
      "|         US|   37340439|R2F8UI9NNP6S33|0345803485|     600633062|Fifty Shades of G...|          5|            0|          9|   N|                N|Fifty shades of grey|Loved this book! ...| 2012-06-29|2012|\n",
      "|         US|   35122979|R18L06ZV927ZS0|0743477111|      43217624|Romeo and Juliet ...|          4|            0|          0|   N|                Y|Good text, but ed...|The text and comm...| 2015-05-02|2015|\n",
      "|         US|   11213632|R32NFRKUPJ3E4J|1609611543|     657488375|Wheat Belly: Lose...|          5|            1|          1|   N|                Y|         Wheat belly|This is an excell...| 2012-06-29|2012|\n",
      "|         US|   15816241|R1ZQ0M1HIMV8T9|0563551933|     412573914|Dangerous Dessert...|          5|            0|          0|   N|                Y|          Five Stars|Book in great con...| 2015-05-02|2015|\n",
      "|         US|   36748944| RKEHECW1IR9DT|0061777269|      84797790|Consciousness Bey...|          5|            0|          0|   N|                N|More evidence of ...|Consciousness Bey...| 2012-06-29|2012|\n",
      "|         US|   38261190|R3HKUZRLPR36SW|0316769487|     862964341|The Catcher in th...|          1|            1|          6|   N|                Y|Some people rave ...|This book seems t...| 2015-05-02|2015|\n",
      "|         US|   44704475|R36X05VUTXCEJQ|0307730697|      62706984|Fearless: The Und...|          4|            0|          0|   N|                Y|    American courage|For those who thi...| 2012-06-29|2012|\n",
      "|         US|   38351306|R257VQLC12S8IJ|0448439158|      27871958|Best-Ever Big Sister|          5|            0|          0|   N|                Y|My 1. 5-2yr old l...|My 1.5-2yr old lo...| 2015-05-02|2015|\n",
      "|         US|   49320969|R1DA0O932TXFV7|0375842209|      47504452|      The Book Thief|          5|            1|          1|   N|                N|Many Years Later,...|This is a book th...| 2012-06-29|2012|\n",
      "|         US|   21239776| RAF45VHW4W7HU|1402773536|     615203301|  Large Print Sudoku|          5|            1|          1|   N|                Y|          Five Stars|like the big prin...| 2015-05-02|2015|\n",
      "|         US|   39150739|R1YBB6HXVCZ8AR|0307592731|     576844294|Wild: From Lost t...|          5|            1|          1|   N|                N| A True Page-Turner!|I absolutely love...| 2012-06-29|2012|\n",
      "+-----------+-----------+--------------+----------+--------------+--------------------+-----------+-------------+-----------+----+-----------------+--------------------+--------------------+-----------+----+\n",
      "only showing top 20 rows"
     ]
    }
   ],
   "source": [
    "df.show()"
   ]
  },
  {
   "cell_type": "code",
   "execution_count": 3,
   "metadata": {
    "collapsed": true,
    "jupyter": {
     "outputs_hidden": true,
     "source_hidden": true
    }
   },
   "outputs": [
    {
     "data": {
      "application/vnd.jupyter.widget-view+json": {
       "model_id": "412fc2a8e919499a858f05ebc0a91ddd",
       "version_major": 2,
       "version_minor": 0
      },
      "text/plain": [
       "VBox()"
      ]
     },
     "metadata": {},
     "output_type": "display_data"
    },
    {
     "data": {
      "application/vnd.jupyter.widget-view+json": {
       "model_id": "",
       "version_major": 2,
       "version_minor": 0
      },
      "text/plain": [
       "FloatProgress(value=0.0, bar_style='info', description='Progress:', layout=Layout(height='25px', width='50%'),…"
      ]
     },
     "metadata": {},
     "output_type": "display_data"
    },
    {
     "name": "stdout",
     "output_type": "stream",
     "text": [
      "Row(marketplace='US', customer_id='15444933', review_id='R1WWG70WK9VUCH', product_id='1848192576', product_parent='835940987', product_title='Standing Qigong for Health and Martial Arts - Zhan Zhuang', star_rating=5, helpful_votes=9, total_votes=10, vine='N', verified_purchase='Y', review_headline='Informative AND interesting!', review_body=\"After attending a few Qigong classes, I wanted to have a book to read and re-read the instructions so I could practice at home.  I also wanted to gain more of an understanding of the purpose and benefit of the movements in order to practice them with a more focused purpose.<br /><br />The book exceeded my expectations.  The explanations are very clear and are paired with photos showing the correct form.  The book itself is more than just the Qigong, it's a very interesting read.  I read the whole book in two days and will read it again. I rarely read books twice!  The book has provided the information and additional instruction that I was looking for. I even use the breathing exercise to de-stress in traffic and fall asleep at night.  It really works!  I bought the book for my sister also and she's started practicing Standing Qigong and loves it.\", review_date=datetime.date(2015, 5, 2), year=2015)"
     ]
    }
   ],
   "source": [
    "df.head()"
   ]
  },
  {
   "cell_type": "code",
   "execution_count": 4,
   "metadata": {
    "collapsed": true,
    "jupyter": {
     "outputs_hidden": true,
     "source_hidden": true
    }
   },
   "outputs": [
    {
     "data": {
      "application/vnd.jupyter.widget-view+json": {
       "model_id": "60240e663bab4de4bd53d0ccee5bbd07",
       "version_major": 2,
       "version_minor": 0
      },
      "text/plain": [
       "VBox()"
      ]
     },
     "metadata": {},
     "output_type": "display_data"
    },
    {
     "data": {
      "application/vnd.jupyter.widget-view+json": {
       "model_id": "",
       "version_major": 2,
       "version_minor": 0
      },
      "text/plain": [
       "FloatProgress(value=0.0, bar_style='info', description='Progress:', layout=Layout(height='25px', width='50%'),…"
      ]
     },
     "metadata": {},
     "output_type": "display_data"
    },
    {
     "name": "stdout",
     "output_type": "stream",
     "text": [
      "DataFrame[summary: string, marketplace: string, customer_id: string, review_id: string, product_id: string, product_parent: string, product_title: string, star_rating: string, helpful_votes: string, total_votes: string, vine: string, verified_purchase: string, review_headline: string, review_body: string, year: string]"
     ]
    }
   ],
   "source": [
    "df.describe()"
   ]
  },
  {
   "cell_type": "code",
   "execution_count": 6,
   "metadata": {
    "collapsed": true,
    "jupyter": {
     "outputs_hidden": true,
     "source_hidden": true
    }
   },
   "outputs": [
    {
     "data": {
      "application/vnd.jupyter.widget-view+json": {
       "model_id": "0fd2baa91e2647738f6a0fa9e0e42721",
       "version_major": 2,
       "version_minor": 0
      },
      "text/plain": [
       "VBox()"
      ]
     },
     "metadata": {},
     "output_type": "display_data"
    },
    {
     "data": {
      "application/vnd.jupyter.widget-view+json": {
       "model_id": "",
       "version_major": 2,
       "version_minor": 0
      },
      "text/plain": [
       "FloatProgress(value=0.0, bar_style='info', description='Progress:', layout=Layout(height='25px', width='50%'),…"
      ]
     },
     "metadata": {},
     "output_type": "display_data"
    },
    {
     "name": "stdout",
     "output_type": "stream",
     "text": [
      "20726160"
     ]
    }
   ],
   "source": [
    "df.count(\n",
    ")"
   ]
  },
  {
   "cell_type": "markdown",
   "metadata": {},
   "source": [
    "# Import Real Data from S3  "
   ]
  },
  {
   "cell_type": "code",
   "execution_count": 7,
   "metadata": {},
   "outputs": [
    {
     "data": {
      "application/vnd.jupyter.widget-view+json": {
       "model_id": "cb442b71939f493bb62147e3f9508f89",
       "version_major": 2,
       "version_minor": 0
      },
      "text/plain": [
       "VBox()"
      ]
     },
     "metadata": {},
     "output_type": "display_data"
    },
    {
     "data": {
      "application/vnd.jupyter.widget-view+json": {
       "model_id": "",
       "version_major": 2,
       "version_minor": 0
      },
      "text/plain": [
       "FloatProgress(value=0.0, bar_style='info', description='Progress:', layout=Layout(height='25px', width='50%'),…"
      ]
     },
     "metadata": {},
     "output_type": "display_data"
    }
   ],
   "source": [
    "# train_path =  's3://bosch-data-spark/data/train_numeric.csv'\n",
    "# df_train_numeric = spark.read.load(train_path,format=\"csv\",inferSchema = True,header=True)\n",
    "\n",
    "# test_path =  's3://bosch-data-spark/data/test_numeric.csv'\n",
    "# df_test_numeric = spark.read.load(test_path,format=\"csv\",inferSchema = True,header=True)"
   ]
  },
  {
   "cell_type": "code",
   "execution_count": 8,
   "metadata": {},
   "outputs": [
    {
     "data": {
      "application/vnd.jupyter.widget-view+json": {
       "model_id": "902ab9728f9c4980b981e26ea7b127f2",
       "version_major": 2,
       "version_minor": 0
      },
      "text/plain": [
       "VBox()"
      ]
     },
     "metadata": {},
     "output_type": "display_data"
    },
    {
     "data": {
      "application/vnd.jupyter.widget-view+json": {
       "model_id": "",
       "version_major": 2,
       "version_minor": 0
      },
      "text/plain": [
       "FloatProgress(value=0.0, bar_style='info', description='Progress:', layout=Layout(height='25px', width='50%'),…"
      ]
     },
     "metadata": {},
     "output_type": "display_data"
    }
   ],
   "source": [
    "#parquet files already created\n",
    "\n",
    "# df_train_numeric.write.parquet(\"s3://bosch-data-spark/data/df_train_numeric.parquet\")\n",
    "# df_test_numeric.write.parquet(\"s3://bosch-data-spark/data/df_test_numeric.parquet\")"
   ]
  },
  {
   "cell_type": "code",
   "execution_count": 2,
   "metadata": {},
   "outputs": [
    {
     "data": {
      "application/vnd.jupyter.widget-view+json": {
       "model_id": "7048383535f74798876e59764f0d614f",
       "version_major": 2,
       "version_minor": 0
      },
      "text/plain": [
       "VBox()"
      ]
     },
     "metadata": {},
     "output_type": "display_data"
    },
    {
     "data": {
      "application/vnd.jupyter.widget-view+json": {
       "model_id": "",
       "version_major": 2,
       "version_minor": 0
      },
      "text/plain": [
       "FloatProgress(value=0.0, bar_style='info', description='Progress:', layout=Layout(height='25px', width='50%'),…"
      ]
     },
     "metadata": {},
     "output_type": "display_data"
    }
   ],
   "source": [
    "dfs_train_numeric = spark.read.parquet(\"s3://bosch-data-spark/data/df_train_numeric.parquet\")\n",
    "dfs_test_numeric = spark.read.parquet(\"s3://bosch-data-spark/data/df_test_numeric.parquet\")"
   ]
  },
  {
   "cell_type": "code",
   "execution_count": 5,
   "metadata": {},
   "outputs": [
    {
     "data": {
      "application/vnd.jupyter.widget-view+json": {
       "model_id": "0255b18d60e149208171dd3096c8d03e",
       "version_major": 2,
       "version_minor": 0
      },
      "text/plain": [
       "VBox()"
      ]
     },
     "metadata": {},
     "output_type": "display_data"
    },
    {
     "data": {
      "application/vnd.jupyter.widget-view+json": {
       "model_id": "",
       "version_major": 2,
       "version_minor": 0
      },
      "text/plain": [
       "FloatProgress(value=0.0, bar_style='info', description='Progress:', layout=Layout(height='25px', width='50%'),…"
      ]
     },
     "metadata": {},
     "output_type": "display_data"
    },
    {
     "name": "stdout",
     "output_type": "stream",
     "text": [
      "1183747"
     ]
    }
   ],
   "source": [
    "dfs_train_numeric.count()"
   ]
  },
  {
   "cell_type": "code",
   "execution_count": 6,
   "metadata": {
    "jupyter": {
     "source_hidden": true
    }
   },
   "outputs": [
    {
     "data": {
      "application/vnd.jupyter.widget-view+json": {
       "model_id": "ae75c874007841969c42625154ca44d1",
       "version_major": 2,
       "version_minor": 0
      },
      "text/plain": [
       "VBox()"
      ]
     },
     "metadata": {},
     "output_type": "display_data"
    },
    {
     "data": {
      "application/vnd.jupyter.widget-view+json": {
       "model_id": "",
       "version_major": 2,
       "version_minor": 0
      },
      "text/plain": [
       "FloatProgress(value=0.0, bar_style='info', description='Progress:', layout=Layout(height='25px', width='50%'),…"
      ]
     },
     "metadata": {},
     "output_type": "display_data"
    },
    {
     "name": "stdout",
     "output_type": "stream",
     "text": [
      "970"
     ]
    }
   ],
   "source": [
    "len(dfs_train_numeric.columns)"
   ]
  },
  {
   "cell_type": "code",
   "execution_count": 11,
   "metadata": {},
   "outputs": [],
   "source": [
    "dfs_train_numeric.count()\n",
    "\n",
    "dfs_train_numeric.select(dfs_train_numeric[-1]).distinct().count()"
   ]
  },
  {
   "cell_type": "markdown",
   "metadata": {},
   "source": [
    "# Categorical Features"
   ]
  },
  {
   "cell_type": "code",
   "execution_count": 12,
   "metadata": {
    "collapsed": true,
    "jupyter": {
     "outputs_hidden": true,
     "source_hidden": true
    }
   },
   "outputs": [
    {
     "data": {
      "application/vnd.jupyter.widget-view+json": {
       "model_id": "bd8c834688774b36b611637bfba808ca",
       "version_major": 2,
       "version_minor": 0
      },
      "text/plain": [
       "VBox()"
      ]
     },
     "metadata": {},
     "output_type": "display_data"
    },
    {
     "data": {
      "application/vnd.jupyter.widget-view+json": {
       "model_id": "",
       "version_major": 2,
       "version_minor": 0
      },
      "text/plain": [
       "FloatProgress(value=0.0, bar_style='info', description='Progress:', layout=Layout(height='25px', width='50%'),…"
      ]
     },
     "metadata": {},
     "output_type": "display_data"
    }
   ],
   "source": [
    "# path =  's3://bosch-data-spark/data/train_categorical.csv'\n",
    "# df_categorical_train = spark.read.load(path,format=\"csv\",header=True)\n",
    "\n",
    "# path = 's3://bosch-data-spark/data/test_categorical.csv'\n",
    "# df_categorical_test = spark.read.load(path,format=\"csv\",header=True)"
   ]
  },
  {
   "cell_type": "code",
   "execution_count": 15,
   "metadata": {
    "jupyter": {
     "source_hidden": true
    }
   },
   "outputs": [
    {
     "data": {
      "application/vnd.jupyter.widget-view+json": {
       "model_id": "6539ecc8bb904c60acb7cfc39e6ef371",
       "version_major": 2,
       "version_minor": 0
      },
      "text/plain": [
       "VBox()"
      ]
     },
     "metadata": {},
     "output_type": "display_data"
    },
    {
     "data": {
      "application/vnd.jupyter.widget-view+json": {
       "model_id": "",
       "version_major": 2,
       "version_minor": 0
      },
      "text/plain": [
       "FloatProgress(value=0.0, bar_style='info', description='Progress:', layout=Layout(height='25px', width='50%'),…"
      ]
     },
     "metadata": {},
     "output_type": "display_data"
    }
   ],
   "source": [
    "# df_categorical_train.write.parquet(\"s3://bosch-data-spark/data/df_train_categorical.parquet\")\n",
    "# df_categorical_test.write.parquet(\"s3://bosch-data-spark/data/df_test_categorical.parquet\")"
   ]
  },
  {
   "cell_type": "code",
   "execution_count": 3,
   "metadata": {
    "collapsed": true,
    "jupyter": {
     "outputs_hidden": true,
     "source_hidden": true
    }
   },
   "outputs": [
    {
     "data": {
      "application/vnd.jupyter.widget-view+json": {
       "model_id": "e8db12f060d74f0fbd2feffb3775385b",
       "version_major": 2,
       "version_minor": 0
      },
      "text/plain": [
       "VBox()"
      ]
     },
     "metadata": {},
     "output_type": "display_data"
    },
    {
     "data": {
      "application/vnd.jupyter.widget-view+json": {
       "model_id": "",
       "version_major": 2,
       "version_minor": 0
      },
      "text/plain": [
       "FloatProgress(value=0.0, bar_style='info', description='Progress:', layout=Layout(height='25px', width='50%'),…"
      ]
     },
     "metadata": {},
     "output_type": "display_data"
    }
   ],
   "source": [
    "dfs_train_categorical = spark.read.parquet(\"s3://bosch-data-spark/data/df_train_categorical.parquet\")\n",
    "dfs_test_categorical = spark.read.parquet(\"s3://bosch-data-spark/data/df_test_categorical.parquet\")"
   ]
  },
  {
   "cell_type": "code",
   "execution_count": 11,
   "metadata": {
    "collapsed": true,
    "jupyter": {
     "outputs_hidden": true,
     "source_hidden": true
    }
   },
   "outputs": [
    {
     "data": {
      "application/vnd.jupyter.widget-view+json": {
       "model_id": "232697604bce41db8e7fb6d65ef7e993",
       "version_major": 2,
       "version_minor": 0
      },
      "text/plain": [
       "VBox()"
      ]
     },
     "metadata": {},
     "output_type": "display_data"
    },
    {
     "data": {
      "application/vnd.jupyter.widget-view+json": {
       "model_id": "",
       "version_major": 2,
       "version_minor": 0
      },
      "text/plain": [
       "FloatProgress(value=0.0, bar_style='info', description='Progress:', layout=Layout(height='25px', width='50%'),…"
      ]
     },
     "metadata": {},
     "output_type": "display_data"
    },
    {
     "name": "stdout",
     "output_type": "stream",
     "text": [
      "     Id L0_S1_F25 L0_S1_F27  ... L3_S49_F4237 L3_S49_F4239 L3_S49_F4240\n",
      "0     4      None      None  ...         None         None         None\n",
      "1     6      None      None  ...         None         None         None\n",
      "2     7      None      None  ...         None         None         None\n",
      "3     9      None      None  ...         None         None         None\n",
      "4    11      None      None  ...         None         None         None\n",
      "..  ...       ...       ...  ...          ...          ...          ...\n",
      "95  192      None      None  ...         None         None         None\n",
      "96  197      None      None  ...         None         None         None\n",
      "97  200      None      None  ...         None         None         None\n",
      "98  201      None      None  ...         None         None         None\n",
      "99  205      None      None  ...         None         None         None\n",
      "\n",
      "[100 rows x 2141 columns]"
     ]
    }
   ],
   "source": [
    "df_train_categorical.limit(100).toPandas()"
   ]
  },
  {
   "cell_type": "markdown",
   "metadata": {},
   "source": [
    "# Start of numerical feature exploration"
   ]
  },
  {
   "cell_type": "code",
   "execution_count": 16,
   "metadata": {
    "collapsed": true,
    "jupyter": {
     "outputs_hidden": true,
     "source_hidden": true
    }
   },
   "outputs": [
    {
     "data": {
      "application/vnd.jupyter.widget-view+json": {
       "model_id": "ec54125ea41846988177ad9982bf06ac",
       "version_major": 2,
       "version_minor": 0
      },
      "text/plain": [
       "VBox()"
      ]
     },
     "metadata": {},
     "output_type": "display_data"
    },
    {
     "data": {
      "application/vnd.jupyter.widget-view+json": {
       "model_id": "",
       "version_major": 2,
       "version_minor": 0
      },
      "text/plain": [
       "FloatProgress(value=0.0, bar_style='info', description='Progress:', layout=Layout(height='25px', width='50%'),…"
      ]
     },
     "metadata": {},
     "output_type": "display_data"
    },
    {
     "name": "stdout",
     "output_type": "stream",
     "text": [
      "+------+\n",
      "|    Id|\n",
      "+------+\n",
      "|594807|\n",
      "|594808|\n",
      "|594810|\n",
      "|594821|\n",
      "|594824|\n",
      "|594832|\n",
      "|594833|\n",
      "|594834|\n",
      "|594838|\n",
      "|594839|\n",
      "+------+\n",
      "only showing top 10 rows"
     ]
    }
   ],
   "source": [
    "sdf_train.select(sdf_train[0]).show(10)"
   ]
  },
  {
   "cell_type": "code",
   "execution_count": 17,
   "metadata": {
    "collapsed": true,
    "jupyter": {
     "outputs_hidden": true,
     "source_hidden": true
    }
   },
   "outputs": [
    {
     "data": {
      "application/vnd.jupyter.widget-view+json": {
       "model_id": "4c3a69fc148e49098a032215b95c59a0",
       "version_major": 2,
       "version_minor": 0
      },
      "text/plain": [
       "VBox()"
      ]
     },
     "metadata": {},
     "output_type": "display_data"
    },
    {
     "data": {
      "application/vnd.jupyter.widget-view+json": {
       "model_id": "",
       "version_major": 2,
       "version_minor": 0
      },
      "text/plain": [
       "FloatProgress(value=0.0, bar_style='info', description='Progress:', layout=Layout(height='25px', width='50%'),…"
      ]
     },
     "metadata": {},
     "output_type": "display_data"
    },
    {
     "name": "stdout",
     "output_type": "stream",
     "text": [
      "+------+\n",
      "|    Id|\n",
      "+------+\n",
      "|892308|\n",
      "|892328|\n",
      "|892332|\n",
      "|892337|\n",
      "|892347|\n",
      "|892359|\n",
      "|892374|\n",
      "|892379|\n",
      "|892386|\n",
      "|892387|\n",
      "+------+\n",
      "only showing top 10 rows"
     ]
    }
   ],
   "source": [
    "sdf_test.select(sdf_train[0]).show(10)"
   ]
  },
  {
   "cell_type": "code",
   "execution_count": 9,
   "metadata": {
    "collapsed": true,
    "jupyter": {
     "outputs_hidden": true,
     "source_hidden": true
    }
   },
   "outputs": [
    {
     "data": {
      "application/vnd.jupyter.widget-view+json": {
       "model_id": "3c49de2b8dc1442ca116de1a10c89b9b",
       "version_major": 2,
       "version_minor": 0
      },
      "text/plain": [
       "VBox()"
      ]
     },
     "metadata": {},
     "output_type": "display_data"
    },
    {
     "data": {
      "application/vnd.jupyter.widget-view+json": {
       "model_id": "",
       "version_major": 2,
       "version_minor": 0
      },
      "text/plain": [
       "FloatProgress(value=0.0, bar_style='info', description='Progress:', layout=Layout(height='25px', width='50%'),…"
      ]
     },
     "metadata": {},
     "output_type": "display_data"
    },
    {
     "name": "stderr",
     "output_type": "stream",
     "text": [
      "name 'df_train_categorical' is not defined\n",
      "Traceback (most recent call last):\n",
      "NameError: name 'df_train_categorical' is not defined\n",
      "\n"
     ]
    }
   ],
   "source": [
    "df_train_categorical.select(df_train_categorical[0]).show(5)"
   ]
  },
  {
   "cell_type": "markdown",
   "metadata": {},
   "source": [
    "# NOTE: On Join for PySpark, indicate the column match as a string rather than the commented out statement "
   ]
  },
  {
   "cell_type": "code",
   "execution_count": 14,
   "metadata": {},
   "outputs": [
    {
     "data": {
      "application/vnd.jupyter.widget-view+json": {
       "model_id": "7c962001e8fc41d8958e14ae03d8afa7",
       "version_major": 2,
       "version_minor": 0
      },
      "text/plain": [
       "VBox()"
      ]
     },
     "metadata": {},
     "output_type": "display_data"
    },
    {
     "data": {
      "application/vnd.jupyter.widget-view+json": {
       "model_id": "",
       "version_major": 2,
       "version_minor": 0
      },
      "text/plain": [
       "FloatProgress(value=0.0, bar_style='info', description='Progress:', layout=Layout(height='25px', width='50%'),…"
      ]
     },
     "metadata": {},
     "output_type": "display_data"
    }
   ],
   "source": [
    "# inner_join = df_train_numeric.join(df_train_categorical, df_train_numeric.Id == df_train_categorical.Id )"
   ]
  },
  {
   "cell_type": "markdown",
   "metadata": {},
   "source": [
    "# On Exploring the Categorical Dataset, it appears there are so many NaN's that it simply doesn't make sense to analyze it"
   ]
  },
  {
   "cell_type": "code",
   "execution_count": 4,
   "metadata": {
    "jupyter": {
     "source_hidden": true
    }
   },
   "outputs": [
    {
     "data": {
      "application/vnd.jupyter.widget-view+json": {
       "model_id": "9e02aa81acaa4cdbaf3a5e105101b53c",
       "version_major": 2,
       "version_minor": 0
      },
      "text/plain": [
       "VBox()"
      ]
     },
     "metadata": {},
     "output_type": "display_data"
    },
    {
     "data": {
      "application/vnd.jupyter.widget-view+json": {
       "model_id": "",
       "version_major": 2,
       "version_minor": 0
      },
      "text/plain": [
       "FloatProgress(value=0.0, bar_style='info', description='Progress:', layout=Layout(height='25px', width='50%'),…"
      ]
     },
     "metadata": {},
     "output_type": "display_data"
    }
   ],
   "source": [
    "inner_join_train = dfs_train_categorical.join(dfs_train_numeric, \"Id\" )\n",
    "inner_join_test = dfs_test_categorical.join(dfs_test_numeric, \"Id\" )"
   ]
  },
  {
   "cell_type": "code",
   "execution_count": 12,
   "metadata": {
    "jupyter": {
     "source_hidden": true
    }
   },
   "outputs": [
    {
     "data": {
      "application/vnd.jupyter.widget-view+json": {
       "model_id": "a59d4c95d1234fdc85ce8d2030eee862",
       "version_major": 2,
       "version_minor": 0
      },
      "text/plain": [
       "VBox()"
      ]
     },
     "metadata": {},
     "output_type": "display_data"
    },
    {
     "data": {
      "application/vnd.jupyter.widget-view+json": {
       "model_id": "",
       "version_major": 2,
       "version_minor": 0
      },
      "text/plain": [
       "FloatProgress(value=0.0, bar_style='info', description='Progress:', layout=Layout(height='25px', width='50%'),…"
      ]
     },
     "metadata": {},
     "output_type": "display_data"
    },
    {
     "name": "stdout",
     "output_type": "stream",
     "text": [
      "3110"
     ]
    }
   ],
   "source": [
    "len(inner_join_train.columns)"
   ]
  },
  {
   "cell_type": "code",
   "execution_count": 117,
   "metadata": {
    "jupyter": {
     "source_hidden": true
    }
   },
   "outputs": [
    {
     "data": {
      "application/vnd.jupyter.widget-view+json": {
       "model_id": "1422e3a3ca6f4a5d96de4bd94745d18f",
       "version_major": 2,
       "version_minor": 0
      },
      "text/plain": [
       "VBox()"
      ]
     },
     "metadata": {},
     "output_type": "display_data"
    },
    {
     "data": {
      "application/vnd.jupyter.widget-view+json": {
       "model_id": "",
       "version_major": 2,
       "version_minor": 0
      },
      "text/plain": [
       "FloatProgress(value=0.0, bar_style='info', description='Progress:', layout=Layout(height='25px', width='50%'),…"
      ]
     },
     "metadata": {},
     "output_type": "display_data"
    },
    {
     "name": "stdout",
     "output_type": "stream",
     "text": [
      "3111"
     ]
    }
   ],
   "source": [
    "def col_len(dfs):\n",
    "    return len(dfs.columns)\n",
    "\n",
    "def get_cols(dfs):\n",
    "    return dfs.columns\n",
    "\n",
    "def row_len(dfs):\n",
    "    return df.count()\n",
    "\n",
    "col_len(dfs_train_categorical) + col_len(dfs_train_numeric) "
   ]
  },
  {
   "cell_type": "code",
   "execution_count": 116,
   "metadata": {
    "collapsed": true,
    "jupyter": {
     "outputs_hidden": true,
     "source_hidden": true
    }
   },
   "outputs": [
    {
     "data": {
      "application/vnd.jupyter.widget-view+json": {
       "model_id": "0869b8c0915949c48e5f9cc334adef65",
       "version_major": 2,
       "version_minor": 0
      },
      "text/plain": [
       "VBox()"
      ]
     },
     "metadata": {},
     "output_type": "display_data"
    },
    {
     "data": {
      "application/vnd.jupyter.widget-view+json": {
       "model_id": "",
       "version_major": 2,
       "version_minor": 0
      },
      "text/plain": [
       "FloatProgress(value=0.0, bar_style='info', description='Progress:', layout=Layout(height='25px', width='50%'),…"
      ]
     },
     "metadata": {},
     "output_type": "display_data"
    },
    {
     "name": "stdout",
     "output_type": "stream",
     "text": [
      "1183747"
     ]
    }
   ],
   "source": [
    "inner_join_train.count()"
   ]
  },
  {
   "cell_type": "code",
   "execution_count": 123,
   "metadata": {
    "collapsed": true,
    "jupyter": {
     "outputs_hidden": true
    }
   },
   "outputs": [
    {
     "data": {
      "application/vnd.jupyter.widget-view+json": {
       "model_id": "1665bd2a969949669be3c5dca60d1118",
       "version_major": 2,
       "version_minor": 0
      },
      "text/plain": [
       "VBox()"
      ]
     },
     "metadata": {},
     "output_type": "display_data"
    },
    {
     "data": {
      "application/vnd.jupyter.widget-view+json": {
       "model_id": "",
       "version_major": 2,
       "version_minor": 0
      },
      "text/plain": [
       "FloatProgress(value=0.0, bar_style='info', description='Progress:', layout=Layout(height='25px', width='50%'),…"
      ]
     },
     "metadata": {},
     "output_type": "display_data"
    },
    {
     "name": "stderr",
     "output_type": "stream",
     "text": [
      "'DataFrame' object has no attribute 'rows'\n",
      "Traceback (most recent call last):\n",
      "  File \"/usr/lib/spark/python/lib/pyspark.zip/pyspark/sql/dataframe.py\", line 1301, in __getattr__\n",
      "    \"'%s' object has no attribute '%s'\" % (self.__class__.__name__, name))\n",
      "AttributeError: 'DataFrame' object has no attribute 'rows'\n",
      "\n"
     ]
    }
   ],
   "source": [
    "inner_join[inner_join.columns[1:-1]].na.drop(how=\"all\").rows"
   ]
  },
  {
   "cell_type": "code",
   "execution_count": 124,
   "metadata": {
    "collapsed": true,
    "jupyter": {
     "outputs_hidden": true,
     "source_hidden": true
    }
   },
   "outputs": [
    {
     "data": {
      "application/vnd.jupyter.widget-view+json": {
       "model_id": "a5cc8c6cf39d41d683151fb221f90e00",
       "version_major": 2,
       "version_minor": 0
      },
      "text/plain": [
       "VBox()"
      ]
     },
     "metadata": {},
     "output_type": "display_data"
    },
    {
     "data": {
      "application/vnd.jupyter.widget-view+json": {
       "model_id": "",
       "version_major": 2,
       "version_minor": 0
      },
      "text/plain": [
       "FloatProgress(value=0.0, bar_style='info', description='Progress:', layout=Layout(height='25px', width='50%'),…"
      ]
     },
     "metadata": {},
     "output_type": "display_data"
    },
    {
     "name": "stdout",
     "output_type": "stream",
     "text": [
      "1183165"
     ]
    }
   ],
   "source": [
    "inner_join.na.drop(thresh=3).count()"
   ]
  },
  {
   "cell_type": "markdown",
   "metadata": {},
   "source": [
    "### Sample DF to test  "
   ]
  },
  {
   "cell_type": "code",
   "execution_count": 223,
   "metadata": {
    "collapsed": true,
    "jupyter": {
     "outputs_hidden": true,
     "source_hidden": true
    }
   },
   "outputs": [
    {
     "data": {
      "application/vnd.jupyter.widget-view+json": {
       "model_id": "47a1a14c5fa64997940db220e9c05300",
       "version_major": 2,
       "version_minor": 0
      },
      "text/plain": [
       "VBox()"
      ]
     },
     "metadata": {},
     "output_type": "display_data"
    },
    {
     "data": {
      "application/vnd.jupyter.widget-view+json": {
       "model_id": "",
       "version_major": 2,
       "version_minor": 0
      },
      "text/plain": [
       "FloatProgress(value=0.0, bar_style='info', description='Progress:', layout=Layout(height='25px', width='50%'),…"
      ]
     },
     "metadata": {},
     "output_type": "display_data"
    }
   ],
   "source": [
    "df = spark.createDataFrame(\n",
    "    [(None, float('nan'), float('nan')), (1, float('nan'), float(5)), (None, None, np.nan), (1, float('nan'), float('nan')), (1, float('nan'), float(10)), (1, float('nan'), float('nan')), (1,float('nan'), float('nan'))],\n",
    "    ('session', \"timestamp1\", \"id2\"))"
   ]
  },
  {
   "cell_type": "code",
   "execution_count": 195,
   "metadata": {
    "jupyter": {
     "source_hidden": true
    }
   },
   "outputs": [
    {
     "data": {
      "application/vnd.jupyter.widget-view+json": {
       "model_id": "9fc2972423d849d396925e664a0ec900",
       "version_major": 2,
       "version_minor": 0
      },
      "text/plain": [
       "VBox()"
      ]
     },
     "metadata": {},
     "output_type": "display_data"
    },
    {
     "data": {
      "application/vnd.jupyter.widget-view+json": {
       "model_id": "",
       "version_major": 2,
       "version_minor": 0
      },
      "text/plain": [
       "FloatProgress(value=0.0, bar_style='info', description='Progress:', layout=Layout(height='25px', width='50%'),…"
      ]
     },
     "metadata": {},
     "output_type": "display_data"
    }
   ],
   "source": [
    "df = spark.createDataFrame([\n",
    "    (1, \"B\", \"X1\"), (None, None, None), (None, float('nan'), \"X1\"), (None, \"C\", None)],\n",
    "    (\"ID\", \"TYPE\", \"CODE\")\n",
    ")"
   ]
  },
  {
   "cell_type": "code",
   "execution_count": 224,
   "metadata": {
    "collapsed": true,
    "jupyter": {
     "outputs_hidden": true,
     "source_hidden": true
    }
   },
   "outputs": [
    {
     "data": {
      "application/vnd.jupyter.widget-view+json": {
       "model_id": "ffe51faa4b754f668e48c03bb13c5847",
       "version_major": 2,
       "version_minor": 0
      },
      "text/plain": [
       "VBox()"
      ]
     },
     "metadata": {},
     "output_type": "display_data"
    },
    {
     "data": {
      "application/vnd.jupyter.widget-view+json": {
       "model_id": "",
       "version_major": 2,
       "version_minor": 0
      },
      "text/plain": [
       "FloatProgress(value=0.0, bar_style='info', description='Progress:', layout=Layout(height='25px', width='50%'),…"
      ]
     },
     "metadata": {},
     "output_type": "display_data"
    },
    {
     "name": "stdout",
     "output_type": "stream",
     "text": [
      "+-------+----------+----+\n",
      "|session|timestamp1| id2|\n",
      "+-------+----------+----+\n",
      "|   null|       NaN| NaN|\n",
      "|      1|       NaN| 5.0|\n",
      "|   null|      null| NaN|\n",
      "|      1|       NaN| NaN|\n",
      "|      1|       NaN|10.0|\n",
      "|      1|       NaN| NaN|\n",
      "|      1|       NaN| NaN|\n",
      "+-------+----------+----+"
     ]
    }
   ],
   "source": [
    "df.show()"
   ]
  },
  {
   "cell_type": "code",
   "execution_count": 226,
   "metadata": {
    "collapsed": true,
    "jupyter": {
     "outputs_hidden": true,
     "source_hidden": true
    }
   },
   "outputs": [
    {
     "data": {
      "application/vnd.jupyter.widget-view+json": {
       "model_id": "3476c06723b44e66b690e6fce65ea640",
       "version_major": 2,
       "version_minor": 0
      },
      "text/plain": [
       "VBox()"
      ]
     },
     "metadata": {},
     "output_type": "display_data"
    },
    {
     "data": {
      "application/vnd.jupyter.widget-view+json": {
       "model_id": "",
       "version_major": 2,
       "version_minor": 0
      },
      "text/plain": [
       "FloatProgress(value=0.0, bar_style='info', description='Progress:', layout=Layout(height='25px', width='50%'),…"
      ]
     },
     "metadata": {},
     "output_type": "display_data"
    },
    {
     "name": "stdout",
     "output_type": "stream",
     "text": [
      "+-------+----------+----+\n",
      "|session|timestamp1| id2|\n",
      "+-------+----------+----+\n",
      "|      1|       NaN| 5.0|\n",
      "|      1|       NaN| NaN|\n",
      "|      1|       NaN|10.0|\n",
      "|      1|       NaN| NaN|\n",
      "|      1|       NaN| NaN|\n",
      "+-------+----------+----+"
     ]
    }
   ],
   "source": [
    "df.na.drop(thresh=1).show()"
   ]
  },
  {
   "cell_type": "code",
   "execution_count": 185,
   "metadata": {
    "collapsed": true,
    "jupyter": {
     "outputs_hidden": true,
     "source_hidden": true
    }
   },
   "outputs": [
    {
     "data": {
      "application/vnd.jupyter.widget-view+json": {
       "model_id": "4743dede241044fd88d71b8a458ee0b8",
       "version_major": 2,
       "version_minor": 0
      },
      "text/plain": [
       "VBox()"
      ]
     },
     "metadata": {},
     "output_type": "display_data"
    },
    {
     "data": {
      "application/vnd.jupyter.widget-view+json": {
       "model_id": "",
       "version_major": 2,
       "version_minor": 0
      },
      "text/plain": [
       "FloatProgress(value=0.0, bar_style='info', description='Progress:', layout=Layout(height='25px', width='50%'),…"
      ]
     },
     "metadata": {},
     "output_type": "display_data"
    },
    {
     "name": "stdout",
     "output_type": "stream",
     "text": [
      "+-------+----------+----+\n",
      "|session|timestamp1| id2|\n",
      "+-------+----------+----+\n",
      "|   null|         1|null|\n",
      "|      1|         2| 5.0|\n",
      "|      1|         3| NaN|\n",
      "|      1|         4|null|\n",
      "|      1|         5|10.0|\n",
      "|      1|         6| NaN|\n",
      "|      1|         6| NaN|\n",
      "+-------+----------+----+"
     ]
    }
   ],
   "source": []
  },
  {
   "cell_type": "code",
   "execution_count": null,
   "metadata": {
    "jupyter": {
     "source_hidden": true
    }
   },
   "outputs": [],
   "source": []
  },
  {
   "cell_type": "code",
   "execution_count": 162,
   "metadata": {
    "collapsed": true,
    "jupyter": {
     "outputs_hidden": true,
     "source_hidden": true
    }
   },
   "outputs": [
    {
     "data": {
      "application/vnd.jupyter.widget-view+json": {
       "model_id": "719e85d2b87b4d62b875f0796d7ce9ce",
       "version_major": 2,
       "version_minor": 0
      },
      "text/plain": [
       "VBox()"
      ]
     },
     "metadata": {},
     "output_type": "display_data"
    },
    {
     "data": {
      "application/vnd.jupyter.widget-view+json": {
       "model_id": "",
       "version_major": 2,
       "version_minor": 0
      },
      "text/plain": [
       "FloatProgress(value=0.0, bar_style='info', description='Progress:', layout=Layout(height='25px', width='50%'),…"
      ]
     },
     "metadata": {},
     "output_type": "display_data"
    },
    {
     "name": "stdout",
     "output_type": "stream",
     "text": [
      "+-------+----------+\n",
      "|session|timestamp1|\n",
      "+-------+----------+\n",
      "|      1|         1|\n",
      "|      1|         2|\n",
      "|      1|         3|\n",
      "|      1|         4|\n",
      "|      1|         5|\n",
      "|      1|         6|\n",
      "|      1|         6|\n",
      "+-------+----------+"
     ]
    }
   ],
   "source": [
    "drop_null_columns(df, threshold=4).show()"
   ]
  },
  {
   "cell_type": "code",
   "execution_count": 163,
   "metadata": {
    "collapsed": true,
    "jupyter": {
     "outputs_hidden": true,
     "source_hidden": true
    }
   },
   "outputs": [
    {
     "data": {
      "application/vnd.jupyter.widget-view+json": {
       "model_id": "c6bf0254705844e4b5cf610e07148aee",
       "version_major": 2,
       "version_minor": 0
      },
      "text/plain": [
       "VBox()"
      ]
     },
     "metadata": {},
     "output_type": "display_data"
    },
    {
     "data": {
      "application/vnd.jupyter.widget-view+json": {
       "model_id": "",
       "version_major": 2,
       "version_minor": 0
      },
      "text/plain": [
       "FloatProgress(value=0.0, bar_style='info', description='Progress:', layout=Layout(height='25px', width='50%'),…"
      ]
     },
     "metadata": {},
     "output_type": "display_data"
    },
    {
     "name": "stdout",
     "output_type": "stream",
     "text": [
      "7"
     ]
    }
   ],
   "source": [
    "df.count()"
   ]
  },
  {
   "cell_type": "markdown",
   "metadata": {
    "jupyter": {
     "source_hidden": true
    }
   },
   "source": [
    "### Function To Drop all Columns containing Nan or Null "
   ]
  },
  {
   "cell_type": "code",
   "execution_count": 165,
   "metadata": {
    "collapsed": true,
    "jupyter": {
     "outputs_hidden": true,
     "source_hidden": true
    }
   },
   "outputs": [
    {
     "data": {
      "application/vnd.jupyter.widget-view+json": {
       "model_id": "c59e8c2a7b4941a195bbf9db409a3fc7",
       "version_major": 2,
       "version_minor": 0
      },
      "text/plain": [
       "VBox()"
      ]
     },
     "metadata": {},
     "output_type": "display_data"
    },
    {
     "data": {
      "application/vnd.jupyter.widget-view+json": {
       "model_id": "",
       "version_major": 2,
       "version_minor": 0
      },
      "text/plain": [
       "FloatProgress(value=0.0, bar_style='info', description='Progress:', layout=Layout(height='25px', width='50%'),…"
      ]
     },
     "metadata": {},
     "output_type": "display_data"
    }
   ],
   "source": [
    "threshold = inner_join_train.count() - 1 "
   ]
  },
  {
   "cell_type": "code",
   "execution_count": 166,
   "metadata": {
    "collapsed": true,
    "jupyter": {
     "outputs_hidden": true,
     "source_hidden": true
    }
   },
   "outputs": [
    {
     "data": {
      "application/vnd.jupyter.widget-view+json": {
       "model_id": "6b5b20faf33941ddae48d89899580a5b",
       "version_major": 2,
       "version_minor": 0
      },
      "text/plain": [
       "VBox()"
      ]
     },
     "metadata": {},
     "output_type": "display_data"
    },
    {
     "data": {
      "application/vnd.jupyter.widget-view+json": {
       "model_id": "",
       "version_major": 2,
       "version_minor": 0
      },
      "text/plain": [
       "FloatProgress(value=0.0, bar_style='info', description='Progress:', layout=Layout(height='25px', width='50%'),…"
      ]
     },
     "metadata": {},
     "output_type": "display_data"
    }
   ],
   "source": [
    "def drop_null_columns(df, threshold=threshold):\n",
    "    \"\"\"\n",
    "    This function drops all columns which contain null values.\n",
    "    :param df: A PySpark DataFrame\n",
    "    \"\"\"\n",
    "    null_counts = df.select([F.count(F.when(isnan(c) | F.col(c).isNull(), c)).alias(c) for c in df.columns]).collect()[0].asDict()\n",
    "    to_drop = [k for k, v in null_counts.items() if v > threshold]\n",
    "    df = df.drop(*to_drop)\n",
    "    return df"
   ]
  },
  {
   "cell_type": "code",
   "execution_count": 167,
   "metadata": {
    "collapsed": true,
    "jupyter": {
     "outputs_hidden": true,
     "source_hidden": true
    }
   },
   "outputs": [
    {
     "data": {
      "application/vnd.jupyter.widget-view+json": {
       "model_id": "764f127cd77a4743af6a0134c1b8cf41",
       "version_major": 2,
       "version_minor": 0
      },
      "text/plain": [
       "VBox()"
      ]
     },
     "metadata": {},
     "output_type": "display_data"
    },
    {
     "data": {
      "application/vnd.jupyter.widget-view+json": {
       "model_id": "",
       "version_major": 2,
       "version_minor": 0
      },
      "text/plain": [
       "FloatProgress(value=0.0, bar_style='info', description='Progress:', layout=Layout(height='25px', width='50%'),…"
      ]
     },
     "metadata": {},
     "output_type": "display_data"
    },
    {
     "name": "stdout",
     "output_type": "stream",
     "text": [
      "3110"
     ]
    }
   ],
   "source": [
    "len(inner_join.columns)"
   ]
  },
  {
   "cell_type": "code",
   "execution_count": 168,
   "metadata": {
    "collapsed": true,
    "jupyter": {
     "outputs_hidden": true,
     "source_hidden": true
    }
   },
   "outputs": [
    {
     "data": {
      "application/vnd.jupyter.widget-view+json": {
       "model_id": "f38500132cde40e9b2742d7faaf8304a",
       "version_major": 2,
       "version_minor": 0
      },
      "text/plain": [
       "VBox()"
      ]
     },
     "metadata": {},
     "output_type": "display_data"
    },
    {
     "data": {
      "application/vnd.jupyter.widget-view+json": {
       "model_id": "",
       "version_major": 2,
       "version_minor": 0
      },
      "text/plain": [
       "FloatProgress(value=0.0, bar_style='info', description='Progress:', layout=Layout(height='25px', width='50%'),…"
      ]
     },
     "metadata": {},
     "output_type": "display_data"
    },
    {
     "name": "stdout",
     "output_type": "stream",
     "text": [
      "2947"
     ]
    }
   ],
   "source": [
    "len(drop_null_columns(inner_join).columns)"
   ]
  },
  {
   "cell_type": "code",
   "execution_count": 33,
   "metadata": {
    "collapsed": true,
    "jupyter": {
     "outputs_hidden": true,
     "source_hidden": true
    }
   },
   "outputs": [
    {
     "data": {
      "application/vnd.jupyter.widget-view+json": {
       "model_id": "8b91ec5116004aa581bd0a6a482282f8",
       "version_major": 2,
       "version_minor": 0
      },
      "text/plain": [
       "VBox()"
      ]
     },
     "metadata": {},
     "output_type": "display_data"
    },
    {
     "data": {
      "application/vnd.jupyter.widget-view+json": {
       "model_id": "",
       "version_major": 2,
       "version_minor": 0
      },
      "text/plain": [
       "FloatProgress(value=0.0, bar_style='info', description='Progress:', layout=Layout(height='25px', width='50%'),…"
      ]
     },
     "metadata": {},
     "output_type": "display_data"
    },
    {
     "name": "stdout",
     "output_type": "stream",
     "text": [
      "['Id', 'L3_S49_F4240']"
     ]
    }
   ],
   "source": [
    "get_cols(dfs_train_categorical)[::col_len(dfs_train_categorical)-1]"
   ]
  },
  {
   "cell_type": "code",
   "execution_count": 35,
   "metadata": {
    "collapsed": true,
    "jupyter": {
     "outputs_hidden": true,
     "source_hidden": true
    }
   },
   "outputs": [
    {
     "data": {
      "application/vnd.jupyter.widget-view+json": {
       "model_id": "187a46ee03bd49aa9f4818e19eba4656",
       "version_major": 2,
       "version_minor": 0
      },
      "text/plain": [
       "VBox()"
      ]
     },
     "metadata": {},
     "output_type": "display_data"
    },
    {
     "data": {
      "application/vnd.jupyter.widget-view+json": {
       "model_id": "",
       "version_major": 2,
       "version_minor": 0
      },
      "text/plain": [
       "FloatProgress(value=0.0, bar_style='info', description='Progress:', layout=Layout(height='25px', width='50%'),…"
      ]
     },
     "metadata": {},
     "output_type": "display_data"
    },
    {
     "name": "stdout",
     "output_type": "stream",
     "text": [
      "['Id', 'Response']"
     ]
    }
   ],
   "source": [
    "get_cols(dfs_train_numeric)[::col_len(dfs_train_numeric)-1]"
   ]
  },
  {
   "cell_type": "code",
   "execution_count": 40,
   "metadata": {
    "collapsed": true,
    "jupyter": {
     "outputs_hidden": true,
     "source_hidden": true
    }
   },
   "outputs": [
    {
     "data": {
      "application/vnd.jupyter.widget-view+json": {
       "model_id": "bece386091774dacbcf34813f3949cce",
       "version_major": 2,
       "version_minor": 0
      },
      "text/plain": [
       "VBox()"
      ]
     },
     "metadata": {},
     "output_type": "display_data"
    },
    {
     "data": {
      "application/vnd.jupyter.widget-view+json": {
       "model_id": "",
       "version_major": 2,
       "version_minor": 0
      },
      "text/plain": [
       "FloatProgress(value=0.0, bar_style='info', description='Progress:', layout=Layout(height='25px', width='50%'),…"
      ]
     },
     "metadata": {},
     "output_type": "display_data"
    },
    {
     "name": "stdout",
     "output_type": "stream",
     "text": [
      "['L0_S0_F0', 'L0_S0_F2', 'L0_S0_F4', 'L0_S0_F6', 'L0_S0_F8', 'L0_S0_F10', 'L0_S0_F12', 'L0_S0_F14', 'L0_S0_F16', 'L0_S0_F18']"
     ]
    }
   ],
   "source": [
    "# get_cols(inner_join)[::col_len(dfs_train_categorical)-1]\n",
    "\n",
    "get_cols(inner_join)[col_len(dfs_train_categorical):][:10]"
   ]
  },
  {
   "cell_type": "code",
   "execution_count": 31,
   "metadata": {
    "collapsed": true,
    "jupyter": {
     "outputs_hidden": true,
     "source_hidden": true
    }
   },
   "outputs": [
    {
     "data": {
      "application/vnd.jupyter.widget-view+json": {
       "model_id": "3da17b38a76e46f9aebc6dbb492d3e15",
       "version_major": 2,
       "version_minor": 0
      },
      "text/plain": [
       "VBox()"
      ]
     },
     "metadata": {},
     "output_type": "display_data"
    },
    {
     "data": {
      "application/vnd.jupyter.widget-view+json": {
       "model_id": "",
       "version_major": 2,
       "version_minor": 0
      },
      "text/plain": [
       "FloatProgress(value=0.0, bar_style='info', description='Progress:', layout=Layout(height='25px', width='50%'),…"
      ]
     },
     "metadata": {},
     "output_type": "display_data"
    }
   ],
   "source": [
    "inner_join_train.createOrReplaceTempView(\"parquetFile\")"
   ]
  },
  {
   "cell_type": "code",
   "execution_count": 104,
   "metadata": {
    "collapsed": true,
    "jupyter": {
     "outputs_hidden": true,
     "source_hidden": true
    }
   },
   "outputs": [
    {
     "data": {
      "application/vnd.jupyter.widget-view+json": {
       "model_id": "c801b5609e64437f81c0602c31d073c8",
       "version_major": 2,
       "version_minor": 0
      },
      "text/plain": [
       "VBox()"
      ]
     },
     "metadata": {},
     "output_type": "display_data"
    },
    {
     "data": {
      "application/vnd.jupyter.widget-view+json": {
       "model_id": "b64df30ed65340a69de5d24b4db39d7d",
       "version_major": 2,
       "version_minor": 0
      },
      "text/plain": [
       "FloatProgress(value=0.0, bar_style='info', description='Progress:', layout=Layout(height='25px', width='50%'),…"
      ]
     },
     "metadata": {},
     "output_type": "display_data"
    },
    {
     "ename": "KeyboardInterrupt",
     "evalue": "",
     "output_type": "error",
     "traceback": [
      "\u001b[0;31m---------------------------------------------------------------------------\u001b[0m",
      "\u001b[0;31mKeyboardInterrupt\u001b[0m                         Traceback (most recent call last)",
      "\u001b[0;32m<ipython-input-104-0d4a4aaa3311>\u001b[0m in \u001b[0;36m<module>\u001b[0;34m\u001b[0m\n\u001b[0;32m----> 1\u001b[0;31m \u001b[0mget_ipython\u001b[0m\u001b[0;34m(\u001b[0m\u001b[0;34m)\u001b[0m\u001b[0;34m.\u001b[0m\u001b[0mrun_cell_magic\u001b[0m\u001b[0;34m(\u001b[0m\u001b[0;34m'spark'\u001b[0m\u001b[0;34m,\u001b[0m \u001b[0;34m''\u001b[0m\u001b[0;34m,\u001b[0m \u001b[0;34m'from pyspark.sql.functions import isnan, when, count, col\\n\\ninner_join.select([count(when(isnan(c), c)).alias(c) for c in inner_join.columns]).show()\\n'\u001b[0m\u001b[0;34m)\u001b[0m\u001b[0;34m\u001b[0m\u001b[0;34m\u001b[0m\u001b[0m\n\u001b[0m",
      "\u001b[0;32m/opt/conda/lib/python3.7/site-packages/IPython/core/interactiveshell.py\u001b[0m in \u001b[0;36mrun_cell_magic\u001b[0;34m(self, magic_name, line, cell)\u001b[0m\n\u001b[1;32m   2360\u001b[0m             \u001b[0;32mwith\u001b[0m \u001b[0mself\u001b[0m\u001b[0;34m.\u001b[0m\u001b[0mbuiltin_trap\u001b[0m\u001b[0;34m:\u001b[0m\u001b[0;34m\u001b[0m\u001b[0;34m\u001b[0m\u001b[0m\n\u001b[1;32m   2361\u001b[0m                 \u001b[0margs\u001b[0m \u001b[0;34m=\u001b[0m \u001b[0;34m(\u001b[0m\u001b[0mmagic_arg_s\u001b[0m\u001b[0;34m,\u001b[0m \u001b[0mcell\u001b[0m\u001b[0;34m)\u001b[0m\u001b[0;34m\u001b[0m\u001b[0;34m\u001b[0m\u001b[0m\n\u001b[0;32m-> 2362\u001b[0;31m                 \u001b[0mresult\u001b[0m \u001b[0;34m=\u001b[0m \u001b[0mfn\u001b[0m\u001b[0;34m(\u001b[0m\u001b[0;34m*\u001b[0m\u001b[0margs\u001b[0m\u001b[0;34m,\u001b[0m \u001b[0;34m**\u001b[0m\u001b[0mkwargs\u001b[0m\u001b[0;34m)\u001b[0m\u001b[0;34m\u001b[0m\u001b[0;34m\u001b[0m\u001b[0m\n\u001b[0m\u001b[1;32m   2363\u001b[0m             \u001b[0;32mreturn\u001b[0m \u001b[0mresult\u001b[0m\u001b[0;34m\u001b[0m\u001b[0;34m\u001b[0m\u001b[0m\n\u001b[1;32m   2364\u001b[0m \u001b[0;34m\u001b[0m\u001b[0m\n",
      "\u001b[0;32m</opt/conda/lib/python3.7/site-packages/decorator.py:decorator-gen-124>\u001b[0m in \u001b[0;36mspark\u001b[0;34m(self, *args, **kwargs)\u001b[0m\n",
      "\u001b[0;32m/opt/conda/lib/python3.7/site-packages/IPython/core/magic.py\u001b[0m in \u001b[0;36m<lambda>\u001b[0;34m(f, *a, **k)\u001b[0m\n\u001b[1;32m    185\u001b[0m     \u001b[0;31m# but it's overkill for just that one bit of state.\u001b[0m\u001b[0;34m\u001b[0m\u001b[0;34m\u001b[0m\u001b[0;34m\u001b[0m\u001b[0m\n\u001b[1;32m    186\u001b[0m     \u001b[0;32mdef\u001b[0m \u001b[0mmagic_deco\u001b[0m\u001b[0;34m(\u001b[0m\u001b[0marg\u001b[0m\u001b[0;34m)\u001b[0m\u001b[0;34m:\u001b[0m\u001b[0;34m\u001b[0m\u001b[0;34m\u001b[0m\u001b[0m\n\u001b[0;32m--> 187\u001b[0;31m         \u001b[0mcall\u001b[0m \u001b[0;34m=\u001b[0m \u001b[0;32mlambda\u001b[0m \u001b[0mf\u001b[0m\u001b[0;34m,\u001b[0m \u001b[0;34m*\u001b[0m\u001b[0ma\u001b[0m\u001b[0;34m,\u001b[0m \u001b[0;34m**\u001b[0m\u001b[0mk\u001b[0m\u001b[0;34m:\u001b[0m \u001b[0mf\u001b[0m\u001b[0;34m(\u001b[0m\u001b[0;34m*\u001b[0m\u001b[0ma\u001b[0m\u001b[0;34m,\u001b[0m \u001b[0;34m**\u001b[0m\u001b[0mk\u001b[0m\u001b[0;34m)\u001b[0m\u001b[0;34m\u001b[0m\u001b[0;34m\u001b[0m\u001b[0m\n\u001b[0m\u001b[1;32m    188\u001b[0m \u001b[0;34m\u001b[0m\u001b[0m\n\u001b[1;32m    189\u001b[0m         \u001b[0;32mif\u001b[0m \u001b[0mcallable\u001b[0m\u001b[0;34m(\u001b[0m\u001b[0marg\u001b[0m\u001b[0;34m)\u001b[0m\u001b[0;34m:\u001b[0m\u001b[0;34m\u001b[0m\u001b[0;34m\u001b[0m\u001b[0m\n",
      "\u001b[0;32m/opt/conda/lib/python3.7/site-packages/sparkmagic/livyclientlib/exceptions.py\u001b[0m in \u001b[0;36mwrapped\u001b[0;34m(self, *args, **kwargs)\u001b[0m\n\u001b[1;32m     94\u001b[0m     \u001b[0;32mdef\u001b[0m \u001b[0mwrapped\u001b[0m\u001b[0;34m(\u001b[0m\u001b[0mself\u001b[0m\u001b[0;34m,\u001b[0m \u001b[0;34m*\u001b[0m\u001b[0margs\u001b[0m\u001b[0;34m,\u001b[0m \u001b[0;34m**\u001b[0m\u001b[0mkwargs\u001b[0m\u001b[0;34m)\u001b[0m\u001b[0;34m:\u001b[0m\u001b[0;34m\u001b[0m\u001b[0;34m\u001b[0m\u001b[0m\n\u001b[1;32m     95\u001b[0m         \u001b[0;32mtry\u001b[0m\u001b[0;34m:\u001b[0m\u001b[0;34m\u001b[0m\u001b[0;34m\u001b[0m\u001b[0m\n\u001b[0;32m---> 96\u001b[0;31m             \u001b[0mout\u001b[0m \u001b[0;34m=\u001b[0m \u001b[0mf\u001b[0m\u001b[0;34m(\u001b[0m\u001b[0mself\u001b[0m\u001b[0;34m,\u001b[0m \u001b[0;34m*\u001b[0m\u001b[0margs\u001b[0m\u001b[0;34m,\u001b[0m \u001b[0;34m**\u001b[0m\u001b[0mkwargs\u001b[0m\u001b[0;34m)\u001b[0m\u001b[0;34m\u001b[0m\u001b[0;34m\u001b[0m\u001b[0m\n\u001b[0m\u001b[1;32m     97\u001b[0m         \u001b[0;32mexcept\u001b[0m \u001b[0mException\u001b[0m \u001b[0;32mas\u001b[0m \u001b[0me\u001b[0m\u001b[0;34m:\u001b[0m\u001b[0;34m\u001b[0m\u001b[0;34m\u001b[0m\u001b[0m\n\u001b[1;32m     98\u001b[0m             \u001b[0mself\u001b[0m\u001b[0;34m.\u001b[0m\u001b[0mlogger\u001b[0m\u001b[0;34m.\u001b[0m\u001b[0merror\u001b[0m\u001b[0;34m(\u001b[0m\u001b[0;34mu\"ENCOUNTERED AN INTERNAL ERROR: {}\\n\\tTraceback:\\n{}\"\u001b[0m\u001b[0;34m.\u001b[0m\u001b[0mformat\u001b[0m\u001b[0;34m(\u001b[0m\u001b[0me\u001b[0m\u001b[0;34m,\u001b[0m \u001b[0mtraceback\u001b[0m\u001b[0;34m.\u001b[0m\u001b[0mformat_exc\u001b[0m\u001b[0;34m(\u001b[0m\u001b[0;34m)\u001b[0m\u001b[0;34m)\u001b[0m\u001b[0;34m)\u001b[0m\u001b[0;34m\u001b[0m\u001b[0;34m\u001b[0m\u001b[0m\n",
      "\u001b[0;32m/opt/conda/lib/python3.7/site-packages/sparkmagic/livyclientlib/exceptions.py\u001b[0m in \u001b[0;36mwrapped\u001b[0;34m(self, *args, **kwargs)\u001b[0m\n\u001b[1;32m     70\u001b[0m     \u001b[0;32mdef\u001b[0m \u001b[0mwrapped\u001b[0m\u001b[0;34m(\u001b[0m\u001b[0mself\u001b[0m\u001b[0;34m,\u001b[0m \u001b[0;34m*\u001b[0m\u001b[0margs\u001b[0m\u001b[0;34m,\u001b[0m \u001b[0;34m**\u001b[0m\u001b[0mkwargs\u001b[0m\u001b[0;34m)\u001b[0m\u001b[0;34m:\u001b[0m\u001b[0;34m\u001b[0m\u001b[0;34m\u001b[0m\u001b[0m\n\u001b[1;32m     71\u001b[0m         \u001b[0;32mtry\u001b[0m\u001b[0;34m:\u001b[0m\u001b[0;34m\u001b[0m\u001b[0;34m\u001b[0m\u001b[0m\n\u001b[0;32m---> 72\u001b[0;31m             \u001b[0mout\u001b[0m \u001b[0;34m=\u001b[0m \u001b[0mf\u001b[0m\u001b[0;34m(\u001b[0m\u001b[0mself\u001b[0m\u001b[0;34m,\u001b[0m \u001b[0;34m*\u001b[0m\u001b[0margs\u001b[0m\u001b[0;34m,\u001b[0m \u001b[0;34m**\u001b[0m\u001b[0mkwargs\u001b[0m\u001b[0;34m)\u001b[0m\u001b[0;34m\u001b[0m\u001b[0;34m\u001b[0m\u001b[0m\n\u001b[0m\u001b[1;32m     73\u001b[0m         \u001b[0;32mexcept\u001b[0m \u001b[0mexceptions_to_handle\u001b[0m \u001b[0;32mas\u001b[0m \u001b[0merr\u001b[0m\u001b[0;34m:\u001b[0m\u001b[0;34m\u001b[0m\u001b[0;34m\u001b[0m\u001b[0m\n\u001b[1;32m     74\u001b[0m             \u001b[0;31m# Do not log! as some messages may contain private client information\u001b[0m\u001b[0;34m\u001b[0m\u001b[0;34m\u001b[0m\u001b[0;34m\u001b[0m\u001b[0m\n",
      "\u001b[0;32m/opt/conda/lib/python3.7/site-packages/sparkmagic/kernels/kernelmagics.py\u001b[0m in \u001b[0;36mspark\u001b[0;34m(self, line, cell, local_ns)\u001b[0m\n\u001b[1;32m    236\u001b[0m             \u001b[0mcoerce\u001b[0m \u001b[0;34m=\u001b[0m \u001b[0mget_coerce_value\u001b[0m\u001b[0;34m(\u001b[0m\u001b[0margs\u001b[0m\u001b[0;34m.\u001b[0m\u001b[0mcoerce\u001b[0m\u001b[0;34m)\u001b[0m\u001b[0;34m\u001b[0m\u001b[0;34m\u001b[0m\u001b[0m\n\u001b[1;32m    237\u001b[0m \u001b[0;34m\u001b[0m\u001b[0m\n\u001b[0;32m--> 238\u001b[0;31m             \u001b[0mself\u001b[0m\u001b[0;34m.\u001b[0m\u001b[0mexecute_spark\u001b[0m\u001b[0;34m(\u001b[0m\u001b[0mcell\u001b[0m\u001b[0;34m,\u001b[0m \u001b[0margs\u001b[0m\u001b[0;34m.\u001b[0m\u001b[0moutput\u001b[0m\u001b[0;34m,\u001b[0m \u001b[0margs\u001b[0m\u001b[0;34m.\u001b[0m\u001b[0msamplemethod\u001b[0m\u001b[0;34m,\u001b[0m \u001b[0margs\u001b[0m\u001b[0;34m.\u001b[0m\u001b[0mmaxrows\u001b[0m\u001b[0;34m,\u001b[0m \u001b[0margs\u001b[0m\u001b[0;34m.\u001b[0m\u001b[0msamplefraction\u001b[0m\u001b[0;34m,\u001b[0m \u001b[0;32mNone\u001b[0m\u001b[0;34m,\u001b[0m \u001b[0mcoerce\u001b[0m\u001b[0;34m)\u001b[0m\u001b[0;34m\u001b[0m\u001b[0;34m\u001b[0m\u001b[0m\n\u001b[0m\u001b[1;32m    239\u001b[0m         \u001b[0;32melse\u001b[0m\u001b[0;34m:\u001b[0m\u001b[0;34m\u001b[0m\u001b[0;34m\u001b[0m\u001b[0m\n\u001b[1;32m    240\u001b[0m             \u001b[0;32mreturn\u001b[0m\u001b[0;34m\u001b[0m\u001b[0;34m\u001b[0m\u001b[0m\n",
      "\u001b[0;32m/opt/conda/lib/python3.7/site-packages/sparkmagic/magics/sparkmagicsbase.py\u001b[0m in \u001b[0;36mexecute_spark\u001b[0;34m(self, cell, output_var, samplemethod, maxrows, samplefraction, session_name, coerce)\u001b[0m\n\u001b[1;32m     42\u001b[0m \u001b[0;34m\u001b[0m\u001b[0m\n\u001b[1;32m     43\u001b[0m     \u001b[0;32mdef\u001b[0m \u001b[0mexecute_spark\u001b[0m\u001b[0;34m(\u001b[0m\u001b[0mself\u001b[0m\u001b[0;34m,\u001b[0m \u001b[0mcell\u001b[0m\u001b[0;34m,\u001b[0m \u001b[0moutput_var\u001b[0m\u001b[0;34m,\u001b[0m \u001b[0msamplemethod\u001b[0m\u001b[0;34m,\u001b[0m \u001b[0mmaxrows\u001b[0m\u001b[0;34m,\u001b[0m \u001b[0msamplefraction\u001b[0m\u001b[0;34m,\u001b[0m \u001b[0msession_name\u001b[0m\u001b[0;34m,\u001b[0m \u001b[0mcoerce\u001b[0m\u001b[0;34m)\u001b[0m\u001b[0;34m:\u001b[0m\u001b[0;34m\u001b[0m\u001b[0;34m\u001b[0m\u001b[0m\n\u001b[0;32m---> 44\u001b[0;31m         \u001b[0;34m(\u001b[0m\u001b[0msuccess\u001b[0m\u001b[0;34m,\u001b[0m \u001b[0mout\u001b[0m\u001b[0;34m)\u001b[0m \u001b[0;34m=\u001b[0m \u001b[0mself\u001b[0m\u001b[0;34m.\u001b[0m\u001b[0mspark_controller\u001b[0m\u001b[0;34m.\u001b[0m\u001b[0mrun_command\u001b[0m\u001b[0;34m(\u001b[0m\u001b[0mCommand\u001b[0m\u001b[0;34m(\u001b[0m\u001b[0mcell\u001b[0m\u001b[0;34m)\u001b[0m\u001b[0;34m,\u001b[0m \u001b[0msession_name\u001b[0m\u001b[0;34m)\u001b[0m\u001b[0;34m\u001b[0m\u001b[0;34m\u001b[0m\u001b[0m\n\u001b[0m\u001b[1;32m     45\u001b[0m         \u001b[0;32mif\u001b[0m \u001b[0;32mnot\u001b[0m \u001b[0msuccess\u001b[0m\u001b[0;34m:\u001b[0m\u001b[0;34m\u001b[0m\u001b[0;34m\u001b[0m\u001b[0m\n\u001b[1;32m     46\u001b[0m             \u001b[0mself\u001b[0m\u001b[0;34m.\u001b[0m\u001b[0mipython_display\u001b[0m\u001b[0;34m.\u001b[0m\u001b[0msend_error\u001b[0m\u001b[0;34m(\u001b[0m\u001b[0mout\u001b[0m\u001b[0;34m)\u001b[0m\u001b[0;34m\u001b[0m\u001b[0;34m\u001b[0m\u001b[0m\n",
      "\u001b[0;32m/opt/conda/lib/python3.7/site-packages/sparkmagic/livyclientlib/sparkcontroller.py\u001b[0m in \u001b[0;36mrun_command\u001b[0;34m(self, command, client_name)\u001b[0m\n\u001b[1;32m     42\u001b[0m     \u001b[0;32mdef\u001b[0m \u001b[0mrun_command\u001b[0m\u001b[0;34m(\u001b[0m\u001b[0mself\u001b[0m\u001b[0;34m,\u001b[0m \u001b[0mcommand\u001b[0m\u001b[0;34m,\u001b[0m \u001b[0mclient_name\u001b[0m\u001b[0;34m=\u001b[0m\u001b[0;32mNone\u001b[0m\u001b[0;34m)\u001b[0m\u001b[0;34m:\u001b[0m\u001b[0;34m\u001b[0m\u001b[0;34m\u001b[0m\u001b[0m\n\u001b[1;32m     43\u001b[0m         \u001b[0msession_to_use\u001b[0m \u001b[0;34m=\u001b[0m \u001b[0mself\u001b[0m\u001b[0;34m.\u001b[0m\u001b[0mget_session_by_name_or_default\u001b[0m\u001b[0;34m(\u001b[0m\u001b[0mclient_name\u001b[0m\u001b[0;34m)\u001b[0m\u001b[0;34m\u001b[0m\u001b[0;34m\u001b[0m\u001b[0m\n\u001b[0;32m---> 44\u001b[0;31m         \u001b[0;32mreturn\u001b[0m \u001b[0mcommand\u001b[0m\u001b[0;34m.\u001b[0m\u001b[0mexecute\u001b[0m\u001b[0;34m(\u001b[0m\u001b[0msession_to_use\u001b[0m\u001b[0;34m)\u001b[0m\u001b[0;34m\u001b[0m\u001b[0;34m\u001b[0m\u001b[0m\n\u001b[0m\u001b[1;32m     45\u001b[0m \u001b[0;34m\u001b[0m\u001b[0m\n\u001b[1;32m     46\u001b[0m     \u001b[0;32mdef\u001b[0m \u001b[0mrun_sqlquery\u001b[0m\u001b[0;34m(\u001b[0m\u001b[0mself\u001b[0m\u001b[0;34m,\u001b[0m \u001b[0msqlquery\u001b[0m\u001b[0;34m,\u001b[0m \u001b[0mclient_name\u001b[0m\u001b[0;34m=\u001b[0m\u001b[0;32mNone\u001b[0m\u001b[0;34m)\u001b[0m\u001b[0;34m:\u001b[0m\u001b[0;34m\u001b[0m\u001b[0;34m\u001b[0m\u001b[0m\n",
      "\u001b[0;32m/opt/conda/lib/python3.7/site-packages/sparkmagic/livyclientlib/command.py\u001b[0m in \u001b[0;36mexecute\u001b[0;34m(self, session)\u001b[0m\n\u001b[1;32m     41\u001b[0m             \u001b[0mresponse\u001b[0m \u001b[0;34m=\u001b[0m \u001b[0msession\u001b[0m\u001b[0;34m.\u001b[0m\u001b[0mhttp_client\u001b[0m\u001b[0;34m.\u001b[0m\u001b[0mpost_statement\u001b[0m\u001b[0;34m(\u001b[0m\u001b[0msession\u001b[0m\u001b[0;34m.\u001b[0m\u001b[0mid\u001b[0m\u001b[0;34m,\u001b[0m \u001b[0mdata\u001b[0m\u001b[0;34m)\u001b[0m\u001b[0;34m\u001b[0m\u001b[0;34m\u001b[0m\u001b[0m\n\u001b[1;32m     42\u001b[0m             \u001b[0mstatement_id\u001b[0m \u001b[0;34m=\u001b[0m \u001b[0mresponse\u001b[0m\u001b[0;34m[\u001b[0m\u001b[0;34mu'id'\u001b[0m\u001b[0;34m]\u001b[0m\u001b[0;34m\u001b[0m\u001b[0;34m\u001b[0m\u001b[0m\n\u001b[0;32m---> 43\u001b[0;31m             \u001b[0moutput\u001b[0m \u001b[0;34m=\u001b[0m \u001b[0mself\u001b[0m\u001b[0;34m.\u001b[0m\u001b[0m_get_statement_output\u001b[0m\u001b[0;34m(\u001b[0m\u001b[0msession\u001b[0m\u001b[0;34m,\u001b[0m \u001b[0mstatement_id\u001b[0m\u001b[0;34m)\u001b[0m\u001b[0;34m\u001b[0m\u001b[0;34m\u001b[0m\u001b[0m\n\u001b[0m\u001b[1;32m     44\u001b[0m         \u001b[0;32mexcept\u001b[0m \u001b[0mException\u001b[0m \u001b[0;32mas\u001b[0m \u001b[0me\u001b[0m\u001b[0;34m:\u001b[0m\u001b[0;34m\u001b[0m\u001b[0;34m\u001b[0m\u001b[0m\n\u001b[1;32m     45\u001b[0m             self._spark_events.emit_statement_execution_end_event(session.guid, session.kind, session.id,\n",
      "\u001b[0;32m/opt/conda/lib/python3.7/site-packages/sparkmagic/livyclientlib/command.py\u001b[0m in \u001b[0;36m_get_statement_output\u001b[0;34m(self, session, statement_id)\u001b[0m\n\u001b[1;32m     74\u001b[0m             \u001b[0;32mif\u001b[0m \u001b[0mstatus\u001b[0m \u001b[0;32mnot\u001b[0m \u001b[0;32min\u001b[0m \u001b[0mFINAL_STATEMENT_STATUS\u001b[0m\u001b[0;34m:\u001b[0m\u001b[0;34m\u001b[0m\u001b[0;34m\u001b[0m\u001b[0m\n\u001b[1;32m     75\u001b[0m                 \u001b[0mprogress\u001b[0m\u001b[0;34m.\u001b[0m\u001b[0mvalue\u001b[0m \u001b[0;34m=\u001b[0m \u001b[0mstatement\u001b[0m\u001b[0;34m.\u001b[0m\u001b[0mget\u001b[0m\u001b[0;34m(\u001b[0m\u001b[0;34m'progress'\u001b[0m\u001b[0;34m,\u001b[0m \u001b[0;36m0.0\u001b[0m\u001b[0;34m)\u001b[0m\u001b[0;34m\u001b[0m\u001b[0;34m\u001b[0m\u001b[0m\n\u001b[0;32m---> 76\u001b[0;31m                 \u001b[0msession\u001b[0m\u001b[0;34m.\u001b[0m\u001b[0msleep\u001b[0m\u001b[0;34m(\u001b[0m\u001b[0mretries\u001b[0m\u001b[0;34m)\u001b[0m\u001b[0;34m\u001b[0m\u001b[0;34m\u001b[0m\u001b[0m\n\u001b[0m\u001b[1;32m     77\u001b[0m                 \u001b[0mretries\u001b[0m \u001b[0;34m+=\u001b[0m \u001b[0;36m1\u001b[0m\u001b[0;34m\u001b[0m\u001b[0;34m\u001b[0m\u001b[0m\n\u001b[1;32m     78\u001b[0m             \u001b[0;32melse\u001b[0m\u001b[0;34m:\u001b[0m\u001b[0;34m\u001b[0m\u001b[0;34m\u001b[0m\u001b[0m\n",
      "\u001b[0;32m/opt/conda/lib/python3.7/site-packages/sparkmagic/livyclientlib/livysession.py\u001b[0m in \u001b[0;36msleep\u001b[0;34m(self, retries)\u001b[0m\n\u001b[1;32m    280\u001b[0m \u001b[0;34m\u001b[0m\u001b[0m\n\u001b[1;32m    281\u001b[0m     \u001b[0;32mdef\u001b[0m \u001b[0msleep\u001b[0m\u001b[0;34m(\u001b[0m\u001b[0mself\u001b[0m\u001b[0;34m,\u001b[0m \u001b[0mretries\u001b[0m\u001b[0;34m)\u001b[0m\u001b[0;34m:\u001b[0m\u001b[0;34m\u001b[0m\u001b[0;34m\u001b[0m\u001b[0m\n\u001b[0;32m--> 282\u001b[0;31m         \u001b[0msleep\u001b[0m\u001b[0;34m(\u001b[0m\u001b[0mself\u001b[0m\u001b[0;34m.\u001b[0m\u001b[0m_policy\u001b[0m\u001b[0;34m.\u001b[0m\u001b[0mseconds_to_sleep\u001b[0m\u001b[0;34m(\u001b[0m\u001b[0mretries\u001b[0m\u001b[0;34m)\u001b[0m\u001b[0;34m)\u001b[0m\u001b[0;34m\u001b[0m\u001b[0;34m\u001b[0m\u001b[0m\n\u001b[0m\u001b[1;32m    283\u001b[0m \u001b[0;34m\u001b[0m\u001b[0m\n\u001b[1;32m    284\u001b[0m     \u001b[0;31m# This function will refresh the status and get the logs in a single call.\u001b[0m\u001b[0;34m\u001b[0m\u001b[0;34m\u001b[0m\u001b[0;34m\u001b[0m\u001b[0m\n",
      "\u001b[0;31mKeyboardInterrupt\u001b[0m: "
     ]
    }
   ],
   "source": [
    "#correct query to \n",
    "\n",
    "from pyspark.sql.functions import isnan, when, count, col\n",
    "\n",
    "inner_join.select([count(when(isnan(c), c)).alias(c) for c in inner_join.columns]).show()\n"
   ]
  },
  {
   "cell_type": "code",
   "execution_count": 17,
   "metadata": {
    "collapsed": true,
    "jupyter": {
     "outputs_hidden": true,
     "source_hidden": true
    }
   },
   "outputs": [
    {
     "data": {
      "application/vnd.jupyter.widget-view+json": {
       "model_id": "b6d578f766ef41c79d534a75cc953d73",
       "version_major": 2,
       "version_minor": 0
      },
      "text/plain": [
       "VBox()"
      ]
     },
     "metadata": {},
     "output_type": "display_data"
    },
    {
     "data": {
      "application/vnd.jupyter.widget-view+json": {
       "model_id": "",
       "version_major": 2,
       "version_minor": 0
      },
      "text/plain": [
       "FloatProgress(value=0.0, bar_style='info', description='Progress:', layout=Layout(height='25px', width='50%'),…"
      ]
     },
     "metadata": {},
     "output_type": "display_data"
    }
   ],
   "source": [
    "# count all nan values for all columns\n",
    "# inner_join.select([count(when(isnan(c) | col(c).isNull(), c)).alias(c) for c in inner_join.columns]).show()"
   ]
  },
  {
   "cell_type": "markdown",
   "metadata": {},
   "source": [
    "# Start of Numerical / Categorical Exploration "
   ]
  },
  {
   "cell_type": "code",
   "execution_count": 5,
   "metadata": {
    "collapsed": true,
    "jupyter": {
     "outputs_hidden": true,
     "source_hidden": true
    }
   },
   "outputs": [
    {
     "data": {
      "application/vnd.jupyter.widget-view+json": {
       "model_id": "f1258cdf63a44aa5b363fc75ba16fa7f",
       "version_major": 2,
       "version_minor": 0
      },
      "text/plain": [
       "VBox()"
      ]
     },
     "metadata": {},
     "output_type": "display_data"
    },
    {
     "data": {
      "application/vnd.jupyter.widget-view+json": {
       "model_id": "",
       "version_major": 2,
       "version_minor": 0
      },
      "text/plain": [
       "FloatProgress(value=0.0, bar_style='info', description='Progress:', layout=Layout(height='25px', width='50%'),…"
      ]
     },
     "metadata": {},
     "output_type": "display_data"
    }
   ],
   "source": [
    "sdf_train,sdf_test = inner_join_train.randomSplit([0.8, 0.2])"
   ]
  },
  {
   "cell_type": "code",
   "execution_count": 6,
   "metadata": {
    "jupyter": {
     "source_hidden": true
    }
   },
   "outputs": [
    {
     "data": {
      "application/vnd.jupyter.widget-view+json": {
       "model_id": "59d617d68a4b453bbd4157fa3f9f813b",
       "version_major": 2,
       "version_minor": 0
      },
      "text/plain": [
       "VBox()"
      ]
     },
     "metadata": {},
     "output_type": "display_data"
    },
    {
     "data": {
      "application/vnd.jupyter.widget-view+json": {
       "model_id": "",
       "version_major": 2,
       "version_minor": 0
      },
      "text/plain": [
       "FloatProgress(value=0.0, bar_style='info', description='Progress:', layout=Layout(height='25px', width='50%'),…"
      ]
     },
     "metadata": {},
     "output_type": "display_data"
    }
   ],
   "source": [
    "inner_join_train.createOrReplaceTempView(\"parquetFile\")"
   ]
  },
  {
   "cell_type": "markdown",
   "metadata": {},
   "source": [
    "### Revealed too many nulls, but good practice utilizing SQL"
   ]
  },
  {
   "cell_type": "code",
   "execution_count": 10,
   "metadata": {
    "collapsed": true,
    "jupyter": {
     "outputs_hidden": true
    }
   },
   "outputs": [
    {
     "data": {
      "application/vnd.jupyter.widget-view+json": {
       "model_id": "bfcb62b2114a4be6a5738927ecfce300",
       "version_major": 2,
       "version_minor": 0
      },
      "text/plain": [
       "VBox()"
      ]
     },
     "metadata": {},
     "output_type": "display_data"
    },
    {
     "data": {
      "application/vnd.jupyter.widget-view+json": {
       "model_id": "",
       "version_major": 2,
       "version_minor": 0
      },
      "text/plain": [
       "FloatProgress(value=0.0, bar_style='info', description='Progress:', layout=Layout(height='25px', width='50%'),…"
      ]
     },
     "metadata": {},
     "output_type": "display_data"
    },
    {
     "name": "stderr",
     "output_type": "stream",
     "text": [
      "Exception in thread cell_monitor-10:\n",
      "Traceback (most recent call last):\n",
      "  File \"/opt/conda/lib/python3.7/threading.py\", line 926, in _bootstrap_inner\n",
      "    self.run()\n",
      "  File \"/opt/conda/lib/python3.7/threading.py\", line 870, in run\n",
      "    self._target(*self._args, **self._kwargs)\n",
      "  File \"/opt/conda/lib/python3.7/site-packages/awseditorssparkmonitoringwidget-1.0-py3.7.egg/awseditorssparkmonitoringwidget/cellmonitor.py\", line 178, in cell_monitor\n",
      "    job_binned_stages[job_id][stage_id] = all_stages[stage_id]\n",
      "KeyError: 1497\n",
      "\n"
     ]
    },
    {
     "name": "stdout",
     "output_type": "stream",
     "text": [
      "+---------+------------+\n",
      "|non_nulls|L1_S24_F1160|\n",
      "+---------+------------+\n",
      "|        0|        null|\n",
      "+---------+------------+\n",
      "\n",
      "None\n",
      "+---------+------------+\n",
      "|non_nulls|L1_S24_F1162|\n",
      "+---------+------------+\n",
      "|        0|        null|\n",
      "+---------+------------+\n",
      "\n",
      "None\n",
      "+---------+------------+\n",
      "|non_nulls|L1_S24_F1164|\n",
      "+---------+------------+\n",
      "|        0|        null|\n",
      "+---------+------------+\n",
      "\n",
      "None\n",
      "+---------+------------+\n",
      "|non_nulls|L1_S24_F1165|\n",
      "+---------+------------+\n",
      "|        0|        null|\n",
      "+---------+------------+\n",
      "\n",
      "None\n",
      "+---------+------------+\n",
      "|non_nulls|L1_S24_F1167|\n",
      "+---------+------------+\n",
      "|        0|        null|\n",
      "+---------+------------+\n",
      "\n",
      "None\n",
      "+---------+------------+\n",
      "|non_nulls|L1_S24_F1169|\n",
      "+---------+------------+\n",
      "|        0|        null|\n",
      "+---------+------------+\n",
      "\n",
      "None\n",
      "+---------+------------+\n",
      "|non_nulls|L1_S24_F1177|\n",
      "+---------+------------+\n",
      "|        0|        null|\n",
      "+---------+------------+\n",
      "\n",
      "None\n",
      "+---------+------------+\n",
      "|non_nulls|L1_S24_F1179|\n",
      "+---------+------------+\n",
      "|        0|        null|\n",
      "+---------+------------+\n",
      "\n",
      "None\n",
      "+---------+------------+\n",
      "|non_nulls|L1_S24_F1181|\n",
      "+---------+------------+\n",
      "|        0|        null|\n",
      "+---------+------------+\n",
      "\n",
      "None\n",
      "+---------+------------+\n",
      "|non_nulls|L1_S24_F1183|\n",
      "+---------+------------+\n",
      "|        0|        null|\n",
      "+---------+------------+\n",
      "\n",
      "None\n",
      "+---------+------------+\n",
      "|non_nulls|L1_S24_F1185|\n",
      "+---------+------------+\n",
      "|        0|        null|\n",
      "+---------+------------+\n",
      "\n",
      "None\n",
      "+---------+------------+\n",
      "|non_nulls|L1_S24_F1187|\n",
      "+---------+------------+\n",
      "|        0|        null|\n",
      "+---------+------------+\n",
      "\n",
      "None\n",
      "+---------+------------+\n",
      "|non_nulls|L1_S24_F1188|\n",
      "+---------+------------+\n",
      "|        0|        null|\n",
      "+---------+------------+\n",
      "\n",
      "None\n",
      "+---------+------------+\n",
      "|non_nulls|L1_S24_F1189|\n",
      "+---------+------------+\n",
      "|        0|        null|\n",
      "+---------+------------+\n",
      "\n",
      "None\n",
      "+---------+------------+\n",
      "|non_nulls|L1_S24_F1191|\n",
      "+---------+------------+\n",
      "|        0|        null|\n",
      "+---------+------------+\n",
      "\n",
      "None\n",
      "+---------+------------+\n",
      "|non_nulls|L1_S24_F1192|\n",
      "+---------+------------+\n",
      "|        0|        null|\n",
      "+---------+------------+\n",
      "\n",
      "None\n",
      "+---------+------------+\n",
      "|non_nulls|L1_S24_F1193|\n",
      "+---------+------------+\n",
      "|        0|        null|\n",
      "+---------+------------+\n",
      "\n",
      "None\n",
      "+---------+------------+\n",
      "|non_nulls|L1_S24_F1195|\n",
      "+---------+------------+\n",
      "|        0|        null|\n",
      "+---------+------------+\n",
      "\n",
      "None\n",
      "+---------+------------+\n",
      "|non_nulls|L1_S24_F1196|\n",
      "+---------+------------+\n",
      "|        0|        null|\n",
      "+---------+------------+\n",
      "\n",
      "None\n",
      "+---------+------------+\n",
      "|non_nulls|L1_S24_F1198|\n",
      "+---------+------------+\n",
      "|        0|        null|\n",
      "+---------+------------+\n",
      "\n",
      "None\n",
      "+---------+------------+\n",
      "|non_nulls|L1_S24_F1200|\n",
      "+---------+------------+\n",
      "|        0|        null|\n",
      "+---------+------------+\n",
      "\n",
      "None\n",
      "+---------+------------+\n",
      "|non_nulls|L1_S24_F1201|\n",
      "+---------+------------+\n",
      "|        0|        null|\n",
      "+---------+------------+\n",
      "\n",
      "None\n",
      "+---------+------------+\n",
      "|non_nulls|L1_S24_F1203|\n",
      "+---------+------------+\n",
      "|        0|        null|\n",
      "+---------+------------+\n",
      "\n",
      "None\n",
      "+---------+------------+\n",
      "|non_nulls|L1_S24_F1205|\n",
      "+---------+------------+\n",
      "|        0|        null|\n",
      "+---------+------------+\n",
      "\n",
      "None\n",
      "+---------+------------+\n",
      "|non_nulls|L1_S24_F1206|\n",
      "+---------+------------+\n",
      "|        0|        null|\n",
      "+---------+------------+\n",
      "\n",
      "None\n",
      "+---------+------------+\n",
      "|non_nulls|L1_S24_F1208|\n",
      "+---------+------------+\n",
      "|        0|        null|\n",
      "+---------+------------+\n",
      "\n",
      "None\n",
      "+---------+------------+\n",
      "|non_nulls|L1_S24_F1210|\n",
      "+---------+------------+\n",
      "|        0|        null|\n",
      "+---------+------------+\n",
      "\n",
      "None\n",
      "+---------+------------+\n",
      "|non_nulls|L1_S24_F1211|\n",
      "+---------+------------+\n",
      "|        0|        null|\n",
      "+---------+------------+\n",
      "\n",
      "None\n",
      "+---------+------------+\n",
      "|non_nulls|L1_S24_F1213|\n",
      "+---------+------------+\n",
      "|        0|        null|\n",
      "+---------+------------+\n",
      "\n",
      "None\n",
      "+---------+------------+\n",
      "|non_nulls|L1_S24_F1215|\n",
      "+---------+------------+\n",
      "|        0|        null|\n",
      "+---------+------------+\n",
      "\n",
      "None\n",
      "+---------+------------+\n",
      "|non_nulls|L1_S24_F1216|\n",
      "+---------+------------+\n",
      "|        0|        null|\n",
      "+---------+------------+\n",
      "\n",
      "None\n",
      "+---------+------------+\n",
      "|non_nulls|L1_S24_F1217|\n",
      "+---------+------------+\n",
      "|        0|        null|\n",
      "+---------+------------+\n",
      "\n",
      "None\n",
      "+---------+------------+\n",
      "|non_nulls|L1_S24_F1219|\n",
      "+---------+------------+\n",
      "|        0|        null|\n",
      "+---------+------------+\n",
      "\n",
      "None\n",
      "+---------+------------+\n",
      "|non_nulls|L1_S24_F1220|\n",
      "+---------+------------+\n",
      "|        0|        null|\n",
      "+---------+------------+\n",
      "\n",
      "None\n",
      "+---------+------------+\n",
      "|non_nulls|L1_S24_F1221|\n",
      "+---------+------------+\n",
      "|        0|        null|\n",
      "+---------+------------+\n",
      "\n",
      "None\n",
      "+---------+------------+\n",
      "|non_nulls|L1_S24_F1223|\n",
      "+---------+------------+\n",
      "|        0|        null|\n",
      "+---------+------------+\n",
      "\n",
      "None\n",
      "+---------+------------+\n",
      "|non_nulls|L1_S24_F1224|\n",
      "+---------+------------+\n",
      "|        0|        null|\n",
      "+---------+------------+\n",
      "\n",
      "None\n",
      "+---------+------------+\n",
      "|non_nulls|L1_S24_F1226|\n",
      "+---------+------------+\n",
      "|        0|        null|\n",
      "+---------+------------+\n",
      "\n",
      "None\n",
      "+---------+------------+\n",
      "|non_nulls|L1_S24_F1228|\n",
      "+---------+------------+\n",
      "|        0|        null|\n",
      "+---------+------------+\n",
      "\n",
      "None\n",
      "+---------+------------+\n",
      "|non_nulls|L1_S24_F1229|\n",
      "+---------+------------+\n",
      "|        0|        null|\n",
      "+---------+------------+\n",
      "\n",
      "None\n",
      "+---------+------------+\n",
      "|non_nulls|L1_S24_F1231|\n",
      "+---------+------------+\n",
      "|        0|        null|\n",
      "+---------+------------+\n",
      "\n",
      "None\n",
      "+---------+------------+\n",
      "|non_nulls|L1_S24_F1233|\n",
      "+---------+------------+\n",
      "|        0|        null|\n",
      "+---------+------------+\n",
      "\n",
      "None\n",
      "+---------+------------+\n",
      "|non_nulls|L1_S24_F1234|\n",
      "+---------+------------+\n",
      "|        0|        null|\n",
      "+---------+------------+\n",
      "\n",
      "None\n",
      "+---------+------------+\n",
      "|non_nulls|L1_S24_F1236|\n",
      "+---------+------------+\n",
      "|        0|        null|\n",
      "+---------+------------+\n",
      "\n",
      "None\n",
      "+---------+------------+\n",
      "|non_nulls|L1_S24_F1238|\n",
      "+---------+------------+\n",
      "|        0|        null|\n",
      "+---------+------------+\n",
      "\n",
      "None\n",
      "+---------+------------+\n",
      "|non_nulls|L1_S24_F1239|\n",
      "+---------+------------+\n",
      "|        0|        null|\n",
      "+---------+------------+\n",
      "\n",
      "None\n",
      "+---------+------------+\n",
      "|non_nulls|L1_S24_F1241|\n",
      "+---------+------------+\n",
      "|        0|        null|\n",
      "+---------+------------+\n",
      "\n",
      "None\n",
      "+---------+------------+\n",
      "|non_nulls|L1_S24_F1243|\n",
      "+---------+------------+\n",
      "|        0|        null|\n",
      "+---------+------------+\n",
      "\n",
      "None\n",
      "+---------+------------+\n",
      "|non_nulls|L1_S24_F1244|\n",
      "+---------+------------+\n",
      "|        0|        null|\n",
      "+---------+------------+\n",
      "\n",
      "None\n",
      "+---------+------------+\n",
      "|non_nulls|L1_S24_F1246|\n",
      "+---------+------------+\n",
      "|        0|        null|\n",
      "+---------+------------+\n",
      "\n",
      "None"
     ]
    }
   ],
   "source": [
    "for column in dfs_train_categorical.columns[600:650]:\n",
    "    print(sqlContext.sql(f\"SELECT count({column}) as non_nulls,{column} FROM parquetFile where L0_S1_F25 is not null group by {column}\").show())"
   ]
  },
  {
   "cell_type": "code",
   "execution_count": 22,
   "metadata": {
    "collapsed": true,
    "jupyter": {
     "outputs_hidden": true,
     "source_hidden": true
    }
   },
   "outputs": [
    {
     "data": {
      "application/vnd.jupyter.widget-view+json": {
       "model_id": "3dae1f0c47e6470e857d8cad7c73c7c8",
       "version_major": 2,
       "version_minor": 0
      },
      "text/plain": [
       "VBox()"
      ]
     },
     "metadata": {},
     "output_type": "display_data"
    },
    {
     "data": {
      "application/vnd.jupyter.widget-view+json": {
       "model_id": "",
       "version_major": 2,
       "version_minor": 0
      },
      "text/plain": [
       "FloatProgress(value=0.0, bar_style='info', description='Progress:', layout=Layout(height='25px', width='50%'),…"
      ]
     },
     "metadata": {},
     "output_type": "display_data"
    },
    {
     "name": "stdout",
     "output_type": "stream",
     "text": [
      "+-------+---------+---------+---------+---------+---------+---------+---------+---------+---------+---------+---------+---------+---------+---------+---------+---------+---------+---------+---------+\n",
      "|     Id|L0_S1_F25|L0_S1_F27|L0_S1_F29|L0_S1_F31|L0_S2_F33|L0_S2_F35|L0_S2_F37|L0_S2_F39|L0_S2_F41|L0_S2_F43|L0_S2_F45|L0_S2_F47|L0_S2_F49|L0_S2_F51|L0_S2_F53|L0_S2_F55|L0_S2_F57|L0_S2_F59|L0_S2_F61|\n",
      "+-------+---------+---------+---------+---------+---------+---------+---------+---------+---------+---------+---------+---------+---------+---------+---------+---------+---------+---------+---------+\n",
      "|1543132|     null|     null|     null|     null|     null|     null|     null|     null|     null|     null|     null|     null|     null|     null|     null|     null|     null|     null|     null|\n",
      "|1543134|     null|     null|     null|     null|     null|     null|     null|     null|     null|     null|     null|     null|     null|     null|     null|     null|     null|     null|     null|\n",
      "|1543138|     null|     null|     null|     null|     null|     null|     null|     null|     null|     null|     null|     null|     null|     null|     null|     null|     null|     null|     null|\n",
      "|1543140|     null|     null|     null|     null|     null|     null|     null|     null|     null|     null|     null|     null|     null|     null|     null|     null|     null|     null|     null|\n",
      "|1543144|     null|     null|     null|     null|     null|     null|     null|     null|     null|     null|     null|     null|     null|     null|     null|     null|     null|     null|     null|\n",
      "|1543150|     null|     null|     null|     null|     null|     null|     null|     null|     null|     null|     null|     null|     null|     null|     null|     null|     null|     null|     null|\n",
      "|1543152|     null|     null|     null|     null|     null|     null|     null|     null|     null|     null|     null|     null|     null|     null|     null|     null|     null|     null|     null|\n",
      "|1543153|     null|     null|     null|     null|     null|     null|     null|     null|     null|     null|     null|     null|     null|     null|     null|     null|     null|     null|     null|\n",
      "|1543155|     null|     null|     null|     null|     null|     null|     null|     null|     null|     null|     null|     null|     null|     null|     null|     null|     null|     null|     null|\n",
      "|1543156|     null|     null|     null|     null|     null|     null|     null|     null|     null|     null|     null|     null|     null|     null|     null|     null|     null|     null|     null|\n",
      "|1543162|     null|     null|     null|     null|     null|     null|     null|     null|     null|     null|     null|     null|     null|     null|     null|     null|     null|     null|     null|\n",
      "|1543165|     null|     null|     null|     null|     null|     null|     null|     null|     null|     null|     null|     null|     null|     null|     null|     null|     null|     null|     null|\n",
      "|1543167|     null|     null|     null|     null|     null|     null|     null|     null|     null|     null|     null|     null|     null|     null|     null|     null|     null|     null|     null|\n",
      "|1543168|     null|     null|     null|     null|     null|     null|     null|     null|     null|     null|     null|     null|     null|     null|     null|     null|     null|     null|     null|\n",
      "|1543169|     null|     null|     null|     null|     null|     null|     null|     null|     null|     null|     null|     null|     null|     null|     null|     null|     null|     null|     null|\n",
      "|1543170|     null|     null|     null|     null|     null|     null|     null|     null|     null|     null|     null|     null|     null|     null|     null|     null|     null|     null|     null|\n",
      "|1543173|     null|     null|     null|     null|     null|     null|     null|     null|     null|     null|     null|     null|     null|     null|     null|     null|     null|     null|     null|\n",
      "|1543181|     null|     null|     null|     null|     null|     null|     null|     null|     null|     null|     null|     null|     null|     null|     null|     null|     null|     null|     null|\n",
      "|1543182|     null|     null|     null|     null|     null|     null|     null|     null|     null|     null|     null|     null|     null|     null|     null|     null|     null|     null|     null|\n",
      "|1543183|     null|     null|     null|     null|     null|     null|     null|     null|     null|     null|     null|     null|     null|     null|     null|     null|     null|     null|     null|\n",
      "|1543184|     null|     null|     null|     null|     null|     null|     null|     null|     null|     null|     null|     null|     null|     null|     null|     null|     null|     null|     null|\n",
      "|1543186|     null|     null|     null|     null|     null|     null|     null|     null|     null|     null|     null|     null|     null|     null|     null|     null|     null|     null|     null|\n",
      "|1543188|     null|     null|     null|     null|     null|     null|     null|     null|     null|     null|     null|     null|     null|     null|     null|     null|     null|     null|     null|\n",
      "|1543199|     null|     null|     null|     null|     null|     null|     null|     null|     null|     null|     null|     null|     null|     null|     null|     null|     null|     null|     null|\n",
      "|1543201|     null|     null|     null|     null|     null|     null|     null|     null|     null|     null|     null|     null|     null|     null|     null|     null|     null|     null|     null|\n",
      "|1543202|     null|     null|     null|     null|     null|     null|     null|     null|     null|     null|     null|     null|     null|     null|     null|     null|     null|     null|     null|\n",
      "|1543203|     null|     null|     null|     null|     null|     null|     null|     null|     null|     null|     null|     null|     null|     null|     null|     null|     null|     null|     null|\n",
      "|1543204|     null|     null|     null|     null|     null|     null|     null|     null|     null|     null|     null|     null|     null|     null|     null|     null|     null|     null|     null|\n",
      "|1543207|     null|     null|     null|     null|     null|     null|     null|     null|     null|     null|     null|     null|     null|     null|     null|     null|     null|     null|     null|\n",
      "|1543210|     null|     null|     null|     null|     null|     null|     null|     null|     null|     null|     null|     null|     null|     null|     null|     null|     null|     null|     null|\n",
      "|1543211|     null|     null|     null|     null|     null|     null|     null|     null|     null|     null|     null|     null|     null|     null|     null|     null|     null|     null|     null|\n",
      "|1543212|     null|     null|     null|     null|     null|     null|     null|     null|     null|     null|     null|     null|     null|     null|     null|     null|     null|     null|     null|\n",
      "|1543213|     null|     null|     null|     null|     null|     null|     null|     null|     null|     null|     null|     null|     null|     null|     null|     null|     null|     null|     null|\n",
      "|1543214|     null|     null|     null|     null|     null|     null|     null|     null|     null|     null|     null|     null|     null|     null|     null|     null|     null|     null|     null|\n",
      "|1543216|     null|     null|     null|     null|     null|     null|     null|     null|     null|     null|     null|     null|     null|     null|     null|     null|     null|     null|     null|\n",
      "|1543217|     null|     null|     null|     null|     null|     null|     null|     null|     null|     null|     null|     null|     null|     null|     null|     null|     null|     null|     null|\n",
      "|1543219|     null|     null|     null|     null|     null|     null|     null|     null|     null|     null|     null|     null|     null|     null|     null|     null|     null|     null|     null|\n",
      "|1543220|     null|     null|     null|     null|     null|     null|     null|     null|     null|     null|     null|     null|     null|     null|     null|     null|     null|     null|     null|\n",
      "|1543224|     null|     null|     null|     null|     null|     null|     null|     null|     null|     null|     null|     null|     null|     null|     null|     null|     null|     null|     null|\n",
      "|1543225|     null|     null|     null|     null|     null|     null|     null|     null|     null|     null|     null|     null|     null|     null|     null|     null|     null|     null|     null|\n",
      "|1543227|     null|     null|     null|     null|     null|     null|     null|     null|     null|     null|     null|     null|     null|     null|     null|     null|     null|     null|     null|\n",
      "|1543228|     null|     null|     null|     null|     null|     null|     null|     null|     null|     null|     null|     null|     null|     null|     null|     null|     null|     null|     null|\n",
      "|1543229|     null|     null|     null|     null|     null|     null|     null|     null|     null|     null|     null|     null|     null|     null|     null|     null|     null|     null|     null|\n",
      "|1543230|     null|     null|     null|     null|     null|     null|     null|     null|     null|     null|     null|     null|     null|     null|     null|     null|     null|     null|     null|\n",
      "|1543231|     null|     null|     null|     null|     null|     null|     null|     null|     null|     null|     null|     null|     null|     null|     null|     null|     null|     null|     null|\n",
      "|1543232|     null|     null|     null|     null|     null|     null|     null|     null|     null|     null|     null|     null|     null|     null|     null|     null|     null|     null|     null|\n",
      "|1543233|     null|     null|     null|     null|     null|     null|     null|     null|     null|     null|     null|     null|     null|     null|     null|     null|     null|     null|     null|\n",
      "|1543234|     null|     null|     null|     null|     null|     null|     null|     null|     null|     null|     null|     null|     null|     null|     null|     null|     null|     null|     null|\n",
      "|1543239|     null|     null|     null|     null|     null|     null|     null|     null|     null|     null|     null|     null|     null|     null|     null|     null|     null|     null|     null|\n",
      "|1543241|     null|     null|     null|     null|     null|     null|     null|     null|     null|     null|     null|     null|     null|     null|     null|     null|     null|     null|     null|\n",
      "|1543244|     null|     null|     null|     null|     null|     null|     null|     null|     null|     null|     null|     null|     null|     null|     null|     null|     null|     null|     null|\n",
      "|1543246|     null|     null|     null|     null|     null|     null|     null|     null|     null|     null|     null|     null|     null|     null|     null|     null|     null|     null|     null|\n",
      "|1543248|     null|     null|     null|     null|     null|     null|     null|     null|     null|     null|     null|     null|     null|     null|     null|     null|     null|     null|     null|\n",
      "|1543249|     null|     null|     null|     null|     null|     null|     null|     null|     null|     null|     null|     null|     null|     null|     null|     null|     null|     null|     null|\n",
      "|1543250|     null|     null|     null|     null|     null|     null|     null|     null|     null|     null|     null|     null|     null|     null|     null|     null|     null|     null|     null|\n",
      "|1543251|     null|     null|     null|     null|     null|     null|     null|     null|     null|     null|     null|     null|     null|     null|     null|     null|     null|     null|     null|\n",
      "|1543256|     null|     null|     null|     null|     null|     null|     null|     null|     null|     null|     null|     null|     null|     null|     null|     null|     null|     null|     null|\n",
      "|1543258|     null|     null|     null|     null|     null|     null|     null|     null|     null|     null|     null|     null|     null|     null|     null|     null|     null|     null|     null|\n",
      "|1543259|     null|     null|     null|     null|     null|     null|     null|     null|     null|     null|     null|     null|     null|     null|     null|     null|     null|     null|     null|\n",
      "|1543260|     null|     null|     null|     null|     null|     null|     null|     null|     null|     null|     null|     null|     null|     null|     null|     null|     null|     null|     null|\n",
      "|1543261|     null|     null|     null|     null|     null|     null|     null|     null|     null|     null|     null|     null|     null|     null|     null|     null|     null|     null|     null|\n",
      "|1543262|     null|     null|     null|     null|     null|     null|     null|     null|     null|     null|     null|     null|     null|     null|     null|     null|     null|     null|     null|\n",
      "|1543264|     null|     null|     null|     null|     null|     null|     null|     null|     null|     null|     null|     null|     null|     null|     null|     null|     null|     null|     null|\n",
      "|1543266|     null|     null|     null|     null|     null|     null|     null|     null|     null|     null|     null|     null|     null|     null|     null|     null|     null|     null|     null|\n",
      "|1543269|     null|     null|     null|     null|     null|     null|     null|     null|     null|     null|     null|     null|     null|     null|     null|     null|     null|     null|     null|\n",
      "|1543270|     null|     null|     null|     null|     null|     null|     null|     null|     null|     null|     null|     null|     null|     null|     null|     null|     null|     null|     null|\n",
      "|1543271|     null|     null|     null|     null|     null|     null|     null|     null|     null|     null|     null|     null|     null|     null|     null|     null|     null|     null|     null|\n",
      "|1543273|     null|     null|     null|     null|     null|     null|     null|     null|     null|     null|     null|     null|     null|     null|     null|     null|     null|     null|     null|\n",
      "|1543276|     null|     null|     null|     null|     null|     null|     null|     null|     null|     null|     null|     null|     null|     null|     null|     null|     null|     null|     null|\n",
      "|1543278|     null|     null|     null|     null|     null|     null|     null|     null|     null|     null|     null|     null|     null|     null|     null|     null|     null|     null|     null|\n",
      "|1543279|     null|     null|     null|     null|     null|     null|     null|     null|     null|     null|     null|     null|     null|     null|     null|     null|     null|     null|     null|\n",
      "|1543282|     null|     null|     null|     null|     null|     null|     null|     null|     null|     null|     null|     null|     null|     null|     null|     null|     null|     null|     null|\n",
      "|1543283|     null|     null|     null|     null|     null|     null|     null|     null|     null|     null|     null|     null|     null|     null|     null|     null|     null|     null|     null|\n",
      "|1543285|     null|     null|     null|     null|     null|     null|     null|     null|     null|     null|     null|     null|     null|     null|     null|     null|     null|     null|     null|\n",
      "|1543286|     null|     null|     null|     null|     null|     null|     null|     null|     null|     null|     null|     null|     null|     null|     null|     null|     null|     null|     null|\n",
      "|1543288|     null|     null|     null|     null|     null|     null|     null|     null|     null|     null|     null|     null|     null|     null|     null|     null|     null|     null|     null|\n",
      "|1543290|     null|     null|     null|     null|     null|     null|     null|     null|     null|     null|     null|     null|     null|     null|     null|     null|     null|     null|     null|\n",
      "|1543291|     null|     null|     null|     null|     null|     null|     null|     null|     null|     null|     null|     null|     null|     null|     null|     null|     null|     null|     null|\n",
      "|1543292|     null|     null|     null|     null|     null|     null|     null|     null|     null|     null|     null|     null|     null|     null|     null|     null|     null|     null|     null|\n",
      "|1543293|     null|     null|     null|     null|     null|     null|     null|     null|     null|     null|     null|     null|     null|     null|     null|     null|     null|     null|     null|\n",
      "|1543294|     null|     null|     null|     null|     null|     null|     null|     null|     null|     null|     null|     null|     null|     null|     null|     null|     null|     null|     null|\n",
      "|1543296|     null|     null|     null|     null|     null|     null|     null|     null|     null|     null|     null|     null|     null|     null|     null|     null|     null|     null|     null|\n",
      "|1543297|     null|     null|     null|     null|     null|     null|     null|     null|     null|     null|     null|     null|     null|     null|     null|     null|     null|     null|     null|\n",
      "|1543299|     null|     null|     null|     null|     null|     null|     null|     null|     null|     null|     null|     null|     null|     null|     null|     null|     null|     null|     null|\n",
      "|1543300|     null|     null|     null|     null|     null|     null|     null|     null|     null|     null|     null|     null|     null|     null|     null|     null|     null|     null|     null|\n",
      "|1543303|     null|     null|     null|     null|     null|     null|     null|     null|     null|     null|     null|     null|     null|     null|     null|     null|     null|     null|     null|\n",
      "|1543305|     null|     null|     null|     null|     null|     null|     null|     null|     null|     null|     null|     null|     null|     null|     null|     null|     null|     null|     null|\n",
      "|1543309|     null|     null|     null|     null|     null|     null|     null|     null|     null|     null|     null|     null|     null|     null|     null|     null|     null|     null|     null|\n",
      "|1543315|     null|     null|     null|     null|     null|     null|     null|     null|     null|     null|     null|     null|     null|     null|     null|     null|     null|     null|     null|\n",
      "|1543318|     null|     null|     null|     null|     null|     null|     null|     null|     null|     null|     null|     null|     null|     null|     null|     null|     null|     null|     null|\n",
      "|1543323|     null|     null|     null|     null|     null|     null|     null|     null|     null|     null|     null|     null|     null|     null|     null|     null|     null|     null|     null|\n",
      "|1543324|     null|     null|     null|     null|     null|     null|     null|     null|     null|     null|     null|     null|     null|     null|     null|     null|     null|     null|     null|\n",
      "|1543327|     null|     null|     null|     null|     null|     null|     null|     null|     null|     null|     null|     null|     null|     null|     null|     null|     null|     null|     null|\n",
      "|1543328|     null|     null|     null|     null|     null|     null|     null|     null|     null|     null|     null|     null|     null|     null|     null|     null|     null|     null|     null|\n",
      "|1543329|     null|     null|     null|     null|     null|     null|     null|     null|     null|     null|     null|     null|     null|     null|     null|     null|     null|     null|     null|\n",
      "|1543330|     null|     null|     null|     null|     null|     null|     null|     null|     null|     null|     null|     null|     null|     null|     null|     null|     null|     null|     null|\n",
      "|1543331|     null|     null|     null|     null|     null|     null|     null|     null|     null|     null|     null|     null|     null|     null|     null|     null|     null|     null|     null|\n",
      "|1543333|     null|     null|     null|     null|     null|     null|     null|     null|     null|     null|     null|     null|     null|     null|     null|     null|     null|     null|     null|\n",
      "|1543334|     null|     null|     null|     null|     null|     null|     null|     null|     null|     null|     null|     null|     null|     null|     null|     null|     null|     null|     null|\n",
      "|1543338|     null|     null|     null|     null|     null|     null|     null|     null|     null|     null|     null|     null|     null|     null|     null|     null|     null|     null|     null|\n",
      "|1543341|     null|     null|     null|     null|     null|     null|     null|     null|     null|     null|     null|     null|     null|     null|     null|     null|     null|     null|     null|\n",
      "|1543343|     null|     null|     null|     null|     null|     null|     null|     null|     null|     null|     null|     null|     null|     null|     null|     null|     null|     null|     null|\n",
      "|1543344|     null|     null|     null|     null|     null|     null|     null|     null|     null|     null|     null|     null|     null|     null|     null|     null|     null|     null|     null|\n",
      "|1543346|     null|     null|     null|     null|     null|     null|     null|     null|     null|     null|     null|     null|     null|     null|     null|     null|     null|     null|     null|\n",
      "|1543347|     null|     null|     null|     null|     null|     null|     null|     null|     null|     null|     null|     null|     null|     null|     null|     null|     null|     null|     null|\n",
      "|1543350|     null|     null|     null|     null|     null|     null|     null|     null|     null|     null|     null|     null|     null|     null|     null|     null|     null|     null|     null|\n",
      "|1543351|     null|     null|     null|     null|     null|     null|     null|     null|     null|     null|     null|     null|     null|     null|     null|     null|     null|     null|     null|\n",
      "|1543352|     null|     null|     null|     null|     null|     null|     null|     null|     null|     null|     null|     null|     null|     null|     null|     null|     null|     null|     null|\n",
      "|1543353|     null|     null|     null|     null|     null|     null|     null|     null|     null|     null|     null|     null|     null|     null|     null|     null|     null|     null|     null|\n",
      "|1543357|     null|     null|     null|     null|     null|     null|     null|     null|     null|     null|     null|     null|     null|     null|     null|     null|     null|     null|     null|\n",
      "|1543360|     null|     null|     null|     null|     null|     null|     null|     null|     null|     null|     null|     null|     null|     null|     null|     null|     null|     null|     null|\n",
      "|1543362|     null|     null|     null|     null|     null|     null|     null|     null|     null|     null|     null|     null|     null|     null|     null|     null|     null|     null|     null|\n",
      "|1543363|     null|     null|     null|     null|     null|     null|     null|     null|     null|     null|     null|     null|     null|     null|     null|     null|     null|     null|     null|\n",
      "|1543366|     null|     null|     null|     null|     null|     null|     null|     null|     null|     null|     null|     null|     null|     null|     null|     null|     null|     null|     null|\n",
      "|1543367|     null|     null|     null|     null|     null|     null|     null|     null|     null|     null|     null|     null|     null|     null|     null|     null|     null|     null|     null|\n",
      "|1543371|     null|     null|     null|     null|     null|     null|     null|     null|     null|     null|     null|     null|     null|     null|     null|     null|     null|     null|     null|\n",
      "|1543376|     null|     null|     null|     null|     null|     null|     null|     null|     null|     null|     null|     null|     null|     null|     null|     null|     null|     null|     null|\n",
      "|1543377|     null|     null|     null|     null|     null|     null|     null|     null|     null|     null|     null|     null|     null|     null|     null|     null|     null|     null|     null|\n",
      "|1543378|     null|     null|     null|     null|     null|     null|     null|     null|     null|     null|     null|     null|     null|     null|     null|     null|     null|     null|     null|\n",
      "|1543382|     null|     null|     null|     null|     null|     null|     null|     null|     null|     null|     null|     null|     null|     null|     null|     null|     null|     null|     null|\n",
      "|1543385|     null|     null|     null|     null|     null|     null|     null|     null|     null|     null|     null|     null|     null|     null|     null|     null|     null|     null|     null|\n",
      "|1543386|     null|     null|     null|     null|     null|     null|     null|     null|     null|     null|     null|     null|     null|     null|     null|     null|     null|     null|     null|\n",
      "|1543387|     null|     null|     null|     null|     null|     null|     null|     null|     null|     null|     null|     null|     null|     null|     null|     null|     null|     null|     null|\n",
      "|1543388|     null|     null|     null|     null|     null|     null|     null|     null|     null|     null|     null|     null|     null|     null|     null|     null|     null|     null|     null|\n",
      "|1543390|     null|     null|     null|     null|     null|     null|     null|     null|     null|     null|     null|     null|     null|     null|     null|     null|     null|     null|     null|\n",
      "|1543392|     null|     null|     null|     null|     null|     null|     null|     null|     null|     null|     null|     null|     null|     null|     null|     null|     null|     null|     null|\n",
      "|1543393|     null|     null|     null|     null|     null|     null|     null|     null|     null|     null|     null|     null|     null|     null|     null|     null|     null|     null|     null|\n",
      "|1543394|     null|     null|     null|     null|     null|     null|     null|     null|     null|     null|     null|     null|     null|     null|     null|     null|     null|     null|     null|\n",
      "|1543401|     null|     null|     null|     null|     null|     null|     null|     null|     null|     null|     null|     null|     null|     null|     null|     null|     null|     null|     null|\n",
      "|1543403|     null|     null|     null|     null|     null|     null|     null|     null|     null|     null|     null|     null|     null|     null|     null|     null|     null|     null|     null|\n",
      "|1543404|     null|     null|     null|     null|     null|     null|     null|     null|     null|     null|     null|     null|     null|     null|     null|     null|     null|     null|     null|\n",
      "|1543408|     null|     null|     null|     null|     null|     null|     null|     null|     null|     null|     null|     null|     null|     null|     null|     null|     null|     null|     null|\n",
      "|1543410|     null|     null|     null|     null|     null|     null|     null|     null|     null|     null|     null|     null|     null|     null|     null|     null|     null|     null|     null|\n",
      "|1543411|     null|     null|     null|     null|     null|     null|     null|     null|     null|     null|     null|     null|     null|     null|     null|     null|     null|     null|     null|\n",
      "|1543413|     null|     null|     null|     null|     null|     null|     null|     null|     null|     null|     null|     null|     null|     null|     null|     null|     null|     null|     null|\n",
      "|1543414|     null|     null|     null|     null|     null|     null|     null|     null|     null|     null|     null|     null|     null|     null|     null|     null|     null|     null|     null|\n",
      "|1543415|     null|     null|     null|     null|     null|     null|     null|     null|     null|     null|     null|     null|     null|     null|     null|     null|     null|     null|     null|\n",
      "|1543416|     null|     null|     null|     null|     null|     null|     null|     null|     null|     null|     null|     null|     null|     null|     null|     null|     null|     null|     null|\n",
      "|1543417|     null|     null|     null|     null|     null|     null|     null|     null|     null|     null|     null|     null|     null|     null|     null|     null|     null|     null|     null|\n",
      "|1543418|     null|     null|     null|     null|     null|     null|     null|     null|     null|     null|     null|     null|     null|     null|     null|     null|     null|     null|     null|\n",
      "|1543422|     null|     null|     null|     null|     null|     null|     null|     null|     null|     null|     null|     null|     null|     null|     null|     null|     null|     null|     null|\n",
      "|1543424|     null|     null|     null|     null|     null|     null|     null|     null|     null|     null|     null|     null|     null|     null|     null|     null|     null|     null|     null|\n",
      "|1543425|     null|     null|     null|     null|     null|     null|     null|     null|     null|     null|     null|     null|     null|     null|     null|     null|     null|     null|     null|\n",
      "|1543429|     null|     null|     null|     null|     null|     null|     null|     null|     null|     null|     null|     null|     null|     null|     null|     null|     null|     null|     null|\n",
      "|1543430|     null|     null|     null|     null|     null|     null|     null|     null|     null|     null|     null|     null|     null|     null|     null|     null|     null|     null|     null|\n",
      "|1543432|     null|     null|     null|     null|     null|     null|     null|     null|     null|     null|     null|     null|     null|     null|     null|     null|     null|     null|     null|\n",
      "|1543433|     null|     null|     null|     null|     null|     null|     null|     null|     null|     null|     null|     null|     null|     null|     null|     null|     null|     null|     null|\n",
      "|1543436|     null|     null|     null|     null|     null|     null|     null|     null|     null|     null|     null|     null|     null|     null|     null|     null|     null|     null|     null|\n",
      "|1543437|     null|     null|     null|     null|     null|     null|     null|     null|     null|     null|     null|     null|     null|     null|     null|     null|     null|     null|     null|\n",
      "|1543441|     null|     null|     null|     null|     null|     null|     null|     null|     null|     null|     null|     null|     null|     null|     null|     null|     null|     null|     null|\n",
      "|1543442|     null|     null|     null|     null|     null|     null|     null|     null|     null|     null|     null|     null|     null|     null|     null|     null|     null|     null|     null|\n",
      "|1543443|     null|     null|     null|     null|     null|     null|     null|     null|     null|     null|     null|     null|     null|     null|     null|     null|     null|     null|     null|\n",
      "|1543445|     null|     null|     null|     null|     null|     null|     null|     null|     null|     null|     null|     null|     null|     null|     null|     null|     null|     null|     null|\n",
      "|1543447|     null|     null|     null|     null|     null|     null|     null|     null|     null|     null|     null|     null|     null|     null|     null|     null|     null|     null|     null|\n",
      "|1543448|     null|     null|     null|     null|     null|     null|     null|     null|     null|     null|     null|     null|     null|     null|     null|     null|     null|     null|     null|\n",
      "|1543451|     null|     null|     null|     null|     null|     null|     null|     null|     null|     null|     null|     null|     null|     null|     null|     null|     null|     null|     null|\n",
      "|1543452|     null|     null|     null|     null|     null|     null|     null|     null|     null|     null|     null|     null|     null|     null|     null|     null|     null|     null|     null|\n",
      "|1543457|     null|     null|     null|     null|     null|     null|     null|     null|     null|     null|     null|     null|     null|     null|     null|     null|     null|     null|     null|\n",
      "|1543458|     null|     null|     null|     null|     null|     null|     null|     null|     null|     null|     null|     null|     null|     null|     null|     null|     null|     null|     null|\n",
      "|1543459|     null|     null|     null|     null|     null|     null|     null|     null|     null|     null|     null|     null|     null|     null|     null|     null|     null|     null|     null|\n",
      "|1543461|     null|     null|     null|     null|     null|     null|     null|     null|     null|     null|     null|     null|     null|     null|     null|     null|     null|     null|     null|\n",
      "|1543464|     null|     null|     null|     null|     null|     null|     null|     null|     null|     null|     null|     null|     null|     null|     null|     null|     null|     null|     null|\n",
      "|1543465|     null|     null|     null|     null|     null|     null|     null|     null|     null|     null|     null|     null|     null|     null|     null|     null|     null|     null|     null|\n",
      "|1543467|     null|     null|     null|     null|     null|     null|     null|     null|     null|     null|     null|     null|     null|     null|     null|     null|     null|     null|     null|\n",
      "|1543468|     null|     null|     null|     null|     null|     null|     null|     null|     null|     null|     null|     null|     null|     null|     null|     null|     null|     null|     null|\n",
      "|1543469|     null|     null|     null|     null|     null|     null|     null|     null|     null|     null|     null|     null|     null|     null|     null|     null|     null|     null|     null|\n",
      "|1543470|     null|     null|     null|     null|     null|     null|     null|     null|     null|     null|     null|     null|     null|     null|     null|     null|     null|     null|     null|\n",
      "|1543472|     null|     null|     null|     null|     null|     null|     null|     null|     null|     null|     null|     null|     null|     null|     null|     null|     null|     null|     null|\n",
      "|1543473|     null|     null|     null|     null|     null|     null|     null|     null|     null|     null|     null|     null|     null|     null|     null|     null|     null|     null|     null|\n",
      "|1543477|     null|     null|     null|     null|     null|     null|     null|     null|     null|     null|     null|     null|     null|     null|     null|     null|     null|     null|     null|\n",
      "|1543478|     null|     null|     null|     null|     null|     null|     null|     null|     null|     null|     null|     null|     null|     null|     null|     null|     null|     null|     null|\n",
      "|1543479|     null|     null|     null|     null|     null|     null|     null|     null|     null|     null|     null|     null|     null|     null|     null|     null|     null|     null|     null|\n",
      "|1543481|     null|     null|     null|     null|     null|     null|     null|     null|     null|     null|     null|     null|     null|     null|     null|     null|     null|     null|     null|\n",
      "|1543489|     null|     null|     null|     null|     null|     null|     null|     null|     null|     null|     null|     null|     null|     null|     null|     null|     null|     null|     null|\n",
      "|1543490|     null|     null|     null|     null|     null|     null|     null|     null|     null|     null|     null|     null|     null|     null|     null|     null|     null|     null|     null|\n",
      "|1543493|     null|     null|     null|     null|     null|     null|     null|     null|     null|     null|     null|     null|     null|     null|     null|     null|     null|     null|     null|\n",
      "|1543494|     null|     null|     null|     null|     null|     null|     null|     null|     null|     null|     null|     null|     null|     null|     null|     null|     null|     null|     null|\n",
      "|1543495|     null|     null|     null|     null|     null|     null|     null|     null|     null|     null|     null|     null|     null|     null|     null|     null|     null|     null|     null|\n",
      "|1543496|     null|     null|     null|     null|     null|     null|     null|     null|     null|     null|     null|     null|     null|     null|     null|     null|     null|     null|     null|\n",
      "|1543499|     null|     null|     null|     null|     null|     null|     null|     null|     null|     null|     null|     null|     null|     null|     null|     null|     null|     null|     null|\n",
      "|1543502|     null|     null|     null|     null|     null|     null|     null|     null|     null|     null|     null|     null|     null|     null|     null|     null|     null|     null|     null|\n",
      "|1543503|     null|     null|     null|     null|     null|     null|     null|     null|     null|     null|     null|     null|     null|     null|     null|     null|     null|     null|     null|\n",
      "|1543506|     null|     null|     null|     null|     null|     null|     null|     null|     null|     null|     null|     null|     null|     null|     null|     null|     null|     null|     null|\n",
      "|1543510|     null|     null|     null|     null|     null|     null|     null|     null|     null|     null|     null|     null|     null|     null|     null|     null|     null|     null|     null|\n",
      "|1543512|     null|     null|     null|     null|     null|     null|     null|     null|     null|     null|     null|     null|     null|     null|     null|     null|     null|     null|     null|\n",
      "|1543515|     null|     null|     null|     null|     null|     null|     null|     null|     null|     null|     null|     null|     null|     null|     null|     null|     null|     null|     null|\n",
      "|1543516|     null|     null|     null|     null|     null|     null|     null|     null|     null|     null|     null|     null|     null|     null|     null|     null|     null|     null|     null|\n",
      "|1543518|     null|     null|     null|     null|     null|     null|     null|     null|     null|     null|     null|     null|     null|     null|     null|     null|     null|     null|     null|\n",
      "|1543519|     null|     null|     null|     null|     null|     null|     null|     null|     null|     null|     null|     null|     null|     null|     null|     null|     null|     null|     null|\n",
      "|1543522|     null|     null|     null|     null|     null|     null|     null|     null|     null|     null|     null|     null|     null|     null|     null|     null|     null|     null|     null|\n",
      "|1543524|     null|     null|     null|     null|     null|     null|     null|     null|     null|     null|     null|     null|     null|     null|     null|     null|     null|     null|     null|\n",
      "|1543525|     null|     null|     null|     null|     null|     null|     null|     null|     null|     null|     null|     null|     null|     null|     null|     null|     null|     null|     null|\n",
      "|1543529|     null|     null|     null|     null|     null|     null|     null|     null|     null|     null|     null|     null|     null|     null|     null|     null|     null|     null|     null|\n",
      "|1543530|     null|     null|     null|     null|     null|     null|     null|     null|     null|     null|     null|     null|     null|     null|     null|     null|     null|     null|     null|\n",
      "|1543533|     null|     null|     null|     null|     null|     null|     null|     null|     null|     null|     null|     null|     null|     null|     null|     null|     null|     null|     null|\n",
      "|1543539|     null|     null|     null|     null|     null|     null|     null|     null|     null|     null|     null|     null|     null|     null|     null|     null|     null|     null|     null|\n",
      "|1543540|     null|     null|     null|     null|     null|     null|     null|     null|     null|     null|     null|     null|     null|     null|     null|     null|     null|     null|     null|\n",
      "|1543542|     null|     null|     null|     null|     null|     null|     null|     null|     null|     null|     null|     null|     null|     null|     null|     null|     null|     null|     null|\n",
      "|1543544|     null|     null|     null|     null|     null|     null|     null|     null|     null|     null|     null|     null|     null|     null|     null|     null|     null|     null|     null|\n",
      "|1543545|     null|     null|     null|     null|     null|     null|     null|     null|     null|     null|     null|     null|     null|     null|     null|     null|     null|     null|     null|\n",
      "|1543547|     null|     null|     null|     null|     null|     null|     null|     null|     null|     null|     null|     null|     null|     null|     null|     null|     null|     null|     null|\n",
      "|1543548|     null|     null|     null|     null|     null|     null|     null|     null|     null|     null|     null|     null|     null|     null|     null|     null|     null|     null|     null|\n",
      "|1543550|     null|     null|     null|     null|     null|     null|     null|     null|     null|     null|     null|     null|     null|     null|     null|     null|     null|     null|     null|\n",
      "|1543552|     null|     null|     null|     null|     null|     null|     null|     null|     null|     null|     null|     null|     null|     null|     null|     null|     null|     null|     null|\n",
      "|1543554|     null|     null|     null|     null|     null|     null|     null|     null|     null|     null|     null|     null|     null|     null|     null|     null|     null|     null|     null|\n",
      "|1543556|     null|     null|     null|     null|     null|     null|     null|     null|     null|     null|     null|     null|     null|     null|     null|     null|     null|     null|     null|\n",
      "|1543558|     null|     null|     null|     null|     null|     null|     null|     null|     null|     null|     null|     null|     null|     null|     null|     null|     null|     null|     null|\n",
      "|1543562|     null|     null|     null|     null|     null|     null|     null|     null|     null|     null|     null|     null|     null|     null|     null|     null|     null|     null|     null|\n",
      "|1543564|     null|     null|     null|     null|     null|     null|     null|     null|     null|     null|     null|     null|     null|     null|     null|     null|     null|     null|     null|\n",
      "|1543565|     null|     null|     null|     null|     null|     null|     null|     null|     null|     null|     null|     null|     null|     null|     null|     null|     null|     null|     null|\n",
      "|1543566|     null|     null|     null|     null|     null|     null|     null|     null|     null|     null|     null|     null|     null|     null|     null|     null|     null|     null|     null|\n",
      "|1543567|     null|     null|     null|     null|     null|     null|     null|     null|     null|     null|     null|     null|     null|     null|     null|     null|     null|     null|     null|\n",
      "|1543569|     null|     null|     null|     null|     null|     null|     null|     null|     null|     null|     null|     null|     null|     null|     null|     null|     null|     null|     null|\n",
      "|1543570|     null|     null|     null|     null|     null|     null|     null|     null|     null|     null|     null|     null|     null|     null|     null|     null|     null|     null|     null|\n",
      "|1543572|     null|     null|     null|     null|     null|     null|     null|     null|     null|     null|     null|     null|     null|     null|     null|     null|     null|     null|     null|\n",
      "|1543574|     null|     null|     null|     null|     null|     null|     null|     null|     null|     null|     null|     null|     null|     null|     null|     null|     null|     null|     null|\n",
      "|1543578|     null|     null|     null|     null|     null|     null|     null|     null|     null|     null|     null|     null|     null|     null|     null|     null|     null|     null|     null|\n",
      "|1543585|     null|     null|     null|     null|     null|     null|     null|     null|     null|     null|     null|     null|     null|     null|     null|     null|     null|     null|     null|\n",
      "|1543586|     null|     null|     null|     null|     null|     null|     null|     null|     null|     null|     null|     null|     null|     null|     null|     null|     null|     null|     null|\n",
      "|1543587|     null|     null|     null|     null|     null|     null|     null|     null|     null|     null|     null|     null|     null|     null|     null|     null|     null|     null|     null|\n",
      "|1543588|     null|     null|     null|     null|     null|     null|     null|     null|     null|     null|     null|     null|     null|     null|     null|     null|     null|     null|     null|\n",
      "|1543591|     null|     null|     null|     null|     null|     null|     null|     null|     null|     null|     null|     null|     null|     null|     null|     null|     null|     null|     null|\n",
      "|1543594|     null|     null|     null|     null|     null|     null|     null|     null|     null|     null|     null|     null|     null|     null|     null|     null|     null|     null|     null|\n",
      "|1543597|     null|     null|     null|     null|     null|     null|     null|     null|     null|     null|     null|     null|     null|     null|     null|     null|     null|     null|     null|\n",
      "|1543601|     null|     null|     null|     null|     null|     null|     null|     null|     null|     null|     null|     null|     null|     null|     null|     null|     null|     null|     null|\n",
      "|1543602|     null|     null|     null|     null|     null|     null|     null|     null|     null|     null|     null|     null|     null|     null|     null|     null|     null|     null|     null|\n",
      "|1543604|     null|     null|     null|     null|     null|     null|     null|     null|     null|     null|     null|     null|     null|     null|     null|     null|     null|     null|     null|\n",
      "|1543614|     null|     null|     null|     null|     null|     null|     null|     null|     null|     null|     null|     null|     null|     null|     null|     null|     null|     null|     null|\n",
      "|1543617|     null|     null|     null|     null|     null|     null|     null|     null|     null|     null|     null|     null|     null|     null|     null|     null|     null|     null|     null|\n",
      "|1543618|     null|     null|     null|     null|     null|     null|     null|     null|     null|     null|     null|     null|     null|     null|     null|     null|     null|     null|     null|\n",
      "|1543621|     null|     null|     null|     null|     null|     null|     null|     null|     null|     null|     null|     null|     null|     null|     null|     null|     null|     null|     null|\n",
      "|1543624|     null|     null|     null|     null|     null|     null|     null|     null|     null|     null|     null|     null|     null|     null|     null|     null|     null|     null|     null|\n",
      "|1543626|     null|     null|     null|     null|     null|     null|     null|     null|     null|     null|     null|     null|     null|     null|     null|     null|     null|     null|     null|\n",
      "|1543627|     null|     null|     null|     null|     null|     null|     null|     null|     null|     null|     null|     null|     null|     null|     null|     null|     null|     null|     null|\n",
      "|1543628|     null|     null|     null|     null|     null|     null|     null|     null|     null|     null|     null|     null|     null|     null|     null|     null|     null|     null|     null|\n",
      "|1543630|     null|     null|     null|     null|     null|     null|     null|     null|     null|     null|     null|     null|     null|     null|     null|     null|     null|     null|     null|\n",
      "|1543633|     null|     null|     null|     null|     null|     null|     null|     null|     null|     null|     null|     null|     null|     null|     null|     null|     null|     null|     null|\n",
      "|1543634|     null|     null|     null|     null|     null|     null|     null|     null|     null|     null|     null|     null|     null|     null|     null|     null|     null|     null|     null|\n",
      "|1543635|     null|     null|     null|     null|     null|     null|     null|     null|     null|     null|     null|     null|     null|     null|     null|     null|     null|     null|     null|\n",
      "|1543636|     null|     null|     null|     null|     null|     null|     null|     null|     null|     null|     null|     null|     null|     null|     null|     null|     null|     null|     null|\n",
      "|1543638|     null|     null|     null|     null|     null|     null|     null|     null|     null|     null|     null|     null|     null|     null|     null|     null|     null|     null|     null|\n",
      "|1543640|     null|     null|     null|     null|     null|     null|     null|     null|     null|     null|     null|     null|     null|     null|     null|     null|     null|     null|     null|\n",
      "|1543642|     null|     null|     null|     null|     null|     null|     null|     null|     null|     null|     null|     null|     null|     null|     null|     null|     null|     null|     null|\n",
      "|1543645|     null|     null|     null|     null|     null|     null|     null|     null|     null|     null|     null|     null|     null|     null|     null|     null|     null|     null|     null|\n",
      "|1543646|     null|     null|     null|     null|     null|     null|     null|     null|     null|     null|     null|     null|     null|     null|     null|     null|     null|     null|     null|\n",
      "|1543647|     null|     null|     null|     null|     null|     null|     null|     null|     null|     null|     null|     null|     null|     null|     null|     null|     null|     null|     null|\n",
      "|1543648|     null|     null|     null|     null|     null|     null|     null|     null|     null|     null|     null|     null|     null|     null|     null|     null|     null|     null|     null|\n",
      "|1543649|     null|     null|     null|     null|     null|     null|     null|     null|     null|     null|     null|     null|     null|     null|     null|     null|     null|     null|     null|\n",
      "|1543654|     null|     null|     null|     null|     null|     null|     null|     null|     null|     null|     null|     null|     null|     null|     null|     null|     null|     null|     null|\n",
      "|1543655|     null|     null|     null|     null|     null|     null|     null|     null|     null|     null|     null|     null|     null|     null|     null|     null|     null|     null|     null|\n",
      "|1543656|     null|     null|     null|     null|     null|     null|     null|     null|     null|     null|     null|     null|     null|     null|     null|     null|     null|     null|     null|\n",
      "|1543658|     null|     null|     null|     null|     null|     null|     null|     null|     null|     null|     null|     null|     null|     null|     null|     null|     null|     null|     null|\n",
      "|1543660|     null|     null|     null|     null|     null|     null|     null|     null|     null|     null|     null|     null|     null|     null|     null|     null|     null|     null|     null|\n",
      "|1543661|     null|     null|     null|     null|     null|     null|     null|     null|     null|     null|     null|     null|     null|     null|     null|     null|     null|     null|     null|\n",
      "|1543663|     null|     null|     null|     null|     null|     null|     null|     null|     null|     null|     null|     null|     null|     null|     null|     null|     null|     null|     null|\n",
      "|1543665|     null|     null|     null|     null|     null|     null|     null|     null|     null|     null|     null|     null|     null|     null|     null|     null|     null|     null|     null|\n",
      "|1543666|     null|     null|     null|     null|     null|     null|     null|     null|     null|     null|     null|     null|     null|     null|     null|     null|     null|     null|     null|\n",
      "|1543672|     null|     null|     null|     null|     null|     null|     null|     null|     null|     null|     null|     null|     null|     null|     null|     null|     null|     null|     null|\n",
      "|1543673|     null|     null|     null|     null|     null|     null|     null|     null|     null|     null|     null|     null|     null|     null|     null|     null|     null|     null|     null|\n",
      "|1543675|     null|     null|     null|     null|     null|     null|     null|     null|     null|     null|     null|     null|     null|     null|     null|     null|     null|     null|     null|\n",
      "|1543678|     null|     null|     null|     null|     null|     null|     null|     null|     null|     null|     null|     null|     null|     null|     null|     null|     null|     null|     null|\n",
      "|1543680|     null|     null|     null|     null|     null|     null|     null|     null|     null|     null|     null|     null|     null|     null|     null|     null|     null|     null|     null|\n",
      "|1543681|     null|     null|     null|     null|     null|     null|     null|     null|     null|     null|     null|     null|     null|     null|     null|     null|     null|     null|     null|\n",
      "|1543682|     null|     null|     null|     null|     null|     null|     null|     null|     null|     null|     null|     null|     null|     null|     null|     null|     null|     null|     null|\n",
      "|1543683|     null|     null|     null|     null|     null|     null|     null|     null|     null|     null|     null|     null|     null|     null|     null|     null|     null|     null|     null|\n",
      "|1543684|     null|     null|     null|     null|     null|     null|     null|     null|     null|     null|     null|     null|     null|     null|     null|     null|     null|     null|     null|\n",
      "|1543687|     null|     null|     null|     null|     null|     null|     null|     null|     null|     null|     null|     null|     null|     null|     null|     null|     null|     null|     null|\n",
      "|1543689|     null|     null|     null|     null|     null|     null|     null|     null|     null|     null|     null|     null|     null|     null|     null|     null|     null|     null|     null|\n",
      "|1543690|     null|     null|     null|     null|     null|     null|     null|     null|     null|     null|     null|     null|     null|     null|     null|     null|     null|     null|     null|\n",
      "|1543692|     null|     null|     null|     null|     null|     null|     null|     null|     null|     null|     null|     null|     null|     null|     null|     null|     null|     null|     null|\n",
      "|1543693|     null|     null|     null|     null|     null|     null|     null|     null|     null|     null|     null|     null|     null|     null|     null|     null|     null|     null|     null|\n",
      "|1543697|     null|     null|     null|     null|     null|     null|     null|     null|     null|     null|     null|     null|     null|     null|     null|     null|     null|     null|     null|\n",
      "|1543698|     null|     null|     null|     null|     null|     null|     null|     null|     null|     null|     null|     null|     null|     null|     null|     null|     null|     null|     null|\n",
      "|1543699|     null|     null|     null|     null|     null|     null|     null|     null|     null|     null|     null|     null|     null|     null|     null|     null|     null|     null|     null|\n",
      "|1543700|     null|     null|     null|     null|     null|     null|     null|     null|     null|     null|     null|     null|     null|     null|     null|     null|     null|     null|     null|\n",
      "|1543707|     null|     null|     null|     null|     null|     null|     null|     null|     null|     null|     null|     null|     null|     null|     null|     null|     null|     null|     null|\n",
      "|1543708|     null|     null|     null|     null|     null|     null|     null|     null|     null|     null|     null|     null|     null|     null|     null|     null|     null|     null|     null|\n",
      "|1543710|     null|     null|     null|     null|     null|     null|     null|     null|     null|     null|     null|     null|     null|     null|     null|     null|     null|     null|     null|\n",
      "|1543711|     null|     null|     null|     null|     null|     null|     null|     null|     null|     null|     null|     null|     null|     null|     null|     null|     null|     null|     null|\n",
      "|1543714|     null|     null|     null|     null|     null|     null|     null|     null|     null|     null|     null|     null|     null|     null|     null|     null|     null|     null|     null|\n",
      "|1543715|     null|     null|     null|     null|     null|     null|     null|     null|     null|     null|     null|     null|     null|     null|     null|     null|     null|     null|     null|\n",
      "|1543717|     null|     null|     null|     null|       T1|      T32|       T1|      T32|       T1|      T32|       T1|      T32|       T1|      T32|       T1|      T32|       T1|      T32|       T1|\n",
      "|1543719|     null|     null|     null|     null|     null|     null|     null|     null|     null|     null|     null|     null|     null|     null|     null|     null|     null|     null|     null|\n",
      "|1543720|     null|     null|     null|     null|     null|     null|     null|     null|     null|     null|     null|     null|     null|     null|     null|     null|     null|     null|     null|\n",
      "|1543721|     null|     null|     null|     null|     null|     null|     null|     null|     null|     null|     null|     null|     null|     null|     null|     null|     null|     null|     null|\n",
      "|1543723|     null|     null|     null|     null|     null|     null|     null|     null|     null|     null|     null|     null|     null|     null|     null|     null|     null|     null|     null|\n",
      "|1543724|     null|     null|     null|     null|     null|     null|     null|     null|     null|     null|     null|     null|     null|     null|     null|     null|     null|     null|     null|\n",
      "|1543726|     null|     null|     null|     null|     null|     null|     null|     null|     null|     null|     null|     null|     null|     null|     null|     null|     null|     null|     null|\n",
      "|1543730|     null|     null|     null|     null|     null|     null|     null|     null|     null|     null|     null|     null|     null|     null|     null|     null|     null|     null|     null|\n",
      "|1543733|     null|     null|     null|     null|     null|     null|     null|     null|     null|     null|     null|     null|     null|     null|     null|     null|     null|     null|     null|\n",
      "|1543734|     null|     null|     null|     null|     null|     null|     null|     null|     null|     null|     null|     null|     null|     null|     null|     null|     null|     null|     null|\n",
      "|1543735|     null|     null|     null|     null|     null|     null|     null|     null|     null|     null|     null|     null|     null|     null|     null|     null|     null|     null|     null|\n",
      "|1543742|     null|     null|     null|     null|     null|     null|     null|     null|     null|     null|     null|     null|     null|     null|     null|     null|     null|     null|     null|\n",
      "|1543743|     null|     null|     null|     null|     null|     null|     null|     null|     null|     null|     null|     null|     null|     null|     null|     null|     null|     null|     null|\n",
      "|1543744|     null|     null|     null|     null|     null|     null|     null|     null|     null|     null|     null|     null|     null|     null|     null|     null|     null|     null|     null|\n",
      "|1543745|     null|     null|     null|     null|     null|     null|     null|     null|     null|     null|     null|     null|     null|     null|     null|     null|     null|     null|     null|\n",
      "|1543748|     null|     null|     null|     null|     null|     null|     null|     null|     null|     null|     null|     null|     null|     null|     null|     null|     null|     null|     null|\n",
      "|1543751|     null|     null|     null|     null|     null|     null|     null|     null|     null|     null|     null|     null|     null|     null|     null|     null|     null|     null|     null|\n",
      "|1543752|     null|     null|     null|     null|     null|     null|     null|     null|     null|     null|     null|     null|     null|     null|     null|     null|     null|     null|     null|\n",
      "|1543754|     null|     null|     null|     null|     null|     null|     null|     null|     null|     null|     null|     null|     null|     null|     null|     null|     null|     null|     null|\n",
      "|1543755|     null|     null|     null|     null|     null|     null|     null|     null|     null|     null|     null|     null|     null|     null|     null|     null|     null|     null|     null|\n",
      "|1543758|     null|     null|     null|     null|     null|     null|     null|     null|     null|     null|     null|     null|     null|     null|     null|     null|     null|     null|     null|\n",
      "|1543759|     null|     null|     null|     null|     null|     null|     null|     null|     null|     null|     null|     null|     null|     null|     null|     null|     null|     null|     null|\n",
      "|1543761|     null|     null|     null|     null|     null|     null|     null|     null|     null|     null|     null|     null|     null|     null|     null|     null|     null|     null|     null|\n",
      "|1543762|     null|     null|     null|     null|     null|     null|     null|     null|     null|     null|     null|     null|     null|     null|     null|     null|     null|     null|     null|\n",
      "|1543763|     null|     null|     null|     null|     null|     null|     null|     null|     null|     null|     null|     null|     null|     null|     null|     null|     null|     null|     null|\n",
      "|1543765|     null|     null|     null|     null|     null|     null|     null|     null|     null|     null|     null|     null|     null|     null|     null|     null|     null|     null|     null|\n",
      "|1543767|     null|     null|     null|     null|     null|     null|     null|     null|     null|     null|     null|     null|     null|     null|     null|     null|     null|     null|     null|\n",
      "|1543770|     null|     null|     null|     null|     null|     null|     null|     null|     null|     null|     null|     null|     null|     null|     null|     null|     null|     null|     null|\n",
      "|1543771|     null|     null|     null|     null|     null|     null|     null|     null|     null|     null|     null|     null|     null|     null|     null|     null|     null|     null|     null|\n",
      "|1543773|     null|     null|     null|     null|     null|     null|     null|     null|     null|     null|     null|     null|     null|     null|     null|     null|     null|     null|     null|\n",
      "|1543774|     null|     null|     null|     null|     null|     null|     null|     null|     null|     null|     null|     null|     null|     null|     null|     null|     null|     null|     null|\n",
      "|1543776|     null|     null|     null|     null|     null|     null|     null|     null|     null|     null|     null|     null|     null|     null|     null|     null|     null|     null|     null|\n",
      "|1543778|     null|     null|     null|     null|     null|     null|     null|     null|     null|     null|     null|     null|     null|     null|     null|     null|     null|     null|     null|\n",
      "|1543780|     null|     null|     null|     null|     null|     null|     null|     null|     null|     null|     null|     null|     null|     null|     null|     null|     null|     null|     null|\n",
      "|1543782|     null|     null|     null|     null|     null|     null|     null|     null|     null|     null|     null|     null|     null|     null|     null|     null|     null|     null|     null|\n",
      "|1543785|     null|     null|     null|     null|     null|     null|     null|     null|     null|     null|     null|     null|     null|     null|     null|     null|     null|     null|     null|\n",
      "|1543786|     null|     null|     null|     null|     null|     null|     null|     null|     null|     null|     null|     null|     null|     null|     null|     null|     null|     null|     null|\n",
      "|1543788|     null|     null|     null|     null|     null|     null|     null|     null|     null|     null|     null|     null|     null|     null|     null|     null|     null|     null|     null|\n",
      "|1543791|     null|     null|     null|     null|     null|     null|     null|     null|     null|     null|     null|     null|     null|     null|     null|     null|     null|     null|     null|\n",
      "|1543792|     null|     null|     null|     null|     null|     null|     null|     null|     null|     null|     null|     null|     null|     null|     null|     null|     null|     null|     null|\n",
      "|1543793|     null|     null|     null|     null|     null|     null|     null|     null|     null|     null|     null|     null|     null|     null|     null|     null|     null|     null|     null|\n",
      "|1543795|     null|     null|     null|     null|     null|     null|     null|     null|     null|     null|     null|     null|     null|     null|     null|     null|     null|     null|     null|\n",
      "|1543798|     null|     null|     null|     null|     null|     null|     null|     null|     null|     null|     null|     null|     null|     null|     null|     null|     null|     null|     null|\n",
      "|1543799|     null|     null|     null|     null|     null|     null|     null|     null|     null|     null|     null|     null|     null|     null|     null|     null|     null|     null|     null|\n",
      "|1543801|     null|     null|     null|     null|     null|     null|     null|     null|     null|     null|     null|     null|     null|     null|     null|     null|     null|     null|     null|\n",
      "|1543803|     null|     null|     null|     null|     null|     null|     null|     null|     null|     null|     null|     null|     null|     null|     null|     null|     null|     null|     null|\n",
      "|1543805|     null|     null|     null|     null|     null|     null|     null|     null|     null|     null|     null|     null|     null|     null|     null|     null|     null|     null|     null|\n",
      "|1543806|     null|     null|     null|     null|     null|     null|     null|     null|     null|     null|     null|     null|     null|     null|     null|     null|     null|     null|     null|\n",
      "|1543807|     null|     null|     null|     null|     null|     null|     null|     null|     null|     null|     null|     null|     null|     null|     null|     null|     null|     null|     null|\n",
      "|1543808|     null|     null|     null|     null|     null|     null|     null|     null|     null|     null|     null|     null|     null|     null|     null|     null|     null|     null|     null|\n",
      "|1543810|     null|     null|     null|     null|     null|     null|     null|     null|     null|     null|     null|     null|     null|     null|     null|     null|     null|     null|     null|\n",
      "|1543811|     null|     null|     null|     null|     null|     null|     null|     null|     null|     null|     null|     null|     null|     null|     null|     null|     null|     null|     null|\n",
      "|1543812|     null|     null|     null|     null|     null|     null|     null|     null|     null|     null|     null|     null|     null|     null|     null|     null|     null|     null|     null|\n",
      "|1543813|     null|     null|     null|     null|     null|     null|     null|     null|     null|     null|     null|     null|     null|     null|     null|     null|     null|     null|     null|\n",
      "|1543814|     null|     null|     null|     null|     null|     null|     null|     null|     null|     null|     null|     null|     null|     null|     null|     null|     null|     null|     null|\n",
      "|1543815|     null|     null|     null|     null|     null|     null|     null|     null|     null|     null|     null|     null|     null|     null|     null|     null|     null|     null|     null|\n",
      "|1543817|     null|     null|     null|     null|     null|     null|     null|     null|     null|     null|     null|     null|     null|     null|     null|     null|     null|     null|     null|\n",
      "|1543820|     null|     null|     null|     null|     null|     null|     null|     null|     null|     null|     null|     null|     null|     null|     null|     null|     null|     null|     null|\n",
      "|1543821|     null|     null|     null|     null|     null|     null|     null|     null|     null|     null|     null|     null|     null|     null|     null|     null|     null|     null|     null|\n",
      "|1543823|     null|     null|     null|     null|     null|     null|     null|     null|     null|     null|     null|     null|     null|     null|     null|     null|     null|     null|     null|\n",
      "|1543824|     null|     null|     null|     null|     null|     null|     null|     null|     null|     null|     null|     null|     null|     null|     null|     null|     null|     null|     null|\n",
      "|1543825|     null|     null|     null|     null|     null|     null|     null|     null|     null|     null|     null|     null|     null|     null|     null|     null|     null|     null|     null|\n",
      "|1543826|     null|     null|     null|     null|     null|     null|     null|     null|     null|     null|     null|     null|     null|     null|     null|     null|     null|     null|     null|\n",
      "|1543827|     null|     null|     null|     null|     null|     null|     null|     null|     null|     null|     null|     null|     null|     null|     null|     null|     null|     null|     null|\n",
      "|1543829|     null|     null|     null|     null|     null|     null|     null|     null|     null|     null|     null|     null|     null|     null|     null|     null|     null|     null|     null|\n",
      "|1543830|     null|     null|     null|     null|     null|     null|     null|     null|     null|     null|     null|     null|     null|     null|     null|     null|     null|     null|     null|\n",
      "|1543831|     null|     null|     null|     null|     null|     null|     null|     null|     null|     null|     null|     null|     null|     null|     null|     null|     null|     null|     null|\n",
      "|1543833|     null|     null|     null|     null|     null|     null|     null|     null|     null|     null|     null|     null|     null|     null|     null|     null|     null|     null|     null|\n",
      "|1543838|     null|     null|     null|     null|     null|     null|     null|     null|     null|     null|     null|     null|     null|     null|     null|     null|     null|     null|     null|\n",
      "|1543839|     null|     null|     null|     null|     null|     null|     null|     null|     null|     null|     null|     null|     null|     null|     null|     null|     null|     null|     null|\n",
      "|1543841|     null|     null|     null|     null|     null|     null|     null|     null|     null|     null|     null|     null|     null|     null|     null|     null|     null|     null|     null|\n",
      "|1543844|     null|     null|     null|     null|     null|     null|     null|     null|     null|     null|     null|     null|     null|     null|     null|     null|     null|     null|     null|\n",
      "|1543848|     null|     null|     null|     null|     null|     null|     null|     null|     null|     null|     null|     null|     null|     null|     null|     null|     null|     null|     null|\n",
      "|1543851|     null|     null|     null|     null|     null|     null|     null|     null|     null|     null|     null|     null|     null|     null|     null|     null|     null|     null|     null|\n",
      "|1543852|     null|     null|     null|     null|     null|     null|     null|     null|     null|     null|     null|     null|     null|     null|     null|     null|     null|     null|     null|\n",
      "|1543853|     null|     null|     null|     null|     null|     null|     null|     null|     null|     null|     null|     null|     null|     null|     null|     null|     null|     null|     null|\n",
      "|1543855|     null|     null|     null|     null|     null|     null|     null|     null|     null|     null|     null|     null|     null|     null|     null|     null|     null|     null|     null|\n",
      "|1543860|     null|     null|     null|     null|     null|     null|     null|     null|     null|     null|     null|     null|     null|     null|     null|     null|     null|     null|     null|\n",
      "|1543867|     null|     null|     null|     null|     null|     null|     null|     null|     null|     null|     null|     null|     null|     null|     null|     null|     null|     null|     null|\n",
      "|1543872|     null|     null|     null|     null|     null|     null|     null|     null|     null|     null|     null|     null|     null|     null|     null|     null|     null|     null|     null|\n",
      "|1543874|     null|     null|     null|     null|     null|     null|     null|     null|     null|     null|     null|     null|     null|     null|     null|     null|     null|     null|     null|\n",
      "|1543875|     null|     null|     null|     null|     null|     null|     null|     null|     null|     null|     null|     null|     null|     null|     null|     null|     null|     null|     null|\n",
      "|1543878|     null|     null|     null|     null|     null|     null|     null|     null|     null|     null|     null|     null|     null|     null|     null|     null|     null|     null|     null|\n",
      "|1543879|     null|     null|     null|     null|     null|     null|     null|     null|     null|     null|     null|     null|     null|     null|     null|     null|     null|     null|     null|\n",
      "|1543880|     null|     null|     null|     null|     null|     null|     null|     null|     null|     null|     null|     null|     null|     null|     null|     null|     null|     null|     null|\n",
      "|1543881|     null|     null|     null|     null|     null|     null|     null|     null|     null|     null|     null|     null|     null|     null|     null|     null|     null|     null|     null|\n",
      "|1543884|     null|     null|     null|     null|     null|     null|     null|     null|     null|     null|     null|     null|     null|     null|     null|     null|     null|     null|     null|\n",
      "|1543886|     null|     null|     null|     null|     null|     null|     null|     null|     null|     null|     null|     null|     null|     null|     null|     null|     null|     null|     null|\n",
      "|1543888|     null|     null|     null|     null|     null|     null|     null|     null|     null|     null|     null|     null|     null|     null|     null|     null|     null|     null|     null|\n",
      "|1543890|     null|     null|     null|     null|     null|     null|     null|     null|     null|     null|     null|     null|     null|     null|     null|     null|     null|     null|     null|\n",
      "|1543891|     null|     null|     null|     null|     null|     null|     null|     null|     null|     null|     null|     null|     null|     null|     null|     null|     null|     null|     null|\n",
      "|1543892|     null|     null|     null|     null|     null|     null|     null|     null|     null|     null|     null|     null|     null|     null|     null|     null|     null|     null|     null|\n",
      "|1543893|     null|     null|     null|     null|     null|     null|     null|     null|     null|     null|     null|     null|     null|     null|     null|     null|     null|     null|     null|\n",
      "|1543894|     null|     null|     null|     null|     null|     null|     null|     null|     null|     null|     null|     null|     null|     null|     null|     null|     null|     null|     null|\n",
      "|1543895|     null|     null|     null|     null|     null|     null|     null|     null|     null|     null|     null|     null|     null|     null|     null|     null|     null|     null|     null|\n",
      "|1543896|     null|     null|     null|     null|     null|     null|     null|     null|     null|     null|     null|     null|     null|     null|     null|     null|     null|     null|     null|\n",
      "|1543897|     null|     null|     null|     null|     null|     null|     null|     null|     null|     null|     null|     null|     null|     null|     null|     null|     null|     null|     null|\n",
      "|1543901|     null|     null|     null|     null|     null|     null|     null|     null|     null|     null|     null|     null|     null|     null|     null|     null|     null|     null|     null|\n",
      "|1543903|     null|     null|     null|     null|     null|     null|     null|     null|     null|     null|     null|     null|     null|     null|     null|     null|     null|     null|     null|\n",
      "|1543905|     null|     null|     null|     null|     null|     null|     null|     null|     null|     null|     null|     null|     null|     null|     null|     null|     null|     null|     null|\n",
      "|1543906|     null|     null|     null|     null|     null|     null|     null|     null|     null|     null|     null|     null|     null|     null|     null|     null|     null|     null|     null|\n",
      "|1543907|     null|     null|     null|     null|     null|     null|     null|     null|     null|     null|     null|     null|     null|     null|     null|     null|     null|     null|     null|\n",
      "|1543910|     null|     null|     null|     null|     null|     null|     null|     null|     null|     null|     null|     null|     null|     null|     null|     null|     null|     null|     null|\n",
      "|1543913|     null|     null|     null|     null|     null|     null|     null|     null|     null|     null|     null|     null|     null|     null|     null|     null|     null|     null|     null|\n",
      "|1543915|     null|     null|     null|     null|     null|     null|     null|     null|     null|     null|     null|     null|     null|     null|     null|     null|     null|     null|     null|\n",
      "|1543916|     null|     null|     null|     null|     null|     null|     null|     null|     null|     null|     null|     null|     null|     null|     null|     null|     null|     null|     null|\n",
      "|1543922|     null|     null|     null|     null|     null|     null|     null|     null|     null|     null|     null|     null|     null|     null|     null|     null|     null|     null|     null|\n",
      "|1543923|     null|     null|     null|     null|     null|     null|     null|     null|     null|     null|     null|     null|     null|     null|     null|     null|     null|     null|     null|\n",
      "|1543924|     null|     null|     null|     null|     null|     null|     null|     null|     null|     null|     null|     null|     null|     null|     null|     null|     null|     null|     null|\n",
      "|1543926|     null|     null|     null|     null|     null|     null|     null|     null|     null|     null|     null|     null|     null|     null|     null|     null|     null|     null|     null|\n",
      "|1543927|     null|     null|     null|     null|     null|     null|     null|     null|     null|     null|     null|     null|     null|     null|     null|     null|     null|     null|     null|\n",
      "|1543928|     null|     null|     null|     null|     null|     null|     null|     null|     null|     null|     null|     null|     null|     null|     null|     null|     null|     null|     null|\n",
      "|1543933|     null|     null|     null|     null|     null|     null|     null|     null|     null|     null|     null|     null|     null|     null|     null|     null|     null|     null|     null|\n",
      "|1543934|     null|     null|     null|     null|     null|     null|     null|     null|     null|     null|     null|     null|     null|     null|     null|     null|     null|     null|     null|\n",
      "|1543936|     null|     null|     null|     null|     null|     null|     null|     null|     null|     null|     null|     null|     null|     null|     null|     null|     null|     null|     null|\n",
      "|1543937|     null|     null|     null|     null|     null|     null|     null|     null|     null|     null|     null|     null|     null|     null|     null|     null|     null|     null|     null|\n",
      "|1543938|     null|     null|     null|     null|     null|     null|     null|     null|     null|     null|     null|     null|     null|     null|     null|     null|     null|     null|     null|\n",
      "|1543939|     null|     null|     null|     null|     null|     null|     null|     null|     null|     null|     null|     null|     null|     null|     null|     null|     null|     null|     null|\n",
      "|1543941|     null|     null|     null|     null|     null|     null|     null|     null|     null|     null|     null|     null|     null|     null|     null|     null|     null|     null|     null|\n",
      "|1543942|     null|     null|     null|     null|     null|     null|     null|     null|     null|     null|     null|     null|     null|     null|     null|     null|     null|     null|     null|\n",
      "|1543945|     null|     null|     null|     null|     null|     null|     null|     null|     null|     null|     null|     null|     null|     null|     null|     null|     null|     null|     null|\n",
      "|1543948|     null|     null|     null|     null|     null|     null|     null|     null|     null|     null|     null|     null|     null|     null|     null|     null|     null|     null|     null|\n",
      "|1543949|     null|     null|     null|     null|     null|     null|     null|     null|     null|     null|     null|     null|     null|     null|     null|     null|     null|     null|     null|\n",
      "|1543951|     null|     null|     null|     null|     null|     null|     null|     null|     null|     null|     null|     null|     null|     null|     null|     null|     null|     null|     null|\n",
      "|1543952|     null|     null|     null|     null|     null|     null|     null|     null|     null|     null|     null|     null|     null|     null|     null|     null|     null|     null|     null|\n",
      "|1543954|     null|     null|     null|     null|     null|     null|     null|     null|     null|     null|     null|     null|     null|     null|     null|     null|     null|     null|     null|\n",
      "|1543955|     null|     null|     null|     null|     null|     null|     null|     null|     null|     null|     null|     null|     null|     null|     null|     null|     null|     null|     null|\n",
      "|1543956|     null|     null|     null|     null|     null|     null|     null|     null|     null|     null|     null|     null|     null|     null|     null|     null|     null|     null|     null|\n",
      "|1543959|     null|     null|     null|     null|     null|     null|     null|     null|     null|     null|     null|     null|     null|     null|     null|     null|     null|     null|     null|\n",
      "|1543966|     null|     null|     null|     null|     null|     null|     null|     null|     null|     null|     null|     null|     null|     null|     null|     null|     null|     null|     null|\n",
      "|1543968|     null|     null|     null|     null|     null|     null|     null|     null|     null|     null|     null|     null|     null|     null|     null|     null|     null|     null|     null|\n",
      "|1543970|     null|     null|     null|     null|     null|     null|     null|     null|     null|     null|     null|     null|     null|     null|     null|     null|     null|     null|     null|\n",
      "|1543971|     null|     null|     null|     null|     null|     null|     null|     null|     null|     null|     null|     null|     null|     null|     null|     null|     null|     null|     null|\n",
      "|1543972|     null|     null|     null|     null|     null|     null|     null|     null|     null|     null|     null|     null|     null|     null|     null|     null|     null|     null|     null|\n",
      "|1543974|     null|     null|     null|     null|     null|     null|     null|     null|     null|     null|     null|     null|     null|     null|     null|     null|     null|     null|     null|\n",
      "|1543976|     null|     null|     null|     null|     null|     null|     null|     null|     null|     null|     null|     null|     null|     null|     null|     null|     null|     null|     null|\n",
      "|1543977|     null|     null|     null|     null|     null|     null|     null|     null|     null|     null|     null|     null|     null|     null|     null|     null|     null|     null|     null|\n",
      "|1543978|     null|     null|     null|     null|     null|     null|     null|     null|     null|     null|     null|     null|     null|     null|     null|     null|     null|     null|     null|\n",
      "|1543980|     null|     null|     null|     null|     null|     null|     null|     null|     null|     null|     null|     null|     null|     null|     null|     null|     null|     null|     null|\n",
      "|1543981|     null|     null|     null|     null|     null|     null|     null|     null|     null|     null|     null|     null|     null|     null|     null|     null|     null|     null|     null|\n",
      "|1543982|     null|     null|     null|     null|     null|     null|     null|     null|     null|     null|     null|     null|     null|     null|     null|     null|     null|     null|     null|\n",
      "|1543983|     null|     null|     null|     null|     null|     null|     null|     null|     null|     null|     null|     null|     null|     null|     null|     null|     null|     null|     null|\n",
      "|1543984|     null|     null|     null|     null|     null|     null|     null|     null|     null|     null|     null|     null|     null|     null|     null|     null|     null|     null|     null|\n",
      "|1543986|     null|     null|     null|     null|     null|     null|     null|     null|     null|     null|     null|     null|     null|     null|     null|     null|     null|     null|     null|\n",
      "|1543988|     null|     null|     null|     null|     null|     null|     null|     null|     null|     null|     null|     null|     null|     null|     null|     null|     null|     null|     null|\n",
      "|1543991|     null|     null|     null|     null|     null|     null|     null|     null|     null|     null|     null|     null|     null|     null|     null|     null|     null|     null|     null|\n",
      "|1543992|     null|     null|     null|     null|     null|     null|     null|     null|     null|     null|     null|     null|     null|     null|     null|     null|     null|     null|     null|\n",
      "|1543994|     null|     null|     null|     null|     null|     null|     null|     null|     null|     null|     null|     null|     null|     null|     null|     null|     null|     null|     null|\n",
      "|1543997|     null|     null|     null|     null|     null|     null|     null|     null|     null|     null|     null|     null|     null|     null|     null|     null|     null|     null|     null|\n",
      "|1544000|     null|     null|     null|     null|     null|     null|     null|     null|     null|     null|     null|     null|     null|     null|     null|     null|     null|     null|     null|\n",
      "|1544007|     null|     null|     null|     null|     null|     null|     null|     null|     null|     null|     null|     null|     null|     null|     null|     null|     null|     null|     null|\n",
      "|1544008|     null|     null|     null|     null|     null|     null|     null|     null|     null|     null|     null|     null|     null|     null|     null|     null|     null|     null|     null|\n",
      "|1544009|     null|     null|     null|     null|     null|     null|     null|     null|     null|     null|     null|     null|     null|     null|     null|     null|     null|     null|     null|\n",
      "|1544010|     null|     null|     null|     null|     null|     null|     null|     null|     null|     null|     null|     null|     null|     null|     null|     null|     null|     null|     null|\n",
      "|1544011|     null|     null|     null|     null|     null|     null|     null|     null|     null|     null|     null|     null|     null|     null|     null|     null|     null|     null|     null|\n",
      "|1544012|     null|     null|     null|     null|     null|     null|     null|     null|     null|     null|     null|     null|     null|     null|     null|     null|     null|     null|     null|\n",
      "|1544018|     null|     null|     null|     null|     null|     null|     null|     null|     null|     null|     null|     null|     null|     null|     null|     null|     null|     null|     null|\n",
      "|1544019|     null|     null|     null|     null|     null|     null|     null|     null|     null|     null|     null|     null|     null|     null|     null|     null|     null|     null|     null|\n",
      "|1544020|     null|     null|     null|     null|     null|     null|     null|     null|     null|     null|     null|     null|     null|     null|     null|     null|     null|     null|     null|\n",
      "|1544024|     null|     null|     null|     null|     null|     null|     null|     null|     null|     null|     null|     null|     null|     null|     null|     null|     null|     null|     null|\n",
      "|1544025|     null|     null|     null|     null|     null|     null|     null|     null|     null|     null|     null|     null|     null|     null|     null|     null|     null|     null|     null|\n",
      "|1544026|     null|     null|     null|     null|     null|     null|     null|     null|     null|     null|     null|     null|     null|     null|     null|     null|     null|     null|     null|\n",
      "|1544027|     null|     null|     null|     null|     null|     null|     null|     null|     null|     null|     null|     null|     null|     null|     null|     null|     null|     null|     null|\n",
      "|1544030|     null|     null|     null|     null|     null|     null|     null|     null|     null|     null|     null|     null|     null|     null|     null|     null|     null|     null|     null|\n",
      "|1544032|     null|     null|     null|     null|     null|     null|     null|     null|     null|     null|     null|     null|     null|     null|     null|     null|     null|     null|     null|\n",
      "|1544033|     null|     null|     null|     null|     null|     null|     null|     null|     null|     null|     null|     null|     null|     null|     null|     null|     null|     null|     null|\n",
      "|1544037|     null|     null|     null|     null|     null|     null|     null|     null|     null|     null|     null|     null|     null|     null|     null|     null|     null|     null|     null|\n",
      "|1544038|     null|     null|     null|     null|     null|     null|     null|     null|     null|     null|     null|     null|     null|     null|     null|     null|     null|     null|     null|\n",
      "|1544039|     null|     null|     null|     null|     null|     null|     null|     null|     null|     null|     null|     null|     null|     null|     null|     null|     null|     null|     null|\n",
      "|1544041|     null|     null|     null|     null|     null|     null|     null|     null|     null|     null|     null|     null|     null|     null|     null|     null|     null|     null|     null|\n",
      "|1544042|     null|     null|     null|     null|     null|     null|     null|     null|     null|     null|     null|     null|     null|     null|     null|     null|     null|     null|     null|\n",
      "|1544044|     null|     null|     null|     null|     null|     null|     null|     null|     null|     null|     null|     null|     null|     null|     null|     null|     null|     null|     null|\n",
      "|1544046|     null|     null|     null|     null|     null|     null|     null|     null|     null|     null|     null|     null|     null|     null|     null|     null|     null|     null|     null|\n",
      "|1544051|     null|     null|     null|     null|     null|     null|     null|     null|     null|     null|     null|     null|     null|     null|     null|     null|     null|     null|     null|\n",
      "|1544052|     null|     null|     null|     null|     null|     null|     null|     null|     null|     null|     null|     null|     null|     null|     null|     null|     null|     null|     null|\n",
      "|1544053|     null|     null|     null|     null|     null|     null|     null|     null|     null|     null|     null|     null|     null|     null|     null|     null|     null|     null|     null|\n",
      "|1544054|     null|     null|     null|     null|     null|     null|     null|     null|     null|     null|     null|     null|     null|     null|     null|     null|     null|     null|     null|\n",
      "|1544055|     null|     null|     null|     null|     null|     null|     null|     null|     null|     null|     null|     null|     null|     null|     null|     null|     null|     null|     null|\n",
      "|1544056|     null|     null|     null|     null|     null|     null|     null|     null|     null|     null|     null|     null|     null|     null|     null|     null|     null|     null|     null|\n",
      "|1544057|     null|     null|     null|     null|     null|     null|     null|     null|     null|     null|     null|     null|     null|     null|     null|     null|     null|     null|     null|\n",
      "|1544063|     null|     null|     null|     null|     null|     null|     null|     null|     null|     null|     null|     null|     null|     null|     null|     null|     null|     null|     null|\n",
      "|1544065|     null|     null|     null|     null|     null|     null|     null|     null|     null|     null|     null|     null|     null|     null|     null|     null|     null|     null|     null|\n",
      "|1544067|     null|     null|     null|     null|     null|     null|     null|     null|     null|     null|     null|     null|     null|     null|     null|     null|     null|     null|     null|\n",
      "|1544069|     null|     null|     null|     null|     null|     null|     null|     null|     null|     null|     null|     null|     null|     null|     null|     null|     null|     null|     null|\n",
      "|1544071|     null|     null|     null|     null|     null|     null|     null|     null|     null|     null|     null|     null|     null|     null|     null|     null|     null|     null|     null|\n",
      "|1544073|     null|     null|     null|     null|     null|     null|     null|     null|     null|     null|     null|     null|     null|     null|     null|     null|     null|     null|     null|\n",
      "|1544074|     null|     null|     null|     null|     null|     null|     null|     null|     null|     null|     null|     null|     null|     null|     null|     null|     null|     null|     null|\n",
      "|1544075|     null|     null|     null|     null|     null|     null|     null|     null|     null|     null|     null|     null|     null|     null|     null|     null|     null|     null|     null|\n",
      "|1544077|     null|     null|     null|     null|     null|     null|     null|     null|     null|     null|     null|     null|     null|     null|     null|     null|     null|     null|     null|\n",
      "|1544078|     null|     null|     null|     null|     null|     null|     null|     null|     null|     null|     null|     null|     null|     null|     null|     null|     null|     null|     null|\n",
      "|1544079|     null|     null|     null|     null|     null|     null|     null|     null|     null|     null|     null|     null|     null|     null|     null|     null|     null|     null|     null|\n",
      "|1544080|     null|     null|     null|     null|     null|     null|     null|     null|     null|     null|     null|     null|     null|     null|     null|     null|     null|     null|     null|\n",
      "|1544082|     null|     null|     null|     null|     null|     null|     null|     null|     null|     null|     null|     null|     null|     null|     null|     null|     null|     null|     null|\n",
      "|1544083|     null|     null|     null|     null|     null|     null|     null|     null|     null|     null|     null|     null|     null|     null|     null|     null|     null|     null|     null|\n",
      "|1544085|     null|     null|     null|     null|     null|     null|     null|     null|     null|     null|     null|     null|     null|     null|     null|     null|     null|     null|     null|\n",
      "|1544087|     null|     null|     null|     null|     null|     null|     null|     null|     null|     null|     null|     null|     null|     null|     null|     null|     null|     null|     null|\n",
      "|1544088|     null|     null|     null|     null|     null|     null|     null|     null|     null|     null|     null|     null|     null|     null|     null|     null|     null|     null|     null|\n",
      "|1544089|     null|     null|     null|     null|     null|     null|     null|     null|     null|     null|     null|     null|     null|     null|     null|     null|     null|     null|     null|\n",
      "|1544092|     null|     null|     null|     null|     null|     null|     null|     null|     null|     null|     null|     null|     null|     null|     null|     null|     null|     null|     null|\n",
      "|1544093|     null|     null|     null|     null|     null|     null|     null|     null|     null|     null|     null|     null|     null|     null|     null|     null|     null|     null|     null|\n",
      "|1544094|     null|     null|     null|     null|     null|     null|     null|     null|     null|     null|     null|     null|     null|     null|     null|     null|     null|     null|     null|\n",
      "|1544095|     null|     null|     null|     null|     null|     null|     null|     null|     null|     null|     null|     null|     null|     null|     null|     null|     null|     null|     null|\n",
      "|1544096|     null|     null|     null|     null|     null|     null|     null|     null|     null|     null|     null|     null|     null|     null|     null|     null|     null|     null|     null|\n",
      "|1544097|     null|     null|     null|     null|     null|     null|     null|     null|     null|     null|     null|     null|     null|     null|     null|     null|     null|     null|     null|\n",
      "|1544098|     null|     null|     null|     null|     null|     null|     null|     null|     null|     null|     null|     null|     null|     null|     null|     null|     null|     null|     null|\n",
      "|1544103|     null|     null|     null|     null|     null|     null|     null|     null|     null|     null|     null|     null|     null|     null|     null|     null|     null|     null|     null|\n",
      "|1544104|     null|     null|     null|     null|     null|     null|     null|     null|     null|     null|     null|     null|     null|     null|     null|     null|     null|     null|     null|\n",
      "|1544108|     null|     null|     null|     null|     null|     null|     null|     null|     null|     null|     null|     null|     null|     null|     null|     null|     null|     null|     null|\n",
      "|1544109|     null|     null|     null|     null|     null|     null|     null|     null|     null|     null|     null|     null|     null|     null|     null|     null|     null|     null|     null|\n",
      "|1544112|     null|     null|     null|     null|     null|     null|     null|     null|     null|     null|     null|     null|     null|     null|     null|     null|     null|     null|     null|\n",
      "|1544114|     null|     null|     null|     null|     null|     null|     null|     null|     null|     null|     null|     null|     null|     null|     null|     null|     null|     null|     null|\n",
      "|1544117|     null|     null|     null|     null|     null|     null|     null|     null|     null|     null|     null|     null|     null|     null|     null|     null|     null|     null|     null|\n",
      "|1544120|     null|     null|     null|     null|     null|     null|     null|     null|     null|     null|     null|     null|     null|     null|     null|     null|     null|     null|     null|\n",
      "|1544122|     null|     null|     null|     null|     null|     null|     null|     null|     null|     null|     null|     null|     null|     null|     null|     null|     null|     null|     null|\n",
      "|1544124|     null|     null|     null|     null|     null|     null|     null|     null|     null|     null|     null|     null|     null|     null|     null|     null|     null|     null|     null|\n",
      "|1544125|     null|     null|     null|     null|     null|     null|     null|     null|     null|     null|     null|     null|     null|     null|     null|     null|     null|     null|     null|\n",
      "|1544126|     null|     null|     null|     null|     null|     null|     null|     null|     null|     null|     null|     null|     null|     null|     null|     null|     null|     null|     null|\n",
      "|1544127|     null|     null|     null|     null|     null|     null|     null|     null|     null|     null|     null|     null|     null|     null|     null|     null|     null|     null|     null|\n",
      "|1544134|     null|     null|     null|     null|     null|     null|     null|     null|     null|     null|     null|     null|     null|     null|     null|     null|     null|     null|     null|\n",
      "|1544146|     null|     null|     null|     null|     null|     null|     null|     null|     null|     null|     null|     null|     null|     null|     null|     null|     null|     null|     null|\n",
      "|1544147|     null|     null|     null|     null|     null|     null|     null|     null|     null|     null|     null|     null|     null|     null|     null|     null|     null|     null|     null|\n",
      "|1544148|     null|     null|     null|     null|     null|     null|     null|     null|     null|     null|     null|     null|     null|     null|     null|     null|     null|     null|     null|\n",
      "|1544153|     null|     null|     null|     null|     null|     null|     null|     null|     null|     null|     null|     null|     null|     null|     null|     null|     null|     null|     null|\n",
      "|1544155|     null|     null|     null|     null|     null|     null|     null|     null|     null|     null|     null|     null|     null|     null|     null|     null|     null|     null|     null|\n",
      "|1544161|     null|     null|     null|     null|     null|     null|     null|     null|     null|     null|     null|     null|     null|     null|     null|     null|     null|     null|     null|\n",
      "|1544164|     null|     null|     null|     null|     null|     null|     null|     null|     null|     null|     null|     null|     null|     null|     null|     null|     null|     null|     null|\n",
      "|1544166|     null|     null|     null|     null|     null|     null|     null|     null|     null|     null|     null|     null|     null|     null|     null|     null|     null|     null|     null|\n",
      "|1544167|     null|     null|     null|     null|     null|     null|     null|     null|     null|     null|     null|     null|     null|     null|     null|     null|     null|     null|     null|\n",
      "|1544168|     null|     null|     null|     null|     null|     null|     null|     null|     null|     null|     null|     null|     null|     null|     null|     null|     null|     null|     null|\n",
      "|1544171|     null|     null|     null|     null|     null|     null|     null|     null|     null|     null|     null|     null|     null|     null|     null|     null|     null|     null|     null|\n",
      "|1544172|     null|     null|     null|     null|     null|     null|     null|     null|     null|     null|     null|     null|     null|     null|     null|     null|     null|     null|     null|\n",
      "|1544173|     null|     null|     null|     null|     null|     null|     null|     null|     null|     null|     null|     null|     null|     null|     null|     null|     null|     null|     null|\n",
      "|1544174|     null|     null|     null|     null|     null|     null|     null|     null|     null|     null|     null|     null|     null|     null|     null|     null|     null|     null|     null|\n",
      "|1544176|     null|     null|     null|     null|     null|     null|     null|     null|     null|     null|     null|     null|     null|     null|     null|     null|     null|     null|     null|\n",
      "|1544177|     null|     null|     null|     null|     null|     null|     null|     null|     null|     null|     null|     null|     null|     null|     null|     null|     null|     null|     null|\n",
      "|1544178|     null|     null|     null|     null|     null|     null|     null|     null|     null|     null|     null|     null|     null|     null|     null|     null|     null|     null|     null|\n",
      "|1544180|     null|     null|     null|     null|     null|     null|     null|     null|     null|     null|     null|     null|     null|     null|     null|     null|     null|     null|     null|\n",
      "|1544186|     null|     null|     null|     null|     null|     null|     null|     null|     null|     null|     null|     null|     null|     null|     null|     null|     null|     null|     null|\n",
      "|1544187|     null|     null|     null|     null|     null|     null|     null|     null|     null|     null|     null|     null|     null|     null|     null|     null|     null|     null|     null|\n",
      "|1544190|     null|     null|     null|     null|     null|     null|     null|     null|     null|     null|     null|     null|     null|     null|     null|     null|     null|     null|     null|\n",
      "|1544192|     null|     null|     null|     null|     null|     null|     null|     null|     null|     null|     null|     null|     null|     null|     null|     null|     null|     null|     null|\n",
      "|1544193|     null|     null|     null|     null|     null|     null|     null|     null|     null|     null|     null|     null|     null|     null|     null|     null|     null|     null|     null|\n",
      "|1544200|     null|     null|     null|     null|     null|     null|     null|     null|     null|     null|     null|     null|     null|     null|     null|     null|     null|     null|     null|\n",
      "|1544201|     null|     null|     null|     null|     null|     null|     null|     null|     null|     null|     null|     null|     null|     null|     null|     null|     null|     null|     null|\n",
      "|1544202|     null|     null|     null|     null|     null|     null|     null|     null|     null|     null|     null|     null|     null|     null|     null|     null|     null|     null|     null|\n",
      "|1544204|     null|     null|     null|     null|     null|     null|     null|     null|     null|     null|     null|     null|     null|     null|     null|     null|     null|     null|     null|\n",
      "|1544207|     null|     null|     null|     null|     null|     null|     null|     null|     null|     null|     null|     null|     null|     null|     null|     null|     null|     null|     null|\n",
      "|1544211|     null|     null|     null|     null|     null|     null|     null|     null|     null|     null|     null|     null|     null|     null|     null|     null|     null|     null|     null|\n",
      "|1544216|     null|     null|     null|     null|     null|     null|     null|     null|     null|     null|     null|     null|     null|     null|     null|     null|     null|     null|     null|\n",
      "|1544217|     null|     null|     null|     null|     null|     null|     null|     null|     null|     null|     null|     null|     null|     null|     null|     null|     null|     null|     null|\n",
      "|1544219|     null|     null|     null|     null|     null|     null|     null|     null|     null|     null|     null|     null|     null|     null|     null|     null|     null|     null|     null|\n",
      "|1544220|     null|     null|     null|     null|     null|     null|     null|     null|     null|     null|     null|     null|     null|     null|     null|     null|     null|     null|     null|\n",
      "|1544222|     null|     null|     null|     null|     null|     null|     null|     null|     null|     null|     null|     null|     null|     null|     null|     null|     null|     null|     null|\n",
      "|1544223|     null|     null|     null|     null|     null|     null|     null|     null|     null|     null|     null|     null|     null|     null|     null|     null|     null|     null|     null|\n",
      "|1544224|     null|     null|     null|     null|     null|     null|     null|     null|     null|     null|     null|     null|     null|     null|     null|     null|     null|     null|     null|\n",
      "|1544225|     null|     null|     null|     null|     null|     null|     null|     null|     null|     null|     null|     null|     null|     null|     null|     null|     null|     null|     null|\n",
      "|1544227|     null|     null|     null|     null|     null|     null|     null|     null|     null|     null|     null|     null|     null|     null|     null|     null|     null|     null|     null|\n",
      "|1544229|     null|     null|     null|     null|     null|     null|     null|     null|     null|     null|     null|     null|     null|     null|     null|     null|     null|     null|     null|\n",
      "|1544230|     null|     null|     null|     null|     null|     null|     null|     null|     null|     null|     null|     null|     null|     null|     null|     null|     null|     null|     null|\n",
      "|1544233|     null|     null|     null|     null|     null|     null|     null|     null|     null|     null|     null|     null|     null|     null|     null|     null|     null|     null|     null|\n",
      "|1544234|     null|     null|     null|     null|     null|     null|     null|     null|     null|     null|     null|     null|     null|     null|     null|     null|     null|     null|     null|\n",
      "|1544235|     null|     null|     null|     null|     null|     null|     null|     null|     null|     null|     null|     null|     null|     null|     null|     null|     null|     null|     null|\n",
      "|1544236|     null|     null|     null|     null|     null|     null|     null|     null|     null|     null|     null|     null|     null|     null|     null|     null|     null|     null|     null|\n",
      "|1544237|     null|     null|     null|     null|     null|     null|     null|     null|     null|     null|     null|     null|     null|     null|     null|     null|     null|     null|     null|\n",
      "|1544239|     null|     null|     null|     null|     null|     null|     null|     null|     null|     null|     null|     null|     null|     null|     null|     null|     null|     null|     null|\n",
      "|1544240|     null|     null|     null|     null|     null|     null|     null|     null|     null|     null|     null|     null|     null|     null|     null|     null|     null|     null|     null|\n",
      "|1544241|     null|     null|     null|     null|     null|     null|     null|     null|     null|     null|     null|     null|     null|     null|     null|     null|     null|     null|     null|\n",
      "|1544243|     null|     null|     null|     null|     null|     null|     null|     null|     null|     null|     null|     null|     null|     null|     null|     null|     null|     null|     null|\n",
      "|1544244|     null|     null|     null|     null|     null|     null|     null|     null|     null|     null|     null|     null|     null|     null|     null|     null|     null|     null|     null|\n",
      "|1544246|     null|     null|     null|     null|     null|     null|     null|     null|     null|     null|     null|     null|     null|     null|     null|     null|     null|     null|     null|\n",
      "|1544247|     null|     null|     null|     null|     null|     null|     null|     null|     null|     null|     null|     null|     null|     null|     null|     null|     null|     null|     null|\n",
      "|1544249|     null|     null|     null|     null|     null|     null|     null|     null|     null|     null|     null|     null|     null|     null|     null|     null|     null|     null|     null|\n",
      "|1544250|     null|     null|     null|     null|     null|     null|     null|     null|     null|     null|     null|     null|     null|     null|     null|     null|     null|     null|     null|\n",
      "|1544251|     null|     null|     null|     null|     null|     null|     null|     null|     null|     null|     null|     null|     null|     null|     null|     null|     null|     null|     null|\n",
      "|1544253|     null|     null|     null|     null|     null|     null|     null|     null|     null|     null|     null|     null|     null|     null|     null|     null|     null|     null|     null|\n",
      "|1544255|     null|     null|     null|     null|     null|     null|     null|     null|     null|     null|     null|     null|     null|     null|     null|     null|     null|     null|     null|\n",
      "|1544258|     null|     null|     null|     null|     null|     null|     null|     null|     null|     null|     null|     null|     null|     null|     null|     null|     null|     null|     null|\n",
      "|1544259|     null|     null|     null|     null|     null|     null|     null|     null|     null|     null|     null|     null|     null|     null|     null|     null|     null|     null|     null|\n",
      "|1544260|     null|     null|     null|     null|     null|     null|     null|     null|     null|     null|     null|     null|     null|     null|     null|     null|     null|     null|     null|\n",
      "|1544261|     null|     null|     null|     null|     null|     null|     null|     null|     null|     null|     null|     null|     null|     null|     null|     null|     null|     null|     null|\n",
      "|1544264|     null|     null|     null|     null|     null|     null|     null|     null|     null|     null|     null|     null|     null|     null|     null|     null|     null|     null|     null|\n",
      "|1544265|     null|     null|     null|     null|     null|     null|     null|     null|     null|     null|     null|     null|     null|     null|     null|     null|     null|     null|     null|\n",
      "|1544268|     null|     null|     null|     null|     null|     null|     null|     null|     null|     null|     null|     null|     null|     null|     null|     null|     null|     null|     null|\n",
      "|1544269|     null|     null|     null|     null|     null|     null|     null|     null|     null|     null|     null|     null|     null|     null|     null|     null|     null|     null|     null|\n",
      "|1544270|     null|     null|     null|     null|     null|     null|     null|     null|     null|     null|     null|     null|     null|     null|     null|     null|     null|     null|     null|\n",
      "|1544271|     null|     null|     null|     null|     null|     null|     null|     null|     null|     null|     null|     null|     null|     null|     null|     null|     null|     null|     null|\n",
      "|1544272|     null|     null|     null|     null|     null|     null|     null|     null|     null|     null|     null|     null|     null|     null|     null|     null|     null|     null|     null|\n",
      "|1544273|     null|     null|     null|     null|     null|     null|     null|     null|     null|     null|     null|     null|     null|     null|     null|     null|     null|     null|     null|\n",
      "|1544274|     null|     null|     null|     null|     null|     null|     null|     null|     null|     null|     null|     null|     null|     null|     null|     null|     null|     null|     null|\n",
      "|1544275|     null|     null|     null|     null|     null|     null|     null|     null|     null|     null|     null|     null|     null|     null|     null|     null|     null|     null|     null|\n",
      "|1544277|     null|     null|     null|     null|     null|     null|     null|     null|     null|     null|     null|     null|     null|     null|     null|     null|     null|     null|     null|\n",
      "|1544278|     null|     null|     null|     null|     null|     null|     null|     null|     null|     null|     null|     null|     null|     null|     null|     null|     null|     null|     null|\n",
      "|1544279|     null|     null|     null|     null|     null|     null|     null|     null|     null|     null|     null|     null|     null|     null|     null|     null|     null|     null|     null|\n",
      "|1544284|     null|     null|     null|     null|     null|     null|     null|     null|     null|     null|     null|     null|     null|     null|     null|     null|     null|     null|     null|\n",
      "|1544286|     null|     null|     null|     null|     null|     null|     null|     null|     null|     null|     null|     null|     null|     null|     null|     null|     null|     null|     null|\n",
      "|1544287|     null|     null|     null|     null|     null|     null|     null|     null|     null|     null|     null|     null|     null|     null|     null|     null|     null|     null|     null|\n",
      "|1544288|     null|     null|     null|     null|     null|     null|     null|     null|     null|     null|     null|     null|     null|     null|     null|     null|     null|     null|     null|\n",
      "|1544292|     null|     null|     null|     null|     null|     null|     null|     null|     null|     null|     null|     null|     null|     null|     null|     null|     null|     null|     null|\n",
      "|1544294|     null|     null|     null|     null|     null|     null|     null|     null|     null|     null|     null|     null|     null|     null|     null|     null|     null|     null|     null|\n",
      "|1544295|     null|     null|     null|     null|     null|     null|     null|     null|     null|     null|     null|     null|     null|     null|     null|     null|     null|     null|     null|\n",
      "|1544297|     null|     null|     null|     null|     null|     null|     null|     null|     null|     null|     null|     null|     null|     null|     null|     null|     null|     null|     null|\n",
      "|1544300|     null|     null|     null|     null|     null|     null|     null|     null|     null|     null|     null|     null|     null|     null|     null|     null|     null|     null|     null|\n",
      "|1544303|     null|     null|     null|     null|     null|     null|     null|     null|     null|     null|     null|     null|     null|     null|     null|     null|     null|     null|     null|\n",
      "|1544304|     null|     null|     null|     null|     null|     null|     null|     null|     null|     null|     null|     null|     null|     null|     null|     null|     null|     null|     null|\n",
      "|1544306|     null|     null|     null|     null|     null|     null|     null|     null|     null|     null|     null|     null|     null|     null|     null|     null|     null|     null|     null|\n",
      "|1544307|     null|     null|     null|     null|     null|     null|     null|     null|     null|     null|     null|     null|     null|     null|     null|     null|     null|     null|     null|\n",
      "|1544308|     null|     null|     null|     null|     null|     null|     null|     null|     null|     null|     null|     null|     null|     null|     null|     null|     null|     null|     null|\n",
      "|1544313|     null|     null|     null|     null|     null|     null|     null|     null|     null|     null|     null|     null|     null|     null|     null|     null|     null|     null|     null|\n",
      "|1544314|     null|     null|     null|     null|     null|     null|     null|     null|     null|     null|     null|     null|     null|     null|     null|     null|     null|     null|     null|\n",
      "|1544315|     null|     null|     null|     null|     null|     null|     null|     null|     null|     null|     null|     null|     null|     null|     null|     null|     null|     null|     null|\n",
      "|1544317|     null|     null|     null|     null|     null|     null|     null|     null|     null|     null|     null|     null|     null|     null|     null|     null|     null|     null|     null|\n",
      "|1544319|     null|     null|     null|     null|     null|     null|     null|     null|     null|     null|     null|     null|     null|     null|     null|     null|     null|     null|     null|\n",
      "|1544321|     null|     null|     null|     null|     null|     null|     null|     null|     null|     null|     null|     null|     null|     null|     null|     null|     null|     null|     null|\n",
      "|1544322|     null|     null|     null|     null|     null|     null|     null|     null|     null|     null|     null|     null|     null|     null|     null|     null|     null|     null|     null|\n",
      "|1544327|     null|     null|     null|     null|     null|     null|     null|     null|     null|     null|     null|     null|     null|     null|     null|     null|     null|     null|     null|\n",
      "|1544331|     null|     null|     null|     null|     null|     null|     null|     null|     null|     null|     null|     null|     null|     null|     null|     null|     null|     null|     null|\n",
      "|1544333|     null|     null|     null|     null|     null|     null|     null|     null|     null|     null|     null|     null|     null|     null|     null|     null|     null|     null|     null|\n",
      "|1544335|     null|     null|     null|     null|     null|     null|     null|     null|     null|     null|     null|     null|     null|     null|     null|     null|     null|     null|     null|\n",
      "|1544340|     null|     null|     null|     null|     null|     null|     null|     null|     null|     null|     null|     null|     null|     null|     null|     null|     null|     null|     null|\n",
      "|1544342|     null|     null|     null|     null|     null|     null|     null|     null|     null|     null|     null|     null|     null|     null|     null|     null|     null|     null|     null|\n",
      "|1544343|     null|     null|     null|     null|     null|     null|     null|     null|     null|     null|     null|     null|     null|     null|     null|     null|     null|     null|     null|\n",
      "|1544345|     null|     null|     null|     null|     null|     null|     null|     null|     null|     null|     null|     null|     null|     null|     null|     null|     null|     null|     null|\n",
      "|1544346|     null|     null|     null|     null|     null|     null|     null|     null|     null|     null|     null|     null|     null|     null|     null|     null|     null|     null|     null|\n",
      "|1544350|     null|     null|     null|     null|     null|     null|     null|     null|     null|     null|     null|     null|     null|     null|     null|     null|     null|     null|     null|\n",
      "|1544352|     null|     null|     null|     null|     null|     null|     null|     null|     null|     null|     null|     null|     null|     null|     null|     null|     null|     null|     null|\n",
      "|1544353|     null|     null|     null|     null|     null|     null|     null|     null|     null|     null|     null|     null|     null|     null|     null|     null|     null|     null|     null|\n",
      "|1544355|     null|     null|     null|     null|     null|     null|     null|     null|     null|     null|     null|     null|     null|     null|     null|     null|     null|     null|     null|\n",
      "|1544357|     null|     null|     null|     null|     null|     null|     null|     null|     null|     null|     null|     null|     null|     null|     null|     null|     null|     null|     null|\n",
      "|1544358|     null|     null|     null|     null|     null|     null|     null|     null|     null|     null|     null|     null|     null|     null|     null|     null|     null|     null|     null|\n",
      "|1544361|     null|     null|     null|     null|     null|     null|     null|     null|     null|     null|     null|     null|     null|     null|     null|     null|     null|     null|     null|\n",
      "|1544362|     null|     null|     null|     null|     null|     null|     null|     null|     null|     null|     null|     null|     null|     null|     null|     null|     null|     null|     null|\n",
      "|1544364|     null|     null|     null|     null|     null|     null|     null|     null|     null|     null|     null|     null|     null|     null|     null|     null|     null|     null|     null|\n",
      "|1544365|     null|     null|     null|     null|     null|     null|     null|     null|     null|     null|     null|     null|     null|     null|     null|     null|     null|     null|     null|\n",
      "|1544366|     null|     null|     null|     null|     null|     null|     null|     null|     null|     null|     null|     null|     null|     null|     null|     null|     null|     null|     null|\n",
      "|1544368|     null|     null|     null|     null|     null|     null|     null|     null|     null|     null|     null|     null|     null|     null|     null|     null|     null|     null|     null|\n",
      "|1544369|     null|     null|     null|     null|     null|     null|     null|     null|     null|     null|     null|     null|     null|     null|     null|     null|     null|     null|     null|\n",
      "|1544372|     null|     null|     null|     null|     null|     null|     null|     null|     null|     null|     null|     null|     null|     null|     null|     null|     null|     null|     null|\n",
      "|1544373|     null|     null|     null|     null|     null|     null|     null|     null|     null|     null|     null|     null|     null|     null|     null|     null|     null|     null|     null|\n",
      "|1544374|     null|     null|     null|     null|     null|     null|     null|     null|     null|     null|     null|     null|     null|     null|     null|     null|     null|     null|     null|\n",
      "|1544376|     null|     null|     null|     null|     null|     null|     null|     null|     null|     null|     null|     null|     null|     null|     null|     null|     null|     null|     null|\n",
      "|1544378|     null|     null|     null|     null|     null|     null|     null|     null|     null|     null|     null|     null|     null|     null|     null|     null|     null|     null|     null|\n",
      "|1544379|     null|     null|     null|     null|     null|     null|     null|     null|     null|     null|     null|     null|     null|     null|     null|     null|     null|     null|     null|\n",
      "|1544380|     null|     null|     null|     null|     null|     null|     null|     null|     null|     null|     null|     null|     null|     null|     null|     null|     null|     null|     null|\n",
      "|1544381|     null|     null|     null|     null|     null|     null|     null|     null|     null|     null|     null|     null|     null|     null|     null|     null|     null|     null|     null|\n",
      "|1544384|     null|     null|     null|     null|     null|     null|     null|     null|     null|     null|     null|     null|     null|     null|     null|     null|     null|     null|     null|\n",
      "|1544385|     null|     null|     null|     null|     null|     null|     null|     null|     null|     null|     null|     null|     null|     null|     null|     null|     null|     null|     null|\n",
      "|1544386|     null|     null|     null|     null|     null|     null|     null|     null|     null|     null|     null|     null|     null|     null|     null|     null|     null|     null|     null|\n",
      "|1544387|     null|     null|     null|     null|     null|     null|     null|     null|     null|     null|     null|     null|     null|     null|     null|     null|     null|     null|     null|\n",
      "|1544389|     null|     null|     null|     null|     null|     null|     null|     null|     null|     null|     null|     null|     null|     null|     null|     null|     null|     null|     null|\n",
      "|1544390|     null|     null|     null|     null|     null|     null|     null|     null|     null|     null|     null|     null|     null|     null|     null|     null|     null|     null|     null|\n",
      "|1544391|     null|     null|     null|     null|     null|     null|     null|     null|     null|     null|     null|     null|     null|     null|     null|     null|     null|     null|     null|\n",
      "|1544392|     null|     null|     null|     null|     null|     null|     null|     null|     null|     null|     null|     null|     null|     null|     null|     null|     null|     null|     null|\n",
      "|1544395|     null|     null|     null|     null|     null|     null|     null|     null|     null|     null|     null|     null|     null|     null|     null|     null|     null|     null|     null|\n",
      "|1544396|     null|     null|     null|     null|     null|     null|     null|     null|     null|     null|     null|     null|     null|     null|     null|     null|     null|     null|     null|\n",
      "|1544397|     null|     null|     null|     null|     null|     null|     null|     null|     null|     null|     null|     null|     null|     null|     null|     null|     null|     null|     null|\n",
      "|1544401|     null|     null|     null|     null|     null|     null|     null|     null|     null|     null|     null|     null|     null|     null|     null|     null|     null|     null|     null|\n",
      "|1544402|     null|     null|     null|     null|     null|     null|     null|     null|     null|     null|     null|     null|     null|     null|     null|     null|     null|     null|     null|\n",
      "|1544405|     null|     null|     null|     null|     null|     null|     null|     null|     null|     null|     null|     null|     null|     null|     null|     null|     null|     null|     null|\n",
      "|1544406|     null|     null|     null|     null|     null|     null|     null|     null|     null|     null|     null|     null|     null|     null|     null|     null|     null|     null|     null|\n",
      "|1544408|     null|     null|     null|     null|     null|     null|     null|     null|     null|     null|     null|     null|     null|     null|     null|     null|     null|     null|     null|\n",
      "|1544410|     null|     null|     null|     null|     null|     null|     null|     null|     null|     null|     null|     null|     null|     null|     null|     null|     null|     null|     null|\n",
      "|1544415|     null|     null|     null|     null|     null|     null|     null|     null|     null|     null|     null|     null|     null|     null|     null|     null|     null|     null|     null|\n",
      "|1544416|     null|     null|     null|     null|     null|     null|     null|     null|     null|     null|     null|     null|     null|     null|     null|     null|     null|     null|     null|\n",
      "|1544420|     null|     null|     null|     null|     null|     null|     null|     null|     null|     null|     null|     null|     null|     null|     null|     null|     null|     null|     null|\n",
      "|1544421|     null|     null|     null|     null|     null|     null|     null|     null|     null|     null|     null|     null|     null|     null|     null|     null|     null|     null|     null|\n",
      "|1544423|     null|     null|     null|     null|     null|     null|     null|     null|     null|     null|     null|     null|     null|     null|     null|     null|     null|     null|     null|\n",
      "|1544425|     null|     null|     null|     null|     null|     null|     null|     null|     null|     null|     null|     null|     null|     null|     null|     null|     null|     null|     null|\n",
      "|1544428|     null|     null|     null|     null|     null|     null|     null|     null|     null|     null|     null|     null|     null|     null|     null|     null|     null|     null|     null|\n",
      "|1544431|     null|     null|     null|     null|     null|     null|     null|     null|     null|     null|     null|     null|     null|     null|     null|     null|     null|     null|     null|\n",
      "|1544435|     null|     null|     null|     null|     null|     null|     null|     null|     null|     null|     null|     null|     null|     null|     null|     null|     null|     null|     null|\n",
      "|1544436|     null|     null|     null|     null|     null|     null|     null|     null|     null|     null|     null|     null|     null|     null|     null|     null|     null|     null|     null|\n",
      "|1544438|     null|     null|     null|     null|     null|     null|     null|     null|     null|     null|     null|     null|     null|     null|     null|     null|     null|     null|     null|\n",
      "|1544440|     null|     null|     null|     null|     null|     null|     null|     null|     null|     null|     null|     null|     null|     null|     null|     null|     null|     null|     null|\n",
      "|1544443|     null|     null|     null|     null|     null|     null|     null|     null|     null|     null|     null|     null|     null|     null|     null|     null|     null|     null|     null|\n",
      "|1544444|     null|     null|     null|     null|     null|     null|     null|     null|     null|     null|     null|     null|     null|     null|     null|     null|     null|     null|     null|\n",
      "|1544446|     null|     null|     null|     null|     null|     null|     null|     null|     null|     null|     null|     null|     null|     null|     null|     null|     null|     null|     null|\n",
      "|1544448|     null|     null|     null|     null|     null|     null|     null|     null|     null|     null|     null|     null|     null|     null|     null|     null|     null|     null|     null|\n",
      "|1544454|     null|     null|     null|     null|     null|     null|     null|     null|     null|     null|     null|     null|     null|     null|     null|     null|     null|     null|     null|\n",
      "|1544457|     null|     null|     null|     null|     null|     null|     null|     null|     null|     null|     null|     null|     null|     null|     null|     null|     null|     null|     null|\n",
      "|1544458|     null|     null|     null|     null|     null|     null|     null|     null|     null|     null|     null|     null|     null|     null|     null|     null|     null|     null|     null|\n",
      "|1544459|     null|     null|     null|     null|     null|     null|     null|     null|     null|     null|     null|     null|     null|     null|     null|     null|     null|     null|     null|\n",
      "|1544460|     null|     null|     null|     null|     null|     null|     null|     null|     null|     null|     null|     null|     null|     null|     null|     null|     null|     null|     null|\n",
      "|1544463|     null|     null|     null|     null|     null|     null|     null|     null|     null|     null|     null|     null|     null|     null|     null|     null|     null|     null|     null|\n",
      "|1544466|     null|     null|     null|     null|     null|     null|     null|     null|     null|     null|     null|     null|     null|     null|     null|     null|     null|     null|     null|\n",
      "|1544467|     null|     null|     null|     null|     null|     null|     null|     null|     null|     null|     null|     null|     null|     null|     null|     null|     null|     null|     null|\n",
      "|1544468|     null|     null|     null|     null|     null|     null|     null|     null|     null|     null|     null|     null|     null|     null|     null|     null|     null|     null|     null|\n",
      "|1544471|     null|     null|     null|     null|     null|     null|     null|     null|     null|     null|     null|     null|     null|     null|     null|     null|     null|     null|     null|\n",
      "|1544472|     null|     null|     null|     null|     null|     null|     null|     null|     null|     null|     null|     null|     null|     null|     null|     null|     null|     null|     null|\n",
      "|1544473|     null|     null|     null|     null|     null|     null|     null|     null|     null|     null|     null|     null|     null|     null|     null|     null|     null|     null|     null|\n",
      "|1544478|     null|     null|     null|     null|     null|     null|     null|     null|     null|     null|     null|     null|     null|     null|     null|     null|     null|     null|     null|\n",
      "|1544480|     null|     null|     null|     null|     null|     null|     null|     null|     null|     null|     null|     null|     null|     null|     null|     null|     null|     null|     null|\n",
      "|1544483|     null|     null|     null|     null|     null|     null|     null|     null|     null|     null|     null|     null|     null|     null|     null|     null|     null|     null|     null|\n",
      "|1544486|     null|     null|     null|     null|     null|     null|     null|     null|     null|     null|     null|     null|     null|     null|     null|     null|     null|     null|     null|\n",
      "|1544488|     null|     null|     null|     null|     null|     null|     null|     null|     null|     null|     null|     null|     null|     null|     null|     null|     null|     null|     null|\n",
      "|1544489|     null|     null|     null|     null|     null|     null|     null|     null|     null|     null|     null|     null|     null|     null|     null|     null|     null|     null|     null|\n",
      "|1544490|     null|     null|     null|     null|     null|     null|     null|     null|     null|     null|     null|     null|     null|     null|     null|     null|     null|     null|     null|\n",
      "|1544494|     null|     null|     null|     null|     null|     null|     null|     null|     null|     null|     null|     null|     null|     null|     null|     null|     null|     null|     null|\n",
      "|1544496|     null|     null|     null|     null|     null|     null|     null|     null|     null|     null|     null|     null|     null|     null|     null|     null|     null|     null|     null|\n",
      "|1544497|     null|     null|     null|     null|     null|     null|     null|     null|     null|     null|     null|     null|     null|     null|     null|     null|     null|     null|     null|\n",
      "|1544498|     null|     null|     null|     null|     null|     null|     null|     null|     null|     null|     null|     null|     null|     null|     null|     null|     null|     null|     null|\n",
      "|1544499|     null|     null|     null|     null|     null|     null|     null|     null|     null|     null|     null|     null|     null|     null|     null|     null|     null|     null|     null|\n",
      "|1544500|     null|     null|     null|     null|     null|     null|     null|     null|     null|     null|     null|     null|     null|     null|     null|     null|     null|     null|     null|\n",
      "|1544501|     null|     null|     null|     null|     null|     null|     null|     null|     null|     null|     null|     null|     null|     null|     null|     null|     null|     null|     null|\n",
      "|1544503|     null|     null|     null|     null|     null|     null|     null|     null|     null|     null|     null|     null|     null|     null|     null|     null|     null|     null|     null|\n",
      "|1544504|     null|     null|     null|     null|     null|     null|     null|     null|     null|     null|     null|     null|     null|     null|     null|     null|     null|     null|     null|\n",
      "|1544508|     null|     null|     null|     null|     null|     null|     null|     null|     null|     null|     null|     null|     null|     null|     null|     null|     null|     null|     null|\n",
      "|1544509|     null|     null|     null|     null|     null|     null|     null|     null|     null|     null|     null|     null|     null|     null|     null|     null|     null|     null|     null|\n",
      "|1544511|     null|     null|     null|     null|     null|     null|     null|     null|     null|     null|     null|     null|     null|     null|     null|     null|     null|     null|     null|\n",
      "|1544513|     null|     null|     null|     null|     null|     null|     null|     null|     null|     null|     null|     null|     null|     null|     null|     null|     null|     null|     null|\n",
      "|1544514|     null|     null|     null|     null|     null|     null|     null|     null|     null|     null|     null|     null|     null|     null|     null|     null|     null|     null|     null|\n",
      "|1544517|     null|     null|     null|     null|     null|     null|     null|     null|     null|     null|     null|     null|     null|     null|     null|     null|     null|     null|     null|\n",
      "|1544518|     null|     null|     null|     null|     null|     null|     null|     null|     null|     null|     null|     null|     null|     null|     null|     null|     null|     null|     null|\n",
      "|1544519|     null|     null|     null|     null|     null|     null|     null|     null|     null|     null|     null|     null|     null|     null|     null|     null|     null|     null|     null|\n",
      "|1544520|     null|     null|     null|     null|     null|     null|     null|     null|     null|     null|     null|     null|     null|     null|     null|     null|     null|     null|     null|\n",
      "|1544521|     null|     null|     null|     null|     null|     null|     null|     null|     null|     null|     null|     null|     null|     null|     null|     null|     null|     null|     null|\n",
      "|1544522|     null|     null|     null|     null|     null|     null|     null|     null|     null|     null|     null|     null|     null|     null|     null|     null|     null|     null|     null|\n",
      "|1544523|     null|     null|     null|     null|     null|     null|     null|     null|     null|     null|     null|     null|     null|     null|     null|     null|     null|     null|     null|\n",
      "|1544525|     null|     null|     null|     null|     null|     null|     null|     null|     null|     null|     null|     null|     null|     null|     null|     null|     null|     null|     null|\n",
      "|1544526|     null|     null|     null|     null|     null|     null|     null|     null|     null|     null|     null|     null|     null|     null|     null|     null|     null|     null|     null|\n",
      "|1544527|     null|     null|     null|     null|     null|     null|     null|     null|     null|     null|     null|     null|     null|     null|     null|     null|     null|     null|     null|\n",
      "|1544528|     null|     null|     null|     null|     null|     null|     null|     null|     null|     null|     null|     null|     null|     null|     null|     null|     null|     null|     null|\n",
      "|1544529|     null|     null|     null|     null|     null|     null|     null|     null|     null|     null|     null|     null|     null|     null|     null|     null|     null|     null|     null|\n",
      "|1544531|     null|     null|     null|     null|     null|     null|     null|     null|     null|     null|     null|     null|     null|     null|     null|     null|     null|     null|     null|\n",
      "|1544532|     null|     null|     null|     null|     null|     null|     null|     null|     null|     null|     null|     null|     null|     null|     null|     null|     null|     null|     null|\n",
      "|1544534|     null|     null|     null|     null|     null|     null|     null|     null|     null|     null|     null|     null|     null|     null|     null|     null|     null|     null|     null|\n",
      "|1544535|     null|     null|     null|     null|     null|     null|     null|     null|     null|     null|     null|     null|     null|     null|     null|     null|     null|     null|     null|\n",
      "|1544537|     null|     null|     null|     null|     null|     null|     null|     null|     null|     null|     null|     null|     null|     null|     null|     null|     null|     null|     null|\n",
      "|1544539|     null|     null|     null|     null|     null|     null|     null|     null|     null|     null|     null|     null|     null|     null|     null|     null|     null|     null|     null|\n",
      "|1544540|     null|     null|     null|     null|     null|     null|     null|     null|     null|     null|     null|     null|     null|     null|     null|     null|     null|     null|     null|\n",
      "|1544541|     null|     null|     null|     null|     null|     null|     null|     null|     null|     null|     null|     null|     null|     null|     null|     null|     null|     null|     null|\n",
      "|1544542|     null|     null|     null|     null|     null|     null|     null|     null|     null|     null|     null|     null|     null|     null|     null|     null|     null|     null|     null|\n",
      "|1544543|     null|     null|     null|     null|     null|     null|     null|     null|     null|     null|     null|     null|     null|     null|     null|     null|     null|     null|     null|\n",
      "|1544544|     null|     null|     null|     null|     null|     null|     null|     null|     null|     null|     null|     null|     null|     null|     null|     null|     null|     null|     null|\n",
      "|1544545|     null|     null|     null|     null|     null|     null|     null|     null|     null|     null|     null|     null|     null|     null|     null|     null|     null|     null|     null|\n",
      "|1544546|     null|     null|     null|     null|     null|     null|     null|     null|     null|     null|     null|     null|     null|     null|     null|     null|     null|     null|     null|\n",
      "|1544547|     null|     null|     null|     null|     null|     null|     null|     null|     null|     null|     null|     null|     null|     null|     null|     null|     null|     null|     null|\n",
      "|1544552|     null|     null|     null|     null|     null|     null|     null|     null|     null|     null|     null|     null|     null|     null|     null|     null|     null|     null|     null|\n",
      "|1544553|     null|     null|     null|     null|     null|     null|     null|     null|     null|     null|     null|     null|     null|     null|     null|     null|     null|     null|     null|\n",
      "|1544555|     null|     null|     null|     null|     null|     null|     null|     null|     null|     null|     null|     null|     null|     null|     null|     null|     null|     null|     null|\n",
      "|1544556|     null|     null|     null|     null|     null|     null|     null|     null|     null|     null|     null|     null|     null|     null|     null|     null|     null|     null|     null|\n",
      "|1544557|     null|     null|     null|     null|     null|     null|     null|     null|     null|     null|     null|     null|     null|     null|     null|     null|     null|     null|     null|\n",
      "|1544558|     null|     null|     null|     null|     null|     null|     null|     null|     null|     null|     null|     null|     null|     null|     null|     null|     null|     null|     null|\n",
      "|1544561|     null|     null|     null|     null|     null|     null|     null|     null|     null|     null|     null|     null|     null|     null|     null|     null|     null|     null|     null|\n",
      "|1544563|     null|     null|     null|     null|     null|     null|     null|     null|     null|     null|     null|     null|     null|     null|     null|     null|     null|     null|     null|\n",
      "|1544564|     null|     null|     null|     null|     null|     null|     null|     null|     null|     null|     null|     null|     null|     null|     null|     null|     null|     null|     null|\n",
      "|1544565|     null|     null|     null|     null|     null|     null|     null|     null|     null|     null|     null|     null|     null|     null|     null|     null|     null|     null|     null|\n",
      "|1544567|     null|     null|     null|     null|     null|     null|     null|     null|     null|     null|     null|     null|     null|     null|     null|     null|     null|     null|     null|\n",
      "|1544568|     null|     null|     null|     null|     null|     null|     null|     null|     null|     null|     null|     null|     null|     null|     null|     null|     null|     null|     null|\n",
      "|1544571|     null|     null|     null|     null|     null|     null|     null|     null|     null|     null|     null|     null|     null|     null|     null|     null|     null|     null|     null|\n",
      "|1544572|     null|     null|     null|     null|     null|     null|     null|     null|     null|     null|     null|     null|     null|     null|     null|     null|     null|     null|     null|\n",
      "|1544573|     null|     null|     null|     null|     null|     null|     null|     null|     null|     null|     null|     null|     null|     null|     null|     null|     null|     null|     null|\n",
      "|1544574|     null|     null|     null|     null|     null|     null|     null|     null|     null|     null|     null|     null|     null|     null|     null|     null|     null|     null|     null|\n",
      "|1544575|     null|     null|     null|     null|     null|     null|     null|     null|     null|     null|     null|     null|     null|     null|     null|     null|     null|     null|     null|\n",
      "|1544576|     null|     null|     null|     null|     null|     null|     null|     null|     null|     null|     null|     null|     null|     null|     null|     null|     null|     null|     null|\n",
      "|1544582|     null|     null|     null|     null|     null|     null|     null|     null|     null|     null|     null|     null|     null|     null|     null|     null|     null|     null|     null|\n",
      "|1544585|     null|     null|     null|     null|     null|     null|     null|     null|     null|     null|     null|     null|     null|     null|     null|     null|     null|     null|     null|\n",
      "|1544586|     null|     null|     null|     null|     null|     null|     null|     null|     null|     null|     null|     null|     null|     null|     null|     null|     null|     null|     null|\n",
      "|1544588|     null|     null|     null|     null|     null|     null|     null|     null|     null|     null|     null|     null|     null|     null|     null|     null|     null|     null|     null|\n",
      "|1544590|     null|     null|     null|     null|     null|     null|     null|     null|     null|     null|     null|     null|     null|     null|     null|     null|     null|     null|     null|\n",
      "|1544592|     null|     null|     null|     null|     null|     null|     null|     null|     null|     null|     null|     null|     null|     null|     null|     null|     null|     null|     null|\n",
      "|1544594|     null|     null|     null|     null|     null|     null|     null|     null|     null|     null|     null|     null|     null|     null|     null|     null|     null|     null|     null|\n",
      "|1544595|     null|     null|     null|     null|     null|     null|     null|     null|     null|     null|     null|     null|     null|     null|     null|     null|     null|     null|     null|\n",
      "|1544596|     null|     null|     null|     null|     null|     null|     null|     null|     null|     null|     null|     null|     null|     null|     null|     null|     null|     null|     null|\n",
      "|1544597|     null|     null|     null|     null|     null|     null|     null|     null|     null|     null|     null|     null|     null|     null|     null|     null|     null|     null|     null|\n",
      "|1544600|     null|     null|     null|     null|     null|     null|     null|     null|     null|     null|     null|     null|     null|     null|     null|     null|     null|     null|     null|\n",
      "|1544602|     null|     null|     null|     null|     null|     null|     null|     null|     null|     null|     null|     null|     null|     null|     null|     null|     null|     null|     null|\n",
      "|1544611|     null|     null|     null|     null|     null|     null|     null|     null|     null|     null|     null|     null|     null|     null|     null|     null|     null|     null|     null|\n",
      "|1544613|     null|     null|     null|     null|     null|     null|     null|     null|     null|     null|     null|     null|     null|     null|     null|     null|     null|     null|     null|\n",
      "|1544615|     null|     null|     null|     null|     null|     null|     null|     null|     null|     null|     null|     null|     null|     null|     null|     null|     null|     null|     null|\n",
      "|1544616|     null|     null|     null|     null|     null|     null|     null|     null|     null|     null|     null|     null|     null|     null|     null|     null|     null|     null|     null|\n",
      "|1544619|     null|     null|     null|     null|     null|     null|     null|     null|     null|     null|     null|     null|     null|     null|     null|     null|     null|     null|     null|\n",
      "|1544620|     null|     null|     null|     null|     null|     null|     null|     null|     null|     null|     null|     null|     null|     null|     null|     null|     null|     null|     null|\n",
      "|1544622|     null|     null|     null|     null|     null|     null|     null|     null|     null|     null|     null|     null|     null|     null|     null|     null|     null|     null|     null|\n",
      "|1544624|     null|     null|     null|     null|     null|     null|     null|     null|     null|     null|     null|     null|     null|     null|     null|     null|     null|     null|     null|\n",
      "|1544627|     null|     null|     null|     null|     null|     null|     null|     null|     null|     null|     null|     null|     null|     null|     null|     null|     null|     null|     null|\n",
      "|1544628|     null|     null|     null|     null|     null|     null|     null|     null|     null|     null|     null|     null|     null|     null|     null|     null|     null|     null|     null|\n",
      "|1544630|     null|     null|     null|     null|     null|     null|     null|     null|     null|     null|     null|     null|     null|     null|     null|     null|     null|     null|     null|\n",
      "|1544631|     null|     null|     null|     null|     null|     null|     null|     null|     null|     null|     null|     null|     null|     null|     null|     null|     null|     null|     null|\n",
      "|1544633|     null|     null|     null|     null|     null|     null|     null|     null|     null|     null|     null|     null|     null|     null|     null|     null|     null|     null|     null|\n",
      "|1544634|     null|     null|     null|     null|     null|     null|     null|     null|     null|     null|     null|     null|     null|     null|     null|     null|     null|     null|     null|\n",
      "|1544635|     null|     null|     null|     null|     null|     null|     null|     null|     null|     null|     null|     null|     null|     null|     null|     null|     null|     null|     null|\n",
      "|1544638|     null|     null|     null|     null|     null|     null|     null|     null|     null|     null|     null|     null|     null|     null|     null|     null|     null|     null|     null|\n",
      "|1544641|     null|     null|     null|     null|     null|     null|     null|     null|     null|     null|     null|     null|     null|     null|     null|     null|     null|     null|     null|\n",
      "|1544642|     null|     null|     null|     null|     null|     null|     null|     null|     null|     null|     null|     null|     null|     null|     null|     null|     null|     null|     null|\n",
      "|1544643|     null|     null|     null|     null|     null|     null|     null|     null|     null|     null|     null|     null|     null|     null|     null|     null|     null|     null|     null|\n",
      "|1544644|     null|     null|     null|     null|     null|     null|     null|     null|     null|     null|     null|     null|     null|     null|     null|     null|     null|     null|     null|\n",
      "|1544646|     null|     null|     null|     null|     null|     null|     null|     null|     null|     null|     null|     null|     null|     null|     null|     null|     null|     null|     null|\n",
      "|1544648|     null|     null|     null|     null|     null|     null|     null|     null|     null|     null|     null|     null|     null|     null|     null|     null|     null|     null|     null|\n",
      "|1544649|     null|     null|     null|     null|     null|     null|     null|     null|     null|     null|     null|     null|     null|     null|     null|     null|     null|     null|     null|\n",
      "|1544650|     null|     null|     null|     null|     null|     null|     null|     null|     null|     null|     null|     null|     null|     null|     null|     null|     null|     null|     null|\n",
      "|1544652|     null|     null|     null|     null|     null|     null|     null|     null|     null|     null|     null|     null|     null|     null|     null|     null|     null|     null|     null|\n",
      "|1544655|     null|     null|     null|     null|     null|     null|     null|     null|     null|     null|     null|     null|     null|     null|     null|     null|     null|     null|     null|\n",
      "|1544658|     null|     null|     null|     null|     null|     null|     null|     null|     null|     null|     null|     null|     null|     null|     null|     null|     null|     null|     null|\n",
      "|1544659|     null|     null|     null|     null|     null|     null|     null|     null|     null|     null|     null|     null|     null|     null|     null|     null|     null|     null|     null|\n",
      "|1544660|     null|     null|     null|     null|     null|     null|     null|     null|     null|     null|     null|     null|     null|     null|     null|     null|     null|     null|     null|\n",
      "|1544661|     null|     null|     null|     null|     null|     null|     null|     null|     null|     null|     null|     null|     null|     null|     null|     null|     null|     null|     null|\n",
      "|1544662|     null|     null|     null|     null|     null|     null|     null|     null|     null|     null|     null|     null|     null|     null|     null|     null|     null|     null|     null|\n",
      "|1544663|     null|     null|     null|     null|     null|     null|     null|     null|     null|     null|     null|     null|     null|     null|     null|     null|     null|     null|     null|\n",
      "|1544666|     null|     null|     null|     null|     null|     null|     null|     null|     null|     null|     null|     null|     null|     null|     null|     null|     null|     null|     null|\n",
      "|1544669|     null|     null|     null|     null|     null|     null|     null|     null|     null|     null|     null|     null|     null|     null|     null|     null|     null|     null|     null|\n",
      "|1544670|     null|     null|     null|     null|     null|     null|     null|     null|     null|     null|     null|     null|     null|     null|     null|     null|     null|     null|     null|\n",
      "|1544671|     null|     null|     null|     null|     null|     null|     null|     null|     null|     null|     null|     null|     null|     null|     null|     null|     null|     null|     null|\n",
      "|1544672|     null|     null|     null|     null|     null|     null|     null|     null|     null|     null|     null|     null|     null|     null|     null|     null|     null|     null|     null|\n",
      "|1544677|     null|     null|     null|     null|     null|     null|     null|     null|     null|     null|     null|     null|     null|     null|     null|     null|     null|     null|     null|\n",
      "|1544678|     null|     null|     null|     null|     null|     null|     null|     null|     null|     null|     null|     null|     null|     null|     null|     null|     null|     null|     null|\n",
      "|1544684|     null|     null|     null|     null|     null|     null|     null|     null|     null|     null|     null|     null|     null|     null|     null|     null|     null|     null|     null|\n",
      "|1544686|     null|     null|     null|     null|     null|     null|     null|     null|     null|     null|     null|     null|     null|     null|     null|     null|     null|     null|     null|\n",
      "|1544687|     null|     null|     null|     null|     null|     null|     null|     null|     null|     null|     null|     null|     null|     null|     null|     null|     null|     null|     null|\n",
      "|1544690|     null|     null|     null|     null|     null|     null|     null|     null|     null|     null|     null|     null|     null|     null|     null|     null|     null|     null|     null|\n",
      "|1544693|     null|     null|     null|     null|     null|     null|     null|     null|     null|     null|     null|     null|     null|     null|     null|     null|     null|     null|     null|\n",
      "|1544695|     null|     null|     null|     null|     null|     null|     null|     null|     null|     null|     null|     null|     null|     null|     null|     null|     null|     null|     null|\n",
      "|1544696|     null|     null|     null|     null|     null|     null|     null|     null|     null|     null|     null|     null|     null|     null|     null|     null|     null|     null|     null|\n",
      "|1544698|     null|     null|     null|     null|     null|     null|     null|     null|     null|     null|     null|     null|     null|     null|     null|     null|     null|     null|     null|\n",
      "|1544702|     null|     null|     null|     null|     null|     null|     null|     null|     null|     null|     null|     null|     null|     null|     null|     null|     null|     null|     null|\n",
      "|1544704|     null|     null|     null|     null|     null|     null|     null|     null|     null|     null|     null|     null|     null|     null|     null|     null|     null|     null|     null|\n",
      "|1544706|     null|     null|     null|     null|     null|     null|     null|     null|     null|     null|     null|     null|     null|     null|     null|     null|     null|     null|     null|\n",
      "|1544708|     null|     null|     null|     null|     null|     null|     null|     null|     null|     null|     null|     null|     null|     null|     null|     null|     null|     null|     null|\n",
      "|1544712|     null|     null|     null|     null|     null|     null|     null|     null|     null|     null|     null|     null|     null|     null|     null|     null|     null|     null|     null|\n",
      "|1544713|     null|     null|     null|     null|     null|     null|     null|     null|     null|     null|     null|     null|     null|     null|     null|     null|     null|     null|     null|\n",
      "|1544714|     null|     null|     null|     null|     null|     null|     null|     null|     null|     null|     null|     null|     null|     null|     null|     null|     null|     null|     null|\n",
      "|1544715|     null|     null|     null|     null|     null|     null|     null|     null|     null|     null|     null|     null|     null|     null|     null|     null|     null|     null|     null|\n",
      "|1544718|     null|     null|     null|     null|     null|     null|     null|     null|     null|     null|     null|     null|     null|     null|     null|     null|     null|     null|     null|\n",
      "|1544720|     null|     null|     null|     null|     null|     null|     null|     null|     null|     null|     null|     null|     null|     null|     null|     null|     null|     null|     null|\n",
      "|1544721|     null|     null|     null|     null|     null|     null|     null|     null|     null|     null|     null|     null|     null|     null|     null|     null|     null|     null|     null|\n",
      "|1544723|     null|     null|     null|     null|     null|     null|     null|     null|     null|     null|     null|     null|     null|     null|     null|     null|     null|     null|     null|\n",
      "|1544726|     null|     null|     null|     null|     null|     null|     null|     null|     null|     null|     null|     null|     null|     null|     null|     null|     null|     null|     null|\n",
      "|1544727|     null|     null|     null|     null|     null|     null|     null|     null|     null|     null|     null|     null|     null|     null|     null|     null|     null|     null|     null|\n",
      "|1544728|     null|     null|     null|     null|     null|     null|     null|     null|     null|     null|     null|     null|     null|     null|     null|     null|     null|     null|     null|\n",
      "|1544730|     null|     null|     null|     null|     null|     null|     null|     null|     null|     null|     null|     null|     null|     null|     null|     null|     null|     null|     null|\n",
      "|1544733|     null|     null|     null|     null|     null|     null|     null|     null|     null|     null|     null|     null|     null|     null|     null|     null|     null|     null|     null|\n",
      "|1544734|     null|     null|     null|     null|     null|     null|     null|     null|     null|     null|     null|     null|     null|     null|     null|     null|     null|     null|     null|\n",
      "|1544735|     null|     null|     null|     null|     null|     null|     null|     null|     null|     null|     null|     null|     null|     null|     null|     null|     null|     null|     null|\n",
      "|1544737|     null|     null|     null|     null|     null|     null|     null|     null|     null|     null|     null|     null|     null|     null|     null|     null|     null|     null|     null|\n",
      "|1544739|     null|     null|     null|     null|     null|     null|     null|     null|     null|     null|     null|     null|     null|     null|     null|     null|     null|     null|     null|\n",
      "|1544741|     null|     null|     null|     null|     null|     null|     null|     null|     null|     null|     null|     null|     null|     null|     null|     null|     null|     null|     null|\n",
      "|1544744|     null|     null|     null|     null|     null|     null|     null|     null|     null|     null|     null|     null|     null|     null|     null|     null|     null|     null|     null|\n",
      "|1544749|     null|     null|     null|     null|     null|     null|     null|     null|     null|     null|     null|     null|     null|     null|     null|     null|     null|     null|     null|\n",
      "|1544750|     null|     null|     null|     null|     null|     null|     null|     null|     null|     null|     null|     null|     null|     null|     null|     null|     null|     null|     null|\n",
      "|1544754|     null|     null|     null|     null|     null|     null|     null|     null|     null|     null|     null|     null|     null|     null|     null|     null|     null|     null|     null|\n",
      "|1544758|     null|     null|     null|     null|     null|     null|     null|     null|     null|     null|     null|     null|     null|     null|     null|     null|     null|     null|     null|\n",
      "|1544759|     null|     null|     null|     null|     null|     null|     null|     null|     null|     null|     null|     null|     null|     null|     null|     null|     null|     null|     null|\n",
      "|1544764|     null|     null|     null|     null|     null|     null|     null|     null|     null|     null|     null|     null|     null|     null|     null|     null|     null|     null|     null|\n",
      "|1544766|     null|     null|     null|     null|     null|     null|     null|     null|     null|     null|     null|     null|     null|     null|     null|     null|     null|     null|     null|\n",
      "|1544770|     null|     null|     null|     null|     null|     null|     null|     null|     null|     null|     null|     null|     null|     null|     null|     null|     null|     null|     null|\n",
      "|1544771|     null|     null|     null|     null|     null|     null|     null|     null|     null|     null|     null|     null|     null|     null|     null|     null|     null|     null|     null|\n",
      "|1544775|     null|     null|     null|     null|     null|     null|     null|     null|     null|     null|     null|     null|     null|     null|     null|     null|     null|     null|     null|\n",
      "|1544778|     null|     null|     null|     null|     null|     null|     null|     null|     null|     null|     null|     null|     null|     null|     null|     null|     null|     null|     null|\n",
      "|1544783|     null|     null|     null|     null|     null|     null|     null|     null|     null|     null|     null|     null|     null|     null|     null|     null|     null|     null|     null|\n",
      "|1544784|     null|     null|     null|     null|     null|     null|     null|     null|     null|     null|     null|     null|     null|     null|     null|     null|     null|     null|     null|\n",
      "|1544786|     null|     null|     null|     null|     null|     null|     null|     null|     null|     null|     null|     null|     null|     null|     null|     null|     null|     null|     null|\n",
      "|1544787|     null|     null|     null|     null|     null|     null|     null|     null|     null|     null|     null|     null|     null|     null|     null|     null|     null|     null|     null|\n",
      "|1544788|     null|     null|     null|     null|     null|     null|     null|     null|     null|     null|     null|     null|     null|     null|     null|     null|     null|     null|     null|\n",
      "|1544789|     null|     null|     null|     null|     null|     null|     null|     null|     null|     null|     null|     null|     null|     null|     null|     null|     null|     null|     null|\n",
      "|1544791|     null|     null|     null|     null|     null|     null|     null|     null|     null|     null|     null|     null|     null|     null|     null|     null|     null|     null|     null|\n",
      "|1544794|     null|     null|     null|     null|     null|     null|     null|     null|     null|     null|     null|     null|     null|     null|     null|     null|     null|     null|     null|\n",
      "|1544795|     null|     null|     null|     null|     null|     null|     null|     null|     null|     null|     null|     null|     null|     null|     null|     null|     null|     null|     null|\n",
      "|1544796|     null|     null|     null|     null|     null|     null|     null|     null|     null|     null|     null|     null|     null|     null|     null|     null|     null|     null|     null|\n",
      "|1544797|     null|     null|     null|     null|     null|     null|     null|     null|     null|     null|     null|     null|     null|     null|     null|     null|     null|     null|     null|\n",
      "|1544798|     null|     null|     null|     null|     null|     null|     null|     null|     null|     null|     null|     null|     null|     null|     null|     null|     null|     null|     null|\n",
      "|1544800|     null|     null|     null|     null|     null|     null|     null|     null|     null|     null|     null|     null|     null|     null|     null|     null|     null|     null|     null|\n",
      "|1544801|     null|     null|     null|     null|     null|     null|     null|     null|     null|     null|     null|     null|     null|     null|     null|     null|     null|     null|     null|\n",
      "|1544802|     null|     null|     null|     null|     null|     null|     null|     null|     null|     null|     null|     null|     null|     null|     null|     null|     null|     null|     null|\n",
      "|1544803|     null|     null|     null|     null|     null|     null|     null|     null|     null|     null|     null|     null|     null|     null|     null|     null|     null|     null|     null|\n",
      "|1544807|     null|     null|     null|     null|     null|     null|     null|     null|     null|     null|     null|     null|     null|     null|     null|     null|     null|     null|     null|\n",
      "|1544809|     null|     null|     null|     null|     null|     null|     null|     null|     null|     null|     null|     null|     null|     null|     null|     null|     null|     null|     null|\n",
      "|1544810|     null|     null|     null|     null|     null|     null|     null|     null|     null|     null|     null|     null|     null|     null|     null|     null|     null|     null|     null|\n",
      "|1544812|     null|     null|     null|     null|     null|     null|     null|     null|     null|     null|     null|     null|     null|     null|     null|     null|     null|     null|     null|\n",
      "|1544813|     null|     null|     null|     null|     null|     null|     null|     null|     null|     null|     null|     null|     null|     null|     null|     null|     null|     null|     null|\n",
      "|1544814|     null|     null|     null|     null|     null|     null|     null|     null|     null|     null|     null|     null|     null|     null|     null|     null|     null|     null|     null|\n",
      "|1544818|     null|     null|     null|     null|     null|     null|     null|     null|     null|     null|     null|     null|     null|     null|     null|     null|     null|     null|     null|\n",
      "|1544819|     null|     null|     null|     null|     null|     null|     null|     null|     null|     null|     null|     null|     null|     null|     null|     null|     null|     null|     null|\n",
      "|1544827|     null|     null|     null|     null|     null|     null|     null|     null|     null|     null|     null|     null|     null|     null|     null|     null|     null|     null|     null|\n",
      "|1544830|     null|     null|     null|     null|     null|     null|     null|     null|     null|     null|     null|     null|     null|     null|     null|     null|     null|     null|     null|\n",
      "|1544833|     null|     null|     null|     null|     null|     null|     null|     null|     null|     null|     null|     null|     null|     null|     null|     null|     null|     null|     null|\n",
      "|1544834|     null|     null|     null|     null|     null|     null|     null|     null|     null|     null|     null|     null|     null|     null|     null|     null|     null|     null|     null|\n",
      "|1544835|     null|     null|     null|     null|     null|     null|     null|     null|     null|     null|     null|     null|     null|     null|     null|     null|     null|     null|     null|\n",
      "|1544836|     null|     null|     null|     null|     null|     null|     null|     null|     null|     null|     null|     null|     null|     null|     null|     null|     null|     null|     null|\n",
      "|1544838|     null|     null|     null|     null|     null|     null|     null|     null|     null|     null|     null|     null|     null|     null|     null|     null|     null|     null|     null|\n",
      "|1544841|     null|     null|     null|     null|     null|     null|     null|     null|     null|     null|     null|     null|     null|     null|     null|     null|     null|     null|     null|\n",
      "|1544843|     null|     null|     null|     null|     null|     null|     null|     null|     null|     null|     null|     null|     null|     null|     null|     null|     null|     null|     null|\n",
      "|1544845|     null|     null|     null|     null|     null|     null|     null|     null|     null|     null|     null|     null|     null|     null|     null|     null|     null|     null|     null|\n",
      "|1544847|     null|     null|     null|     null|     null|     null|     null|     null|     null|     null|     null|     null|     null|     null|     null|     null|     null|     null|     null|\n",
      "|1544850|     null|     null|     null|     null|     null|     null|     null|     null|     null|     null|     null|     null|     null|     null|     null|     null|     null|     null|     null|\n",
      "|1544851|     null|     null|     null|     null|     null|     null|     null|     null|     null|     null|     null|     null|     null|     null|     null|     null|     null|     null|     null|\n",
      "|1544852|     null|     null|     null|     null|     null|     null|     null|     null|     null|     null|     null|     null|     null|     null|     null|     null|     null|     null|     null|\n",
      "|1544853|     null|     null|     null|     null|     null|     null|     null|     null|     null|     null|     null|     null|     null|     null|     null|     null|     null|     null|     null|\n",
      "|1544856|     null|     null|     null|     null|     null|     null|     null|     null|     null|     null|     null|     null|     null|     null|     null|     null|     null|     null|     null|\n",
      "|1544857|     null|     null|     null|     null|     null|     null|     null|     null|     null|     null|     null|     null|     null|     null|     null|     null|     null|     null|     null|\n",
      "|1544858|     null|     null|     null|     null|     null|     null|     null|     null|     null|     null|     null|     null|     null|     null|     null|     null|     null|     null|     null|\n",
      "|1544860|     null|     null|     null|     null|     null|     null|     null|     null|     null|     null|     null|     null|     null|     null|     null|     null|     null|     null|     null|\n",
      "|1544861|     null|     null|     null|     null|     null|     null|     null|     null|     null|     null|     null|     null|     null|     null|     null|     null|     null|     null|     null|\n",
      "|1544863|     null|     null|     null|     null|     null|     null|     null|     null|     null|     null|     null|     null|     null|     null|     null|     null|     null|     null|     null|\n",
      "|1544866|     null|     null|     null|     null|     null|     null|     null|     null|     null|     null|     null|     null|     null|     null|     null|     null|     null|     null|     null|\n",
      "|1544867|     null|     null|     null|     null|     null|     null|     null|     null|     null|     null|     null|     null|     null|     null|     null|     null|     null|     null|     null|\n",
      "|1544870|     null|     null|     null|     null|     null|     null|     null|     null|     null|     null|     null|     null|     null|     null|     null|     null|     null|     null|     null|\n",
      "|1544871|     null|     null|     null|     null|     null|     null|     null|     null|     null|     null|     null|     null|     null|     null|     null|     null|     null|     null|     null|\n",
      "|1544874|     null|     null|     null|     null|     null|     null|     null|     null|     null|     null|     null|     null|     null|     null|     null|     null|     null|     null|     null|\n",
      "|1544875|     null|     null|     null|     null|     null|     null|     null|     null|     null|     null|     null|     null|     null|     null|     null|     null|     null|     null|     null|\n",
      "|1544876|     null|     null|     null|     null|     null|     null|     null|     null|     null|     null|     null|     null|     null|     null|     null|     null|     null|     null|     null|\n",
      "|1544877|     null|     null|     null|     null|     null|     null|     null|     null|     null|     null|     null|     null|     null|     null|     null|     null|     null|     null|     null|\n",
      "|1544878|     null|     null|     null|     null|     null|     null|     null|     null|     null|     null|     null|     null|     null|     null|     null|     null|     null|     null|     null|\n",
      "|1544879|     null|     null|     null|     null|     null|     null|     null|     null|     null|     null|     null|     null|     null|     null|     null|     null|     null|     null|     null|\n",
      "|1544884|     null|     null|     null|     null|     null|     null|     null|     null|     null|     null|     null|     null|     null|     null|     null|     null|     null|     null|     null|\n",
      "|1544885|     null|     null|     null|     null|     null|     null|     null|     null|     null|     null|     null|     null|     null|     null|     null|     null|     null|     null|     null|\n",
      "|1544887|     null|     null|     null|     null|     null|     null|     null|     null|     null|     null|     null|     null|     null|     null|     null|     null|     null|     null|     null|\n",
      "|1544889|     null|     null|     null|     null|     null|     null|     null|     null|     null|     null|     null|     null|     null|     null|     null|     null|     null|     null|     null|\n",
      "|1544890|     null|     null|     null|     null|     null|     null|     null|     null|     null|     null|     null|     null|     null|     null|     null|     null|     null|     null|     null|\n",
      "|1544891|     null|     null|     null|     null|     null|     null|     null|     null|     null|     null|     null|     null|     null|     null|     null|     null|     null|     null|     null|\n",
      "|1544892|     null|     null|     null|     null|     null|     null|     null|     null|     null|     null|     null|     null|     null|     null|     null|     null|     null|     null|     null|\n",
      "|1544893|     null|     null|     null|     null|     null|     null|     null|     null|     null|     null|     null|     null|     null|     null|     null|     null|     null|     null|     null|\n",
      "|1544896|     null|     null|     null|     null|     null|     null|     null|     null|     null|     null|     null|     null|     null|     null|     null|     null|     null|     null|     null|\n",
      "|1544897|     null|     null|     null|     null|     null|     null|     null|     null|     null|     null|     null|     null|     null|     null|     null|     null|     null|     null|     null|\n",
      "|1544900|     null|     null|     null|     null|     null|     null|     null|     null|     null|     null|     null|     null|     null|     null|     null|     null|     null|     null|     null|\n",
      "|1544903|     null|     null|     null|     null|     null|     null|     null|     null|     null|     null|     null|     null|     null|     null|     null|     null|     null|     null|     null|\n",
      "|1544904|     null|     null|     null|     null|     null|     null|     null|     null|     null|     null|     null|     null|     null|     null|     null|     null|     null|     null|     null|\n",
      "|1544906|     null|     null|     null|     null|     null|     null|     null|     null|     null|     null|     null|     null|     null|     null|     null|     null|     null|     null|     null|\n",
      "|1544908|     null|     null|     null|     null|     null|     null|     null|     null|     null|     null|     null|     null|     null|     null|     null|     null|     null|     null|     null|\n",
      "|1544910|     null|     null|     null|     null|       T1|      T32|       T1|      T32|       T1|      T32|       T1|      T32|       T1|      T32|       T1|      T32|       T1|      T32|       T1|\n",
      "|1544913|     null|     null|     null|     null|     null|     null|     null|     null|     null|     null|     null|     null|     null|     null|     null|     null|     null|     null|     null|\n",
      "|1544914|     null|     null|     null|     null|     null|     null|     null|     null|     null|     null|     null|     null|     null|     null|     null|     null|     null|     null|     null|\n",
      "|1544915|     null|     null|     null|     null|     null|     null|     null|     null|     null|     null|     null|     null|     null|     null|     null|     null|     null|     null|     null|\n",
      "|1544917|     null|     null|     null|     null|     null|     null|     null|     null|     null|     null|     null|     null|     null|     null|     null|     null|     null|     null|     null|\n",
      "|1544918|     null|     null|     null|     null|     null|     null|     null|     null|     null|     null|     null|     null|     null|     null|     null|     null|     null|     null|     null|\n",
      "|1544920|     null|     null|     null|     null|     null|     null|     null|     null|     null|     null|     null|     null|     null|     null|     null|     null|     null|     null|     null|\n",
      "|1544921|     null|     null|     null|     null|     null|     null|     null|     null|     null|     null|     null|     null|     null|     null|     null|     null|     null|     null|     null|\n",
      "|1544922|     null|     null|     null|     null|     null|     null|     null|     null|     null|     null|     null|     null|     null|     null|     null|     null|     null|     null|     null|\n",
      "|1544926|     null|     null|     null|     null|     null|     null|     null|     null|     null|     null|     null|     null|     null|     null|     null|     null|     null|     null|     null|\n",
      "|1544929|     null|     null|     null|     null|     null|     null|     null|     null|     null|     null|     null|     null|     null|     null|     null|     null|     null|     null|     null|\n",
      "|1544930|     null|     null|     null|     null|     null|     null|     null|     null|     null|     null|     null|     null|     null|     null|     null|     null|     null|     null|     null|\n",
      "|1544931|     null|     null|     null|     null|     null|     null|     null|     null|     null|     null|     null|     null|     null|     null|     null|     null|     null|     null|     null|\n",
      "|1544932|     null|     null|     null|     null|     null|     null|     null|     null|     null|     null|     null|     null|     null|     null|     null|     null|     null|     null|     null|\n",
      "|1544933|     null|     null|     null|     null|     null|     null|     null|     null|     null|     null|     null|     null|     null|     null|     null|     null|     null|     null|     null|\n",
      "|1544934|     null|     null|     null|     null|     null|     null|     null|     null|     null|     null|     null|     null|     null|     null|     null|     null|     null|     null|     null|\n",
      "|1544935|     null|     null|     null|     null|     null|     null|     null|     null|     null|     null|     null|     null|     null|     null|     null|     null|     null|     null|     null|\n",
      "|1544939|     null|     null|     null|     null|     null|     null|     null|     null|     null|     null|     null|     null|     null|     null|     null|     null|     null|     null|     null|\n",
      "|1544940|     null|     null|     null|     null|     null|     null|     null|     null|     null|     null|     null|     null|     null|     null|     null|     null|     null|     null|     null|\n",
      "|1544942|     null|     null|     null|     null|     null|     null|     null|     null|     null|     null|     null|     null|     null|     null|     null|     null|     null|     null|     null|\n",
      "|1544945|     null|     null|     null|     null|     null|     null|     null|     null|     null|     null|     null|     null|     null|     null|     null|     null|     null|     null|     null|\n",
      "|1544946|     null|     null|     null|     null|     null|     null|     null|     null|     null|     null|     null|     null|     null|     null|     null|     null|     null|     null|     null|\n",
      "|1544947|     null|     null|     null|     null|     null|     null|     null|     null|     null|     null|     null|     null|     null|     null|     null|     null|     null|     null|     null|\n",
      "|1544948|     null|     null|     null|     null|     null|     null|     null|     null|     null|     null|     null|     null|     null|     null|     null|     null|     null|     null|     null|\n",
      "|1544950|     null|     null|     null|     null|     null|     null|     null|     null|     null|     null|     null|     null|     null|     null|     null|     null|     null|     null|     null|\n",
      "|1544952|     null|     null|     null|     null|     null|     null|     null|     null|     null|     null|     null|     null|     null|     null|     null|     null|     null|     null|     null|\n",
      "|1544954|     null|     null|     null|     null|     null|     null|     null|     null|     null|     null|     null|     null|     null|     null|     null|     null|     null|     null|     null|\n",
      "|1544957|     null|     null|     null|     null|     null|     null|     null|     null|     null|     null|     null|     null|     null|     null|     null|     null|     null|     null|     null|\n",
      "|1544958|     null|     null|     null|     null|     null|     null|     null|     null|     null|     null|     null|     null|     null|     null|     null|     null|     null|     null|     null|\n",
      "|1544962|     null|     null|     null|     null|     null|     null|     null|     null|     null|     null|     null|     null|     null|     null|     null|     null|     null|     null|     null|\n",
      "|1544963|     null|     null|     null|     null|     null|     null|     null|     null|     null|     null|     null|     null|     null|     null|     null|     null|     null|     null|     null|\n",
      "|1544964|     null|     null|     null|     null|     null|     null|     null|     null|     null|     null|     null|     null|     null|     null|     null|     null|     null|     null|     null|\n",
      "|1544965|     null|     null|     null|     null|     null|     null|     null|     null|     null|     null|     null|     null|     null|     null|     null|     null|     null|     null|     null|\n",
      "|1544966|     null|     null|     null|     null|     null|     null|     null|     null|     null|     null|     null|     null|     null|     null|     null|     null|     null|     null|     null|\n",
      "|1544967|     null|     null|     null|     null|     null|     null|     null|     null|     null|     null|     null|     null|     null|     null|     null|     null|     null|     null|     null|\n",
      "|1544969|     null|     null|     null|     null|     null|     null|     null|     null|     null|     null|     null|     null|     null|     null|     null|     null|     null|     null|     null|\n",
      "|1544970|     null|     null|     null|     null|     null|     null|     null|     null|     null|     null|     null|     null|     null|     null|     null|     null|     null|     null|     null|\n",
      "|1544971|     null|     null|     null|     null|     null|     null|     null|     null|     null|     null|     null|     null|     null|     null|     null|     null|     null|     null|     null|\n",
      "|1544973|     null|     null|     null|     null|     null|     null|     null|     null|     null|     null|     null|     null|     null|     null|     null|     null|     null|     null|     null|\n",
      "|1544974|     null|     null|     null|     null|     null|     null|     null|     null|     null|     null|     null|     null|     null|     null|     null|     null|     null|     null|     null|\n",
      "|1544980|     null|     null|     null|     null|     null|     null|     null|     null|     null|     null|     null|     null|     null|     null|     null|     null|     null|     null|     null|\n",
      "|1544983|     null|     null|     null|     null|     null|     null|     null|     null|     null|     null|     null|     null|     null|     null|     null|     null|     null|     null|     null|\n",
      "|1544985|     null|     null|     null|     null|     null|     null|     null|     null|     null|     null|     null|     null|     null|     null|     null|     null|     null|     null|     null|\n",
      "|1544987|     null|     null|     null|     null|     null|     null|     null|     null|     null|     null|     null|     null|     null|     null|     null|     null|     null|     null|     null|\n",
      "|1544988|     null|     null|     null|     null|     null|     null|     null|     null|     null|     null|     null|     null|     null|     null|     null|     null|     null|     null|     null|\n",
      "|1544991|     null|     null|     null|     null|     null|     null|     null|     null|     null|     null|     null|     null|     null|     null|     null|     null|     null|     null|     null|\n",
      "|1544992|     null|     null|     null|     null|     null|     null|     null|     null|     null|     null|     null|     null|     null|     null|     null|     null|     null|     null|     null|\n",
      "|1544995|     null|     null|     null|     null|     null|     null|     null|     null|     null|     null|     null|     null|     null|     null|     null|     null|     null|     null|     null|\n",
      "|1544997|     null|     null|     null|     null|     null|     null|     null|     null|     null|     null|     null|     null|     null|     null|     null|     null|     null|     null|     null|\n",
      "|1544998|     null|     null|     null|     null|     null|     null|     null|     null|     null|     null|     null|     null|     null|     null|     null|     null|     null|     null|     null|\n",
      "|1544999|     null|     null|     null|     null|     null|     null|     null|     null|     null|     null|     null|     null|     null|     null|     null|     null|     null|     null|     null|\n",
      "|1545003|     null|     null|     null|     null|     null|     null|     null|     null|     null|     null|     null|     null|     null|     null|     null|     null|     null|     null|     null|\n",
      "|1545004|     null|     null|     null|     null|     null|     null|     null|     null|     null|     null|     null|     null|     null|     null|     null|     null|     null|     null|     null|\n",
      "|1545005|     null|     null|     null|     null|     null|     null|     null|     null|     null|     null|     null|     null|     null|     null|     null|     null|     null|     null|     null|\n",
      "|1545006|     null|     null|     null|     null|     null|     null|     null|     null|     null|     null|     null|     null|     null|     null|     null|     null|     null|     null|     null|\n",
      "|1545007|     null|     null|     null|     null|     null|     null|     null|     null|     null|     null|     null|     null|     null|     null|     null|     null|     null|     null|     null|\n",
      "|1545008|     null|     null|     null|     null|     null|     null|     null|     null|     null|     null|     null|     null|     null|     null|     null|     null|     null|     null|     null|\n",
      "|1545009|     null|     null|     null|     null|     null|     null|     null|     null|     null|     null|     null|     null|     null|     null|     null|     null|     null|     null|     null|\n",
      "|1545010|     null|     null|     null|     null|     null|     null|     null|     null|     null|     null|     null|     null|     null|     null|     null|     null|     null|     null|     null|\n",
      "|1545012|     null|     null|     null|     null|     null|     null|     null|     null|     null|     null|     null|     null|     null|     null|     null|     null|     null|     null|     null|\n",
      "|1545014|     null|     null|     null|     null|     null|     null|     null|     null|     null|     null|     null|     null|     null|     null|     null|     null|     null|     null|     null|\n",
      "|1545015|     null|     null|     null|     null|     null|     null|     null|     null|     null|     null|     null|     null|     null|     null|     null|     null|     null|     null|     null|\n",
      "|1545016|     null|     null|     null|     null|     null|     null|     null|     null|     null|     null|     null|     null|     null|     null|     null|     null|     null|     null|     null|\n",
      "|1545017|     null|     null|     null|     null|     null|     null|     null|     null|     null|     null|     null|     null|     null|     null|     null|     null|     null|     null|     null|\n",
      "|1545018|     null|     null|     null|     null|     null|     null|     null|     null|     null|     null|     null|     null|     null|     null|     null|     null|     null|     null|     null|\n",
      "|1545019|     null|     null|     null|     null|     null|     null|     null|     null|     null|     null|     null|     null|     null|     null|     null|     null|     null|     null|     null|\n",
      "|1545020|     null|     null|     null|     null|     null|     null|     null|     null|     null|     null|     null|     null|     null|     null|     null|     null|     null|     null|     null|\n",
      "|1545022|     null|     null|     null|     null|     null|     null|     null|     null|     null|     null|     null|     null|     null|     null|     null|     null|     null|     null|     null|\n",
      "|1545023|     null|     null|     null|     null|     null|     null|     null|     null|     null|     null|     null|     null|     null|     null|     null|     null|     null|     null|     null|\n",
      "|1545026|     null|     null|     null|     null|     null|     null|     null|     null|     null|     null|     null|     null|     null|     null|     null|     null|     null|     null|     null|\n",
      "|1545028|     null|     null|     null|     null|     null|     null|     null|     null|     null|     null|     null|     null|     null|     null|     null|     null|     null|     null|     null|\n",
      "|1545033|     null|     null|     null|     null|     null|     null|     null|     null|     null|     null|     null|     null|     null|     null|     null|     null|     null|     null|     null|\n",
      "|1545034|     null|     null|     null|     null|     null|     null|     null|     null|     null|     null|     null|     null|     null|     null|     null|     null|     null|     null|     null|\n",
      "|1545035|     null|     null|     null|     null|     null|     null|     null|     null|     null|     null|     null|     null|     null|     null|     null|     null|     null|     null|     null|\n",
      "|1545039|     null|     null|     null|     null|     null|     null|     null|     null|     null|     null|     null|     null|     null|     null|     null|     null|     null|     null|     null|\n",
      "|1545042|     null|     null|     null|     null|     null|     null|     null|     null|     null|     null|     null|     null|     null|     null|     null|     null|     null|     null|     null|\n",
      "|1545043|     null|     null|     null|     null|     null|     null|     null|     null|     null|     null|     null|     null|     null|     null|     null|     null|     null|     null|     null|\n",
      "|1545045|     null|     null|     null|     null|     null|     null|     null|     null|     null|     null|     null|     null|     null|     null|     null|     null|     null|     null|     null|\n",
      "|1545049|     null|     null|     null|     null|     null|     null|     null|     null|     null|     null|     null|     null|     null|     null|     null|     null|     null|     null|     null|\n",
      "|1545051|     null|     null|     null|     null|     null|     null|     null|     null|     null|     null|     null|     null|     null|     null|     null|     null|     null|     null|     null|\n",
      "|1545055|     null|     null|     null|     null|     null|     null|     null|     null|     null|     null|     null|     null|     null|     null|     null|     null|     null|     null|     null|\n",
      "|1545056|     null|     null|     null|     null|     null|     null|     null|     null|     null|     null|     null|     null|     null|     null|     null|     null|     null|     null|     null|\n",
      "|1545058|     null|     null|     null|     null|     null|     null|     null|     null|     null|     null|     null|     null|     null|     null|     null|     null|     null|     null|     null|\n",
      "|1545059|     null|     null|     null|     null|     null|     null|     null|     null|     null|     null|     null|     null|     null|     null|     null|     null|     null|     null|     null|\n",
      "|1545060|     null|     null|     null|     null|     null|     null|     null|     null|     null|     null|     null|     null|     null|     null|     null|     null|     null|     null|     null|\n",
      "|1545063|     null|     null|     null|     null|     null|     null|     null|     null|     null|     null|     null|     null|     null|     null|     null|     null|     null|     null|     null|\n",
      "|1545064|     null|     null|     null|     null|     null|     null|     null|     null|     null|     null|     null|     null|     null|     null|     null|     null|     null|     null|     null|\n",
      "|1545068|     null|     null|     null|     null|     null|     null|     null|     null|     null|     null|     null|     null|     null|     null|     null|     null|     null|     null|     null|\n",
      "|1545069|     null|     null|     null|     null|     null|     null|     null|     null|     null|     null|     null|     null|     null|     null|     null|     null|     null|     null|     null|\n",
      "|1545071|     null|     null|     null|     null|     null|     null|     null|     null|     null|     null|     null|     null|     null|     null|     null|     null|     null|     null|     null|\n",
      "|1545072|     null|     null|     null|     null|     null|     null|     null|     null|     null|     null|     null|     null|     null|     null|     null|     null|     null|     null|     null|\n",
      "|1545073|     null|     null|     null|     null|     null|     null|     null|     null|     null|     null|     null|     null|     null|     null|     null|     null|     null|     null|     null|\n",
      "|1545074|     null|     null|     null|     null|     null|     null|     null|     null|     null|     null|     null|     null|     null|     null|     null|     null|     null|     null|     null|\n",
      "|1545078|     null|     null|     null|     null|     null|     null|     null|     null|     null|     null|     null|     null|     null|     null|     null|     null|     null|     null|     null|\n",
      "|1545079|     null|     null|     null|     null|     null|     null|     null|     null|     null|     null|     null|     null|     null|     null|     null|     null|     null|     null|     null|\n",
      "|1545080|     null|     null|     null|     null|     null|     null|     null|     null|     null|     null|     null|     null|     null|     null|     null|     null|     null|     null|     null|\n",
      "|1545081|     null|     null|     null|     null|     null|     null|     null|     null|     null|     null|     null|     null|     null|     null|     null|     null|     null|     null|     null|\n",
      "|1545082|     null|     null|     null|     null|     null|     null|     null|     null|     null|     null|     null|     null|     null|     null|     null|     null|     null|     null|     null|\n",
      "|1545083|     null|     null|     null|     null|     null|     null|     null|     null|     null|     null|     null|     null|     null|     null|     null|     null|     null|     null|     null|\n",
      "|1545086|     null|     null|     null|     null|     null|     null|     null|     null|     null|     null|     null|     null|     null|     null|     null|     null|     null|     null|     null|\n",
      "|1545088|     null|     null|     null|     null|     null|     null|     null|     null|     null|     null|     null|     null|     null|     null|     null|     null|     null|     null|     null|\n",
      "|1545090|     null|     null|     null|     null|     null|     null|     null|     null|     null|     null|     null|     null|     null|     null|     null|     null|     null|     null|     null|\n",
      "+-------+---------+---------+---------+---------+---------+---------+---------+---------+---------+---------+---------+---------+---------+---------+---------+---------+---------+---------+---------+\n",
      "only showing top 1000 rows"
     ]
    }
   ],
   "source": [
    "# sdf_train_cum \n",
    "\n",
    "# sdf_train.columns[0:-1]\n",
    "\n",
    "dfs_train_categorical[dfs_train_categorical.columns[:20]].show(1000)\n"
   ]
  },
  {
   "cell_type": "code",
   "execution_count": 20,
   "metadata": {
    "collapsed": true,
    "jupyter": {
     "outputs_hidden": true,
     "source_hidden": true
    }
   },
   "outputs": [
    {
     "data": {
      "application/vnd.jupyter.widget-view+json": {
       "model_id": "b8f61129b2d2449dbbb9f3f5299cf480",
       "version_major": 2,
       "version_minor": 0
      },
      "text/plain": [
       "VBox()"
      ]
     },
     "metadata": {},
     "output_type": "display_data"
    },
    {
     "data": {
      "application/vnd.jupyter.widget-view+json": {
       "model_id": "",
       "version_major": 2,
       "version_minor": 0
      },
      "text/plain": [
       "FloatProgress(value=0.0, bar_style='info', description='Progress:', layout=Layout(height='25px', width='50%'),…"
      ]
     },
     "metadata": {},
     "output_type": "display_data"
    },
    {
     "name": "stdout",
     "output_type": "stream",
     "text": [
      "['Id', 'L0_S0_F0', 'L0_S0_F2', 'L0_S0_F4', 'L0_S0_F6', 'L0_S0_F8', 'L0_S0_F10', 'L0_S0_F12', 'L0_S0_F14', 'L0_S0_F16', 'L0_S0_F18', 'L0_S0_F20', 'L0_S0_F22', 'L0_S1_F24', 'L0_S1_F28', 'L0_S2_F32', 'L0_S2_F36', 'L0_S2_F40', 'L0_S2_F44', 'L0_S2_F48', 'L0_S2_F52', 'L0_S2_F56', 'L0_S2_F60', 'L0_S2_F64', 'L0_S3_F68', 'L0_S3_F72', 'L0_S3_F76', 'L0_S3_F80', 'L0_S3_F84', 'L0_S3_F88', 'L0_S3_F92', 'L0_S3_F96', 'L0_S3_F100', 'L0_S4_F104', 'L0_S4_F109', 'L0_S5_F114', 'L0_S5_F116', 'L0_S6_F118', 'L0_S6_F122', 'L0_S6_F132', 'L0_S7_F136', 'L0_S7_F138', 'L0_S7_F142', 'L0_S8_F144', 'L0_S8_F146', 'L0_S8_F149', 'L0_S9_F155', 'L0_S9_F160', 'L0_S9_F165', 'L0_S9_F170']"
     ]
    }
   ],
   "source": [
    "dfs_train_numeric.columns[:20]"
   ]
  },
  {
   "cell_type": "code",
   "execution_count": 109,
   "metadata": {
    "collapsed": true,
    "jupyter": {
     "outputs_hidden": true,
     "source_hidden": true
    }
   },
   "outputs": [
    {
     "data": {
      "application/vnd.jupyter.widget-view+json": {
       "model_id": "d5a8645173f641109c1e2168abfd7a55",
       "version_major": 2,
       "version_minor": 0
      },
      "text/plain": [
       "VBox()"
      ]
     },
     "metadata": {},
     "output_type": "display_data"
    },
    {
     "data": {
      "application/vnd.jupyter.widget-view+json": {
       "model_id": "",
       "version_major": 2,
       "version_minor": 0
      },
      "text/plain": [
       "FloatProgress(value=0.0, bar_style='info', description='Progress:', layout=Layout(height='25px', width='50%'),…"
      ]
     },
     "metadata": {},
     "output_type": "display_data"
    },
    {
     "name": "stdout",
     "output_type": "stream",
     "text": [
      "('1001139', None, None, None, None, None, None, None, None, None, None, None, None, None, None, None, None, None, None, None, None, None, None, None, None, None, None, None, None, None, None, None, None, None, None, None, None, None, None, None, None, None, None, None, None, None, None, None, None, None, None, None, None, None, None, None, None, None, None, None, None, None, None, None, None, None, None, None, None, None, None, None, None, None, None, None, None, None, None, None, None, None, None, None, None, None, None, None, None, None, None, None, None, None, None, None, None, None, None, None)"
     ]
    }
   ],
   "source": [
    "sdf_test.head(1)[0][:100]"
   ]
  },
  {
   "cell_type": "code",
   "execution_count": 234,
   "metadata": {
    "collapsed": true,
    "jupyter": {
     "outputs_hidden": true,
     "source_hidden": true
    }
   },
   "outputs": [
    {
     "data": {
      "application/vnd.jupyter.widget-view+json": {
       "model_id": "bd697d0dd2554656b0cfa808423bed64",
       "version_major": 2,
       "version_minor": 0
      },
      "text/plain": [
       "VBox()"
      ]
     },
     "metadata": {},
     "output_type": "display_data"
    },
    {
     "data": {
      "application/vnd.jupyter.widget-view+json": {
       "model_id": "74d5ee2e103a481eb7322f9ec59297cc",
       "version_major": 2,
       "version_minor": 0
      },
      "text/plain": [
       "FloatProgress(value=0.0, bar_style='info', description='Progress:', layout=Layout(height='25px', width='50%'),…"
      ]
     },
     "metadata": {},
     "output_type": "display_data"
    },
    {
     "ename": "KeyboardInterrupt",
     "evalue": "",
     "output_type": "error",
     "traceback": [
      "\u001b[0;31m---------------------------------------------------------------------------\u001b[0m",
      "\u001b[0;31mKeyboardInterrupt\u001b[0m                         Traceback (most recent call last)",
      "\u001b[0;32m<ipython-input-234-db199edccf92>\u001b[0m in \u001b[0;36m<module>\u001b[0;34m\u001b[0m\n\u001b[0;32m----> 1\u001b[0;31m \u001b[0mget_ipython\u001b[0m\u001b[0;34m(\u001b[0m\u001b[0;34m)\u001b[0m\u001b[0;34m.\u001b[0m\u001b[0mrun_cell_magic\u001b[0m\u001b[0;34m(\u001b[0m\u001b[0;34m'spark'\u001b[0m\u001b[0;34m,\u001b[0m \u001b[0;34m''\u001b[0m\u001b[0;34m,\u001b[0m \u001b[0;34m'#zero null valyes in label column\\n\\nsdf_train.select([count(when(isnan(\"Response\"),True))]).show()\\n'\u001b[0m\u001b[0;34m)\u001b[0m\u001b[0;34m\u001b[0m\u001b[0;34m\u001b[0m\u001b[0m\n\u001b[0m",
      "\u001b[0;32m/opt/conda/lib/python3.7/site-packages/IPython/core/interactiveshell.py\u001b[0m in \u001b[0;36mrun_cell_magic\u001b[0;34m(self, magic_name, line, cell)\u001b[0m\n\u001b[1;32m   2360\u001b[0m             \u001b[0;32mwith\u001b[0m \u001b[0mself\u001b[0m\u001b[0;34m.\u001b[0m\u001b[0mbuiltin_trap\u001b[0m\u001b[0;34m:\u001b[0m\u001b[0;34m\u001b[0m\u001b[0;34m\u001b[0m\u001b[0m\n\u001b[1;32m   2361\u001b[0m                 \u001b[0margs\u001b[0m \u001b[0;34m=\u001b[0m \u001b[0;34m(\u001b[0m\u001b[0mmagic_arg_s\u001b[0m\u001b[0;34m,\u001b[0m \u001b[0mcell\u001b[0m\u001b[0;34m)\u001b[0m\u001b[0;34m\u001b[0m\u001b[0;34m\u001b[0m\u001b[0m\n\u001b[0;32m-> 2362\u001b[0;31m                 \u001b[0mresult\u001b[0m \u001b[0;34m=\u001b[0m \u001b[0mfn\u001b[0m\u001b[0;34m(\u001b[0m\u001b[0;34m*\u001b[0m\u001b[0margs\u001b[0m\u001b[0;34m,\u001b[0m \u001b[0;34m**\u001b[0m\u001b[0mkwargs\u001b[0m\u001b[0;34m)\u001b[0m\u001b[0;34m\u001b[0m\u001b[0;34m\u001b[0m\u001b[0m\n\u001b[0m\u001b[1;32m   2363\u001b[0m             \u001b[0;32mreturn\u001b[0m \u001b[0mresult\u001b[0m\u001b[0;34m\u001b[0m\u001b[0;34m\u001b[0m\u001b[0m\n\u001b[1;32m   2364\u001b[0m \u001b[0;34m\u001b[0m\u001b[0m\n",
      "\u001b[0;32m</opt/conda/lib/python3.7/site-packages/decorator.py:decorator-gen-124>\u001b[0m in \u001b[0;36mspark\u001b[0;34m(self, *args, **kwargs)\u001b[0m\n",
      "\u001b[0;32m/opt/conda/lib/python3.7/site-packages/IPython/core/magic.py\u001b[0m in \u001b[0;36m<lambda>\u001b[0;34m(f, *a, **k)\u001b[0m\n\u001b[1;32m    185\u001b[0m     \u001b[0;31m# but it's overkill for just that one bit of state.\u001b[0m\u001b[0;34m\u001b[0m\u001b[0;34m\u001b[0m\u001b[0;34m\u001b[0m\u001b[0m\n\u001b[1;32m    186\u001b[0m     \u001b[0;32mdef\u001b[0m \u001b[0mmagic_deco\u001b[0m\u001b[0;34m(\u001b[0m\u001b[0marg\u001b[0m\u001b[0;34m)\u001b[0m\u001b[0;34m:\u001b[0m\u001b[0;34m\u001b[0m\u001b[0;34m\u001b[0m\u001b[0m\n\u001b[0;32m--> 187\u001b[0;31m         \u001b[0mcall\u001b[0m \u001b[0;34m=\u001b[0m \u001b[0;32mlambda\u001b[0m \u001b[0mf\u001b[0m\u001b[0;34m,\u001b[0m \u001b[0;34m*\u001b[0m\u001b[0ma\u001b[0m\u001b[0;34m,\u001b[0m \u001b[0;34m**\u001b[0m\u001b[0mk\u001b[0m\u001b[0;34m:\u001b[0m \u001b[0mf\u001b[0m\u001b[0;34m(\u001b[0m\u001b[0;34m*\u001b[0m\u001b[0ma\u001b[0m\u001b[0;34m,\u001b[0m \u001b[0;34m**\u001b[0m\u001b[0mk\u001b[0m\u001b[0;34m)\u001b[0m\u001b[0;34m\u001b[0m\u001b[0;34m\u001b[0m\u001b[0m\n\u001b[0m\u001b[1;32m    188\u001b[0m \u001b[0;34m\u001b[0m\u001b[0m\n\u001b[1;32m    189\u001b[0m         \u001b[0;32mif\u001b[0m \u001b[0mcallable\u001b[0m\u001b[0;34m(\u001b[0m\u001b[0marg\u001b[0m\u001b[0;34m)\u001b[0m\u001b[0;34m:\u001b[0m\u001b[0;34m\u001b[0m\u001b[0;34m\u001b[0m\u001b[0m\n",
      "\u001b[0;32m/opt/conda/lib/python3.7/site-packages/sparkmagic/livyclientlib/exceptions.py\u001b[0m in \u001b[0;36mwrapped\u001b[0;34m(self, *args, **kwargs)\u001b[0m\n\u001b[1;32m     94\u001b[0m     \u001b[0;32mdef\u001b[0m \u001b[0mwrapped\u001b[0m\u001b[0;34m(\u001b[0m\u001b[0mself\u001b[0m\u001b[0;34m,\u001b[0m \u001b[0;34m*\u001b[0m\u001b[0margs\u001b[0m\u001b[0;34m,\u001b[0m \u001b[0;34m**\u001b[0m\u001b[0mkwargs\u001b[0m\u001b[0;34m)\u001b[0m\u001b[0;34m:\u001b[0m\u001b[0;34m\u001b[0m\u001b[0;34m\u001b[0m\u001b[0m\n\u001b[1;32m     95\u001b[0m         \u001b[0;32mtry\u001b[0m\u001b[0;34m:\u001b[0m\u001b[0;34m\u001b[0m\u001b[0;34m\u001b[0m\u001b[0m\n\u001b[0;32m---> 96\u001b[0;31m             \u001b[0mout\u001b[0m \u001b[0;34m=\u001b[0m \u001b[0mf\u001b[0m\u001b[0;34m(\u001b[0m\u001b[0mself\u001b[0m\u001b[0;34m,\u001b[0m \u001b[0;34m*\u001b[0m\u001b[0margs\u001b[0m\u001b[0;34m,\u001b[0m \u001b[0;34m**\u001b[0m\u001b[0mkwargs\u001b[0m\u001b[0;34m)\u001b[0m\u001b[0;34m\u001b[0m\u001b[0;34m\u001b[0m\u001b[0m\n\u001b[0m\u001b[1;32m     97\u001b[0m         \u001b[0;32mexcept\u001b[0m \u001b[0mException\u001b[0m \u001b[0;32mas\u001b[0m \u001b[0me\u001b[0m\u001b[0;34m:\u001b[0m\u001b[0;34m\u001b[0m\u001b[0;34m\u001b[0m\u001b[0m\n\u001b[1;32m     98\u001b[0m             \u001b[0mself\u001b[0m\u001b[0;34m.\u001b[0m\u001b[0mlogger\u001b[0m\u001b[0;34m.\u001b[0m\u001b[0merror\u001b[0m\u001b[0;34m(\u001b[0m\u001b[0;34mu\"ENCOUNTERED AN INTERNAL ERROR: {}\\n\\tTraceback:\\n{}\"\u001b[0m\u001b[0;34m.\u001b[0m\u001b[0mformat\u001b[0m\u001b[0;34m(\u001b[0m\u001b[0me\u001b[0m\u001b[0;34m,\u001b[0m \u001b[0mtraceback\u001b[0m\u001b[0;34m.\u001b[0m\u001b[0mformat_exc\u001b[0m\u001b[0;34m(\u001b[0m\u001b[0;34m)\u001b[0m\u001b[0;34m)\u001b[0m\u001b[0;34m)\u001b[0m\u001b[0;34m\u001b[0m\u001b[0;34m\u001b[0m\u001b[0m\n",
      "\u001b[0;32m/opt/conda/lib/python3.7/site-packages/sparkmagic/livyclientlib/exceptions.py\u001b[0m in \u001b[0;36mwrapped\u001b[0;34m(self, *args, **kwargs)\u001b[0m\n\u001b[1;32m     70\u001b[0m     \u001b[0;32mdef\u001b[0m \u001b[0mwrapped\u001b[0m\u001b[0;34m(\u001b[0m\u001b[0mself\u001b[0m\u001b[0;34m,\u001b[0m \u001b[0;34m*\u001b[0m\u001b[0margs\u001b[0m\u001b[0;34m,\u001b[0m \u001b[0;34m**\u001b[0m\u001b[0mkwargs\u001b[0m\u001b[0;34m)\u001b[0m\u001b[0;34m:\u001b[0m\u001b[0;34m\u001b[0m\u001b[0;34m\u001b[0m\u001b[0m\n\u001b[1;32m     71\u001b[0m         \u001b[0;32mtry\u001b[0m\u001b[0;34m:\u001b[0m\u001b[0;34m\u001b[0m\u001b[0;34m\u001b[0m\u001b[0m\n\u001b[0;32m---> 72\u001b[0;31m             \u001b[0mout\u001b[0m \u001b[0;34m=\u001b[0m \u001b[0mf\u001b[0m\u001b[0;34m(\u001b[0m\u001b[0mself\u001b[0m\u001b[0;34m,\u001b[0m \u001b[0;34m*\u001b[0m\u001b[0margs\u001b[0m\u001b[0;34m,\u001b[0m \u001b[0;34m**\u001b[0m\u001b[0mkwargs\u001b[0m\u001b[0;34m)\u001b[0m\u001b[0;34m\u001b[0m\u001b[0;34m\u001b[0m\u001b[0m\n\u001b[0m\u001b[1;32m     73\u001b[0m         \u001b[0;32mexcept\u001b[0m \u001b[0mexceptions_to_handle\u001b[0m \u001b[0;32mas\u001b[0m \u001b[0merr\u001b[0m\u001b[0;34m:\u001b[0m\u001b[0;34m\u001b[0m\u001b[0;34m\u001b[0m\u001b[0m\n\u001b[1;32m     74\u001b[0m             \u001b[0;31m# Do not log! as some messages may contain private client information\u001b[0m\u001b[0;34m\u001b[0m\u001b[0;34m\u001b[0m\u001b[0;34m\u001b[0m\u001b[0m\n",
      "\u001b[0;32m/opt/conda/lib/python3.7/site-packages/sparkmagic/kernels/kernelmagics.py\u001b[0m in \u001b[0;36mspark\u001b[0;34m(self, line, cell, local_ns)\u001b[0m\n\u001b[1;32m    236\u001b[0m             \u001b[0mcoerce\u001b[0m \u001b[0;34m=\u001b[0m \u001b[0mget_coerce_value\u001b[0m\u001b[0;34m(\u001b[0m\u001b[0margs\u001b[0m\u001b[0;34m.\u001b[0m\u001b[0mcoerce\u001b[0m\u001b[0;34m)\u001b[0m\u001b[0;34m\u001b[0m\u001b[0;34m\u001b[0m\u001b[0m\n\u001b[1;32m    237\u001b[0m \u001b[0;34m\u001b[0m\u001b[0m\n\u001b[0;32m--> 238\u001b[0;31m             \u001b[0mself\u001b[0m\u001b[0;34m.\u001b[0m\u001b[0mexecute_spark\u001b[0m\u001b[0;34m(\u001b[0m\u001b[0mcell\u001b[0m\u001b[0;34m,\u001b[0m \u001b[0margs\u001b[0m\u001b[0;34m.\u001b[0m\u001b[0moutput\u001b[0m\u001b[0;34m,\u001b[0m \u001b[0margs\u001b[0m\u001b[0;34m.\u001b[0m\u001b[0msamplemethod\u001b[0m\u001b[0;34m,\u001b[0m \u001b[0margs\u001b[0m\u001b[0;34m.\u001b[0m\u001b[0mmaxrows\u001b[0m\u001b[0;34m,\u001b[0m \u001b[0margs\u001b[0m\u001b[0;34m.\u001b[0m\u001b[0msamplefraction\u001b[0m\u001b[0;34m,\u001b[0m \u001b[0;32mNone\u001b[0m\u001b[0;34m,\u001b[0m \u001b[0mcoerce\u001b[0m\u001b[0;34m)\u001b[0m\u001b[0;34m\u001b[0m\u001b[0;34m\u001b[0m\u001b[0m\n\u001b[0m\u001b[1;32m    239\u001b[0m         \u001b[0;32melse\u001b[0m\u001b[0;34m:\u001b[0m\u001b[0;34m\u001b[0m\u001b[0;34m\u001b[0m\u001b[0m\n\u001b[1;32m    240\u001b[0m             \u001b[0;32mreturn\u001b[0m\u001b[0;34m\u001b[0m\u001b[0;34m\u001b[0m\u001b[0m\n",
      "\u001b[0;32m/opt/conda/lib/python3.7/site-packages/sparkmagic/magics/sparkmagicsbase.py\u001b[0m in \u001b[0;36mexecute_spark\u001b[0;34m(self, cell, output_var, samplemethod, maxrows, samplefraction, session_name, coerce)\u001b[0m\n\u001b[1;32m     42\u001b[0m \u001b[0;34m\u001b[0m\u001b[0m\n\u001b[1;32m     43\u001b[0m     \u001b[0;32mdef\u001b[0m \u001b[0mexecute_spark\u001b[0m\u001b[0;34m(\u001b[0m\u001b[0mself\u001b[0m\u001b[0;34m,\u001b[0m \u001b[0mcell\u001b[0m\u001b[0;34m,\u001b[0m \u001b[0moutput_var\u001b[0m\u001b[0;34m,\u001b[0m \u001b[0msamplemethod\u001b[0m\u001b[0;34m,\u001b[0m \u001b[0mmaxrows\u001b[0m\u001b[0;34m,\u001b[0m \u001b[0msamplefraction\u001b[0m\u001b[0;34m,\u001b[0m \u001b[0msession_name\u001b[0m\u001b[0;34m,\u001b[0m \u001b[0mcoerce\u001b[0m\u001b[0;34m)\u001b[0m\u001b[0;34m:\u001b[0m\u001b[0;34m\u001b[0m\u001b[0;34m\u001b[0m\u001b[0m\n\u001b[0;32m---> 44\u001b[0;31m         \u001b[0;34m(\u001b[0m\u001b[0msuccess\u001b[0m\u001b[0;34m,\u001b[0m \u001b[0mout\u001b[0m\u001b[0;34m)\u001b[0m \u001b[0;34m=\u001b[0m \u001b[0mself\u001b[0m\u001b[0;34m.\u001b[0m\u001b[0mspark_controller\u001b[0m\u001b[0;34m.\u001b[0m\u001b[0mrun_command\u001b[0m\u001b[0;34m(\u001b[0m\u001b[0mCommand\u001b[0m\u001b[0;34m(\u001b[0m\u001b[0mcell\u001b[0m\u001b[0;34m)\u001b[0m\u001b[0;34m,\u001b[0m \u001b[0msession_name\u001b[0m\u001b[0;34m)\u001b[0m\u001b[0;34m\u001b[0m\u001b[0;34m\u001b[0m\u001b[0m\n\u001b[0m\u001b[1;32m     45\u001b[0m         \u001b[0;32mif\u001b[0m \u001b[0;32mnot\u001b[0m \u001b[0msuccess\u001b[0m\u001b[0;34m:\u001b[0m\u001b[0;34m\u001b[0m\u001b[0;34m\u001b[0m\u001b[0m\n\u001b[1;32m     46\u001b[0m             \u001b[0mself\u001b[0m\u001b[0;34m.\u001b[0m\u001b[0mipython_display\u001b[0m\u001b[0;34m.\u001b[0m\u001b[0msend_error\u001b[0m\u001b[0;34m(\u001b[0m\u001b[0mout\u001b[0m\u001b[0;34m)\u001b[0m\u001b[0;34m\u001b[0m\u001b[0;34m\u001b[0m\u001b[0m\n",
      "\u001b[0;32m/opt/conda/lib/python3.7/site-packages/sparkmagic/livyclientlib/sparkcontroller.py\u001b[0m in \u001b[0;36mrun_command\u001b[0;34m(self, command, client_name)\u001b[0m\n\u001b[1;32m     42\u001b[0m     \u001b[0;32mdef\u001b[0m \u001b[0mrun_command\u001b[0m\u001b[0;34m(\u001b[0m\u001b[0mself\u001b[0m\u001b[0;34m,\u001b[0m \u001b[0mcommand\u001b[0m\u001b[0;34m,\u001b[0m \u001b[0mclient_name\u001b[0m\u001b[0;34m=\u001b[0m\u001b[0;32mNone\u001b[0m\u001b[0;34m)\u001b[0m\u001b[0;34m:\u001b[0m\u001b[0;34m\u001b[0m\u001b[0;34m\u001b[0m\u001b[0m\n\u001b[1;32m     43\u001b[0m         \u001b[0msession_to_use\u001b[0m \u001b[0;34m=\u001b[0m \u001b[0mself\u001b[0m\u001b[0;34m.\u001b[0m\u001b[0mget_session_by_name_or_default\u001b[0m\u001b[0;34m(\u001b[0m\u001b[0mclient_name\u001b[0m\u001b[0;34m)\u001b[0m\u001b[0;34m\u001b[0m\u001b[0;34m\u001b[0m\u001b[0m\n\u001b[0;32m---> 44\u001b[0;31m         \u001b[0;32mreturn\u001b[0m \u001b[0mcommand\u001b[0m\u001b[0;34m.\u001b[0m\u001b[0mexecute\u001b[0m\u001b[0;34m(\u001b[0m\u001b[0msession_to_use\u001b[0m\u001b[0;34m)\u001b[0m\u001b[0;34m\u001b[0m\u001b[0;34m\u001b[0m\u001b[0m\n\u001b[0m\u001b[1;32m     45\u001b[0m \u001b[0;34m\u001b[0m\u001b[0m\n\u001b[1;32m     46\u001b[0m     \u001b[0;32mdef\u001b[0m \u001b[0mrun_sqlquery\u001b[0m\u001b[0;34m(\u001b[0m\u001b[0mself\u001b[0m\u001b[0;34m,\u001b[0m \u001b[0msqlquery\u001b[0m\u001b[0;34m,\u001b[0m \u001b[0mclient_name\u001b[0m\u001b[0;34m=\u001b[0m\u001b[0;32mNone\u001b[0m\u001b[0;34m)\u001b[0m\u001b[0;34m:\u001b[0m\u001b[0;34m\u001b[0m\u001b[0;34m\u001b[0m\u001b[0m\n",
      "\u001b[0;32m/opt/conda/lib/python3.7/site-packages/sparkmagic/livyclientlib/command.py\u001b[0m in \u001b[0;36mexecute\u001b[0;34m(self, session)\u001b[0m\n\u001b[1;32m     41\u001b[0m             \u001b[0mresponse\u001b[0m \u001b[0;34m=\u001b[0m \u001b[0msession\u001b[0m\u001b[0;34m.\u001b[0m\u001b[0mhttp_client\u001b[0m\u001b[0;34m.\u001b[0m\u001b[0mpost_statement\u001b[0m\u001b[0;34m(\u001b[0m\u001b[0msession\u001b[0m\u001b[0;34m.\u001b[0m\u001b[0mid\u001b[0m\u001b[0;34m,\u001b[0m \u001b[0mdata\u001b[0m\u001b[0;34m)\u001b[0m\u001b[0;34m\u001b[0m\u001b[0;34m\u001b[0m\u001b[0m\n\u001b[1;32m     42\u001b[0m             \u001b[0mstatement_id\u001b[0m \u001b[0;34m=\u001b[0m \u001b[0mresponse\u001b[0m\u001b[0;34m[\u001b[0m\u001b[0;34mu'id'\u001b[0m\u001b[0;34m]\u001b[0m\u001b[0;34m\u001b[0m\u001b[0;34m\u001b[0m\u001b[0m\n\u001b[0;32m---> 43\u001b[0;31m             \u001b[0moutput\u001b[0m \u001b[0;34m=\u001b[0m \u001b[0mself\u001b[0m\u001b[0;34m.\u001b[0m\u001b[0m_get_statement_output\u001b[0m\u001b[0;34m(\u001b[0m\u001b[0msession\u001b[0m\u001b[0;34m,\u001b[0m \u001b[0mstatement_id\u001b[0m\u001b[0;34m)\u001b[0m\u001b[0;34m\u001b[0m\u001b[0;34m\u001b[0m\u001b[0m\n\u001b[0m\u001b[1;32m     44\u001b[0m         \u001b[0;32mexcept\u001b[0m \u001b[0mException\u001b[0m \u001b[0;32mas\u001b[0m \u001b[0me\u001b[0m\u001b[0;34m:\u001b[0m\u001b[0;34m\u001b[0m\u001b[0;34m\u001b[0m\u001b[0m\n\u001b[1;32m     45\u001b[0m             self._spark_events.emit_statement_execution_end_event(session.guid, session.kind, session.id,\n",
      "\u001b[0;32m/opt/conda/lib/python3.7/site-packages/sparkmagic/livyclientlib/command.py\u001b[0m in \u001b[0;36m_get_statement_output\u001b[0;34m(self, session, statement_id)\u001b[0m\n\u001b[1;32m     74\u001b[0m             \u001b[0;32mif\u001b[0m \u001b[0mstatus\u001b[0m \u001b[0;32mnot\u001b[0m \u001b[0;32min\u001b[0m \u001b[0mFINAL_STATEMENT_STATUS\u001b[0m\u001b[0;34m:\u001b[0m\u001b[0;34m\u001b[0m\u001b[0;34m\u001b[0m\u001b[0m\n\u001b[1;32m     75\u001b[0m                 \u001b[0mprogress\u001b[0m\u001b[0;34m.\u001b[0m\u001b[0mvalue\u001b[0m \u001b[0;34m=\u001b[0m \u001b[0mstatement\u001b[0m\u001b[0;34m.\u001b[0m\u001b[0mget\u001b[0m\u001b[0;34m(\u001b[0m\u001b[0;34m'progress'\u001b[0m\u001b[0;34m,\u001b[0m \u001b[0;36m0.0\u001b[0m\u001b[0;34m)\u001b[0m\u001b[0;34m\u001b[0m\u001b[0;34m\u001b[0m\u001b[0m\n\u001b[0;32m---> 76\u001b[0;31m                 \u001b[0msession\u001b[0m\u001b[0;34m.\u001b[0m\u001b[0msleep\u001b[0m\u001b[0;34m(\u001b[0m\u001b[0mretries\u001b[0m\u001b[0;34m)\u001b[0m\u001b[0;34m\u001b[0m\u001b[0;34m\u001b[0m\u001b[0m\n\u001b[0m\u001b[1;32m     77\u001b[0m                 \u001b[0mretries\u001b[0m \u001b[0;34m+=\u001b[0m \u001b[0;36m1\u001b[0m\u001b[0;34m\u001b[0m\u001b[0;34m\u001b[0m\u001b[0m\n\u001b[1;32m     78\u001b[0m             \u001b[0;32melse\u001b[0m\u001b[0;34m:\u001b[0m\u001b[0;34m\u001b[0m\u001b[0;34m\u001b[0m\u001b[0m\n",
      "\u001b[0;32m/opt/conda/lib/python3.7/site-packages/sparkmagic/livyclientlib/livysession.py\u001b[0m in \u001b[0;36msleep\u001b[0;34m(self, retries)\u001b[0m\n\u001b[1;32m    280\u001b[0m \u001b[0;34m\u001b[0m\u001b[0m\n\u001b[1;32m    281\u001b[0m     \u001b[0;32mdef\u001b[0m \u001b[0msleep\u001b[0m\u001b[0;34m(\u001b[0m\u001b[0mself\u001b[0m\u001b[0;34m,\u001b[0m \u001b[0mretries\u001b[0m\u001b[0;34m)\u001b[0m\u001b[0;34m:\u001b[0m\u001b[0;34m\u001b[0m\u001b[0;34m\u001b[0m\u001b[0m\n\u001b[0;32m--> 282\u001b[0;31m         \u001b[0msleep\u001b[0m\u001b[0;34m(\u001b[0m\u001b[0mself\u001b[0m\u001b[0;34m.\u001b[0m\u001b[0m_policy\u001b[0m\u001b[0;34m.\u001b[0m\u001b[0mseconds_to_sleep\u001b[0m\u001b[0;34m(\u001b[0m\u001b[0mretries\u001b[0m\u001b[0;34m)\u001b[0m\u001b[0;34m)\u001b[0m\u001b[0;34m\u001b[0m\u001b[0;34m\u001b[0m\u001b[0m\n\u001b[0m\u001b[1;32m    283\u001b[0m \u001b[0;34m\u001b[0m\u001b[0m\n\u001b[1;32m    284\u001b[0m     \u001b[0;31m# This function will refresh the status and get the logs in a single call.\u001b[0m\u001b[0;34m\u001b[0m\u001b[0;34m\u001b[0m\u001b[0;34m\u001b[0m\u001b[0m\n",
      "\u001b[0;31mKeyboardInterrupt\u001b[0m: "
     ]
    }
   ],
   "source": [
    "#zero null valyes in label column\n",
    "\n",
    "sdf_train.select([count(when(isnan(\"Response\"),True))]).show()"
   ]
  },
  {
   "cell_type": "markdown",
   "metadata": {},
   "source": [
    "### Condensing the response 0 values down a bit "
   ]
  },
  {
   "cell_type": "code",
   "execution_count": 3,
   "metadata": {},
   "outputs": [
    {
     "data": {
      "application/vnd.jupyter.widget-view+json": {
       "model_id": "ea4b7d236f834b52bb784607831b196f",
       "version_major": 2,
       "version_minor": 0
      },
      "text/plain": [
       "VBox()"
      ]
     },
     "metadata": {},
     "output_type": "display_data"
    },
    {
     "data": {
      "application/vnd.jupyter.widget-view+json": {
       "model_id": "",
       "version_major": 2,
       "version_minor": 0
      },
      "text/plain": [
       "FloatProgress(value=0.0, bar_style='info', description='Progress:', layout=Layout(height='25px', width='50%'),…"
      ]
     },
     "metadata": {},
     "output_type": "display_data"
    }
   ],
   "source": [
    "dfs_train_numeric.createOrReplaceTempView(\"table\")"
   ]
  },
  {
   "cell_type": "code",
   "execution_count": 4,
   "metadata": {},
   "outputs": [
    {
     "data": {
      "application/vnd.jupyter.widget-view+json": {
       "model_id": "7c6ded925eb345b2a0965cbc2e0e212d",
       "version_major": 2,
       "version_minor": 0
      },
      "text/plain": [
       "VBox()"
      ]
     },
     "metadata": {},
     "output_type": "display_data"
    },
    {
     "data": {
      "application/vnd.jupyter.widget-view+json": {
       "model_id": "",
       "version_major": 2,
       "version_minor": 0
      },
      "text/plain": [
       "FloatProgress(value=0.0, bar_style='info', description='Progress:', layout=Layout(height='25px', width='50%'),…"
      ]
     },
     "metadata": {},
     "output_type": "display_data"
    },
    {
     "name": "stdout",
     "output_type": "stream",
     "text": [
      "+--------+--------+\n",
      "|response|count(1)|\n",
      "+--------+--------+\n",
      "|       1|    6879|\n",
      "|       0| 1176868|\n",
      "+--------+--------+"
     ]
    }
   ],
   "source": [
    "sqlContext.sql(\"select response,count(*) from table group by response\").show()"
   ]
  },
  {
   "cell_type": "code",
   "execution_count": 5,
   "metadata": {},
   "outputs": [
    {
     "data": {
      "application/vnd.jupyter.widget-view+json": {
       "model_id": "473c2fa535b048d594ed4a1dd5af86d8",
       "version_major": 2,
       "version_minor": 0
      },
      "text/plain": [
       "VBox()"
      ]
     },
     "metadata": {},
     "output_type": "display_data"
    },
    {
     "data": {
      "application/vnd.jupyter.widget-view+json": {
       "model_id": "",
       "version_major": 2,
       "version_minor": 0
      },
      "text/plain": [
       "FloatProgress(value=0.0, bar_style='info', description='Progress:', layout=Layout(height='25px', width='50%'),…"
      ]
     },
     "metadata": {},
     "output_type": "display_data"
    }
   ],
   "source": [
    "filtered_dfs_train = sqlContext.sql(\"\"\"(select * from table where response = 1)\n",
    "                                       union      \n",
    "                                       (select * from table where response = 0 limit 10000)\"\"\")\n",
    "\n"
   ]
  },
  {
   "cell_type": "code",
   "execution_count": 6,
   "metadata": {},
   "outputs": [
    {
     "data": {
      "application/vnd.jupyter.widget-view+json": {
       "model_id": "d671e22909b548afbcf3c6ae28801849",
       "version_major": 2,
       "version_minor": 0
      },
      "text/plain": [
       "VBox()"
      ]
     },
     "metadata": {},
     "output_type": "display_data"
    },
    {
     "data": {
      "application/vnd.jupyter.widget-view+json": {
       "model_id": "",
       "version_major": 2,
       "version_minor": 0
      },
      "text/plain": [
       "FloatProgress(value=0.0, bar_style='info', description='Progress:', layout=Layout(height='25px', width='50%'),…"
      ]
     },
     "metadata": {},
     "output_type": "display_data"
    }
   ],
   "source": [
    "sdf_train,sdf_test = filtered_dfs_train.randomSplit([0.8, 0.2])"
   ]
  },
  {
   "cell_type": "code",
   "execution_count": 22,
   "metadata": {},
   "outputs": [
    {
     "data": {
      "application/vnd.jupyter.widget-view+json": {
       "model_id": "9759aae1a60b486c85b02f97648c7177",
       "version_major": 2,
       "version_minor": 0
      },
      "text/plain": [
       "VBox()"
      ]
     },
     "metadata": {},
     "output_type": "display_data"
    },
    {
     "data": {
      "application/vnd.jupyter.widget-view+json": {
       "model_id": "",
       "version_major": 2,
       "version_minor": 0
      },
      "text/plain": [
       "FloatProgress(value=0.0, bar_style='info', description='Progress:', layout=Layout(height='25px', width='50%'),…"
      ]
     },
     "metadata": {},
     "output_type": "display_data"
    }
   ],
   "source": [
    "input_cols_wrangle = sdf_train.columns[1:-1]\n",
    "\n",
    "\n",
    "def process(df):\n",
    "    # row_count for threshold below\n",
    "    col_thresh = df.count() - 1 \n",
    "    \n",
    "    #Remove Columns of all Nulls and/or NaNs\n",
    "    null_counts = df.select([F.count(F.when(isnan(c) | F.col(c).isNull(), c)).alias(c) for c in df.columns]).collect()[0].asDict()\n",
    "    to_drop = [k for k, v in null_counts.items() if v > col_thresh]\n",
    "    df = df.drop(*to_drop)\n",
    "    \n",
    "    #Remove Rows of all Nulls and/or NaNs\n",
    "    df = df.na.drop(thresh=1)\n",
    "    \n",
    "    #Cast all values as double floats\n",
    "    df = df.select([col(c).cast(\"double\") for c in df.columns])\n",
    "    \n",
    "    #Impute all values \n",
    "    imputer = Imputer(\n",
    "    inputCols=input_cols_wrangle, \n",
    "    outputCols=[\"{}_imputed\".format(c) for c in df[input_cols_wrangle]]\n",
    "    )\n",
    "    df = imputer.fit(df).transform(df)\n",
    "    \n",
    "    #Vectorize all values\n",
    "    vec_cols = df[imputer.getOutputCols()].columns\n",
    "    assembler = VectorAssembler(\n",
    "    inputCols = vec_cols,\n",
    "    outputCol = \"Features\"\n",
    "    )\n",
    "    df = assembler.transform(df)\n",
    "    \n",
    "    #Scale all values\n",
    "    scaler = MinMaxScaler(inputCol=\"Features\", outputCol=\"scaledFeatures\")\n",
    "    scalerModel = scaler.fit(df)\n",
    "    df = scalerModel.transform(df)\n",
    "    \n",
    "    return df"
   ]
  },
  {
   "cell_type": "code",
   "execution_count": 23,
   "metadata": {},
   "outputs": [
    {
     "data": {
      "application/vnd.jupyter.widget-view+json": {
       "model_id": "1c8e5b086ce7459e9b5007fc6efcec2c",
       "version_major": 2,
       "version_minor": 0
      },
      "text/plain": [
       "VBox()"
      ]
     },
     "metadata": {},
     "output_type": "display_data"
    },
    {
     "data": {
      "application/vnd.jupyter.widget-view+json": {
       "model_id": "",
       "version_major": 2,
       "version_minor": 0
      },
      "text/plain": [
       "FloatProgress(value=0.0, bar_style='info', description='Progress:', layout=Layout(height='25px', width='50%'),…"
      ]
     },
     "metadata": {},
     "output_type": "display_data"
    }
   ],
   "source": [
    "sdf_train_processed = process(sdf_train)\n",
    "sdf_test_processed = process(sdf_test)"
   ]
  },
  {
   "cell_type": "markdown",
   "metadata": {},
   "source": [
    "### Revealed the impracticality of using the category columns due to too many nulls "
   ]
  },
  {
   "cell_type": "code",
   "execution_count": null,
   "metadata": {
    "jupyter": {
     "source_hidden": true
    }
   },
   "outputs": [],
   "source": [
    "input_cols_wrangle = sdf_train.columns[1:-1]\n",
    "\n",
    "\n",
    "def process_cat(df):\n",
    "#     # row_count for threshold below\n",
    "#     col_thresh = df.count() - 1 \n",
    "    \n",
    "#     #Remove Columns of all Nulls and/or NaNs\n",
    "#     null_counts = df.select([F.count(F.when(isnan(c) | F.col(c).isNull(), c)).alias(c) for c in df.columns]).collect()[0].asDict()\n",
    "#     to_drop = [k for k, v in null_counts.items() if v > col_thresh]\n",
    "#     df = df.drop(*to_drop)\n",
    "    \n",
    "#     #Remove Rows of all Nulls and/or NaNs\n",
    "#     df = df.na.drop(thresh=1)\n",
    "    \n",
    "    #Cast all values as double floats\n",
    "    df = df.select([col(c).cast(\"double\") for c in df.columns])\n",
    "    \n",
    "    #Impute all values \n",
    "    imputer = Imputer(\n",
    "    inputCols=input_cols_wrangle, \n",
    "    outputCols=[\"{}_imputed\".format(c) for c in df[input_cols_wrangle]]\n",
    "    )\n",
    "    df = imputer.fit(df).transform(df)\n",
    "    \n",
    "    #Vectorize all values\n",
    "    vec_cols = df[imputer.getOutputCols()].columns\n",
    "    assembler = VectorAssembler(\n",
    "    inputCols = vec_cols,\n",
    "    outputCol = \"Features\"\n",
    "    )\n",
    "    df = assembler.transform(df)\n",
    "    \n",
    "#     #Scale all values\n",
    "#     scaler = MinMaxScaler(inputCol=\"Features\", outputCol=\"scaledFeatures\")\n",
    "#     scalerModel = scaler.fit(df)\n",
    "#     df = scalerModel.transform(df)\n",
    "    \n",
    "    return df"
   ]
  },
  {
   "cell_type": "code",
   "execution_count": 250,
   "metadata": {
    "collapsed": true,
    "jupyter": {
     "outputs_hidden": true,
     "source_hidden": true
    }
   },
   "outputs": [
    {
     "data": {
      "application/vnd.jupyter.widget-view+json": {
       "model_id": "69d390b5991044fe8c412b3a21d07d5d",
       "version_major": 2,
       "version_minor": 0
      },
      "text/plain": [
       "VBox()"
      ]
     },
     "metadata": {},
     "output_type": "display_data"
    },
    {
     "data": {
      "application/vnd.jupyter.widget-view+json": {
       "model_id": "",
       "version_major": 2,
       "version_minor": 0
      },
      "text/plain": [
       "FloatProgress(value=0.0, bar_style='info', description='Progress:', layout=Layout(height='25px', width='50%'),…"
      ]
     },
     "metadata": {},
     "output_type": "display_data"
    },
    {
     "name": "stdout",
     "output_type": "stream",
     "text": [
      "+---------+\n",
      "|L0_S3_F69|\n",
      "+---------+\n",
      "|     null|\n",
      "|     null|\n",
      "|     null|\n",
      "|     null|\n",
      "|     null|\n",
      "|     null|\n",
      "|     null|\n",
      "|     null|\n",
      "|     null|\n",
      "|     null|\n",
      "|     null|\n",
      "|     null|\n",
      "|     null|\n",
      "|     null|\n",
      "|     null|\n",
      "|     null|\n",
      "|     null|\n",
      "|     null|\n",
      "|     null|\n",
      "|     null|\n",
      "|     null|\n",
      "|     null|\n",
      "|     null|\n",
      "|     null|\n",
      "|     null|\n",
      "|     null|\n",
      "|     null|\n",
      "|     null|\n",
      "|     null|\n",
      "|     null|\n",
      "|     null|\n",
      "|     null|\n",
      "|     null|\n",
      "|     null|\n",
      "|     null|\n",
      "|     null|\n",
      "|     null|\n",
      "|     null|\n",
      "|     null|\n",
      "|     null|\n",
      "|     null|\n",
      "|     null|\n",
      "|     null|\n",
      "|     null|\n",
      "|     null|\n",
      "|     null|\n",
      "|     null|\n",
      "|     null|\n",
      "|     null|\n",
      "|     null|\n",
      "|     null|\n",
      "|     null|\n",
      "|     null|\n",
      "|     null|\n",
      "|     null|\n",
      "|     null|\n",
      "|     null|\n",
      "|     null|\n",
      "|     null|\n",
      "|     null|\n",
      "|     null|\n",
      "|     null|\n",
      "|     null|\n",
      "|     null|\n",
      "|     null|\n",
      "|     null|\n",
      "|     null|\n",
      "|     null|\n",
      "|     null|\n",
      "|     null|\n",
      "|     null|\n",
      "|     null|\n",
      "|     null|\n",
      "|     null|\n",
      "|     null|\n",
      "|     null|\n",
      "|     null|\n",
      "|     null|\n",
      "|     null|\n",
      "|     null|\n",
      "|     null|\n",
      "|     null|\n",
      "|     null|\n",
      "|     null|\n",
      "|     null|\n",
      "|     null|\n",
      "|     null|\n",
      "|     null|\n",
      "|     null|\n",
      "|     null|\n",
      "|     null|\n",
      "|     null|\n",
      "|     null|\n",
      "|     null|\n",
      "|     null|\n",
      "|     null|\n",
      "|     null|\n",
      "|     null|\n",
      "|     null|\n",
      "|     null|\n",
      "|     null|\n",
      "|     null|\n",
      "|     null|\n",
      "|     null|\n",
      "|     null|\n",
      "|     null|\n",
      "|     null|\n",
      "|     null|\n",
      "|     null|\n",
      "|     null|\n",
      "|     null|\n",
      "|     null|\n",
      "|     null|\n",
      "|     null|\n",
      "|     null|\n",
      "|     null|\n",
      "|     null|\n",
      "|     null|\n",
      "|     null|\n",
      "|     null|\n",
      "|     null|\n",
      "|     null|\n",
      "|     null|\n",
      "|     null|\n",
      "|     null|\n",
      "|     null|\n",
      "|     null|\n",
      "|     null|\n",
      "|     null|\n",
      "|     null|\n",
      "|     null|\n",
      "|     null|\n",
      "|     null|\n",
      "|     null|\n",
      "|     null|\n",
      "|     null|\n",
      "|     null|\n",
      "|     null|\n",
      "|     null|\n",
      "|     null|\n",
      "|     null|\n",
      "|     null|\n",
      "|     null|\n",
      "|     null|\n",
      "|     null|\n",
      "|     null|\n",
      "|     null|\n",
      "|     null|\n",
      "|     null|\n",
      "|     null|\n",
      "|     null|\n",
      "|     null|\n",
      "|     null|\n",
      "|     null|\n",
      "|     null|\n",
      "|     null|\n",
      "|     null|\n",
      "|     null|\n",
      "|     null|\n",
      "|     null|\n",
      "|     null|\n",
      "|     null|\n",
      "|     null|\n",
      "|     null|\n",
      "|     null|\n",
      "|     null|\n",
      "|     null|\n",
      "|     null|\n",
      "|     null|\n",
      "|     null|\n",
      "|     null|\n",
      "|     null|\n",
      "|     null|\n",
      "|     null|\n",
      "|     null|\n",
      "|     null|\n",
      "|     null|\n",
      "|     null|\n",
      "|     null|\n",
      "|     null|\n",
      "|     null|\n",
      "|     null|\n",
      "|     null|\n",
      "|     null|\n",
      "|     null|\n",
      "|     null|\n",
      "|     null|\n",
      "|     null|\n",
      "|     null|\n",
      "|     null|\n",
      "|     null|\n",
      "|     null|\n",
      "|     null|\n",
      "|     null|\n",
      "|     null|\n",
      "|     null|\n",
      "|     null|\n",
      "|     null|\n",
      "|     null|\n",
      "|     null|\n",
      "|     null|\n",
      "|     null|\n",
      "|     null|\n",
      "|     null|\n",
      "|     null|\n",
      "|     null|\n",
      "|     null|\n",
      "|     null|\n",
      "|     null|\n",
      "|     null|\n",
      "|     null|\n",
      "|     null|\n",
      "|     null|\n",
      "|     null|\n",
      "|     null|\n",
      "|     null|\n",
      "|     null|\n",
      "|     null|\n",
      "|     null|\n",
      "|     null|\n",
      "|     null|\n",
      "|     null|\n",
      "|     null|\n",
      "|     null|\n",
      "|     null|\n",
      "|     null|\n",
      "|     null|\n",
      "|     null|\n",
      "|     null|\n",
      "|     null|\n",
      "|     null|\n",
      "|     null|\n",
      "|     null|\n",
      "|     null|\n",
      "|     null|\n",
      "|     null|\n",
      "|     null|\n",
      "|     null|\n",
      "|     null|\n",
      "|     null|\n",
      "|     null|\n",
      "|     null|\n",
      "|     null|\n",
      "|     null|\n",
      "|     null|\n",
      "|     null|\n",
      "|     null|\n",
      "|     null|\n",
      "|     null|\n",
      "|     null|\n",
      "|     null|\n",
      "|     null|\n",
      "|     null|\n",
      "|     null|\n",
      "|     null|\n",
      "|     null|\n",
      "|     null|\n",
      "|     null|\n",
      "|     null|\n",
      "|     null|\n",
      "|     null|\n",
      "|     null|\n",
      "|     null|\n",
      "|     null|\n",
      "|     null|\n",
      "|     null|\n",
      "|     null|\n",
      "|     null|\n",
      "|     null|\n",
      "|     null|\n",
      "|     null|\n",
      "|     null|\n",
      "|     null|\n",
      "|     null|\n",
      "|     null|\n",
      "|     null|\n",
      "|     null|\n",
      "|     null|\n",
      "|     null|\n",
      "|     null|\n",
      "|     null|\n",
      "|     null|\n",
      "|     null|\n",
      "|     null|\n",
      "|     null|\n",
      "|     null|\n",
      "|     null|\n",
      "|     null|\n",
      "|     null|\n",
      "|     null|\n",
      "|     null|\n",
      "|     null|\n",
      "|     null|\n",
      "|     null|\n",
      "|     null|\n",
      "|     null|\n",
      "|     null|\n",
      "|     null|\n",
      "|     null|\n",
      "|     null|\n",
      "|     null|\n",
      "|     null|\n",
      "|     null|\n",
      "|     null|\n",
      "|     null|\n",
      "|     null|\n",
      "|     null|\n",
      "|     null|\n",
      "|     null|\n",
      "|     null|\n",
      "|     null|\n",
      "|     null|\n",
      "|     null|\n",
      "|     null|\n",
      "|     null|\n",
      "|     null|\n",
      "|     null|\n",
      "|     null|\n",
      "|     null|\n",
      "|     null|\n",
      "|     null|\n",
      "|     null|\n",
      "|     null|\n",
      "|     null|\n",
      "|     null|\n",
      "|     null|\n",
      "|     null|\n",
      "|     null|\n",
      "|     null|\n",
      "|     null|\n",
      "|     null|\n",
      "|     null|\n",
      "|     null|\n",
      "|     null|\n",
      "|     null|\n",
      "|     null|\n",
      "|     null|\n",
      "|     null|\n",
      "|     null|\n",
      "|     null|\n",
      "|     null|\n",
      "|     null|\n",
      "|     null|\n",
      "|     null|\n",
      "|     null|\n",
      "|     null|\n",
      "|     null|\n",
      "|     null|\n",
      "|     null|\n",
      "|     null|\n",
      "|     null|\n",
      "|     null|\n",
      "|     null|\n",
      "|     null|\n",
      "|     null|\n",
      "|     null|\n",
      "|     null|\n",
      "|     null|\n",
      "|     null|\n",
      "|     null|\n",
      "|     null|\n",
      "|     null|\n",
      "|     null|\n",
      "|     null|\n",
      "|     null|\n",
      "|     null|\n",
      "|     null|\n",
      "|     null|\n",
      "|     null|\n",
      "|     null|\n",
      "|     null|\n",
      "|     null|\n",
      "|     null|\n",
      "|     null|\n",
      "|     null|\n",
      "|     null|\n",
      "|     null|\n",
      "|     null|\n",
      "|     null|\n",
      "|     null|\n",
      "|     null|\n",
      "|     null|\n",
      "|     null|\n",
      "|     null|\n",
      "|     null|\n",
      "|     null|\n",
      "|     null|\n",
      "|     null|\n",
      "|     null|\n",
      "|     null|\n",
      "|     null|\n",
      "|     null|\n",
      "|     null|\n",
      "|     null|\n",
      "|     null|\n",
      "|     null|\n",
      "|     null|\n",
      "|     null|\n",
      "|     null|\n",
      "|     null|\n",
      "|     null|\n",
      "|     null|\n",
      "|     null|\n",
      "|     null|\n",
      "|     null|\n",
      "|     null|\n",
      "|     null|\n",
      "|     null|\n",
      "|     null|\n",
      "|     null|\n",
      "|     null|\n",
      "|     null|\n",
      "|     null|\n",
      "|     null|\n",
      "|     null|\n",
      "|     null|\n",
      "|     null|\n",
      "|     null|\n",
      "|     null|\n",
      "|     null|\n",
      "|     null|\n",
      "|     null|\n",
      "|     null|\n",
      "|     null|\n",
      "|     null|\n",
      "|     null|\n",
      "|     null|\n",
      "|     null|\n",
      "|     null|\n",
      "|     null|\n",
      "|     null|\n",
      "|     null|\n",
      "|     null|\n",
      "|     null|\n",
      "|     null|\n",
      "|     null|\n",
      "|     null|\n",
      "|     null|\n",
      "|     null|\n",
      "|     null|\n",
      "|     null|\n",
      "|     null|\n",
      "|     null|\n",
      "|     null|\n",
      "|     null|\n",
      "|     null|\n",
      "|     null|\n",
      "|     null|\n",
      "|     null|\n",
      "|     null|\n",
      "|     null|\n",
      "|     null|\n",
      "|     null|\n",
      "|     null|\n",
      "|     null|\n",
      "|     null|\n",
      "|     null|\n",
      "|     null|\n",
      "|     null|\n",
      "|     null|\n",
      "|     null|\n",
      "|     null|\n",
      "|     null|\n",
      "|     null|\n",
      "|     null|\n",
      "|     null|\n",
      "|     null|\n",
      "|     null|\n",
      "|     null|\n",
      "|     null|\n",
      "|     null|\n",
      "|     null|\n",
      "|     null|\n",
      "|     null|\n",
      "|     null|\n",
      "|     null|\n",
      "|     null|\n",
      "|     null|\n",
      "|     null|\n",
      "|     null|\n",
      "|     null|\n",
      "|     null|\n",
      "|     null|\n",
      "|     null|\n",
      "|     null|\n",
      "|     null|\n",
      "|     null|\n",
      "|     null|\n",
      "|     null|\n",
      "|     null|\n",
      "|     null|\n",
      "|     null|\n",
      "|     null|\n",
      "|     null|\n",
      "|     null|\n",
      "|     null|\n",
      "|     null|\n",
      "|     null|\n",
      "|     null|\n",
      "|     null|\n",
      "|     null|\n",
      "|     null|\n",
      "|     null|\n",
      "|     null|\n",
      "|     null|\n",
      "|     null|\n",
      "|     null|\n",
      "|     null|\n",
      "|     null|\n",
      "|     null|\n",
      "|     null|\n",
      "|     null|\n",
      "|     null|\n",
      "|     null|\n",
      "|     null|\n",
      "|     null|\n",
      "|     null|\n",
      "|     null|\n",
      "|     null|\n",
      "|     null|\n",
      "|     null|\n",
      "|     null|\n",
      "|     null|\n",
      "|     null|\n",
      "|     null|\n",
      "|     null|\n",
      "|     null|\n",
      "|     null|\n",
      "|     null|\n",
      "|     null|\n",
      "|     null|\n",
      "|     null|\n",
      "|     null|\n",
      "|     null|\n",
      "|     null|\n",
      "|     null|\n",
      "|     null|\n",
      "|     null|\n",
      "|     null|\n",
      "|     null|\n",
      "|     null|\n",
      "|     null|\n",
      "|     null|\n",
      "|     null|\n",
      "|     null|\n",
      "|     null|\n",
      "|     null|\n",
      "|     null|\n",
      "|     null|\n",
      "|     null|\n",
      "|     null|\n",
      "|     null|\n",
      "|     null|\n",
      "|     null|\n",
      "|     null|\n",
      "|     null|\n",
      "|     null|\n",
      "|     null|\n",
      "|     null|\n",
      "|     null|\n",
      "|     null|\n",
      "|     null|\n",
      "|     null|\n",
      "|     null|\n",
      "|     null|\n",
      "|     null|\n",
      "|     null|\n",
      "|     null|\n",
      "|     null|\n",
      "|     null|\n",
      "|     null|\n",
      "|     null|\n",
      "|     null|\n",
      "|     null|\n",
      "|     null|\n",
      "|     null|\n",
      "|     null|\n",
      "|     null|\n",
      "|     null|\n",
      "|     null|\n",
      "|     null|\n",
      "|     null|\n",
      "|     null|\n",
      "|     null|\n",
      "|     null|\n",
      "|     null|\n",
      "|     null|\n",
      "|     null|\n",
      "|     null|\n",
      "|     null|\n",
      "|     null|\n",
      "|     null|\n",
      "|     null|\n",
      "|     null|\n",
      "|     null|\n",
      "|     null|\n",
      "|     null|\n",
      "|     null|\n",
      "|     null|\n",
      "|     null|\n",
      "|     null|\n",
      "|     null|\n",
      "|     null|\n",
      "|     null|\n",
      "|     null|\n",
      "|     null|\n",
      "|     null|\n",
      "|     null|\n",
      "|     null|\n",
      "|     null|\n",
      "|     null|\n",
      "|     null|\n",
      "|     null|\n",
      "|     null|\n",
      "|     null|\n",
      "|     null|\n",
      "|     null|\n",
      "|     null|\n",
      "|     null|\n",
      "|     null|\n",
      "|     null|\n",
      "|     null|\n",
      "|     null|\n",
      "|     null|\n",
      "|     null|\n",
      "|     null|\n",
      "|     null|\n",
      "|     null|\n",
      "|     null|\n",
      "|     null|\n",
      "|     null|\n",
      "|     null|\n",
      "|     null|\n",
      "|     null|\n",
      "|     null|\n",
      "|     null|\n",
      "|     null|\n",
      "|     null|\n",
      "|     null|\n",
      "|     null|\n",
      "|     null|\n",
      "|     null|\n",
      "|     null|\n",
      "|     null|\n",
      "|     null|\n",
      "|     null|\n",
      "|     null|\n",
      "|     null|\n",
      "|     null|\n",
      "|     null|\n",
      "|     null|\n",
      "|     null|\n",
      "|     null|\n",
      "|     null|\n",
      "|     null|\n",
      "|     null|\n",
      "|     null|\n",
      "|     null|\n",
      "|     null|\n",
      "|     null|\n",
      "|     null|\n",
      "|     null|\n",
      "|     null|\n",
      "|     null|\n",
      "|     null|\n",
      "|     null|\n",
      "|     null|\n",
      "|     null|\n",
      "|     null|\n",
      "|     null|\n",
      "|     null|\n",
      "|     null|\n",
      "|     null|\n",
      "|     null|\n",
      "|     null|\n",
      "|     null|\n",
      "|     null|\n",
      "|     null|\n",
      "|     null|\n",
      "|     null|\n",
      "|     null|\n",
      "|     null|\n",
      "|     null|\n",
      "|     null|\n",
      "|     null|\n",
      "|     null|\n",
      "|     null|\n",
      "|     null|\n",
      "|     null|\n",
      "|     null|\n",
      "|     null|\n",
      "|     null|\n",
      "|     null|\n",
      "|     null|\n",
      "|     null|\n",
      "|     null|\n",
      "|     null|\n",
      "|     null|\n",
      "|     null|\n",
      "|     null|\n",
      "|     null|\n",
      "|     null|\n",
      "|     null|\n",
      "|     null|\n",
      "|     null|\n",
      "|     null|\n",
      "|     null|\n",
      "|     null|\n",
      "|     null|\n",
      "|     null|\n",
      "|     null|\n",
      "|     null|\n",
      "|     null|\n",
      "|     null|\n",
      "|     null|\n",
      "|     null|\n",
      "|     null|\n",
      "|     null|\n",
      "|     null|\n",
      "|     null|\n",
      "|     null|\n",
      "|     null|\n",
      "|     null|\n",
      "|     null|\n",
      "|     null|\n",
      "|     null|\n",
      "|     null|\n",
      "|     null|\n",
      "|     null|\n",
      "|     null|\n",
      "|     null|\n",
      "|     null|\n",
      "|     null|\n",
      "|     null|\n",
      "|     null|\n",
      "|     null|\n",
      "|     null|\n",
      "|     null|\n",
      "|     null|\n",
      "|     null|\n",
      "|     null|\n",
      "|     null|\n",
      "|     null|\n",
      "|     null|\n",
      "|     null|\n",
      "|     null|\n",
      "|     null|\n",
      "|     null|\n",
      "|     null|\n",
      "|     null|\n",
      "|     null|\n",
      "|     null|\n",
      "|     null|\n",
      "|     null|\n",
      "|     null|\n",
      "|     null|\n",
      "|     null|\n",
      "|     null|\n",
      "|     null|\n",
      "|     null|\n",
      "|     null|\n",
      "|     null|\n",
      "|     null|\n",
      "|     null|\n",
      "|     null|\n",
      "|     null|\n",
      "|     null|\n",
      "|     null|\n",
      "|     null|\n",
      "|     null|\n",
      "|     null|\n",
      "|     null|\n",
      "|     null|\n",
      "|     null|\n",
      "|     null|\n",
      "|     null|\n",
      "|     null|\n",
      "|     null|\n",
      "|     null|\n",
      "|     null|\n",
      "|     null|\n",
      "|     null|\n",
      "|     null|\n",
      "|     null|\n",
      "|     null|\n",
      "|     null|\n",
      "|     null|\n",
      "|     null|\n",
      "|     null|\n",
      "|     null|\n",
      "|     null|\n",
      "|     null|\n",
      "|     null|\n",
      "|     null|\n",
      "|     null|\n",
      "|     null|\n",
      "|     null|\n",
      "|     null|\n",
      "|     null|\n",
      "|     null|\n",
      "|     null|\n",
      "|     null|\n",
      "|     null|\n",
      "|     null|\n",
      "|     null|\n",
      "|     null|\n",
      "|     null|\n",
      "|     null|\n",
      "|     null|\n",
      "|     null|\n",
      "|     null|\n",
      "|     null|\n",
      "|     null|\n",
      "|     null|\n",
      "|     null|\n",
      "|     null|\n",
      "|     null|\n",
      "|     null|\n",
      "|     null|\n",
      "|     null|\n",
      "|     null|\n",
      "|     null|\n",
      "|     null|\n",
      "|     null|\n",
      "|     null|\n",
      "|     null|\n",
      "|     null|\n",
      "|     null|\n",
      "|     null|\n",
      "|     null|\n",
      "|     null|\n",
      "|     null|\n",
      "|     null|\n",
      "|     null|\n",
      "|     null|\n",
      "|     null|\n",
      "|     null|\n",
      "|     null|\n",
      "|     null|\n",
      "|     null|\n",
      "|     null|\n",
      "|     null|\n",
      "|     null|\n",
      "|     null|\n",
      "|     null|\n",
      "|     null|\n",
      "|     null|\n",
      "|     null|\n",
      "|     null|\n",
      "|     null|\n",
      "|     null|\n",
      "|     null|\n",
      "|     null|\n",
      "|     null|\n",
      "|     null|\n",
      "|     null|\n",
      "|     null|\n",
      "|     null|\n",
      "|     null|\n",
      "|     null|\n",
      "|     null|\n",
      "|     null|\n",
      "|     null|\n",
      "|     null|\n",
      "|     null|\n",
      "|     null|\n",
      "|     null|\n",
      "|     null|\n",
      "|     null|\n",
      "|     null|\n",
      "|     null|\n",
      "|     null|\n",
      "|     null|\n",
      "|     null|\n",
      "|     null|\n",
      "|     null|\n",
      "|     null|\n",
      "|     null|\n",
      "|     null|\n",
      "|     null|\n",
      "|     null|\n",
      "|     null|\n",
      "|     null|\n",
      "|     null|\n",
      "|     null|\n",
      "|     null|\n",
      "|     null|\n",
      "|     null|\n",
      "|     null|\n",
      "|     null|\n",
      "|     null|\n",
      "|     null|\n",
      "|     null|\n",
      "|     null|\n",
      "|     null|\n",
      "|     null|\n",
      "|     null|\n",
      "|     null|\n",
      "|     null|\n",
      "|     null|\n",
      "|     null|\n",
      "|     null|\n",
      "|     null|\n",
      "|     null|\n",
      "|     null|\n",
      "|     null|\n",
      "|     null|\n",
      "|     null|\n",
      "|     null|\n",
      "|     null|\n",
      "|     null|\n",
      "|     null|\n",
      "|     null|\n",
      "|     null|\n",
      "|     null|\n",
      "|     null|\n",
      "|     null|\n",
      "|     null|\n",
      "|     null|\n",
      "|     null|\n",
      "|     null|\n",
      "|     null|\n",
      "|     null|\n",
      "|     null|\n",
      "|     null|\n",
      "|     null|\n",
      "|     null|\n",
      "|     null|\n",
      "|     null|\n",
      "|     null|\n",
      "|     null|\n",
      "|     null|\n",
      "|     null|\n",
      "|     null|\n",
      "|     null|\n",
      "|     null|\n",
      "|     null|\n",
      "|     null|\n",
      "|     null|\n",
      "|     null|\n",
      "|     null|\n",
      "|     null|\n",
      "|     null|\n",
      "|     null|\n",
      "|     null|\n",
      "|     null|\n",
      "|     null|\n",
      "|     null|\n",
      "|     null|\n",
      "|     null|\n",
      "|     null|\n",
      "|     null|\n",
      "|     null|\n",
      "|     null|\n",
      "|     null|\n",
      "|     null|\n",
      "|     null|\n",
      "|     null|\n",
      "|     null|\n",
      "|     null|\n",
      "|     null|\n",
      "|     null|\n",
      "|     null|\n",
      "|     null|\n",
      "|     null|\n",
      "|     null|\n",
      "|     null|\n",
      "|     null|\n",
      "|     null|\n",
      "|     null|\n",
      "|     null|\n",
      "|     null|\n",
      "|     null|\n",
      "|     null|\n",
      "|     null|\n",
      "|     null|\n",
      "|     null|\n",
      "|     null|\n",
      "|     null|\n",
      "|     null|\n",
      "|     null|\n",
      "|     null|\n",
      "|     null|\n",
      "|     null|\n",
      "|     null|\n",
      "|     null|\n",
      "|     null|\n",
      "|     null|\n",
      "|     null|\n",
      "|     null|\n",
      "|     null|\n",
      "|     null|\n",
      "|     null|\n",
      "|     null|\n",
      "|     null|\n",
      "|     null|\n",
      "|     null|\n",
      "|     null|\n",
      "|     null|\n",
      "|     null|\n",
      "+---------+\n",
      "only showing top 1000 rows"
     ]
    }
   ],
   "source": [
    "sdf_train.select(\"L0_S3_F69\").show(1000)"
   ]
  },
  {
   "cell_type": "code",
   "execution_count": 233,
   "metadata": {
    "jupyter": {
     "source_hidden": true
    }
   },
   "outputs": [
    {
     "data": {
      "application/vnd.jupyter.widget-view+json": {
       "model_id": "ae3f18bea178468dafca0a6b89332daa",
       "version_major": 2,
       "version_minor": 0
      },
      "text/plain": [
       "VBox()"
      ]
     },
     "metadata": {},
     "output_type": "display_data"
    },
    {
     "data": {
      "application/vnd.jupyter.widget-view+json": {
       "model_id": "",
       "version_major": 2,
       "version_minor": 0
      },
      "text/plain": [
       "FloatProgress(value=0.0, bar_style='info', description='Progress:', layout=Layout(height='25px', width='50%'),…"
      ]
     },
     "metadata": {},
     "output_type": "display_data"
    }
   ],
   "source": [
    "# len(sdf_train_processed.columns)"
   ]
  },
  {
   "cell_type": "markdown",
   "metadata": {},
   "source": [
    "# Vectorization Was A Success "
   ]
  },
  {
   "cell_type": "code",
   "execution_count": 24,
   "metadata": {},
   "outputs": [
    {
     "data": {
      "application/vnd.jupyter.widget-view+json": {
       "model_id": "e713c56aa8844d6087f7d5c0caf598a3",
       "version_major": 2,
       "version_minor": 0
      },
      "text/plain": [
       "VBox()"
      ]
     },
     "metadata": {},
     "output_type": "display_data"
    },
    {
     "data": {
      "application/vnd.jupyter.widget-view+json": {
       "model_id": "",
       "version_major": 2,
       "version_minor": 0
      },
      "text/plain": [
       "FloatProgress(value=0.0, bar_style='info', description='Progress:', layout=Layout(height='25px', width='50%'),…"
      ]
     },
     "metadata": {},
     "output_type": "display_data"
    },
    {
     "name": "stdout",
     "output_type": "stream",
     "text": [
      "+--------------------+--------------------+--------+\n",
      "|            Features|      scaledFeatures|Response|\n",
      "+--------------------+--------------------+--------+\n",
      "|[-0.095,-0.138,-0...|[0.36731107205623...|     1.0|\n",
      "|[0.00242157923201...|[0.53852650128649...|     1.0|\n",
      "|[0.036,0.078,-0.1...|[0.59753954305799...|     1.0|\n",
      "|[-0.003,-0.064,-0...|[0.52899824253075...|     1.0|\n",
      "|[0.082,0.078,-0.0...|[0.67838312829525...|     1.0|\n",
      "|[0.043,0.041,-0.0...|[0.60984182776801...|     1.0|\n",
      "|[-0.029,-0.064,-0...|[0.48330404217926...|     1.0|\n",
      "|[0.00242157923201...|[0.53852650128649...|     1.0|\n",
      "|[0.00242157923201...|[0.53852650128649...|     1.0|\n",
      "|[-0.036,-0.034,-0...|[0.47100175746924...|     1.0|\n",
      "|[-0.016,-0.019,-0...|[0.50615114235500...|     1.0|\n",
      "|[-0.121,-0.116,0....|[0.32161687170474...|     1.0|\n",
      "|[-0.062,-0.026,-0...|[0.42530755711775...|     1.0|\n",
      "|[0.049,0.026,-0.2...|[0.62038664323374...|     1.0|\n",
      "|[-0.036,-0.064,0....|[0.47100175746924...|     1.0|\n",
      "|[0.00242157923201...|[0.53852650128649...|     1.0|\n",
      "|[0.101,0.078,-0.0...|[0.71177504393673...|     1.0|\n",
      "|[-0.068,-0.034,0....|[0.41476274165202...|     0.0|\n",
      "|[0.00242157923201...|[0.53852650128649...|     0.0|\n",
      "|[0.075,0.175,0.33...|[0.66608084358523...|     0.0|\n",
      "+--------------------+--------------------+--------+\n",
      "only showing top 20 rows"
     ]
    }
   ],
   "source": [
    "# sdf_train_processed.limit(1).toPandas()[\"Features\"][0]\n",
    "\n",
    "sdf_train_processed.select(\"Features\", \"scaledFeatures\",\"Response\").show()"
   ]
  },
  {
   "cell_type": "markdown",
   "metadata": {},
   "source": [
    "# Ready For Machine Learning  "
   ]
  },
  {
   "cell_type": "markdown",
   "metadata": {},
   "source": [
    "## Trying Logistic Regression First "
   ]
  },
  {
   "cell_type": "code",
   "execution_count": 25,
   "metadata": {},
   "outputs": [
    {
     "data": {
      "application/vnd.jupyter.widget-view+json": {
       "model_id": "98e2de5689d242888f02677c513658f1",
       "version_major": 2,
       "version_minor": 0
      },
      "text/plain": [
       "VBox()"
      ]
     },
     "metadata": {},
     "output_type": "display_data"
    },
    {
     "data": {
      "application/vnd.jupyter.widget-view+json": {
       "model_id": "",
       "version_major": 2,
       "version_minor": 0
      },
      "text/plain": [
       "FloatProgress(value=0.0, bar_style='info', description='Progress:', layout=Layout(height='25px', width='50%'),…"
      ]
     },
     "metadata": {},
     "output_type": "display_data"
    }
   ],
   "source": [
    "lr = LogisticRegression(featuresCol='scaledFeatures', labelCol='Response')\n",
    "\n",
    "model = lr.fit(sdf_train_processed)"
   ]
  },
  {
   "cell_type": "code",
   "execution_count": 26,
   "metadata": {},
   "outputs": [
    {
     "data": {
      "application/vnd.jupyter.widget-view+json": {
       "model_id": "f17e4a476d51436f88688b72ddf725c8",
       "version_major": 2,
       "version_minor": 0
      },
      "text/plain": [
       "VBox()"
      ]
     },
     "metadata": {},
     "output_type": "display_data"
    },
    {
     "data": {
      "application/vnd.jupyter.widget-view+json": {
       "model_id": "",
       "version_major": 2,
       "version_minor": 0
      },
      "text/plain": [
       "FloatProgress(value=0.0, bar_style='info', description='Progress:', layout=Layout(height='25px', width='50%'),…"
      ]
     },
     "metadata": {},
     "output_type": "display_data"
    }
   ],
   "source": [
    "test_pred = model.transform(sdf_test_processed)"
   ]
  },
  {
   "cell_type": "code",
   "execution_count": 27,
   "metadata": {},
   "outputs": [
    {
     "data": {
      "application/vnd.jupyter.widget-view+json": {
       "model_id": "13146253a19e4f519fdf523ae05cc9bd",
       "version_major": 2,
       "version_minor": 0
      },
      "text/plain": [
       "VBox()"
      ]
     },
     "metadata": {},
     "output_type": "display_data"
    },
    {
     "data": {
      "application/vnd.jupyter.widget-view+json": {
       "model_id": "",
       "version_major": 2,
       "version_minor": 0
      },
      "text/plain": [
       "FloatProgress(value=0.0, bar_style='info', description='Progress:', layout=Layout(height='25px', width='50%'),…"
      ]
     },
     "metadata": {},
     "output_type": "display_data"
    },
    {
     "name": "stdout",
     "output_type": "stream",
     "text": [
      "    Response  prediction\n",
      "0        1.0         1.0\n",
      "1        1.0         1.0\n",
      "2        0.0         1.0\n",
      "3        0.0         1.0\n",
      "4        0.0         1.0\n",
      "..       ...         ...\n",
      "95       0.0         1.0\n",
      "96       0.0         1.0\n",
      "97       0.0         1.0\n",
      "98       0.0         1.0\n",
      "99       0.0         1.0\n",
      "\n",
      "[100 rows x 2 columns]"
     ]
    }
   ],
   "source": [
    "test_pred.limit(100).toPandas()[[\"Response\",\"prediction\"]]"
   ]
  },
  {
   "cell_type": "code",
   "execution_count": 28,
   "metadata": {},
   "outputs": [
    {
     "data": {
      "application/vnd.jupyter.widget-view+json": {
       "model_id": "32902deefe48411db0b0f1fbe253f674",
       "version_major": 2,
       "version_minor": 0
      },
      "text/plain": [
       "VBox()"
      ]
     },
     "metadata": {},
     "output_type": "display_data"
    },
    {
     "data": {
      "application/vnd.jupyter.widget-view+json": {
       "model_id": "",
       "version_major": 2,
       "version_minor": 0
      },
      "text/plain": [
       "FloatProgress(value=0.0, bar_style='info', description='Progress:', layout=Layout(height='25px', width='50%'),…"
      ]
     },
     "metadata": {},
     "output_type": "display_data"
    },
    {
     "name": "stdout",
     "output_type": "stream",
     "text": [
      "0.4998926018584703"
     ]
    }
   ],
   "source": [
    "evaluator = BinaryClassificationEvaluator(rawPredictionCol = \"prediction\",labelCol = \"Response\")\n",
    "evaluator.evaluate(test_pred)"
   ]
  },
  {
   "cell_type": "code",
   "execution_count": 29,
   "metadata": {},
   "outputs": [
    {
     "data": {
      "application/vnd.jupyter.widget-view+json": {
       "model_id": "8038b72c02e144a1a74eacdedddfd890",
       "version_major": 2,
       "version_minor": 0
      },
      "text/plain": [
       "VBox()"
      ]
     },
     "metadata": {},
     "output_type": "display_data"
    },
    {
     "data": {
      "application/vnd.jupyter.widget-view+json": {
       "model_id": "",
       "version_major": 2,
       "version_minor": 0
      },
      "text/plain": [
       "FloatProgress(value=0.0, bar_style='info', description='Progress:', layout=Layout(height='25px', width='50%'),…"
      ]
     },
     "metadata": {},
     "output_type": "display_data"
    },
    {
     "name": "stdout",
     "output_type": "stream",
     "text": [
      "'areaUnderROC'"
     ]
    }
   ],
   "source": [
    "evaluator.getMetricName()"
   ]
  },
  {
   "cell_type": "code",
   "execution_count": 30,
   "metadata": {},
   "outputs": [
    {
     "data": {
      "application/vnd.jupyter.widget-view+json": {
       "model_id": "201ae18918a344e7a4c8be794d8dea72",
       "version_major": 2,
       "version_minor": 0
      },
      "text/plain": [
       "VBox()"
      ]
     },
     "metadata": {},
     "output_type": "display_data"
    },
    {
     "data": {
      "application/vnd.jupyter.widget-view+json": {
       "model_id": "",
       "version_major": 2,
       "version_minor": 0
      },
      "text/plain": [
       "FloatProgress(value=0.0, bar_style='info', description='Progress:', layout=Layout(height='25px', width='50%'),…"
      ]
     },
     "metadata": {},
     "output_type": "display_data"
    }
   ],
   "source": [
    "df_test = test_pred[\"Response\",\"prediction\"].toPandas()"
   ]
  },
  {
   "cell_type": "code",
   "execution_count": 31,
   "metadata": {},
   "outputs": [
    {
     "data": {
      "application/vnd.jupyter.widget-view+json": {
       "model_id": "313baeccf6384df3bb594a6c2e87c196",
       "version_major": 2,
       "version_minor": 0
      },
      "text/plain": [
       "VBox()"
      ]
     },
     "metadata": {},
     "output_type": "display_data"
    },
    {
     "data": {
      "application/vnd.jupyter.widget-view+json": {
       "model_id": "",
       "version_major": 2,
       "version_minor": 0
      },
      "text/plain": [
       "FloatProgress(value=0.0, bar_style='info', description='Progress:', layout=Layout(height='25px', width='50%'),…"
      ]
     },
     "metadata": {},
     "output_type": "display_data"
    },
    {
     "name": "stdout",
     "output_type": "stream",
     "text": [
      "<class 'pandas.core.frame.DataFrame'>"
     ]
    }
   ],
   "source": [
    "type(df_test)"
   ]
  },
  {
   "cell_type": "code",
   "execution_count": 32,
   "metadata": {},
   "outputs": [
    {
     "data": {
      "application/vnd.jupyter.widget-view+json": {
       "model_id": "289e007f81d14a1aac459af57fbffd4b",
       "version_major": 2,
       "version_minor": 0
      },
      "text/plain": [
       "VBox()"
      ]
     },
     "metadata": {},
     "output_type": "display_data"
    },
    {
     "data": {
      "application/vnd.jupyter.widget-view+json": {
       "model_id": "",
       "version_major": 2,
       "version_minor": 0
      },
      "text/plain": [
       "FloatProgress(value=0.0, bar_style='info', description='Progress:', layout=Layout(height='25px', width='50%'),…"
      ]
     },
     "metadata": {},
     "output_type": "display_data"
    },
    {
     "name": "stdout",
     "output_type": "stream",
     "text": [
      "   Response  prediction\n",
      "0       1.0         1.0\n",
      "1       1.0         1.0\n",
      "2       1.0         1.0\n",
      "3       1.0         1.0\n",
      "4       1.0         1.0"
     ]
    }
   ],
   "source": [
    "df_test.head(5)"
   ]
  },
  {
   "cell_type": "code",
   "execution_count": 33,
   "metadata": {},
   "outputs": [
    {
     "data": {
      "application/vnd.jupyter.widget-view+json": {
       "model_id": "c2f35d7b389a43fcae516bce5926204b",
       "version_major": 2,
       "version_minor": 0
      },
      "text/plain": [
       "VBox()"
      ]
     },
     "metadata": {},
     "output_type": "display_data"
    },
    {
     "data": {
      "application/vnd.jupyter.widget-view+json": {
       "model_id": "",
       "version_major": 2,
       "version_minor": 0
      },
      "text/plain": [
       "FloatProgress(value=0.0, bar_style='info', description='Progress:', layout=Layout(height='25px', width='50%'),…"
      ]
     },
     "metadata": {},
     "output_type": "display_data"
    },
    {
     "name": "stdout",
     "output_type": "stream",
     "text": [
      "-0.004359009802517331"
     ]
    }
   ],
   "source": [
    "matthews_corrcoef(df_test[\"Response\"], df_test[\"prediction\"])"
   ]
  },
  {
   "cell_type": "code",
   "execution_count": 34,
   "metadata": {},
   "outputs": [
    {
     "data": {
      "application/vnd.jupyter.widget-view+json": {
       "model_id": "370b106375f6482aa290ecaeb304db61",
       "version_major": 2,
       "version_minor": 0
      },
      "text/plain": [
       "VBox()"
      ]
     },
     "metadata": {},
     "output_type": "display_data"
    },
    {
     "data": {
      "application/vnd.jupyter.widget-view+json": {
       "model_id": "",
       "version_major": 2,
       "version_minor": 0
      },
      "text/plain": [
       "FloatProgress(value=0.0, bar_style='info', description='Progress:', layout=Layout(height='25px', width='50%'),…"
      ]
     },
     "metadata": {},
     "output_type": "display_data"
    },
    {
     "name": "stdout",
     "output_type": "stream",
     "text": [
      "0.41159164460135333"
     ]
    }
   ],
   "source": [
    "accuracy_score(df_test[\"prediction\"],df_test[\"Response\"])"
   ]
  },
  {
   "cell_type": "code",
   "execution_count": 35,
   "metadata": {},
   "outputs": [
    {
     "data": {
      "application/vnd.jupyter.widget-view+json": {
       "model_id": "203903161bb84967b14efc778e01d8cd",
       "version_major": 2,
       "version_minor": 0
      },
      "text/plain": [
       "VBox()"
      ]
     },
     "metadata": {},
     "output_type": "display_data"
    },
    {
     "data": {
      "application/vnd.jupyter.widget-view+json": {
       "model_id": "",
       "version_major": 2,
       "version_minor": 0
      },
      "text/plain": [
       "FloatProgress(value=0.0, bar_style='info', description='Progress:', layout=Layout(height='25px', width='50%'),…"
      ]
     },
     "metadata": {},
     "output_type": "display_data"
    },
    {
     "name": "stdout",
     "output_type": "stream",
     "text": [
      "0.4115396309649478"
     ]
    }
   ],
   "source": [
    "average_precision_score(df_test[\"Response\"], df_test[\"prediction\"])"
   ]
  },
  {
   "cell_type": "markdown",
   "metadata": {},
   "source": [
    "## Trying Random Forest "
   ]
  },
  {
   "cell_type": "code",
   "execution_count": 36,
   "metadata": {},
   "outputs": [
    {
     "data": {
      "application/vnd.jupyter.widget-view+json": {
       "model_id": "2c4181791bb04f638372e518c598918e",
       "version_major": 2,
       "version_minor": 0
      },
      "text/plain": [
       "VBox()"
      ]
     },
     "metadata": {},
     "output_type": "display_data"
    },
    {
     "data": {
      "application/vnd.jupyter.widget-view+json": {
       "model_id": "",
       "version_major": 2,
       "version_minor": 0
      },
      "text/plain": [
       "FloatProgress(value=0.0, bar_style='info', description='Progress:', layout=Layout(height='25px', width='50%'),…"
      ]
     },
     "metadata": {},
     "output_type": "display_data"
    }
   ],
   "source": [
    "rf = RandomForestClassifier(featuresCol='scaledFeatures', labelCol='Response', numTrees=10)\n",
    "model = rf.fit(sdf_train_processed)"
   ]
  },
  {
   "cell_type": "code",
   "execution_count": 37,
   "metadata": {},
   "outputs": [
    {
     "data": {
      "application/vnd.jupyter.widget-view+json": {
       "model_id": "4711ecaa39a84b1cb17068384b18b92a",
       "version_major": 2,
       "version_minor": 0
      },
      "text/plain": [
       "VBox()"
      ]
     },
     "metadata": {},
     "output_type": "display_data"
    },
    {
     "data": {
      "application/vnd.jupyter.widget-view+json": {
       "model_id": "",
       "version_major": 2,
       "version_minor": 0
      },
      "text/plain": [
       "FloatProgress(value=0.0, bar_style='info', description='Progress:', layout=Layout(height='25px', width='50%'),…"
      ]
     },
     "metadata": {},
     "output_type": "display_data"
    }
   ],
   "source": [
    "predictions = model.transform(sdf_test_processed)"
   ]
  },
  {
   "cell_type": "code",
   "execution_count": 38,
   "metadata": {},
   "outputs": [
    {
     "data": {
      "application/vnd.jupyter.widget-view+json": {
       "model_id": "697bf6921bb8427e979c5c0216a67048",
       "version_major": 2,
       "version_minor": 0
      },
      "text/plain": [
       "VBox()"
      ]
     },
     "metadata": {},
     "output_type": "display_data"
    },
    {
     "data": {
      "application/vnd.jupyter.widget-view+json": {
       "model_id": "",
       "version_major": 2,
       "version_minor": 0
      },
      "text/plain": [
       "FloatProgress(value=0.0, bar_style='info', description='Progress:', layout=Layout(height='25px', width='50%'),…"
      ]
     },
     "metadata": {},
     "output_type": "display_data"
    },
    {
     "name": "stdout",
     "output_type": "stream",
     "text": [
      "0.5576880711778166"
     ]
    }
   ],
   "source": [
    "evaluator = BinaryClassificationEvaluator(rawPredictionCol = \"prediction\",labelCol = \"Response\")\n",
    "evaluator.evaluate(predictions)"
   ]
  },
  {
   "cell_type": "code",
   "execution_count": 39,
   "metadata": {},
   "outputs": [
    {
     "data": {
      "application/vnd.jupyter.widget-view+json": {
       "model_id": "aa2107415b3d4d56ba0fda46c050c357",
       "version_major": 2,
       "version_minor": 0
      },
      "text/plain": [
       "VBox()"
      ]
     },
     "metadata": {},
     "output_type": "display_data"
    },
    {
     "data": {
      "application/vnd.jupyter.widget-view+json": {
       "model_id": "",
       "version_major": 2,
       "version_minor": 0
      },
      "text/plain": [
       "FloatProgress(value=0.0, bar_style='info', description='Progress:', layout=Layout(height='25px', width='50%'),…"
      ]
     },
     "metadata": {},
     "output_type": "display_data"
    }
   ],
   "source": [
    "df_test2 = predictions[\"Response\",\"prediction\"].toPandas()"
   ]
  },
  {
   "cell_type": "code",
   "execution_count": 40,
   "metadata": {},
   "outputs": [
    {
     "data": {
      "application/vnd.jupyter.widget-view+json": {
       "model_id": "937ad5affefd44e5a2cac4ddfc576947",
       "version_major": 2,
       "version_minor": 0
      },
      "text/plain": [
       "VBox()"
      ]
     },
     "metadata": {},
     "output_type": "display_data"
    },
    {
     "data": {
      "application/vnd.jupyter.widget-view+json": {
       "model_id": "",
       "version_major": 2,
       "version_minor": 0
      },
      "text/plain": [
       "FloatProgress(value=0.0, bar_style='info', description='Progress:', layout=Layout(height='25px', width='50%'),…"
      ]
     },
     "metadata": {},
     "output_type": "display_data"
    },
    {
     "name": "stdout",
     "output_type": "stream",
     "text": [
      "0.1704262827799175"
     ]
    }
   ],
   "source": [
    "matthews_corrcoef(df_test2[\"Response\"], df_test2[\"prediction\"])"
   ]
  },
  {
   "cell_type": "code",
   "execution_count": 41,
   "metadata": {},
   "outputs": [
    {
     "data": {
      "application/vnd.jupyter.widget-view+json": {
       "model_id": "220a09b17d7d4f19ba8e568883dfb421",
       "version_major": 2,
       "version_minor": 0
      },
      "text/plain": [
       "VBox()"
      ]
     },
     "metadata": {},
     "output_type": "display_data"
    },
    {
     "data": {
      "application/vnd.jupyter.widget-view+json": {
       "model_id": "",
       "version_major": 2,
       "version_minor": 0
      },
      "text/plain": [
       "FloatProgress(value=0.0, bar_style='info', description='Progress:', layout=Layout(height='25px', width='50%'),…"
      ]
     },
     "metadata": {},
     "output_type": "display_data"
    },
    {
     "name": "stdout",
     "output_type": "stream",
     "text": [
      "0.6200822078684675"
     ]
    }
   ],
   "source": [
    "accuracy_score(df_test2[\"Response\"], df_test2[\"prediction\"])"
   ]
  },
  {
   "cell_type": "markdown",
   "metadata": {},
   "source": [
    "# Trying SVM  "
   ]
  },
  {
   "cell_type": "code",
   "execution_count": null,
   "metadata": {
    "jupyter": {
     "source_hidden": true
    }
   },
   "outputs": [],
   "source": [
    "model = SVMWithSGD.train(parsedData, iterations=100)"
   ]
  },
  {
   "cell_type": "code",
   "execution_count": 51,
   "metadata": {
    "jupyter": {
     "source_hidden": true
    }
   },
   "outputs": [
    {
     "data": {
      "application/vnd.jupyter.widget-view+json": {
       "model_id": "45e865041cfd4d64ab27cd74bdcb4e06",
       "version_major": 2,
       "version_minor": 0
      },
      "text/plain": [
       "VBox()"
      ]
     },
     "metadata": {},
     "output_type": "display_data"
    },
    {
     "data": {
      "application/vnd.jupyter.widget-view+json": {
       "model_id": "",
       "version_major": 2,
       "version_minor": 0
      },
      "text/plain": [
       "FloatProgress(value=0.0, bar_style='info', description='Progress:', layout=Layout(height='25px', width='50%'),…"
      ]
     },
     "metadata": {},
     "output_type": "display_data"
    }
   ],
   "source": [
    "data = [\n",
    "    LabeledPoint(0.0, [0.0]),\n",
    "    LabeledPoint(1.0, [1.0]),\n",
    "    LabeledPoint(1.0, [2.0]),\n",
    "    LabeledPoint(1.0, [3.0])\n",
    "]\n",
    "svm = SVMWithSGD.train(sc.parallelize(data), iterations=10)"
   ]
  },
  {
   "cell_type": "code",
   "execution_count": 72,
   "metadata": {
    "jupyter": {
     "source_hidden": true
    }
   },
   "outputs": [
    {
     "data": {
      "application/vnd.jupyter.widget-view+json": {
       "model_id": "f0eeacf1bc944e51a8ef844314e1d540",
       "version_major": 2,
       "version_minor": 0
      },
      "text/plain": [
       "VBox()"
      ]
     },
     "metadata": {},
     "output_type": "display_data"
    },
    {
     "data": {
      "application/vnd.jupyter.widget-view+json": {
       "model_id": "",
       "version_major": 2,
       "version_minor": 0
      },
      "text/plain": [
       "FloatProgress(value=0.0, bar_style='info', description='Progress:', layout=Layout(height='25px', width='50%'),…"
      ]
     },
     "metadata": {},
     "output_type": "display_data"
    },
    {
     "name": "stderr",
     "output_type": "stream",
     "text": [
      "'Column' object is not callable\n",
      "Traceback (most recent call last):\n",
      "TypeError: 'Column' object is not callable\n",
      "\n"
     ]
    }
   ],
   "source": [
    "svm = SVMWithSGD.train(sc.parallelize(sdf_train_processed[\"Features\"].show()), iterations=10)"
   ]
  },
  {
   "cell_type": "code",
   "execution_count": 81,
   "metadata": {
    "collapsed": true,
    "jupyter": {
     "outputs_hidden": true,
     "source_hidden": true
    }
   },
   "outputs": [
    {
     "data": {
      "application/vnd.jupyter.widget-view+json": {
       "model_id": "e42fb97ba49346fabd567b83b7fed4a1",
       "version_major": 2,
       "version_minor": 0
      },
      "text/plain": [
       "VBox()"
      ]
     },
     "metadata": {},
     "output_type": "display_data"
    },
    {
     "data": {
      "application/vnd.jupyter.widget-view+json": {
       "model_id": "",
       "version_major": 2,
       "version_minor": 0
      },
      "text/plain": [
       "FloatProgress(value=0.0, bar_style='info', description='Progress:', layout=Layout(height='25px', width='50%'),…"
      ]
     },
     "metadata": {},
     "output_type": "display_data"
    },
    {
     "name": "stdout",
     "output_type": "stream",
     "text": [
      "+--------------------+\n",
      "|      scaledFeatures|\n",
      "+--------------------+\n",
      "|[0.68920521945432...|\n",
      "|[0.68920521945432...|\n",
      "|[0.67038285586961...|\n",
      "|[0.82206405693950...|\n",
      "|[0.67038285586961...|\n",
      "|[0.65836298932384...|\n",
      "|[0.67038285586961...|\n",
      "|[0.67038285586961...|\n",
      "|[0.73665480427046...|\n",
      "|[0.67038285586961...|\n",
      "|[0.56583629893238...|\n",
      "|[0.65124555160142...|\n",
      "|[0.81376037959667...|\n",
      "|[0.67038285586961...|\n",
      "|[0.62040332147093...|\n",
      "|[0.75919335705812...|\n",
      "|[0.79833926453143...|\n",
      "|[0.59667852906287...|\n",
      "|[0.67038285586961...|\n",
      "|[0.75207591933570...|\n",
      "+--------------------+\n",
      "only showing top 20 rows"
     ]
    }
   ],
   "source": [
    "sdf_train_processed.select(\"scaledFeatures\").show()"
   ]
  },
  {
   "cell_type": "code",
   "execution_count": 44,
   "metadata": {},
   "outputs": [
    {
     "data": {
      "application/vnd.jupyter.widget-view+json": {
       "model_id": "21fb70d094364cc9adc2743f469e2801",
       "version_major": 2,
       "version_minor": 0
      },
      "text/plain": [
       "VBox()"
      ]
     },
     "metadata": {},
     "output_type": "display_data"
    },
    {
     "data": {
      "application/vnd.jupyter.widget-view+json": {
       "model_id": "",
       "version_major": 2,
       "version_minor": 0
      },
      "text/plain": [
       "FloatProgress(value=0.0, bar_style='info', description='Progress:', layout=Layout(height='25px', width='50%'),…"
      ]
     },
     "metadata": {},
     "output_type": "display_data"
    }
   ],
   "source": [
    "sdf_train_processed_2 = sdf_train_processed"
   ]
  },
  {
   "cell_type": "code",
   "execution_count": 45,
   "metadata": {},
   "outputs": [
    {
     "data": {
      "application/vnd.jupyter.widget-view+json": {
       "model_id": "f3c901e1e1894e918226ff2ef2f8bad3",
       "version_major": 2,
       "version_minor": 0
      },
      "text/plain": [
       "VBox()"
      ]
     },
     "metadata": {},
     "output_type": "display_data"
    },
    {
     "data": {
      "application/vnd.jupyter.widget-view+json": {
       "model_id": "",
       "version_major": 2,
       "version_minor": 0
      },
      "text/plain": [
       "FloatProgress(value=0.0, bar_style='info', description='Progress:', layout=Layout(height='25px', width='50%'),…"
      ]
     },
     "metadata": {},
     "output_type": "display_data"
    }
   ],
   "source": [
    "sdf_train_processed_2 = sdf_train_processed_2[sdf_train_processed_2.columns[len(sdf_train_processed_2.columns)//2 - 1:]]"
   ]
  },
  {
   "cell_type": "code",
   "execution_count": 46,
   "metadata": {},
   "outputs": [
    {
     "data": {
      "application/vnd.jupyter.widget-view+json": {
       "model_id": "6aecbfcabc224146b73b575bcfb80a48",
       "version_major": 2,
       "version_minor": 0
      },
      "text/plain": [
       "VBox()"
      ]
     },
     "metadata": {},
     "output_type": "display_data"
    },
    {
     "data": {
      "application/vnd.jupyter.widget-view+json": {
       "model_id": "",
       "version_major": 2,
       "version_minor": 0
      },
      "text/plain": [
       "FloatProgress(value=0.0, bar_style='info', description='Progress:', layout=Layout(height='25px', width='50%'),…"
      ]
     },
     "metadata": {},
     "output_type": "display_data"
    }
   ],
   "source": [
    "sdf_train_processed_2 = sdf_train_processed_2[sdf_train_processed_2.columns[::len(sdf_train_processed_2.columns)-1]]"
   ]
  },
  {
   "cell_type": "code",
   "execution_count": 47,
   "metadata": {},
   "outputs": [
    {
     "data": {
      "application/vnd.jupyter.widget-view+json": {
       "model_id": "d70427f88a54463d8f287b81a725f828",
       "version_major": 2,
       "version_minor": 0
      },
      "text/plain": [
       "VBox()"
      ]
     },
     "metadata": {},
     "output_type": "display_data"
    },
    {
     "data": {
      "application/vnd.jupyter.widget-view+json": {
       "model_id": "",
       "version_major": 2,
       "version_minor": 0
      },
      "text/plain": [
       "FloatProgress(value=0.0, bar_style='info', description='Progress:', layout=Layout(height='25px', width='50%'),…"
      ]
     },
     "metadata": {},
     "output_type": "display_data"
    }
   ],
   "source": [
    "sdf_train_processed_2 = sdf_train_processed_2[sdf_train_processed_2.columns[::-1]]"
   ]
  },
  {
   "cell_type": "code",
   "execution_count": 48,
   "metadata": {},
   "outputs": [
    {
     "data": {
      "application/vnd.jupyter.widget-view+json": {
       "model_id": "3f1cffc5b9a945db87d65c2823833549",
       "version_major": 2,
       "version_minor": 0
      },
      "text/plain": [
       "VBox()"
      ]
     },
     "metadata": {},
     "output_type": "display_data"
    },
    {
     "data": {
      "application/vnd.jupyter.widget-view+json": {
       "model_id": "",
       "version_major": 2,
       "version_minor": 0
      },
      "text/plain": [
       "FloatProgress(value=0.0, bar_style='info', description='Progress:', layout=Layout(height='25px', width='50%'),…"
      ]
     },
     "metadata": {},
     "output_type": "display_data"
    }
   ],
   "source": [
    "from pyspark.ml.feature import VectorAssembler\n",
    "\n",
    "assembler = VectorAssembler(\n",
    "    inputCols=[\"Response\", \"scaledFeatures\"],\n",
    "    outputCol=\"features\")\n",
    "\n",
    "sdf_train_processed_3_vector = assembler.transform(sdf_train_processed_2).select(\"features\")\n"
   ]
  },
  {
   "cell_type": "code",
   "execution_count": 49,
   "metadata": {},
   "outputs": [
    {
     "data": {
      "application/vnd.jupyter.widget-view+json": {
       "model_id": "d79c49a658694468955e2825c91b6caf",
       "version_major": 2,
       "version_minor": 0
      },
      "text/plain": [
       "VBox()"
      ]
     },
     "metadata": {},
     "output_type": "display_data"
    },
    {
     "data": {
      "application/vnd.jupyter.widget-view+json": {
       "model_id": "",
       "version_major": 2,
       "version_minor": 0
      },
      "text/plain": [
       "FloatProgress(value=0.0, bar_style='info', description='Progress:', layout=Layout(height='25px', width='50%'),…"
      ]
     },
     "metadata": {},
     "output_type": "display_data"
    }
   ],
   "source": [
    "sdf_train_processed_3_vector = sdf_train_processed_3_vector.select(\"features\")"
   ]
  },
  {
   "cell_type": "code",
   "execution_count": 50,
   "metadata": {},
   "outputs": [
    {
     "data": {
      "application/vnd.jupyter.widget-view+json": {
       "model_id": "7f626e0244234b4a9f9e187be490fe88",
       "version_major": 2,
       "version_minor": 0
      },
      "text/plain": [
       "VBox()"
      ]
     },
     "metadata": {},
     "output_type": "display_data"
    },
    {
     "data": {
      "application/vnd.jupyter.widget-view+json": {
       "model_id": "",
       "version_major": 2,
       "version_minor": 0
      },
      "text/plain": [
       "FloatProgress(value=0.0, bar_style='info', description='Progress:', layout=Layout(height='25px', width='50%'),…"
      ]
     },
     "metadata": {},
     "output_type": "display_data"
    }
   ],
   "source": [
    "from pyspark.sql.functions import *\n",
    "\n",
    "def parsePoint(line):\n",
    "    values = [float(x) for x in line]\n",
    "    return LabeledPoint(values[0], values[1:])\n",
    "\n",
    "\n",
    "sdf_train_labeled_point = sdf_train_processed_3_vector.rdd.map(lambda l: parsePoint(l[0]))"
   ]
  },
  {
   "cell_type": "code",
   "execution_count": 51,
   "metadata": {},
   "outputs": [
    {
     "data": {
      "application/vnd.jupyter.widget-view+json": {
       "model_id": "f051419ba9cf42729884d28a7bf1420b",
       "version_major": 2,
       "version_minor": 0
      },
      "text/plain": [
       "VBox()"
      ]
     },
     "metadata": {},
     "output_type": "display_data"
    },
    {
     "data": {
      "application/vnd.jupyter.widget-view+json": {
       "model_id": "",
       "version_major": 2,
       "version_minor": 0
      },
      "text/plain": [
       "FloatProgress(value=0.0, bar_style='info', description='Progress:', layout=Layout(height='25px', width='50%'),…"
      ]
     },
     "metadata": {},
     "output_type": "display_data"
    },
    {
     "name": "stdout",
     "output_type": "stream",
     "text": [
      "[LabeledPoint(1.0, [0.36731107205623903,0.42172073342736244,0.2261410788381743,0.16926272066458983,0.5000000000000001,0.5297927461139896,0.4126984126984127,0.47058823529411764,0.3909866017052375,0.49446494464944657,0.17842741935483872,0.17842741935483872,0.3379549393414211,0.5372714486638537,0.19999999999999998,0.2545090180360721,0.2,0.211,0.8653846153846153,0.5,0.2,0.10932798395185556,0.3043478260869565,0.45083965330444203,0.3051690393925115,0.49602744673167215,0.39669634130615816,0.7638569880823401,0.5,0.6013001083423618,0.3296841581969485,0.21910501470360622,0.611318794258157,0.4022774679664552,0.6266996291718171,0.26895734597156395,0.32895093521279484,0.32499891569531036,0.3685969909878828,0.5,0.039000000000000035,0.16666666666666666,0.5,0.0,1.0,0.3083109919571046,0.6017505470459519,0.17460317460317462,0.4074766355140187,0.4444444444444444,0.47727272727272735,0.45940170940170943,0.3763440860215053,0.5771276595744681,0.44057971014492764,0.5,0.7586206896551724,0.3737704721267006,0.4734543611050068,0.09262815764783895,0.3276760082662402,0.5074360701622462,0.5266844380904159,0.5480803750933425,0.36967568141902657,0.5934202333740803,0.49612612450413796,0.3362819997319394,0.5420184961801366,0.3224198236988645,0.5294166956470518,0.047382223097982165,0.3030026227064045,0.5054392029280195,0.5159511035260541,0.49468096184432786,0.3354020644451355,0.5762765599038123,0.45138545120477225,0.5232874700646152,0.5061423383591145,0.6756543742233002,0.6576221568486762,0.49228256714965773,0.4924417296744945,0.43735101289134437,0.4454675670145283,0.2950276243093923,0.3162590990935533,0.5187517418889454,0.5136043146540384,0.4086740708101248,0.4087000568680398,0.5025289182585251,0.3627698457793844,0.33212735166425467,0.39093694669695767,0.43921852387843696,0.4289485670353525,0.5978292329956584,0.5,0.2890786732687403,0.39469481000343637,0.21060069228640516,0.43585896474118524,0.27386601934132027,0.2483120780195049,0.41518249417749314,0.6330749354005168,0.5,0.6196549137284322,0.2866327631014896,0.39124434218602494,0.6100392893208786,0.46261358201817315,0.5709946262960729,0.6115296757363179,0.05239520958083833,0.5685795243180972,0.24579000843079185,0.0783176214648296,0.5500239303843365,0.4616303873049799,0.19558011049723756,0.0014732965009208103,0.9986527521997135,0.4092340565417488,0.5147523045936944,0.786717605725198,0.2992392223161454,0.5515270292340356,0.5305930930930931,0.511033964715675,0.5270567140645881,0.522478037559244,0.3943478515396323,0.606181189337969,0.44687764158918003,0.5562207708434124,0.5329914529914529,0.41619894693820114,0.5723163023898052,0.5106342224417172,0.20997815403853268,0.4402060321801294,0.49759463806210724,0.4316764276237318,0.5269265193259577,0.41328612463206454,0.4296303725450865,0.5602218752784994,0.41467083635801566,0.5364742186659012,0.4062538623161538,0.2762305847418913,0.6979879752519708,0.2444297267150028,0.24778256558877365,0.4542906715018132,0.47690767781441357,0.7074915824915826,0.5305555555555554,0.5377768375241779,0.8951893128284992,0.5330497510008788,0.7098522955917322,0.5318349603416718,0.4772844827586207,0.45924301163027953,0.4002261164499717,0.4163148565903964,0.42168257389162567,0.4085431739171286,0.20719640179910032,0.45897475369458135,0.5550145451965376,0.2173913043478259,0.5,0.09773652499592902,0.5,0.21739130434782605,0.21739130434782622,0.21739130434782605,0.21739130434782605,0.0886519004648619,0.21102265768524175,0.5405806486428146,0.5260467980295567,0.5304980304980306,0.520273331319843,0.6385836385836385,0.4909417450365727,0.6575670498084291,0.3135485708367854,0.5198924731182796,0.6589113257243194,0.5315845824411135,0.4529153766769866,0.4836269533193988,0.48215536214485794,0.8139768728004023,0.3974591931013243,0.6380043753038406,0.6411138923654569,0.3130446623093681,0.46901355823636176,0.6067085844938682,0.6778678217130083,0.4446345840811386,0.45984991934918296,0.613940606247115,0.5256248609359935,0.5068708519856462,0.38579728173841693,0.38205298747367256,0.46784159165619676,0.4935304582269809,0.5956902565692582,0.6022710294337368,0.3244315273817357,0.3939472696295013,0.36176583821705094,0.5682113902512261,0.46033772029347253,0.35748469374114383,0.5311615044247787,0.42210506495951805,0.7217127831391236,0.2291932096002204,0.6018608316159535,0.3636182249242976,0.5977473853580048,0.41252037109535034,0.4271016391347413,0.403838808250573,0.3514887436456064,0.4371657754010695,0.1732905490963509,0.453781512605042,0.4831932773109244,0.8587739443603528,0.6439063663847872,0.4596205614664787,0.5263446689232071,0.49103317659352147,0.5406143759106361,0.4728690430065866,0.3876921126540802,0.6466659962701575,0.625171308576481,0.4481573275862068,0.5256541759111636,0.44672577315996204,0.4666810355757284,0.2415051407382437,0.36181210673114456,0.4861471322166476,0.5420883702054922,0.4867107993281297,0.48093702273345973,0.47845492616266255,0.4933954749194498,0.5433220210395118,0.4854776533837473,0.400454219848919,0.33433354833281914,0.45519921635461547,0.6081525312294543,0.6568047337278107,0.5381656804733728,0.4935633949139527,0.48784592496852935,0.6796262306023695,0.4013746203458332,0.5994220448603276,0.5824852071005917,0.34488311184401976,0.4819197896120972,0.632396449704142,0.724201979462414,0.3372043476690861,0.4640883977900553,0.5639236212077154,0.5893250396012828,0.4823577263329153,0.49723756906077354,0.5019439328831594,0.6863715820499406,0.4119135904746125,0.5469613259668509,0.5464911249559187,0.2994102294681897,0.5263351749539595,0.5899706917184399,0.6304018769393779,0.39899092970521544,0.6907407407407408,0.3377229080932785,0.40103969754253305,0.5156249999999999,0.27081467263808917,0.6326388888888889,0.27538699690402474,0.5785612535612535,0.4148443529714433,0.8223058992289761,0.385045723507262,0.3821310808979629,0.4751736557756625,0.2871785844853967,0.5069033530571992,0.40143312770154016,0.7365224210451273,0.6048350727265274,0.4861471322166476,0.4810232154705554,0.4855625793873512,0.49915776677954327,0.5,0.5121633086856622,0.43756688645700276,0.671543777308146,0.5882720535478704,0.6367517992915642,0.5973366911940572,0.3332408890353126,0.41715852457303976,0.5031109789048362,0.3092883579998134,0.3874174487313174,0.6500331785003317,0.3806201606826281,0.5371380392246654,0.4762877923502651,0.4703210866152331,0.5488524789871653,0.513531100074567,0.5467892650795533,0.3096362820852617,0.5154845154845155,0.8237262737262737,0.6534565434565436,0.45968737145207744,0.7594818974129319,0.717313936063936,0.814488338041501,0.4262617463836976,0.7862137862137862,0.7858466320004782,0.2699164740584859,0.8056705199562342,0.396221322537112,0.8401979463835134,0.37212933019344424,0.3596784216249806,0.5069957537154989,0.38025477707006367,0.4347165926783762,0.7875247431542908,0.7601457955939929,0.7378975132744382,0.43083307650160946,0.4800843276217816,0.5011976699874789,0.2794548318608315,0.824261725535611,0.352877264531977,0.6943510864164069,0.4401911104371488,0.007215653683251415,0.9430613164019563,0.4046526385429113,0.9909042579786718,0.18970726581396138,0.9883724500448275,0.3062147549279542,0.9787427245057508,0.42587853156609695,0.3313414228723404,0.40242519508224334,0.34061729522418044,0.5639152507781009,0.3841345065640561,0.49663911099064917,0.26319381467271247,0.7768908215561423,0.5040753602932262,0.3840581228128794,0.5371353455004367,0.514070696915098,0.3806086330813035,1.0,0.4436615098024876,0.3611364084774726,0.6203755033791473,0.4745953026528925,0.5151667622688555,0.44461326611585683,0.340548330645438,0.9104356205641926,0.6118355390452445,0.017331022530329292,0.022701696178871696,0.9697658198419072,0.36636796058778565,0.5807172609976633,0.5778336238389724,0.6440214289590338,0.3780373204456974,0.4098593808479923,0.688135593220339,0.4559322033898305,0.4385892826570792,0.4892141756548536,0.4563727776913907,0.6686161296330788,0.6593220338983051,0.6091014627350825,0.410264979708761,0.40896215463199437,0.46682808716707025,0.6268883914294852,0.5385231240950514,0.3931290445374952,0.6619718309859154,0.3943661971830986,0.5937198533667759,0.1580035770176615,0.5147132796780683,0.38529361653793737,0.5942781690140845,0.48518437594540986,0.5801408450704225,0.33785326337107613,0.3515258215962441,0.5102874981849862,0.5150994937597112,0.4577894953834803,0.5880777471686562,0.060283389450056166,0.5276688453159042,0.19694691896413913,0.45493395493395494,0.24569443099794538,0.7308610156548301,0.21846567411083537,0.2605966582856328,0.13217228808626658,0.5331008427782621,0.3328533026113671,0.30430107526881717,0.2564838932300363,0.6691225275454666,0.4993246073298429,0.44290402845963833,0.5659021025513172,0.36419126010436476,0.3705951988674502,0.611821449600687,0.531338603939453,0.46660694360999055,0.44839034789804505,0.6121251236518928,0.4133544850936038,0.35712672858225125,1.734723475976807e-17,0.7081459270364817,1.0,1.0,0.49042792792792783,0.47706422018348627,0.38725490196078427,1.0,0.2068965517241379,0.4827586206896552,0.49598488427019366,0.43779050913414763,0.41473354231974924,0.7931034482758621,0.49325334812051547,0.3404131991885066,0.6306235342558942,0.4221232757115418,0.7197317618370249,0.4802935010482181,0.7203356149260323,0.3467007101252693,0.43673965936739656,0.7123015873015872,0.16666666666666624,0.7061224489795919,0.23954451345755698,0.5833708877872916,0.6654002026342452,0.3480725623582766,0.4505984211866564,0.6889880952380952,0.3838355654761904,0.5186335403726708,0.4265658747300216,0.47818052594172,0.3748508124980874,0.6909005628517824,0.39342523860021206,0.5457317073170731,0.12195121951219505,0.49617886178861786,0.34259178890721287,0.3712737127371274,0.4832773477435373,0.527977044476327,0.44286787654606413,0.3886178861788618,0.3940909440640148,0.7841313386771829,0.34119556913674565,0.5625617588932806,0.3636363636363636,0.3230003212335368,0.30181200453001134,0.5194298681038151,0.21657593903102887,0.6524960588544403,0.6430107526881721,0.41105511030323055,0.3696178035800676,0.43086839495679274,0.301373192368453,0.460596546310832,0.28649770268267377,0.6721259509721049,0.6761019983548653,0.5339712360337232,0.42228042605203425,0.3468594795306062,0.6301347824532552,0.5329383106195272,0.49888807566715465,0.5952994508830394,0.6582829265076722,0.5318917025127975,0.18333333333333335,0.15625,0.9895833333333334,0.9895833333333334,0.6197015570934257,0.1674366872005476,0.9619447227788911,0.80625,0.37190588646899325,0.35121392579019695,0.5587318087318086,0.6323011753475329,0.7750991276764473,0.5832554186145347,0.7245384615384616,0.49820143884892076,0.4604414682539683,0.6638851802403204,0.5246007768666379,0.6359788359788359,0.22655758338577725,0.5897693855440335,0.17069741282339707,0.4755381604696673,0.5564413265306122,0.6208277703604808,0.37365813377374074,0.6057060755336618,0.5595014741356205,0.6226415094339622,0.3011311853321182,0.7174928890694839,0.39104190359548596,0.7962962962962963,0.03665164369034995,0.3379515340823215,0.3239077282874455,0.5501794005909667,0.7203502415458937,0.7763744827215564,0.24444186451500546,0.7256661991584853,0.3451786987068527,0.379896685320706,0.4618945868945869,0.3609092910612065,0.2932389937106919,0.4862244897959184,0.46736512524084783,0.4349489795918367,0.44753086419753085,0.8146067415730337,0.5689034369885434,0.311965811965812,0.39102564102564097,0.7836623553437713,0.5504273504273505,0.6350499782703173,0.45359978100191617,0.027188328912466836,0.6121343946686413,0.556261314193159,0.6321221884135791,0.49881119899073223,0.5590516552055014,0.4225828462930548,0.4053724857622544,0.7110477694975789,0.5989432338913308,0.5601862366568249,0.18666666666666668,0.6,1.0,1.0,0.6326309067688377,0.7021771771771772,0.46875000000000006,0.8133333333333334,0.4815366665089951,0.42666322698999626,0.6148880308880309,0.6867555938037866,0.2896002232964133,0.4288079873371484,0.2829457364341086,0.676073187895848,0.38287711124053586,0.6521974306964166,0.6000000000000001,0.7142533936651584,0.4583710407239818,0.4475673843024242,0.3892156862745098,0.538935574229692,0.5223529411764706,0.7113122171945702,0.058823529411764705,0.6647058823529413,0.5285518858706274,0.606464124111183,0.5200317460317461,0.5597710776102736,0.4258085550339071,0.4554368471035138,0.15726495726495723,0.5132203780544029,0.4138786135086998,0.503988128362085,0.4677956030897207,0.4361785626686289,0.37487703367385544,0.6152572523262179,0.4347497639282342,0.4354916067146283,0.48887362637362636,0.6416176470588235,0.1058531746031746,0.5477836879432624,0.3762820512820513,0.5640625,0.3908101045296168,0.7525595238095238,0.41965494649486784,0.674974267480958,0.3574639924619733,0.4313489378974428,0.3127253064167268,0.4901843215634022,0.38100738271016904,0.4226642186862505,0.4755107578988175,0.549232635729451,0.6867814113597246,0.6752886297376094,0.6148880308880309,0.47224109912837936,0.45018340905266696,0.5922136786726022,0.4553072196620584,0.5087647236484446,0.5482874482119385,0.6483842804320993,0.5268012689451815,0.24786883047520397,0.03680977208401608,0.5408587038177235,0.49402913709112534,0.5675656822696935,0.040024076924249107,0.6673952881930676,0.5394009426976992,0.5085304908662573,0.31633345992535855,0.03459814030129349,0.6339619978714787,0.47375404075895994,0.5305031058761304,0.4386485958779686,0.034496456352374034,0.5235719872474401,0.4456427110362501,0.46275071402322265,0.03279948958093722,0.5344902125415009,0.5639517173630652,0.5175218881327878,0.4818614630959045,0.042416311808319944,0.46954586187957104,0.38612422143100295,0.6282828282828283,0.4239007311296468,0.034819142414079116,0.471042224773568,0.4736151220792859,0.39024473964233003,0.03399031159283524,0.13869701726844585,0.5919401111708803,0.5301200908795846,0.491710875331565,0.0419257006145664,0.22961104140526978,0.11185983827493264,0.14351320321469574,0.19828641370869035,0.26974483596597815,0.24966974900924702,0.5187406296851573,0.5192604006163328,0.7241379310344828,0.650314465408805,0.62089914945322,0.6316326530612245,0.3025516403402187,0.3569915254237288,0.44977511244377805,0.0,0.19828641370869035,0.5192604006163328,0.5543113101903695,0.5098039215686274,0.10434782608695654,0.5302114803625377,0.14351320321469574,0.5187406296851573,0.6316326530612245,0.0,0.62089914945322,0.44977511244377805,0.8340425531914893,0.8340425531914893,0.11185983827493264,0.24966974900924702,0.8165618448637317,0.2632850241545894,0.0303030303030303,0.24966974900924702,0.22961104140526978,0.26974483596597815,0.650314465408805,0.3569915254237288,0.7241379310344828,0.3025516403402187,0.0,1.0,0.0,1.0,0.3419540229885058,0.3967611336032389,0.618840579710145,0.0013333333333333333,0.0,0.0,0.0,0.32608695652173914,0.32608695652173914,0.7142857142857144,0.5555555555555555,0.15976331360946747,0.5454545454545454,0.23333333333333334,0.7142857142857144,0.3170731707317073,0.15976331360946747,0.24719101123595505,0.23333333333333334,0.45197044334975367,0.3170731707317073,0.3566757967733254,0.4140159238028785,0.6477321875589794,0.33960342960024587,0.2352728213085079,0.4466931392133382,0.5,0.5,0.3849959195188055,0.2507727789881555,0.5,0.5,0.32919575898629433,0.2911068121108908,0.7582030170436451,0.2833747054901408,0.3271454431268241,0.2833858241451996,0.5,0.5,0.20348977449785188,0.3108451909160443,0.0709557057889098,0.3108682573106822,0.2349874913921601,0.30497745498777346,0.5,0.5,0.4235210310493068,0.5711993098247833,0.5,0.5,0.3,0.0,0.0,0.0,0.6326530612244897,0.07493540051679586,0.6964705882352941,0.2106084243369735,0.9868819374369324,0.7000000000000001,0.7810590631364562,1.0,0.7644341801385681,1.0,0.671919770773639,0.9909638554216867,0.6972586412395709,0.7623554153522608,1.0,0.750599520383693,1.0,0.4719334719334719,0.8397435897435898,0.5,0.6142210144927537,0.011111111111111115,0.4819321183557895,0.6468305304010349,0.638268156424581,0.5061224489795918,0.6468305304010349,0.6468305304010349,0.43692307692307697,0.030303030303030304,0.0,0.0,0.0,0.0,0.0,0.0,0.0,1.0,0.32537313432835824,0.667166416791604,0.32314923619271446,0.5,0.0,0.0,0.0,0.6520183297291732,0.3143102073275321,0.6520183297291732,0.3143102073275321,0.010741821623646796,0.0006015966700811345,0.0006407395965628899,0.0014608630087494705,0.0,0.0,0.0,0.0,0.018451091408909683,0.5131311329170384,0.8045721821961909,0.5,0.002532928064842959,0.008842221608179055,0.00851063829787234,0.4944729762778185,0.6247209220427994,0.3465027036455608,0.5547545223584998,0.5,0.5,0.0003613407868727018,0.001647736362182051,0.5,0.00303951367781155,0.03993920972644377,0.002454991816693945,0.4855707013258247,0.3234670476675828,0.4808891072865108,0.43807238560213685,0.42159696659589746,0.2831531018782015,0.4739193096885653,0.42398034048542377,0.36529105780392923,0.428833152252803,0.008695652173913044,0.0059231253938248265,0.0026350461133069834,0.0003874300473525613,0.7059373539036933,0.3527490223142397,0.7505069599587558,0.2859994531036369,0.015625,0.5,0.03750000000000001,0.00625,0.8404544733502538,0.1376664402173913,0.7727629513343799,0.1112294407894737,0.48198771529888557,0.00303951367781155,1.0,0.00182370820668693,0.05775075987841946,0.521786895328419,0.4993161094224924,0.5050233503217202,0.6108513236172811,0.5466252508709967,0.5622024870806519,0.5050233503217202,0.5,0.004812563323201621,0.0035460992907801418,0.000578954986249819,0.5161567732115677,0.5209685171833695,0.816939996141231,0.5,0.0065033900650339,0.0006849315068493152,0.010444794952681417,0.8035290778661116,0.0,0.003115264797507788,0.0010384215991692627,0.00692281066112842,0.7320872274143302,0.5639534883720929,0.3157496691245982,1.0,0.5,0.02523784355179703,0.005450581395348838,0.5058139534883721,0.9954128440366973,0.0020387359836901123,0.0022935779816513763,0.005504587155963304]), LabeledPoint(1.0, [0.5385265012864979,0.6220386729837574,0.40135382139947806,0.40214519144529304,0.5811647566562852,0.7300261379207919,0.341401830247152,0.3322702255591258,0.4755790238526405,0.4700315053447993,0.3480852498735149,0.348098743435859,0.5077612024305646,0.35052842534386186,0.2136388140161725,0.3057981191493499,0.19212938005390837,0.37581617250673854,0.7706458635703918,0.5,0.19056603773584907,0.3688737371143079,0.45352920495515675,0.45083965330444203,0.3051690393925115,0.49602744673167215,0.39669634130615816,0.7638569880823401,0.5,0.6013001083423618,0.3296841581969485,0.21910501470360622,0.611318794258157,0.4022774679664552,0.5852554306129376,0.2450003187894502,0.32895093521279484,0.32499891569531036,0.3685969909878828,0.15572005383580081,0.5223125168236877,0.07212290557278561,0.638907665269704,0.00029367632280534315,0.9986869025626035,0.3624251586554933,0.5568266452434742,0.37684085128304196,0.43357130670508615,0.5715573585756141,0.5343121888253735,0.4385222170212028,0.38322318916443104,0.5465085667429114,0.4037839903577624,0.4884381338742394,0.4855424214870253,0.3737704721267006,0.4734543611050068,0.09262815764783895,0.3276760082662402,0.5074360701622462,0.5266844380904159,0.5480803750933425,0.36967568141902657,0.5934202333740803,0.49612612450413796,0.3362819997319394,0.5420184961801366,0.3224198236988645,0.5294166956470518,0.047382223097982165,0.3030026227064045,0.5054392029280195,0.5159511035260541,0.49468096184432786,0.3354020644451355,0.5762765599038123,0.45138545120477225,0.5232874700646152,0.5061423383591145,0.6756543742233002,0.6576221568486762,0.49228256714965773,0.4924417296744945,0.43735101289134437,0.4454675670145283,0.2950276243093923,0.3162590990935533,0.5187517418889454,0.5136043146540384,0.4086740708101248,0.4087000568680398,0.5025289182585251,0.3627698457793844,0.33212735166425467,0.39093694669695767,0.43921852387843696,0.4289485670353525,0.5978292329956584,0.5,0.2890786732687403,0.39469481000343637,0.21060069228640516,0.43585896474118524,0.27386601934132027,0.2483120780195049,0.41518249417749314,0.6330749354005168,0.5,0.6196549137284322,0.2866327631014896,0.39124434218602494,0.6100392893208786,0.46261358201817315,0.5709946262960729,0.6115296757363179,0.05239520958083833,0.5685795243180972,0.24579000843079185,0.0783176214648296,0.5500239303843365,0.4616303873049799,0.19558011049723756,0.0014732965009208103,0.9986527521997135,0.4092340565417488,0.5147523045936944,0.786717605725198,0.2992392223161454,0.5515270292340356,0.5305930930930931,0.511033964715675,0.5270567140645881,0.522478037559244,0.3943478515396323,0.606181189337969,0.44687764158918003,0.5562207708434124,0.5329914529914529,0.41619894693820114,0.5723163023898052,0.5106342224417172,0.20997815403853268,0.4402060321801294,0.49759463806210724,0.4316764276237318,0.5269265193259577,0.41328612463206454,0.4296303725450865,0.5602218752784994,0.41467083635801566,0.5364742186659012,0.4062538623161538,0.2762305847418913,0.6979879752519708,0.2444297267150028,0.24778256558877365,0.4542906715018132,0.47690767781441357,0.7074915824915826,0.5305555555555554,0.5377768375241779,0.8951893128284992,0.5330497510008788,0.7098522955917322,0.5318349603416718,0.4772844827586207,0.45924301163027953,0.4002261164499717,0.4163148565903964,0.42168257389162567,0.4085431739171286,0.20719640179910032,0.45897475369458135,0.5550145451965376,0.2173913043478259,0.5,0.09773652499592902,0.5,0.21739130434782605,0.21739130434782622,0.21739130434782605,0.21739130434782605,0.0886519004648619,0.21102265768524175,0.5405806486428146,0.5260467980295567,0.5304980304980306,0.520273331319843,0.6385836385836385,0.4909417450365727,0.6575670498084291,0.3135485708367854,0.5198924731182796,0.6589113257243194,0.5315845824411135,0.4529153766769866,0.4836269533193988,0.48215536214485794,0.8139768728004023,0.3974591931013243,0.6380043753038406,0.6411138923654569,0.3130446623093681,0.46901355823636176,0.6067085844938682,0.6778678217130083,0.4446345840811386,0.45984991934918296,0.613940606247115,0.5256248609359935,0.5068708519856462,0.38579728173841693,0.38205298747367256,0.46784159165619676,0.4935304582269809,0.5956902565692582,0.6022710294337368,0.3244315273817357,0.3939472696295013,0.36176583821705094,0.5682113902512261,0.46033772029347253,0.35748469374114383,0.5311615044247787,0.42210506495951805,0.7217127831391236,0.2291932096002204,0.6018608316159535,0.3636182249242976,0.5977473853580048,0.41252037109535034,0.4271016391347413,0.403838808250573,0.3514887436456064,0.4371657754010695,0.1732905490963509,0.453781512605042,0.4831932773109244,0.8587739443603528,0.6439063663847872,0.4596205614664787,0.5263446689232071,0.49103317659352147,0.5406143759106361,0.4728690430065866,0.3876921126540802,0.6466659962701575,0.625171308576481,0.4481573275862068,0.5256541759111636,0.44672577315996204,0.4666810355757284,0.2415051407382437,0.36181210673114456,0.4861471322166476,0.5420883702054922,0.4867107993281297,0.48093702273345973,0.47845492616266255,0.4933954749194498,0.5433220210395118,0.4854776533837473,0.400454219848919,0.33433354833281914,0.45519921635461547,0.6081525312294543,0.6568047337278107,0.5381656804733728,0.4935633949139527,0.48784592496852935,0.6796262306023695,0.4013746203458332,0.5994220448603276,0.5824852071005917,0.34488311184401976,0.4819197896120972,0.632396449704142,0.724201979462414,0.3372043476690861,0.4640883977900553,0.5639236212077154,0.5893250396012828,0.4823577263329153,0.49723756906077354,0.5019439328831594,0.6863715820499406,0.4119135904746125,0.5469613259668509,0.5464911249559187,0.2994102294681897,0.5263351749539595,0.5899706917184399,0.6304018769393779,0.39899092970521544,0.6907407407407408,0.3377229080932785,0.40103969754253305,0.5156249999999999,0.27081467263808917,0.6326388888888889,0.27538699690402474,0.5785612535612535,0.4148443529714433,0.8223058992289761,0.385045723507262,0.3821310808979629,0.4751736557756625,0.2871785844853967,0.5069033530571992,0.40143312770154016,0.7365224210451273,0.6048350727265274,0.4861471322166476,0.4810232154705554,0.4855625793873512,0.49915776677954327,0.5,0.5121633086856622,0.43756688645700276,0.671543777308146,0.5882720535478704,0.6367517992915642,0.6662162162162162,0.11248454882571078,0.3615257048092869,0.0714285714285715,0.141287284144427,0.7866666666666666,0.5090909090909091,0.18065268065268064,0.3919793014230272,0.5562659846547314,0.5224274406332453,0.6673889490790899,0.36261261261261263,0.6277227722772277,0.3096362820852617,0.5154845154845155,0.8237262737262737,0.6534565434565436,0.45968737145207744,0.7594818974129319,0.717313936063936,0.814488338041501,0.4262617463836976,0.7862137862137862,0.7858466320004782,0.2699164740584859,0.8056705199562342,0.396221322537112,0.8401979463835134,0.45108135942327493,0.20066518847006656,0.48,0.39999999999999997,0.46666666666666673,0.9194865810968496,0.9094036697247707,0.8010849909584086,0.32963709677419356,0.45070422535211263,0.48717948717948717,0.25290322580645164,0.8636363636363636,0.2880098887515451,0.7085106382978723,0.4401911104371488,0.007215653683251415,0.9430613164019563,0.4046526385429113,0.9909042579786718,0.18970726581396138,0.9883724500448275,0.3062147549279542,0.9787427245057508,0.3381147540983606,0.42578124999999994,0.5765171503957783,0.6373390557939914,0.23381294964028773,0.5757978723404256,0.555732484076433,0.1879781420765027,0.8017031630170316,0.48155953635405685,0.7837022132796782,0.3919793014230272,0.36332958380202474,0.18065268065268064,0.0,0.4566115702479339,0.3468950749464668,0.7997835497835498,0.4499473129610116,0.5557324840764332,0.44461326611585683,0.340548330645438,0.9104356205641926,0.6118355390452445,0.017331022530329292,0.022701696178871696,0.9697658198419072,0.36636796058778565,0.5807172609976633,0.5778336238389724,0.6440214289590338,0.3780373204456974,0.4098593808479923,0.688135593220339,0.4559322033898305,0.4385892826570792,0.4892141756548536,0.4563727776913907,0.6686161296330788,0.6593220338983051,0.6091014627350825,0.410264979708761,0.40896215463199437,0.46682808716707025,0.6268883914294852,0.5385231240950514,0.3931290445374952,0.6619718309859154,0.3943661971830986,0.5937198533667759,0.1580035770176615,0.5147132796780683,0.38529361653793737,0.5942781690140845,0.48518437594540986,0.5801408450704225,0.33785326337107613,0.3515258215962441,0.5102874981849862,0.5150994937597112,0.4577894953834803,0.5880777471686562,0.060283389450056166,0.5276688453159042,0.19694691896413913,0.45493395493395494,0.24569443099794538,0.7308610156548301,0.21846567411083537,0.2605966582856328,0.13217228808626658,0.5331008427782621,0.3328533026113671,0.30430107526881717,0.2564838932300363,0.6691225275454666,0.4993246073298429,0.44290402845963833,0.5659021025513172,0.36419126010436476,0.3705951988674502,0.611821449600687,0.531338603939453,0.46660694360999055,0.44839034789804505,0.6121251236518928,0.4133544850936038,0.35712672858225125,1.734723475976807e-17,0.7081459270364817,1.0,1.0,0.49042792792792783,0.47706422018348627,0.38725490196078427,1.0,0.2068965517241379,0.4827586206896552,0.49598488427019366,0.43779050913414763,0.41473354231974924,0.7931034482758621,0.49325334812051547,0.3404131991885066,0.6306235342558942,0.4221232757115418,0.7197317618370249,0.4802935010482181,0.7203356149260323,0.3467007101252693,0.43673965936739656,0.7123015873015872,0.16666666666666624,0.7061224489795919,0.23954451345755698,0.5833708877872916,0.6654002026342452,0.3480725623582766,0.4505984211866564,0.6889880952380952,0.3838355654761904,0.5186335403726708,0.4265658747300216,0.47818052594172,0.3748508124980874,0.6909005628517824,0.39342523860021206,0.5457317073170731,0.12195121951219505,0.49617886178861786,0.34259178890721287,0.3712737127371274,0.4832773477435373,0.527977044476327,0.44286787654606413,0.3886178861788618,0.3940909440640148,0.7841313386771829,0.34119556913674565,0.5625617588932806,0.3636363636363636,0.3230003212335368,0.30181200453001134,0.5194298681038151,0.21657593903102887,0.6524960588544403,0.6430107526881721,0.41105511030323055,0.3696178035800676,0.43086839495679274,0.301373192368453,0.460596546310832,0.28649770268267377,0.6721259509721049,0.6761019983548653,0.5339712360337232,0.42228042605203425,0.3468594795306062,0.6301347824532552,0.5329383106195272,0.49888807566715465,0.5952994508830394,0.6582829265076722,0.5318917025127975,0.18333333333333335,0.15625,0.9895833333333334,0.9895833333333334,0.6197015570934257,0.1674366872005476,0.9619447227788911,0.80625,0.37190588646899325,0.35121392579019695,0.5587318087318086,0.6323011753475329,0.7750991276764473,0.5832554186145347,0.7245384615384616,0.49820143884892076,0.4604414682539683,0.6638851802403204,0.5246007768666379,0.6359788359788359,0.22655758338577725,0.5897693855440335,0.17069741282339707,0.4755381604696673,0.5564413265306122,0.6208277703604808,0.37365813377374074,0.6057060755336618,0.5595014741356205,0.6226415094339622,0.3011311853321182,0.7174928890694839,0.39104190359548596,0.7962962962962963,0.03665164369034995,0.3379515340823215,0.3239077282874455,0.5501794005909667,0.7203502415458937,0.7763744827215564,0.24444186451500546,0.7256661991584853,0.3451786987068527,0.379896685320706,0.4618945868945869,0.3609092910612065,0.2932389937106919,0.4862244897959184,0.46736512524084783,0.4349489795918367,0.44753086419753085,0.8146067415730337,0.5689034369885434,0.311965811965812,0.39102564102564097,0.7836623553437713,0.5504273504273505,0.6350499782703173,0.45359978100191617,0.027188328912466836,0.6121343946686413,0.556261314193159,0.6321221884135791,0.49881119899073223,0.5590516552055014,0.4225828462930548,0.4053724857622544,0.7110477694975789,0.5989432338913308,0.5601862366568249,0.18666666666666668,0.6,1.0,1.0,0.6326309067688377,0.7021771771771772,0.46875000000000006,0.8133333333333334,0.4815366665089951,0.42666322698999626,0.6148880308880309,0.6867555938037866,0.2896002232964133,0.4288079873371484,0.2829457364341086,0.676073187895848,0.38287711124053586,0.6521974306964166,0.6000000000000001,0.7142533936651584,0.4583710407239818,0.4475673843024242,0.3892156862745098,0.538935574229692,0.5223529411764706,0.7113122171945702,0.058823529411764705,0.6647058823529413,0.5285518858706274,0.606464124111183,0.5200317460317461,0.5597710776102736,0.4258085550339071,0.4554368471035138,0.15726495726495723,0.5132203780544029,0.4138786135086998,0.503988128362085,0.4677956030897207,0.4361785626686289,0.37487703367385544,0.6152572523262179,0.4347497639282342,0.4354916067146283,0.48887362637362636,0.6416176470588235,0.1058531746031746,0.5477836879432624,0.3762820512820513,0.5640625,0.3908101045296168,0.7525595238095238,0.41965494649486784,0.674974267480958,0.3574639924619733,0.4313489378974428,0.3127253064167268,0.4901843215634022,0.38100738271016904,0.4226642186862505,0.4755107578988175,0.549232635729451,0.6867814113597246,0.6752886297376094,0.6148880308880309,0.47224109912837936,0.45018340905266696,0.5922136786726022,0.4553072196620584,0.5087647236484446,0.5482874482119385,0.6483842804320993,0.5268012689451815,0.24786883047520397,0.03680977208401608,0.5408587038177235,0.49402913709112534,0.5675656822696935,0.040024076924249107,0.6673952881930676,0.5394009426976992,0.5085304908662573,0.31633345992535855,0.03459814030129349,0.6339619978714787,0.47375404075895994,0.5305031058761304,0.4386485958779686,0.034496456352374034,0.5235719872474401,0.4456427110362501,0.46275071402322265,0.03279948958093722,0.5344902125415009,0.5639517173630652,0.5175218881327878,0.4818614630959045,0.042416311808319944,0.46954586187957104,0.38612422143100295,0.6282828282828283,0.4239007311296468,0.034819142414079116,0.471042224773568,0.4736151220792859,0.39024473964233003,0.03399031159283524,0.13869701726844585,0.5919401111708803,0.5301200908795846,0.491710875331565,0.0419257006145664,0.16687578419071522,0.20215633423180596,0.6107921928817451,0.4394124847001224,0.29161603888213855,0.2919418758256275,0.6326836581709144,0.539291217257319,0.6504161712247325,0.6389937106918239,0.5577156743620899,0.5224489795918368,0.2733900364520048,0.0,0.2503748125937031,0.0,0.4394124847001224,0.539291217257319,0.8230683090705488,0.6244343891402714,0.23260869565217393,0.5483383685800604,0.6107921928817451,0.6326836581709144,0.5224489795918368,0.0,0.5577156743620899,0.2503748125937031,0.8787234042553191,0.8787234042553191,0.20215633423180596,0.2919418758256275,0.8018867924528302,0.28623188405797095,0.05627705627705628,0.2919418758256275,0.16687578419071522,0.29161603888213855,0.6389937106918239,0.0,0.6504161712247325,0.2733900364520048,0.314,1.0,0.314,1.0,0.32758620689655177,0.3967611336032389,0.6536231884057971,0.0013333333333333333,0.0,0.0,0.0,0.23913043478260868,0.23913043478260868,0.3571428571428572,0.0,0.3594674556213018,0.5155350978135789,0.03333333333333333,0.3571428571428572,0.5121951219512194,0.3594674556213018,0.08988764044943821,0.03333333333333333,0.27709359605911327,0.5121951219512194,0.28571428571428575,0.3594674556213018,0.9614512471655329,0.285377358490566,0.03333333333333333,0.5121951219512194,0.5,0.5,0.28693181818181823,0.33544303797468356,0.5,0.5,0.13333333333333333,0.5594059405940593,0.7341772151898733,0.4773462783171521,0.23333333333333334,0.4773462783171521,0.5,0.5,0.014705882352941188,0.2869458128078818,0.004761904761904757,0.2869458128078818,0.08988764044943821,0.2770935960591133,0.5,0.5,0.11052631578947371,0.5882352941176471,0.5,0.5,0.3,0.0,0.0,0.0,0.7798066595059076,0.19509043927648578,0.7917647058823529,0.4414976599063963,0.9899091826437941,0.7132352941176471,0.7097759674134421,1.0,0.6997690531177828,1.0,0.6146131805157593,0.9919678714859438,0.737783075089392,0.8990536277602524,1.0,0.8848920863309353,1.0,0.47817047817047814,0.8397435897435898,0.5,0.6142210144927537,0.011111111111111115,0.4819321183557895,0.3531694695989651,0.34916201117318435,0.413265306122449,0.3531694695989651,0.3531694695989651,0.43692307692307697,0.030303030303030304,0.0,0.0,0.0,0.0,0.0,0.0,0.0,1.0,0.5880597014925374,0.4992503748125936,0.5863689776733255,0.5,0.0,0.0,0.0,0.6520183297291732,0.3143102073275321,0.6520183297291732,0.3143102073275321,0.010741821623646796,0.0006015966700811345,0.0006407395965628899,0.0014608630087494705,0.0,0.0,0.0,0.0,0.018451091408909683,0.5131311329170384,0.8045721821961909,0.5,0.002532928064842959,0.008842221608179055,0.00851063829787234,0.4944729762778185,0.6247209220427994,0.3465027036455608,0.5547545223584998,0.5,0.5,0.0003613407868727018,0.001647736362182051,0.5,0.00303951367781155,0.03993920972644377,0.002454991816693945,0.4855707013258247,0.3234670476675828,0.4808891072865108,0.43807238560213685,0.42159696659589746,0.2831531018782015,0.4739193096885653,0.42398034048542377,0.36529105780392923,0.428833152252803,0.008695652173913044,0.0059231253938248265,0.0026350461133069834,0.0003874300473525613,0.7059373539036933,0.3527490223142397,0.7505069599587558,0.2859994531036369,0.015625,0.5,0.03750000000000001,0.00625,0.8404544733502538,0.1376664402173913,0.7727629513343799,0.1112294407894737,0.48198771529888557,0.00303951367781155,1.0,0.00182370820668693,0.05775075987841946,0.521786895328419,0.4993161094224924,0.5050233503217202,0.6108513236172811,0.5466252508709967,0.5622024870806519,0.5050233503217202,0.5,0.004812563323201621,0.0035460992907801418,0.000578954986249819,0.5161567732115677,0.5209685171833695,0.816939996141231,0.5,0.0065033900650339,0.0006849315068493152,0.010444794952681417,0.8035290778661116,0.0,0.003115264797507788,0.0010384215991692627,0.00692281066112842,0.7320872274143302,0.5639534883720929,0.3157496691245982,1.0,0.5,0.02523784355179703,0.005450581395348838,0.5058139534883721,0.9954128440366973,0.0020387359836901123,0.0022935779816513763,0.005504587155963304]), LabeledPoint(1.0, [0.5975395430579965,0.7263751763046544,0.2261410788381743,0.2263759086188993,0.5000000000000001,0.7655440414507773,0.23015873015873015,0.17647058823529413,0.584652862362972,0.48708487084870855,0.5191532258064516,0.5191532258064516,0.30329289428076256,0.31504922644163147,0.3,0.1723446893787575,0.3,0.194,0.8269230769230769,0.5,0.3,0.10230692076228684,0.45012787723785164,0.45083965330444203,0.3051690393925115,0.49602744673167215,0.39669634130615816,0.7638569880823401,0.5,0.6013001083423618,0.3296841581969485,0.21910501470360622,0.6693877551020408,0.5,0.5852554306129376,0.2450003187894502,0.5,0.17800000000000002,0.5896805896805897,0.15572005383580081,0.5223125168236877,0.07212290557278561,0.5,0.0,1.0,0.3624251586554933,0.5568266452434742,0.37684085128304196,0.43357130670508615,0.5715573585756141,0.5343121888253735,0.4385222170212028,0.38322318916443104,0.5465085667429114,0.4037839903577624,0.4884381338742394,0.4855424214870253,0.3737704721267006,0.4734543611050068,0.09262815764783895,0.3276760082662402,0.5074360701622462,0.5266844380904159,0.5480803750933425,0.36967568141902657,0.5934202333740803,0.49612612450413796,0.3362819997319394,0.5420184961801366,0.4623655913978495,0.4080779944289694,0.04381443298969071,0.5938803894297636,0.49999999999999994,0.5271411338962606,0.757412398921833,0.5,0.34744842562432143,0.6880222841225627,0.5757575757575757,0.525062656641604,0.6756543742233002,0.6576221568486762,0.49228256714965773,0.4924417296744945,0.43735101289134437,0.4454675670145283,0.2950276243093923,0.3162590990935533,0.5187517418889454,0.5136043146540384,0.4086740708101248,0.4087000568680398,0.5025289182585251,0.3627698457793844,0.33212735166425467,0.39093694669695767,0.43921852387843696,0.4289485670353525,0.5978292329956584,0.5,0.2890786732687403,0.39469481000343637,0.21060069228640516,0.43585896474118524,0.27386601934132027,0.2483120780195049,0.41518249417749314,0.6330749354005168,0.5,0.6196549137284322,0.2866327631014896,0.39124434218602494,0.6100392893208786,0.46261358201817315,0.5709946262960729,0.6115296757363179,0.05239520958083833,0.5685795243180972,0.24579000843079185,0.0783176214648296,0.5500239303843365,0.4616303873049799,0.19558011049723756,0.0014732965009208103,0.9986527521997135,0.4092340565417488,0.5147523045936944,0.786717605725198,0.2992392223161454,0.5515270292340356,0.5305930930930931,0.511033964715675,0.5270567140645881,0.522478037559244,0.3943478515396323,0.606181189337969,0.44687764158918003,0.5562207708434124,0.5329914529914529,0.41619894693820114,0.5723163023898052,0.5106342224417172,0.20997815403853268,0.4402060321801294,0.49759463806210724,0.4316764276237318,0.5269265193259577,0.41328612463206454,0.4296303725450865,0.5602218752784994,0.41467083635801566,0.5364742186659012,0.4062538623161538,0.2762305847418913,0.6979879752519708,0.2444297267150028,0.24778256558877365,0.4542906715018132,0.47690767781441357,0.7074915824915826,0.5305555555555554,0.5377768375241779,0.8951893128284992,0.5330497510008788,0.7098522955917322,0.5318349603416718,0.4772844827586207,0.45924301163027953,0.4002261164499717,0.4163148565903964,0.42168257389162567,0.4085431739171286,0.20719640179910032,0.45897475369458135,0.5550145451965376,0.2173913043478259,0.5,0.09773652499592902,0.5,0.21739130434782605,0.21739130434782622,0.21739130434782605,0.21739130434782605,0.0886519004648619,0.21102265768524175,0.5405806486428146,0.5260467980295567,0.5304980304980306,0.520273331319843,0.6385836385836385,0.4909417450365727,0.6575670498084291,0.3135485708367854,0.5198924731182796,0.6589113257243194,0.5315845824411135,0.4529153766769866,0.4836269533193988,0.48215536214485794,0.8139768728004023,0.3974591931013243,0.6380043753038406,0.6411138923654569,0.3130446623093681,0.46901355823636176,0.6067085844938682,0.6778678217130083,0.4446345840811386,0.45984991934918296,0.613940606247115,0.5256248609359935,0.5068708519856462,0.38579728173841693,0.38205298747367256,0.46784159165619676,0.4935304582269809,0.5956902565692582,0.6022710294337368,0.3244315273817357,0.3939472696295013,0.36176583821705094,0.5682113902512261,0.46033772029347253,0.35748469374114383,0.5311615044247787,0.42210506495951805,0.7217127831391236,0.2291932096002204,0.6018608316159535,0.3636182249242976,0.5977473853580048,0.41252037109535034,0.4271016391347413,0.403838808250573,0.3514887436456064,0.4371657754010695,0.1732905490963509,0.453781512605042,0.4831932773109244,0.8587739443603528,0.6439063663847872,0.4596205614664787,0.5263446689232071,0.49103317659352147,0.5406143759106361,0.4728690430065866,0.3876921126540802,0.6466659962701575,0.625171308576481,0.4481573275862068,0.5256541759111636,0.44672577315996204,0.4666810355757284,0.2415051407382437,0.36181210673114456,0.4861471322166476,0.5420883702054922,0.4867107993281297,0.48093702273345973,0.47845492616266255,0.4933954749194498,0.5433220210395118,0.4854776533837473,0.400454219848919,0.33433354833281914,0.45519921635461547,0.6081525312294543,0.6568047337278107,0.5381656804733728,0.4935633949139527,0.48784592496852935,0.6796262306023695,0.4013746203458332,0.5994220448603276,0.5824852071005917,0.34488311184401976,0.4819197896120972,0.632396449704142,0.724201979462414,0.3372043476690861,0.4640883977900553,0.5639236212077154,0.5893250396012828,0.4823577263329153,0.49723756906077354,0.5019439328831594,0.6863715820499406,0.4119135904746125,0.5469613259668509,0.5464911249559187,0.2994102294681897,0.5263351749539595,0.5899706917184399,0.6304018769393779,0.39899092970521544,0.6907407407407408,0.3377229080932785,0.40103969754253305,0.5156249999999999,0.27081467263808917,0.6326388888888889,0.27538699690402474,0.5785612535612535,0.4148443529714433,0.8223058992289761,0.385045723507262,0.3821310808979629,0.4751736557756625,0.2871785844853967,0.5069033530571992,0.40143312770154016,0.7365224210451273,0.6048350727265274,0.4861471322166476,0.4810232154705554,0.4855625793873512,0.49915776677954327,0.5,0.5121633086856622,0.43756688645700276,0.671543777308146,0.5882720535478704,0.6367517992915642,0.5973366911940572,0.3332408890353126,0.41715852457303976,0.5031109789048362,0.3092883579998134,0.3874174487313174,0.6500331785003317,0.3806201606826281,0.5371380392246654,0.4762877923502651,0.4703210866152331,0.5488524789871653,0.513531100074567,0.5467892650795533,0.3096362820852617,0.5154845154845155,0.8237262737262737,0.6534565434565436,0.45968737145207744,0.7594818974129319,0.717313936063936,0.814488338041501,0.4262617463836976,0.7862137862137862,0.7858466320004782,0.2699164740584859,0.8056705199562342,0.396221322537112,0.8401979463835134,0.37212933019344424,0.3596784216249806,0.5069957537154989,0.38025477707006367,0.4347165926783762,0.7875247431542908,0.7601457955939929,0.7378975132744382,0.43083307650160946,0.4800843276217816,0.5011976699874789,0.2794548318608315,0.824261725535611,0.352877264531977,0.6943510864164069,0.4401911104371488,0.007215653683251415,0.9430613164019563,0.4046526385429113,0.9909042579786718,0.18970726581396138,0.9883724500448275,0.3062147549279542,0.9787427245057508,0.42587853156609695,0.3313414228723404,0.40242519508224334,0.34061729522418044,0.5639152507781009,0.3841345065640561,0.49663911099064917,0.26319381467271247,0.7768908215561423,0.5040753602932262,0.3840581228128794,0.5371353455004367,0.514070696915098,0.3806086330813035,1.0,0.4436615098024876,0.3611364084774726,0.6203755033791473,0.4745953026528925,0.5151667622688555,0.44461326611585683,0.340548330645438,0.9104356205641926,0.6118355390452445,0.017331022530329292,0.022701696178871696,0.9697658198419072,0.36636796058778565,0.5807172609976633,0.5778336238389724,0.6440214289590338,0.3780373204456974,0.4098593808479923,0.688135593220339,0.4559322033898305,0.4385892826570792,0.4892141756548536,0.4563727776913907,0.6686161296330788,0.6593220338983051,0.6091014627350825,0.410264979708761,0.40896215463199437,0.46682808716707025,0.6268883914294852,0.5385231240950514,0.3931290445374952,0.6619718309859154,0.3943661971830986,0.5937198533667759,0.1580035770176615,0.5147132796780683,0.38529361653793737,0.5942781690140845,0.48518437594540986,0.5801408450704225,0.33785326337107613,0.3515258215962441,0.5102874981849862,0.5150994937597112,0.4577894953834803,0.5880777471686562,0.060283389450056166,0.5276688453159042,0.19694691896413913,0.45493395493395494,0.24569443099794538,0.7308610156548301,0.21846567411083537,0.2605966582856328,0.13217228808626658,0.5331008427782621,0.3328533026113671,0.30430107526881717,0.2564838932300363,0.6691225275454666,0.4993246073298429,0.44290402845963833,0.5659021025513172,0.36419126010436476,0.3705951988674502,0.611821449600687,0.531338603939453,0.46660694360999055,0.44839034789804505,0.6121251236518928,0.4133544850936038,0.35712672858225125,1.734723475976807e-17,0.7081459270364817,1.0,1.0,0.49042792792792783,0.47706422018348627,0.38725490196078427,1.0,0.2068965517241379,0.4827586206896552,0.49598488427019366,0.43779050913414763,0.41473354231974924,0.7931034482758621,0.49325334812051547,0.3404131991885066,0.6306235342558942,0.4221232757115418,0.7197317618370249,0.4802935010482181,0.7203356149260323,0.3467007101252693,0.43673965936739656,0.7123015873015872,0.16666666666666624,0.7061224489795919,0.23954451345755698,0.5833708877872916,0.6654002026342452,0.3480725623582766,0.4505984211866564,0.6889880952380952,0.3838355654761904,0.5186335403726708,0.4265658747300216,0.47818052594172,0.3748508124980874,0.6909005628517824,0.39342523860021206,0.5457317073170731,0.12195121951219505,0.49617886178861786,0.34259178890721287,0.3712737127371274,0.4832773477435373,0.527977044476327,0.44286787654606413,0.3886178861788618,0.3940909440640148,0.7841313386771829,0.34119556913674565,0.5625617588932806,0.3636363636363636,0.3230003212335368,0.30181200453001134,0.5194298681038151,0.21657593903102887,0.6524960588544403,0.6430107526881721,0.41105511030323055,0.3696178035800676,0.43086839495679274,0.301373192368453,0.460596546310832,0.28649770268267377,0.6721259509721049,0.6761019983548653,0.5339712360337232,0.42228042605203425,0.3468594795306062,0.6301347824532552,0.5329383106195272,0.49888807566715465,0.5952994508830394,0.6582829265076722,0.5318917025127975,0.18333333333333335,0.15625,0.9895833333333334,0.9895833333333334,0.6197015570934257,0.1674366872005476,0.9619447227788911,0.80625,0.37190588646899325,0.35121392579019695,0.5587318087318086,0.6323011753475329,0.7750991276764473,0.5832554186145347,0.7245384615384616,0.49820143884892076,0.4604414682539683,0.6638851802403204,0.5246007768666379,0.6359788359788359,0.22655758338577725,0.5897693855440335,0.17069741282339707,0.4755381604696673,0.5564413265306122,0.6208277703604808,0.37365813377374074,0.6057060755336618,0.5595014741356205,0.6226415094339622,0.3011311853321182,0.7174928890694839,0.39104190359548596,0.7962962962962963,0.03665164369034995,0.3379515340823215,0.3239077282874455,0.5501794005909667,0.7203502415458937,0.7763744827215564,0.24444186451500546,0.7256661991584853,0.3451786987068527,0.379896685320706,0.4618945868945869,0.3609092910612065,0.2932389937106919,0.4862244897959184,0.46736512524084783,0.4349489795918367,0.44753086419753085,0.8146067415730337,0.5689034369885434,0.311965811965812,0.39102564102564097,0.7836623553437713,0.5504273504273505,0.6350499782703173,0.45359978100191617,0.027188328912466836,0.6121343946686413,0.556261314193159,0.6321221884135791,0.49881119899073223,0.5590516552055014,0.4225828462930548,0.4053724857622544,0.7110477694975789,0.5989432338913308,0.5601862366568249,0.18666666666666668,0.6,1.0,1.0,0.6326309067688377,0.7021771771771772,0.46875000000000006,0.8133333333333334,0.4815366665089951,0.42666322698999626,0.6148880308880309,0.6867555938037866,0.2896002232964133,0.4288079873371484,0.2829457364341086,0.676073187895848,0.38287711124053586,0.6521974306964166,0.6000000000000001,0.7142533936651584,0.4583710407239818,0.4475673843024242,0.3892156862745098,0.538935574229692,0.5223529411764706,0.7113122171945702,0.058823529411764705,0.6647058823529413,0.5285518858706274,0.606464124111183,0.5200317460317461,0.5597710776102736,0.4258085550339071,0.4554368471035138,0.15726495726495723,0.5132203780544029,0.4138786135086998,0.503988128362085,0.4677956030897207,0.4361785626686289,0.37487703367385544,0.6152572523262179,0.4347497639282342,0.4354916067146283,0.48887362637362636,0.6416176470588235,0.1058531746031746,0.5477836879432624,0.3762820512820513,0.5640625,0.3908101045296168,0.7525595238095238,0.41965494649486784,0.674974267480958,0.3574639924619733,0.4313489378974428,0.3127253064167268,0.4901843215634022,0.38100738271016904,0.4226642186862505,0.4755107578988175,0.549232635729451,0.6867814113597246,0.6752886297376094,0.6148880308880309,0.47224109912837936,0.45018340905266696,0.5922136786726022,0.4553072196620584,0.5087647236484446,0.5482874482119385,0.6483842804320993,0.5268012689451815,0.24786883047520397,0.03680977208401608,0.5408587038177235,0.49402913709112534,0.5675656822696935,0.040024076924249107,0.6673952881930676,0.5394009426976992,0.5085304908662573,0.31633345992535855,0.03459814030129349,0.6339619978714787,0.47375404075895994,0.5305031058761304,0.4386485958779686,0.034496456352374034,0.5235719872474401,0.4456427110362501,0.46275071402322265,0.03279948958093722,0.5344902125415009,0.5639517173630652,0.5175218881327878,0.4818614630959045,0.042416311808319944,0.46954586187957104,0.38612422143100295,0.6282828282828283,0.4239007311296468,0.034819142414079116,0.471042224773568,0.4736151220792859,0.39024473964233003,0.03399031159283524,0.13869701726844585,0.5919401111708803,0.5301200908795846,0.491710875331565,0.0419257006145664,0.4855708908406524,0.4797843665768194,0.07807118254879446,0.4026927784577724,0.24787363304981774,0.22457067371202116,0.46176911544227883,0.42989214175654855,0.43162901307966706,0.44528301886792454,0.45565006075334147,0.5377551020408163,0.24544349939246657,0.11970338983050849,0.29985007496251875,0.0,0.4026927784577724,0.42989214175654855,0.5162374020156775,0.4524886877828054,0.21304347826086956,0.4410876132930514,0.07807118254879446,0.46176911544227883,0.5377551020408163,0.0,0.45565006075334147,0.29985007496251875,0.9053191489361702,0.9053191489361702,0.4797843665768194,0.22457067371202116,0.8773584905660378,0.24154589371980673,0.13311688311688313,0.22457067371202116,0.4855708908406524,0.24787363304981774,0.44528301886792454,0.11970338983050849,0.43162901307966706,0.24544349939246657,0.5429999999999999,1.0,0.5429999999999999,1.0,0.3706896551724138,0.4291497975708502,0.6594202898550725,0.0013333333333333333,0.0,0.0,0.0,0.42391304347826086,0.42391304347826086,0.0,0.3333333333333333,0.47928994082840237,0.39355581127733025,0.33333333333333337,0.0,0.4146341463414634,0.47928994082840237,0.11235955056179776,0.33333333333333337,0.33866995073891626,0.4146341463414634,0.0,0.47928994082840237,0.8390022675736962,0.14268867924528297,0.30000000000000004,0.41463414634146334,0.5,0.5,0.28693181818181823,0.2860759493670886,0.5,0.5,0.5,0.33828382838283827,0.7341772151898733,0.33171521035598706,0.26666666666666666,0.33171521035598706,0.5,0.5,0.029411764705882353,0.2967980295566502,0.009523809523809523,0.2967980295566502,0.11235955056179776,0.3386699507389163,0.5,0.5,0.4368421052631579,0.5343137254901961,0.5,0.5,0.3,0.0,0.0,0.0,0.25349087003222337,0.09043927648578812,0.7870588235294117,0.33385335413416534,0.987891019172553,0.7176470588235294,0.814663951120163,1.0,0.8060046189376443,1.0,0.6432664756446992,0.9909638554216867,0.6865315852205006,0.8170347003154573,1.0,0.8129496402877697,1.0,0.44490644490644493,0.8397435897435898,0.5,0.6142210144927537,0.011111111111111115,0.4819321183557895,0.3531694695989651,0.3393854748603352,0.5408163265306123,0.3531694695989651,0.3531694695989651,0.3753846153846154,0.030303030303030304,0.0,0.0,0.0,0.0,0.0,0.0,0.0,1.0,0.6507462686567165,0.667166416791604,0.6509988249118684,0.5,0.0,0.0,0.0,0.6520183297291732,0.3143102073275321,0.6520183297291732,0.3143102073275321,0.010741821623646796,0.0006015966700811345,0.0006407395965628899,0.0014608630087494705,0.0,0.0,0.0,0.0,0.018451091408909683,0.5131311329170384,0.8045721821961909,0.5,0.002532928064842959,0.008842221608179055,0.00851063829787234,0.4944729762778185,0.6247209220427994,0.3465027036455608,0.5547545223584998,0.5,0.5,0.0003613407868727018,0.001647736362182051,0.5,0.00303951367781155,0.03993920972644377,0.002454991816693945,0.4855707013258247,0.3234670476675828,0.4808891072865108,0.43807238560213685,0.42159696659589746,0.2831531018782015,0.4739193096885653,0.42398034048542377,0.36529105780392923,0.428833152252803,0.008695652173913044,0.0059231253938248265,0.0026350461133069834,0.0003874300473525613,0.7059373539036933,0.3527490223142397,0.7505069599587558,0.2859994531036369,0.015625,0.5,0.03750000000000001,0.00625,0.8404544733502538,0.1376664402173913,0.7727629513343799,0.1112294407894737,0.48198771529888557,0.00303951367781155,1.0,0.00182370820668693,0.05775075987841946,0.521786895328419,0.4993161094224924,0.5050233503217202,0.6108513236172811,0.5466252508709967,0.5622024870806519,0.5050233503217202,0.5,0.004812563323201621,0.0035460992907801418,0.000578954986249819,0.5161567732115677,0.5209685171833695,0.816939996141231,0.5,0.0065033900650339,0.0006849315068493152,0.010444794952681417,0.8035290778661116,0.0,0.003115264797507788,0.0010384215991692627,0.00692281066112842,0.7320872274143302,0.5639534883720929,0.3157496691245982,1.0,0.5,0.02523784355179703,0.005450581395348838,0.5058139534883721,0.9954128440366973,0.0020387359836901123,0.0022935779816513763,0.005504587155963304]), LabeledPoint(1.0, [0.5289982425307558,0.5260930888575458,0.2074688796680498,0.2263759086188993,0.5617816091954023,0.4702072538860103,0.23015873015873015,0.35294117647058826,0.29841656516443366,0.45387453874538747,0.2540322580645161,0.2540322580645161,0.4003466204506066,0.5372714486638537,0.2136388140161725,0.3057981191493499,0.19212938005390837,0.37581617250673854,0.7706458635703918,0.5,0.19056603773584907,0.3688737371143079,0.45352920495515675,0.49999999999999994,0.04449388209121247,0.33333333333333337,0.5105672969966629,0.8799999999999999,0.5,0.6666666666666666,0.005636978579481403,0.1476190476190476,0.20816326530612247,0.3538461538461538,0.5852554306129376,0.2450003187894502,0.32895093521279484,0.32499891569531036,0.3685969909878828,0.0,0.669,0.018115942028985504,0.5,0.0,1.0,0.3083109919571046,0.39168490153172864,0.3492063492063492,0.4878504672897196,0.7777777777777777,0.7159090909090909,0.4829059829059829,0.48387096774193544,0.6968085106382979,0.3971014492753624,0.5,0.2413793103448276,0.3737704721267006,0.4734543611050068,0.09262815764783895,0.3276760082662402,0.5074360701622462,0.5266844380904159,0.5480803750933425,0.36967568141902657,0.5934202333740803,0.49612612450413796,0.3362819997319394,0.5420184961801366,0.3224198236988645,0.5294166956470518,0.047382223097982165,0.3030026227064045,0.5054392029280195,0.5159511035260541,0.49468096184432786,0.3354020644451355,0.5762765599038123,0.45138545120477225,0.5232874700646152,0.5061423383591145,0.6756543742233002,0.6576221568486762,0.49228256714965773,0.4924417296744945,0.43735101289134437,0.4454675670145283,0.2950276243093923,0.3162590990935533,0.5187517418889454,0.5136043146540384,0.4086740708101248,0.4087000568680398,0.5025289182585251,0.3627698457793844,0.33212735166425467,0.39093694669695767,0.43921852387843696,0.4289485670353525,0.5978292329956584,0.5,0.2890786732687403,0.39469481000343637,0.21060069228640516,0.43585896474118524,0.27386601934132027,0.2483120780195049,0.41518249417749314,0.6330749354005168,0.5,0.6196549137284322,0.2866327631014896,0.39124434218602494,0.6100392893208786,0.46261358201817315,0.5709946262960729,0.6115296757363179,0.05239520958083833,0.5685795243180972,0.24579000843079185,0.0783176214648296,0.5500239303843365,0.4616303873049799,0.19558011049723756,0.0014732965009208103,0.9986527521997135,0.4092340565417488,0.5147523045936944,0.786717605725198,0.2992392223161454,0.5515270292340356,0.5305930930930931,0.511033964715675,0.5270567140645881,0.522478037559244,0.3943478515396323,0.606181189337969,0.44687764158918003,0.5562207708434124,0.5329914529914529,0.41619894693820114,0.5723163023898052,0.5106342224417172,0.20997815403853268,0.4402060321801294,0.49759463806210724,0.4316764276237318,0.5269265193259577,0.41328612463206454,0.4296303725450865,0.5602218752784994,0.41467083635801566,0.5364742186659012,0.4062538623161538,0.2762305847418913,0.6979879752519708,0.2444297267150028,0.24778256558877365,0.4542906715018132,0.47690767781441357,0.7074915824915826,0.5305555555555554,0.5377768375241779,0.8951893128284992,0.5330497510008788,0.7098522955917322,0.5318349603416718,0.4772844827586207,0.45924301163027953,0.4002261164499717,0.4163148565903964,0.42168257389162567,0.4085431739171286,0.20719640179910032,0.45897475369458135,0.5550145451965376,0.2173913043478259,0.5,0.09773652499592902,0.5,0.21739130434782605,0.21739130434782622,0.21739130434782605,0.21739130434782605,0.0886519004648619,0.21102265768524175,0.5405806486428146,0.5260467980295567,0.5304980304980306,0.520273331319843,0.6385836385836385,0.4909417450365727,0.6575670498084291,0.3135485708367854,0.5198924731182796,0.6589113257243194,0.5315845824411135,0.4529153766769866,0.4836269533193988,0.48215536214485794,0.8139768728004023,0.3974591931013243,0.6380043753038406,0.6411138923654569,0.3130446623093681,0.46901355823636176,0.6067085844938682,0.6778678217130083,0.4446345840811386,0.45984991934918296,0.613940606247115,0.5256248609359935,0.5068708519856462,0.38579728173841693,0.38205298747367256,0.46784159165619676,0.4935304582269809,0.5956902565692582,0.6022710294337368,0.3244315273817357,0.3939472696295013,0.36176583821705094,0.5682113902512261,0.46033772029347253,0.35748469374114383,0.5311615044247787,0.42210506495951805,0.7217127831391236,0.2291932096002204,0.6018608316159535,0.3636182249242976,0.5977473853580048,0.41252037109535034,0.4271016391347413,0.403838808250573,0.3514887436456064,0.4371657754010695,0.1732905490963509,0.453781512605042,0.4831932773109244,0.8587739443603528,0.6439063663847872,0.4596205614664787,0.5263446689232071,0.49103317659352147,0.5406143759106361,0.4728690430065866,0.3876921126540802,0.6466659962701575,0.625171308576481,0.4481573275862068,0.5256541759111636,0.44672577315996204,0.4666810355757284,0.2415051407382437,0.36181210673114456,0.4861471322166476,0.5420883702054922,0.4867107993281297,0.48093702273345973,0.47845492616266255,0.4933954749194498,0.5433220210395118,0.4854776533837473,0.400454219848919,0.33433354833281914,0.45519921635461547,0.6081525312294543,0.6568047337278107,0.5381656804733728,0.4935633949139527,0.48784592496852935,0.6796262306023695,0.4013746203458332,0.5994220448603276,0.5824852071005917,0.34488311184401976,0.4819197896120972,0.632396449704142,0.724201979462414,0.3372043476690861,0.4640883977900553,0.5639236212077154,0.5893250396012828,0.4823577263329153,0.49723756906077354,0.5019439328831594,0.6863715820499406,0.4119135904746125,0.5469613259668509,0.5464911249559187,0.2994102294681897,0.5263351749539595,0.5899706917184399,0.6304018769393779,0.39899092970521544,0.6907407407407408,0.3377229080932785,0.40103969754253305,0.5156249999999999,0.27081467263808917,0.6326388888888889,0.27538699690402474,0.5785612535612535,0.4148443529714433,0.8223058992289761,0.385045723507262,0.3821310808979629,0.4751736557756625,0.2871785844853967,0.5069033530571992,0.40143312770154016,0.7365224210451273,0.6048350727265274,0.4861471322166476,0.4810232154705554,0.4855625793873512,0.49915776677954327,0.5,0.5121633086856622,0.43756688645700276,0.671543777308146,0.5882720535478704,0.6367517992915642,0.5973366911940572,0.3332408890353126,0.41715852457303976,0.5031109789048362,0.3092883579998134,0.3874174487313174,0.6500331785003317,0.3806201606826281,0.5371380392246654,0.4762877923502651,0.4703210866152331,0.5488524789871653,0.513531100074567,0.5467892650795533,0.3096362820852617,0.5154845154845155,0.8237262737262737,0.6534565434565436,0.45968737145207744,0.7594818974129319,0.717313936063936,0.814488338041501,0.4262617463836976,0.7862137862137862,0.7858466320004782,0.2699164740584859,0.8056705199562342,0.396221322537112,0.8401979463835134,0.37212933019344424,0.3596784216249806,0.5069957537154989,0.38025477707006367,0.4347165926783762,0.7875247431542908,0.7601457955939929,0.7378975132744382,0.43083307650160946,0.4800843276217816,0.5011976699874789,0.2794548318608315,0.824261725535611,0.352877264531977,0.6943510864164069,0.4401911104371488,0.007215653683251415,0.9430613164019563,0.4046526385429113,0.9909042579786718,0.18970726581396138,0.9883724500448275,0.3062147549279542,0.9787427245057508,0.42587853156609695,0.3313414228723404,0.40242519508224334,0.34061729522418044,0.5639152507781009,0.3841345065640561,0.49663911099064917,0.26319381467271247,0.7768908215561423,0.5040753602932262,0.3840581228128794,0.5371353455004367,0.514070696915098,0.3806086330813035,1.0,0.4436615098024876,0.3611364084774726,0.6203755033791473,0.4745953026528925,0.5151667622688555,0.44461326611585683,0.340548330645438,0.9104356205641926,0.6118355390452445,0.017331022530329292,0.022701696178871696,0.9697658198419072,0.36636796058778565,0.5807172609976633,0.5778336238389724,0.6440214289590338,0.3780373204456974,0.4098593808479923,0.688135593220339,0.4559322033898305,0.4385892826570792,0.4892141756548536,0.4563727776913907,0.6686161296330788,0.6593220338983051,0.6091014627350825,0.410264979708761,0.40896215463199437,0.46682808716707025,0.6268883914294852,0.5385231240950514,0.3931290445374952,0.6619718309859154,0.3943661971830986,0.5937198533667759,0.1580035770176615,0.5147132796780683,0.38529361653793737,0.5942781690140845,0.48518437594540986,0.5801408450704225,0.33785326337107613,0.3515258215962441,0.5102874981849862,0.5150994937597112,0.4577894953834803,0.5880777471686562,0.060283389450056166,0.5276688453159042,0.19694691896413913,0.45493395493395494,0.24569443099794538,0.7308610156548301,0.21846567411083537,0.2605966582856328,0.13217228808626658,0.5331008427782621,0.3328533026113671,0.30430107526881717,0.2564838932300363,0.6691225275454666,0.4993246073298429,0.44290402845963833,0.5659021025513172,0.36419126010436476,0.3705951988674502,0.611821449600687,0.531338603939453,0.46660694360999055,0.44839034789804505,0.6121251236518928,0.4133544850936038,0.35712672858225125,1.734723475976807e-17,0.7081459270364817,1.0,1.0,0.49042792792792783,0.47706422018348627,0.38725490196078427,1.0,0.2068965517241379,0.4827586206896552,0.49598488427019366,0.43779050913414763,0.41473354231974924,0.7931034482758621,0.49325334812051547,0.3404131991885066,0.6306235342558942,0.4221232757115418,0.7197317618370249,0.4802935010482181,0.7203356149260323,0.3467007101252693,0.43673965936739656,0.7123015873015872,0.16666666666666624,0.7061224489795919,0.23954451345755698,0.5833708877872916,0.6654002026342452,0.3480725623582766,0.4505984211866564,0.6889880952380952,0.3838355654761904,0.5186335403726708,0.4265658747300216,0.47818052594172,0.3748508124980874,0.6909005628517824,0.39342523860021206,0.5457317073170731,0.12195121951219505,0.49617886178861786,0.34259178890721287,0.3712737127371274,0.4832773477435373,0.527977044476327,0.44286787654606413,0.3886178861788618,0.3940909440640148,0.7841313386771829,0.34119556913674565,0.5625617588932806,0.3636363636363636,0.3230003212335368,0.30181200453001134,0.5194298681038151,0.21657593903102887,0.6524960588544403,0.6430107526881721,0.41105511030323055,0.3696178035800676,0.43086839495679274,0.301373192368453,0.460596546310832,0.28649770268267377,0.6721259509721049,0.6761019983548653,0.5339712360337232,0.42228042605203425,0.3468594795306062,0.6301347824532552,0.5329383106195272,0.49888807566715465,0.5952994508830394,0.6582829265076722,0.5318917025127975,0.18333333333333335,0.15625,0.9895833333333334,0.9895833333333334,0.6197015570934257,0.1674366872005476,0.9619447227788911,0.80625,0.37190588646899325,0.35121392579019695,0.5587318087318086,0.6323011753475329,0.7750991276764473,0.5832554186145347,0.7245384615384616,0.49820143884892076,0.4604414682539683,0.6638851802403204,0.5246007768666379,0.6359788359788359,0.22655758338577725,0.5897693855440335,0.17069741282339707,0.4755381604696673,0.5564413265306122,0.6208277703604808,0.37365813377374074,0.6057060755336618,0.5595014741356205,0.6226415094339622,0.3011311853321182,0.7174928890694839,0.39104190359548596,0.7962962962962963,0.03665164369034995,0.3379515340823215,0.3239077282874455,0.5501794005909667,0.7203502415458937,0.7763744827215564,0.24444186451500546,0.7256661991584853,0.3451786987068527,0.379896685320706,0.4618945868945869,0.3609092910612065,0.2932389937106919,0.4862244897959184,0.46736512524084783,0.4349489795918367,0.44753086419753085,0.8146067415730337,0.5689034369885434,0.311965811965812,0.39102564102564097,0.7836623553437713,0.5504273504273505,0.6350499782703173,0.45359978100191617,0.027188328912466836,0.6121343946686413,0.556261314193159,0.6321221884135791,0.49881119899073223,0.5590516552055014,0.4225828462930548,0.4053724857622544,0.7110477694975789,0.5989432338913308,0.5601862366568249,0.18666666666666668,0.6,1.0,1.0,0.6326309067688377,0.7021771771771772,0.46875000000000006,0.8133333333333334,0.4815366665089951,0.42666322698999626,0.6148880308880309,0.6867555938037866,0.2896002232964133,0.4288079873371484,0.2829457364341086,0.676073187895848,0.38287711124053586,0.6521974306964166,0.6000000000000001,0.7142533936651584,0.4583710407239818,0.4475673843024242,0.3892156862745098,0.538935574229692,0.5223529411764706,0.7113122171945702,0.058823529411764705,0.6647058823529413,0.5285518858706274,0.606464124111183,0.5200317460317461,0.5597710776102736,0.4258085550339071,0.4554368471035138,0.15726495726495723,0.5132203780544029,0.4138786135086998,0.503988128362085,0.4677956030897207,0.4361785626686289,0.37487703367385544,0.6152572523262179,0.4347497639282342,0.4354916067146283,0.48887362637362636,0.6416176470588235,0.1058531746031746,0.5477836879432624,0.3762820512820513,0.5640625,0.3908101045296168,0.7525595238095238,0.41965494649486784,0.674974267480958,0.3574639924619733,0.4313489378974428,0.3127253064167268,0.4901843215634022,0.38100738271016904,0.4226642186862505,0.4755107578988175,0.549232635729451,0.6867814113597246,0.6752886297376094,0.6148880308880309,0.47224109912837936,0.45018340905266696,0.5922136786726022,0.4553072196620584,0.5087647236484446,0.5482874482119385,0.6483842804320993,0.5268012689451815,0.24786883047520397,0.03680977208401608,0.5408587038177235,0.49402913709112534,0.5675656822696935,0.040024076924249107,0.6673952881930676,0.5394009426976992,0.5085304908662573,0.31633345992535855,0.03459814030129349,0.6339619978714787,0.47375404075895994,0.5305031058761304,0.4386485958779686,0.034496456352374034,0.5235719872474401,0.4456427110362501,0.46275071402322265,0.03279948958093722,0.5344902125415009,0.5639517173630652,0.5175218881327878,0.4818614630959045,0.042416311808319944,0.46954586187957104,0.38612422143100295,0.6282828282828283,0.4239007311296468,0.034819142414079116,0.471042224773568,0.4736151220792859,0.39024473964233003,0.03399031159283524,0.13869701726844585,0.5919401111708803,0.5301200908795846,0.491710875331565,0.0419257006145664,0.22333751568381435,0.25067385444743934,0.5407577497129735,0.07955936352509181,0.17375455650060753,0.13870541611624837,0.3778110944527736,0.4607087827426811,0.8466111771700356,0.7773584905660377,0.3487241798298906,0.3918367346938776,0.5164034021871203,0.2976694915254237,0.2503748125937031,0.0,0.07955936352509181,0.4607087827426811,0.043673012318029156,0.44193061840120657,0.7521739130434781,0.39274924471299094,0.5407577497129735,0.3778110944527736,0.3918367346938776,0.0,0.3487241798298906,0.2503748125937031,0.8574468085106383,0.8574468085106383,0.25067385444743934,0.13870541611624837,0.8155136268343817,0.16666666666666663,0.06926406926406926,0.13870541611624837,0.22333751568381435,0.17375455650060753,0.7773584905660377,0.2976694915254237,0.8466111771700356,0.5164034021871203,0.714,1.0,0.714,1.0,0.5344827586206897,0.5587044534412956,0.7623188405797102,0.0013333333333333333,0.0,0.0,0.0,0.2608695652173913,0.2608695652173913,0.2142857142857143,0.3333333333333333,0.3594674556213018,0.39355581127733025,0.23333333333333334,0.2142857142857143,0.5609756097560975,0.3594674556213018,0.0,0.23333333333333334,0.31650246305418717,0.5609756097560975,0.3566757967733254,0.4140159238028785,0.6477321875589794,0.33960342960024587,0.2352728213085079,0.4466931392133382,0.5,0.5,0.3849959195188055,0.2507727789881555,0.5,0.5,0.32919575898629433,0.2911068121108908,0.7582030170436451,0.2833747054901408,0.3271454431268241,0.2833858241451996,0.5,0.5,0.20348977449785188,0.3108451909160443,0.0709557057889098,0.3108682573106822,0.2349874913921601,0.30497745498777346,0.5,0.5,0.4235210310493068,0.5711993098247833,0.5,0.5,0.3,0.0,0.0,0.0,0.7819548872180451,0.3397932816537468,0.8152941176470588,0.25273010920436817,0.9909182643794148,0.7382352941176471,0.7413441955193483,1.0,0.7321016166281754,1.0,0.6332378223495703,0.9869477911646586,0.5387365911799762,0.7413249211356466,1.0,0.7074340527577938,1.0,0.582120582120582,0.8397435897435898,0.5,0.6142210144927537,0.011111111111111115,0.4819321183557895,0.8227684346701164,0.8156424581005587,0.3408163265306123,0.8227684346701164,0.8227684346701164,0.5246153846153846,0.030303030303030304,0.0,0.0,0.0,0.0,0.0,0.0,0.0,1.0,0.5104477611940299,0.4992503748125936,0.5088131609870741,0.5,0.0,0.0,0.0,0.6520183297291732,0.3143102073275321,0.6520183297291732,0.3143102073275321,0.010741821623646796,0.0006015966700811345,0.0006407395965628899,0.0014608630087494705,0.0,0.0,0.0,0.0,0.018451091408909683,0.5131311329170384,0.8045721821961909,0.5,0.002532928064842959,0.008842221608179055,0.00851063829787234,0.4944729762778185,0.6247209220427994,0.3465027036455608,0.5547545223584998,0.5,0.5,0.0003613407868727018,0.001647736362182051,0.5,0.00303951367781155,0.03993920972644377,0.002454991816693945,0.4855707013258247,0.3234670476675828,0.4808891072865108,0.43807238560213685,0.42159696659589746,0.2831531018782015,0.4739193096885653,0.42398034048542377,0.36529105780392923,0.428833152252803,0.008695652173913044,0.0059231253938248265,0.0026350461133069834,0.0003874300473525613,0.7059373539036933,0.3527490223142397,0.7505069599587558,0.2859994531036369,0.015625,0.5,0.03750000000000001,0.00625,0.8404544733502538,0.1376664402173913,0.7727629513343799,0.1112294407894737,0.48198771529888557,0.00303951367781155,1.0,0.00182370820668693,0.05775075987841946,0.521786895328419,0.4993161094224924,0.5050233503217202,0.6108513236172811,0.5466252508709967,0.5622024870806519,0.5050233503217202,0.5,0.004812563323201621,0.0035460992907801418,0.000578954986249819,0.5161567732115677,0.5209685171833695,0.816939996141231,0.5,0.0065033900650339,0.0006849315068493152,0.010444794952681417,0.8035290778661116,0.0,0.003115264797507788,0.0010384215991692627,0.00692281066112842,0.7320872274143302,0.5639534883720929,0.3157496691245982,1.0,0.5,0.02523784355179703,0.005450581395348838,0.5058139534883721,0.9954128440366973,0.0020387359836901123,0.0022935779816513763,0.005504587155963304]), LabeledPoint(1.0, [0.6783831282952549,0.7263751763046544,0.35788381742738595,0.3582554517133957,0.6250000000000001,0.5297927461139896,0.23015873015873015,0.23529411764705885,0.6650426309378807,0.4477244772447725,0.25201612903225806,0.25201612903225806,0.6013864818024264,0.18143459915611812,0.19999999999999998,0.3166332665330661,0.2,0.292,0.7692307692307692,0.5,0.2,0.1464393179538616,0.25575447570332477,0.45083965330444203,0.3051690393925115,0.49602744673167215,0.39669634130615816,0.7638569880823401,0.5,0.6013001083423618,0.3296841581969485,0.21910501470360622,0.6040816326530613,0.37692307692307686,0.5852554306129376,0.2450003187894502,0.32895093521279484,0.32499891569531036,0.3685969909878828,0.5,0.02300000000000002,0.03804347826086957,1.0,0.0,1.0,0.3624251586554933,0.5568266452434742,0.37684085128304196,0.43357130670508615,0.5715573585756141,0.5343121888253735,0.4385222170212028,0.38322318916443104,0.5465085667429114,0.4037839903577624,0.4884381338742394,0.4855424214870253,0.3737704721267006,0.4734543611050068,0.09262815764783895,0.3276760082662402,0.5074360701622462,0.5266844380904159,0.5480803750933425,0.36967568141902657,0.5934202333740803,0.49612612450413796,0.3362819997319394,0.5420184961801366,0.4229390681003585,0.8732590529247911,0.08247422680412371,0.24200278164116829,0.8749999999999999,0.8890229191797346,0.5862533692722371,0.44362745098039214,0.6199782844733985,0.46378830083565464,0.7752525252525252,0.6428571428571428,0.6756543742233002,0.6576221568486762,0.49228256714965773,0.4924417296744945,0.43735101289134437,0.4454675670145283,0.2950276243093923,0.3162590990935533,0.5187517418889454,0.5136043146540384,0.4086740708101248,0.4087000568680398,0.5025289182585251,0.3627698457793844,0.33212735166425467,0.39093694669695767,0.43921852387843696,0.4289485670353525,0.5978292329956584,0.5,0.2890786732687403,0.39469481000343637,0.21060069228640516,0.43585896474118524,0.27386601934132027,0.2483120780195049,0.41518249417749314,0.6330749354005168,0.5,0.6196549137284322,0.2866327631014896,0.39124434218602494,0.6100392893208786,0.46261358201817315,0.5709946262960729,0.6115296757363179,0.05239520958083833,0.5685795243180972,0.24579000843079185,0.0783176214648296,0.5500239303843365,0.4616303873049799,0.19558011049723756,0.0014732965009208103,0.9986527521997135,0.4092340565417488,0.5147523045936944,0.786717605725198,0.2992392223161454,0.5515270292340356,0.5305930930930931,0.511033964715675,0.5270567140645881,0.522478037559244,0.3943478515396323,0.606181189337969,0.44687764158918003,0.5562207708434124,0.5329914529914529,0.41619894693820114,0.5723163023898052,0.5106342224417172,0.20997815403853268,0.4402060321801294,0.49759463806210724,0.4316764276237318,0.5269265193259577,0.41328612463206454,0.4296303725450865,0.5602218752784994,0.41467083635801566,0.5364742186659012,0.4062538623161538,0.2762305847418913,0.6979879752519708,0.2444297267150028,0.24778256558877365,0.4542906715018132,0.47690767781441357,0.7074915824915826,0.5305555555555554,0.5377768375241779,0.8951893128284992,0.5330497510008788,0.7098522955917322,0.5318349603416718,0.4772844827586207,0.45924301163027953,0.4002261164499717,0.4163148565903964,0.42168257389162567,0.4085431739171286,0.20719640179910032,0.45897475369458135,0.5550145451965376,0.2173913043478259,0.5,0.09773652499592902,0.5,0.21739130434782605,0.21739130434782622,0.21739130434782605,0.21739130434782605,0.0886519004648619,0.21102265768524175,0.5405806486428146,0.5260467980295567,0.5304980304980306,0.520273331319843,0.6385836385836385,0.4909417450365727,0.6575670498084291,0.3135485708367854,0.5198924731182796,0.6589113257243194,0.5315845824411135,0.4529153766769866,0.4836269533193988,0.48215536214485794,0.8139768728004023,0.3974591931013243,0.6380043753038406,0.6411138923654569,0.3130446623093681,0.46901355823636176,0.6067085844938682,0.6778678217130083,0.4446345840811386,0.45984991934918296,0.613940606247115,0.5256248609359935,0.5068708519856462,0.38579728173841693,0.38205298747367256,0.46784159165619676,0.4935304582269809,0.5956902565692582,0.6022710294337368,0.3244315273817357,0.3939472696295013,0.36176583821705094,0.5682113902512261,0.46033772029347253,0.35748469374114383,0.5311615044247787,0.42210506495951805,0.7217127831391236,0.2291932096002204,0.6018608316159535,0.3636182249242976,0.5977473853580048,0.41252037109535034,0.4271016391347413,0.403838808250573,0.3514887436456064,0.4371657754010695,0.1732905490963509,0.453781512605042,0.4831932773109244,0.8587739443603528,0.6439063663847872,0.4596205614664787,0.5263446689232071,0.49103317659352147,0.5406143759106361,0.4728690430065866,0.3876921126540802,0.6466659962701575,0.625171308576481,0.4481573275862068,0.5256541759111636,0.44672577315996204,0.4666810355757284,0.2415051407382437,0.36181210673114456,0.4861471322166476,0.5420883702054922,0.4867107993281297,0.48093702273345973,0.47845492616266255,0.4933954749194498,0.5433220210395118,0.4854776533837473,0.400454219848919,0.33433354833281914,0.45519921635461547,0.6081525312294543,0.6568047337278107,0.5381656804733728,0.4935633949139527,0.48784592496852935,0.6796262306023695,0.4013746203458332,0.5994220448603276,0.5824852071005917,0.34488311184401976,0.4819197896120972,0.632396449704142,0.724201979462414,0.3372043476690861,0.4640883977900553,0.5639236212077154,0.5893250396012828,0.4823577263329153,0.49723756906077354,0.5019439328831594,0.6863715820499406,0.4119135904746125,0.5469613259668509,0.5464911249559187,0.2994102294681897,0.5263351749539595,0.5899706917184399,0.6304018769393779,0.39899092970521544,0.6907407407407408,0.3377229080932785,0.40103969754253305,0.5156249999999999,0.27081467263808917,0.6326388888888889,0.27538699690402474,0.5785612535612535,0.4148443529714433,0.8223058992289761,0.385045723507262,0.3821310808979629,0.4751736557756625,0.2871785844853967,0.5069033530571992,0.40143312770154016,0.7365224210451273,0.6048350727265274,0.4861471322166476,0.4810232154705554,0.4855625793873512,0.49915776677954327,0.5,0.5121633086856622,0.43756688645700276,0.671543777308146,0.5882720535478704,0.6367517992915642,0.5973366911940572,0.3332408890353126,0.41715852457303976,0.5031109789048362,0.3092883579998134,0.3874174487313174,0.6500331785003317,0.3806201606826281,0.5371380392246654,0.4762877923502651,0.4703210866152331,0.5488524789871653,0.513531100074567,0.5467892650795533,0.3096362820852617,0.5154845154845155,0.8237262737262737,0.6534565434565436,0.45968737145207744,0.7594818974129319,0.717313936063936,0.814488338041501,0.4262617463836976,0.7862137862137862,0.7858466320004782,0.2699164740584859,0.8056705199562342,0.396221322537112,0.8401979463835134,0.37212933019344424,0.3596784216249806,0.5069957537154989,0.38025477707006367,0.4347165926783762,0.7875247431542908,0.7601457955939929,0.7378975132744382,0.43083307650160946,0.4800843276217816,0.5011976699874789,0.2794548318608315,0.824261725535611,0.352877264531977,0.6943510864164069,0.4401911104371488,0.007215653683251415,0.9430613164019563,0.4046526385429113,0.9909042579786718,0.18970726581396138,0.9883724500448275,0.3062147549279542,0.9787427245057508,0.42587853156609695,0.3313414228723404,0.40242519508224334,0.34061729522418044,0.5639152507781009,0.3841345065640561,0.49663911099064917,0.26319381467271247,0.7768908215561423,0.5040753602932262,0.3840581228128794,0.5371353455004367,0.514070696915098,0.3806086330813035,1.0,0.4436615098024876,0.3611364084774726,0.6203755033791473,0.4745953026528925,0.5151667622688555,0.44461326611585683,0.340548330645438,0.9104356205641926,0.6118355390452445,0.017331022530329292,0.022701696178871696,0.9697658198419072,0.36636796058778565,0.5807172609976633,0.5778336238389724,0.6440214289590338,0.3780373204456974,0.4098593808479923,0.688135593220339,0.4559322033898305,0.4385892826570792,0.4892141756548536,0.4563727776913907,0.6686161296330788,0.6593220338983051,0.6091014627350825,0.410264979708761,0.40896215463199437,0.46682808716707025,0.6268883914294852,0.5385231240950514,0.3931290445374952,0.6619718309859154,0.3943661971830986,0.5937198533667759,0.1580035770176615,0.5147132796780683,0.38529361653793737,0.5942781690140845,0.48518437594540986,0.5801408450704225,0.33785326337107613,0.3515258215962441,0.5102874981849862,0.5150994937597112,0.4577894953834803,0.5880777471686562,0.060283389450056166,0.5276688453159042,0.19694691896413913,0.45493395493395494,0.24569443099794538,0.7308610156548301,0.21846567411083537,0.2605966582856328,0.13217228808626658,0.5331008427782621,0.3328533026113671,0.30430107526881717,0.2564838932300363,0.6691225275454666,0.4993246073298429,0.44290402845963833,0.5659021025513172,0.36419126010436476,0.3705951988674502,0.611821449600687,0.531338603939453,0.46660694360999055,0.44839034789804505,0.6121251236518928,0.4133544850936038,0.35712672858225125,1.734723475976807e-17,0.7081459270364817,1.0,1.0,0.49042792792792783,0.47706422018348627,0.38725490196078427,1.0,0.2068965517241379,0.4827586206896552,0.49598488427019366,0.43779050913414763,0.41473354231974924,0.7931034482758621,0.49325334812051547,0.3404131991885066,0.6306235342558942,0.4221232757115418,0.7197317618370249,0.4802935010482181,0.7203356149260323,0.3467007101252693,0.43673965936739656,0.7123015873015872,0.16666666666666624,0.7061224489795919,0.23954451345755698,0.5833708877872916,0.6654002026342452,0.3480725623582766,0.4505984211866564,0.6889880952380952,0.3838355654761904,0.5186335403726708,0.4265658747300216,0.47818052594172,0.3748508124980874,0.6909005628517824,0.39342523860021206,0.5457317073170731,0.12195121951219505,0.49617886178861786,0.34259178890721287,0.3712737127371274,0.4832773477435373,0.527977044476327,0.44286787654606413,0.3886178861788618,0.3940909440640148,0.7841313386771829,0.34119556913674565,0.5625617588932806,0.3636363636363636,0.3230003212335368,0.30181200453001134,0.5194298681038151,0.21657593903102887,0.6524960588544403,0.6430107526881721,0.41105511030323055,0.3696178035800676,0.43086839495679274,0.301373192368453,0.460596546310832,0.28649770268267377,0.6721259509721049,0.6761019983548653,0.5339712360337232,0.42228042605203425,0.3468594795306062,0.6301347824532552,0.5329383106195272,0.49888807566715465,0.5952994508830394,0.6582829265076722,0.5318917025127975,0.18333333333333335,0.15625,0.9895833333333334,0.9895833333333334,0.6197015570934257,0.1674366872005476,0.9619447227788911,0.80625,0.37190588646899325,0.35121392579019695,0.5587318087318086,0.6323011753475329,0.7750991276764473,0.5832554186145347,0.7245384615384616,0.49820143884892076,0.4604414682539683,0.6638851802403204,0.5246007768666379,0.6359788359788359,0.22655758338577725,0.5897693855440335,0.17069741282339707,0.4755381604696673,0.5564413265306122,0.6208277703604808,0.37365813377374074,0.6057060755336618,0.5595014741356205,0.6226415094339622,0.3011311853321182,0.7174928890694839,0.39104190359548596,0.7962962962962963,0.03665164369034995,0.3379515340823215,0.3239077282874455,0.5501794005909667,0.7203502415458937,0.7763744827215564,0.24444186451500546,0.7256661991584853,0.3451786987068527,0.379896685320706,0.4618945868945869,0.3609092910612065,0.2932389937106919,0.4862244897959184,0.46736512524084783,0.4349489795918367,0.44753086419753085,0.8146067415730337,0.5689034369885434,0.311965811965812,0.39102564102564097,0.7836623553437713,0.5504273504273505,0.6350499782703173,0.45359978100191617,0.027188328912466836,0.6121343946686413,0.556261314193159,0.6321221884135791,0.49881119899073223,0.5590516552055014,0.4225828462930548,0.4053724857622544,0.7110477694975789,0.5989432338913308,0.5601862366568249,0.18666666666666668,0.6,1.0,1.0,0.6326309067688377,0.7021771771771772,0.46875000000000006,0.8133333333333334,0.4815366665089951,0.42666322698999626,0.6148880308880309,0.6867555938037866,0.2896002232964133,0.4288079873371484,0.2829457364341086,0.676073187895848,0.38287711124053586,0.6521974306964166,0.6000000000000001,0.7142533936651584,0.4583710407239818,0.4475673843024242,0.3892156862745098,0.538935574229692,0.5223529411764706,0.7113122171945702,0.058823529411764705,0.6647058823529413,0.5285518858706274,0.606464124111183,0.5200317460317461,0.5597710776102736,0.4258085550339071,0.4554368471035138,0.15726495726495723,0.5132203780544029,0.4138786135086998,0.503988128362085,0.4677956030897207,0.4361785626686289,0.37487703367385544,0.6152572523262179,0.4347497639282342,0.4354916067146283,0.48887362637362636,0.6416176470588235,0.1058531746031746,0.5477836879432624,0.3762820512820513,0.5640625,0.3908101045296168,0.7525595238095238,0.41965494649486784,0.674974267480958,0.3574639924619733,0.4313489378974428,0.3127253064167268,0.4901843215634022,0.38100738271016904,0.4226642186862505,0.4755107578988175,0.549232635729451,0.6867814113597246,0.6752886297376094,0.6148880308880309,0.47224109912837936,0.45018340905266696,0.5922136786726022,0.4553072196620584,0.5087647236484446,0.5482874482119385,0.6483842804320993,0.5268012689451815,0.24786883047520397,0.03680977208401608,0.5408587038177235,0.49402913709112534,0.5675656822696935,0.040024076924249107,0.6673952881930676,0.5394009426976992,0.5085304908662573,0.31633345992535855,0.03459814030129349,0.6339619978714787,0.47375404075895994,0.5305031058761304,0.4386485958779686,0.034496456352374034,0.5235719872474401,0.4456427110362501,0.46275071402322265,0.03279948958093722,0.5344902125415009,0.5639517173630652,0.5175218881327878,0.4818614630959045,0.042416311808319944,0.46954586187957104,0.38612422143100295,0.6282828282828283,0.4239007311296468,0.034819142414079116,0.471042224773568,0.4736151220792859,0.39024473964233003,0.03399031159283524,0.13869701726844585,0.5919401111708803,0.5301200908795846,0.491710875331565,0.0419257006145664,0.5796737766624843,0.2722371967654987,0.03329506314580941,0.627906976744186,0.1822600243013366,0.15984147952443856,0.3868065967016492,0.349768875192604,0.5112960760998811,0.46289308176100624,0.5224787363304982,0.6285714285714287,0.6427703523693804,0.04766949152542374,0.3508245877061469,0.0,0.627906976744186,0.349768875192604,0.49160134378499437,0.3755656108597285,0.33260869565217394,0.3625377643504532,0.03329506314580941,0.3868065967016492,0.6285714285714287,0.0,0.5224787363304982,0.3508245877061469,0.9287234042553191,0.9287234042553191,0.2722371967654987,0.15984147952443856,0.90041928721174,0.17512077294685988,0.07467532467532469,0.15984147952443856,0.5796737766624843,0.1822600243013366,0.46289308176100624,0.04766949152542374,0.5112960760998811,0.6427703523693804,0.371,0.0,0.371,0.0,0.30172413793103453,0.33603238866396756,0.5289855072463768,0.0013333333333333333,0.0,0.0,0.0,0.23913043478260868,0.23913043478260868,0.4285714285714286,0.4444444444444444,0.7603550295857988,0.6962025316455696,0.4,0.4285714285714286,0.46341463414634143,0.7603550295857988,0.21348314606741575,0.4,0.2536945812807882,0.46341463414634143,0.4285714285714286,0.7588757396449703,0.03401360544217678,0.35731132075471694,0.36666666666666664,0.46341463414634143,0.5,0.5,0.40625000000000006,0.16835443037974684,0.5,0.5,0.6000000000000001,0.2277227722772277,0.7721518987341772,0.18122977346278316,0.36666666666666664,0.18122977346278316,0.5,0.5,0.14705882352941177,0.2647783251231527,0.04761904761904761,0.2647783251231527,0.21348314606741575,0.2536945812807882,0.5,0.5,0.7013157894736842,0.6127450980392156,0.5,0.5,0.3,0.0,0.0,0.0,0.5531686358754028,0.1757105943152455,0.5341176470588235,0.1029641185647426,0.9919273461150353,0.7205882352941178,0.7566191446028513,1.0,0.7459584295612008,1.0,0.5716332378223496,0.9829317269076305,0.5220500595947557,0.6771819137749736,1.0,0.6690647482014388,1.0,0.5218295218295218,0.8397435897435898,0.5,0.6142210144927537,0.011111111111111115,0.4819321183557895,0.5873221216041398,0.5949720670391061,0.6357142857142857,0.5873221216041398,0.5873221216041398,0.3753846153846154,0.030303030303030304,0.0,0.0,0.0,0.0,0.0,0.0,0.0,1.0,0.4208955223880597,0.667166416791604,0.4195064629847238,0.5,0.0,0.0,0.0,0.6520183297291732,0.3143102073275321,0.6520183297291732,0.3143102073275321,0.010741821623646796,0.0006015966700811345,0.0006407395965628899,0.0014608630087494705,0.0,0.0,0.0,0.0,0.018451091408909683,0.5131311329170384,0.8045721821961909,0.5,0.002532928064842959,0.008842221608179055,0.00851063829787234,0.4944729762778185,0.6247209220427994,0.3465027036455608,0.5547545223584998,0.5,0.5,0.0003613407868727018,0.001647736362182051,0.5,0.00303951367781155,0.03993920972644377,0.002454991816693945,0.4855707013258247,0.3234670476675828,0.4808891072865108,0.43807238560213685,0.42159696659589746,0.2831531018782015,0.4739193096885653,0.42398034048542377,0.36529105780392923,0.428833152252803,0.008695652173913044,0.0059231253938248265,0.0026350461133069834,0.0003874300473525613,0.7059373539036933,0.3527490223142397,0.7505069599587558,0.2859994531036369,0.015625,0.5,0.03750000000000001,0.00625,0.8404544733502538,0.1376664402173913,0.7727629513343799,0.1112294407894737,0.48198771529888557,0.00303951367781155,1.0,0.00182370820668693,0.05775075987841946,0.521786895328419,0.4993161094224924,0.5050233503217202,0.6108513236172811,0.5466252508709967,0.5622024870806519,0.5050233503217202,0.5,0.004812563323201621,0.0035460992907801418,0.000578954986249819,0.5161567732115677,0.5209685171833695,0.816939996141231,0.5,0.0065033900650339,0.0006849315068493152,0.010444794952681417,0.8035290778661116,0.0,0.003115264797507788,0.0010384215991692627,0.00692281066112842,0.7320872274143302,0.5639534883720929,0.3157496691245982,1.0,0.5,0.02523784355179703,0.005450581395348838,0.5058139534883721,0.9954128440366973,0.0020387359836901123,0.0022935779816513763,0.005504587155963304])]"
     ]
    }
   ],
   "source": [
    "sdf_train_labeled_point.take(5)"
   ]
  },
  {
   "cell_type": "code",
   "execution_count": 52,
   "metadata": {},
   "outputs": [
    {
     "data": {
      "application/vnd.jupyter.widget-view+json": {
       "model_id": "b64ebb53f9c44b2b97171b50a4ac7efb",
       "version_major": 2,
       "version_minor": 0
      },
      "text/plain": [
       "VBox()"
      ]
     },
     "metadata": {},
     "output_type": "display_data"
    },
    {
     "data": {
      "application/vnd.jupyter.widget-view+json": {
       "model_id": "",
       "version_major": 2,
       "version_minor": 0
      },
      "text/plain": [
       "FloatProgress(value=0.0, bar_style='info', description='Progress:', layout=Layout(height='25px', width='50%'),…"
      ]
     },
     "metadata": {},
     "output_type": "display_data"
    }
   ],
   "source": [
    "model = SVMWithSGD.train(sdf_train_labeled_point, iterations=100)"
   ]
  },
  {
   "cell_type": "code",
   "execution_count": 53,
   "metadata": {},
   "outputs": [
    {
     "data": {
      "application/vnd.jupyter.widget-view+json": {
       "model_id": "e6bf015d67604d559a9812a91bc8d5af",
       "version_major": 2,
       "version_minor": 0
      },
      "text/plain": [
       "VBox()"
      ]
     },
     "metadata": {},
     "output_type": "display_data"
    },
    {
     "data": {
      "application/vnd.jupyter.widget-view+json": {
       "model_id": "",
       "version_major": 2,
       "version_minor": 0
      },
      "text/plain": [
       "FloatProgress(value=0.0, bar_style='info', description='Progress:', layout=Layout(height='25px', width='50%'),…"
      ]
     },
     "metadata": {},
     "output_type": "display_data"
    },
    {
     "name": "stdout",
     "output_type": "stream",
     "text": [
      "Training Error = 0.5941167731392066"
     ]
    }
   ],
   "source": [
    "labelsAndPreds = sdf_train_labeled_point.map(lambda p: (p.label, model.predict(p.features)))\n",
    "trainErr = labelsAndPreds.filter(lambda lp: lp[0] != lp[1]).count() / float(sdf_train_labeled_point.count())\n",
    "print(\"Training Error = \" + str(trainErr))"
   ]
  },
  {
   "cell_type": "code",
   "execution_count": 54,
   "metadata": {},
   "outputs": [
    {
     "data": {
      "application/vnd.jupyter.widget-view+json": {
       "model_id": "4922bfe33c1440cb9ed9a6bb0025b356",
       "version_major": 2,
       "version_minor": 0
      },
      "text/plain": [
       "VBox()"
      ]
     },
     "metadata": {},
     "output_type": "display_data"
    },
    {
     "data": {
      "application/vnd.jupyter.widget-view+json": {
       "model_id": "",
       "version_major": 2,
       "version_minor": 0
      },
      "text/plain": [
       "FloatProgress(value=0.0, bar_style='info', description='Progress:', layout=Layout(height='25px', width='50%'),…"
      ]
     },
     "metadata": {},
     "output_type": "display_data"
    }
   ],
   "source": [
    "pdf = labelsAndPreds.toDF().toPandas()"
   ]
  },
  {
   "cell_type": "code",
   "execution_count": 55,
   "metadata": {},
   "outputs": [
    {
     "data": {
      "application/vnd.jupyter.widget-view+json": {
       "model_id": "f18ccdea959f438a8624e95dea141e8c",
       "version_major": 2,
       "version_minor": 0
      },
      "text/plain": [
       "VBox()"
      ]
     },
     "metadata": {},
     "output_type": "display_data"
    },
    {
     "data": {
      "application/vnd.jupyter.widget-view+json": {
       "model_id": "",
       "version_major": 2,
       "version_minor": 0
      },
      "text/plain": [
       "FloatProgress(value=0.0, bar_style='info', description='Progress:', layout=Layout(height='25px', width='50%'),…"
      ]
     },
     "metadata": {},
     "output_type": "display_data"
    },
    {
     "name": "stdout",
     "output_type": "stream",
     "text": [
      "    _1  _2\n",
      "0  1.0   1\n",
      "1  1.0   1\n",
      "2  1.0   1\n",
      "3  1.0   1\n",
      "4  1.0   1"
     ]
    }
   ],
   "source": [
    "pdf.head()"
   ]
  },
  {
   "cell_type": "code",
   "execution_count": 56,
   "metadata": {},
   "outputs": [
    {
     "data": {
      "application/vnd.jupyter.widget-view+json": {
       "model_id": "2d278462d9e049808a1703af36171733",
       "version_major": 2,
       "version_minor": 0
      },
      "text/plain": [
       "VBox()"
      ]
     },
     "metadata": {},
     "output_type": "display_data"
    },
    {
     "data": {
      "application/vnd.jupyter.widget-view+json": {
       "model_id": "",
       "version_major": 2,
       "version_minor": 0
      },
      "text/plain": [
       "FloatProgress(value=0.0, bar_style='info', description='Progress:', layout=Layout(height='25px', width='50%'),…"
      ]
     },
     "metadata": {},
     "output_type": "display_data"
    },
    {
     "name": "stdout",
     "output_type": "stream",
     "text": [
      "-0.006645940621138985"
     ]
    }
   ],
   "source": [
    "matthews_corrcoef(pdf[\"_1\"], pdf[\"_2\"])"
   ]
  },
  {
   "cell_type": "code",
   "execution_count": 57,
   "metadata": {},
   "outputs": [
    {
     "data": {
      "application/vnd.jupyter.widget-view+json": {
       "model_id": "b991d4df643d4950804b4d8f30ffd923",
       "version_major": 2,
       "version_minor": 0
      },
      "text/plain": [
       "VBox()"
      ]
     },
     "metadata": {},
     "output_type": "display_data"
    },
    {
     "data": {
      "application/vnd.jupyter.widget-view+json": {
       "model_id": "",
       "version_major": 2,
       "version_minor": 0
      },
      "text/plain": [
       "FloatProgress(value=0.0, bar_style='info', description='Progress:', layout=Layout(height='25px', width='50%'),…"
      ]
     },
     "metadata": {},
     "output_type": "display_data"
    },
    {
     "name": "stdout",
     "output_type": "stream",
     "text": [
      "0.40588322686079337"
     ]
    }
   ],
   "source": [
    "accuracy_score(pdf[\"_1\"], pdf[\"_2\"])"
   ]
  },
  {
   "cell_type": "markdown",
   "metadata": {},
   "source": [
    "## Example of DF operation "
   ]
  },
  {
   "cell_type": "code",
   "execution_count": 83,
   "metadata": {},
   "outputs": [
    {
     "data": {
      "application/vnd.jupyter.widget-view+json": {
       "model_id": "",
       "version_major": 2,
       "version_minor": 0
      },
      "text/plain": [
       "VBox()"
      ]
     },
     "metadata": {},
     "output_type": "display_data"
    },
    {
     "data": {
      "application/vnd.jupyter.widget-view+json": {
       "model_id": "",
       "version_major": 2,
       "version_minor": 0
      },
      "text/plain": [
       "FloatProgress(value=0.0, bar_style='info', description='Progress:', layout=Layout(height='25px', width='50%'),…"
      ]
     },
     "metadata": {},
     "output_type": "display_data"
    }
   ],
   "source": [
    "df = sqlContext.createDataFrame([\n",
    "    (0, \"a b c\".split(\" \")),\n",
    "    (1, \"a b b c a\".split(\" \"))\n",
    "], [\"id\", \"words\"])"
   ]
  },
  {
   "cell_type": "code",
   "execution_count": 85,
   "metadata": {},
   "outputs": [
    {
     "data": {
      "application/vnd.jupyter.widget-view+json": {
       "model_id": "",
       "version_major": 2,
       "version_minor": 0
      },
      "text/plain": [
       "VBox()"
      ]
     },
     "metadata": {},
     "output_type": "display_data"
    },
    {
     "data": {
      "application/vnd.jupyter.widget-view+json": {
       "model_id": "",
       "version_major": 2,
       "version_minor": 0
      },
      "text/plain": [
       "FloatProgress(value=0.0, bar_style='info', description='Progress:', layout=Layout(height='25px', width='50%'),…"
      ]
     },
     "metadata": {},
     "output_type": "display_data"
    },
    {
     "name": "stdout",
     "output_type": "stream",
     "text": [
      "+---+---------------+\n",
      "| id|          words|\n",
      "+---+---------------+\n",
      "|  0|      [a, b, c]|\n",
      "|  1|[a, b, b, c, a]|\n",
      "+---+---------------+"
     ]
    }
   ],
   "source": [
    "df.show()"
   ]
  },
  {
   "cell_type": "markdown",
   "metadata": {},
   "source": [
    "### For quick querying purposes"
   ]
  },
  {
   "cell_type": "code",
   "execution_count": 66,
   "metadata": {},
   "outputs": [
    {
     "data": {
      "application/vnd.jupyter.widget-view+json": {
       "model_id": "1ba6af52abfc4a2a829935e1ea6bd79c",
       "version_major": 2,
       "version_minor": 0
      },
      "text/plain": [
       "VBox()"
      ]
     },
     "metadata": {},
     "output_type": "display_data"
    },
    {
     "data": {
      "application/vnd.jupyter.widget-view+json": {
       "model_id": "",
       "version_major": 2,
       "version_minor": 0
      },
      "text/plain": [
       "FloatProgress(value=0.0, bar_style='info', description='Progress:', layout=Layout(height='25px', width='50%'),…"
      ]
     },
     "metadata": {},
     "output_type": "display_data"
    }
   ],
   "source": [
    "sdf_train_processed.createOrReplaceTempView(\"parquetFile\")"
   ]
  },
  {
   "cell_type": "markdown",
   "metadata": {},
   "source": [
    "## Major Class Imbalance "
   ]
  },
  {
   "cell_type": "code",
   "execution_count": 71,
   "metadata": {},
   "outputs": [
    {
     "data": {
      "application/vnd.jupyter.widget-view+json": {
       "model_id": "6c722dbabfc3431aa8f4a626596a75e4",
       "version_major": 2,
       "version_minor": 0
      },
      "text/plain": [
       "VBox()"
      ]
     },
     "metadata": {},
     "output_type": "display_data"
    },
    {
     "data": {
      "application/vnd.jupyter.widget-view+json": {
       "model_id": "",
       "version_major": 2,
       "version_minor": 0
      },
      "text/plain": [
       "FloatProgress(value=0.0, bar_style='info', description='Progress:', layout=Layout(height='25px', width='50%'),…"
      ]
     },
     "metadata": {},
     "output_type": "display_data"
    },
    {
     "name": "stdout",
     "output_type": "stream",
     "text": [
      "+--------+------+\n",
      "|Response| count|\n",
      "+--------+------+\n",
      "|     0.0|941399|\n",
      "|     1.0|  5479|\n",
      "+--------+------+"
     ]
    }
   ],
   "source": [
    "spark.sql(\"SELECT Response,count(Response) as count FROM parquetFile group by Response\").show()"
   ]
  },
  {
   "cell_type": "code",
   "execution_count": null,
   "metadata": {},
   "outputs": [],
   "source": []
  }
 ],
 "metadata": {
  "kernelspec": {
   "display_name": "PySpark",
   "language": "",
   "name": "pysparkkernel"
  },
  "language_info": {
   "codemirror_mode": {
    "name": "python",
    "version": 2
   },
   "mimetype": "text/x-python",
   "name": "pyspark",
   "pygments_lexer": "python2"
  }
 },
 "nbformat": 4,
 "nbformat_minor": 4
}
