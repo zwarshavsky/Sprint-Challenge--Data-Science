{
 "cells": [
  {
   "cell_type": "code",
   "execution_count": 2,
   "metadata": {},
   "outputs": [
    {
     "data": {
      "application/vnd.jupyter.widget-view+json": {
       "model_id": "541a735bd72c4ac7a55e2c45d282b035",
       "version_major": 2,
       "version_minor": 0
      },
      "text/plain": [
       "VBox()"
      ]
     },
     "metadata": {},
     "output_type": "display_data"
    },
    {
     "data": {
      "application/vnd.jupyter.widget-view+json": {
       "model_id": "",
       "version_major": 2,
       "version_minor": 0
      },
      "text/plain": [
       "FloatProgress(value=0.0, bar_style='info', description='Progress:', layout=Layout(height='25px', width='50%'),…"
      ]
     },
     "metadata": {},
     "output_type": "display_data"
    }
   ],
   "source": [
    "from pyspark.sql import functions as F\n",
    "from pyspark.sql.functions import isnan, when, count, col\n",
    "from pyspark.ml.feature import Imputer\n",
    "from pyspark.ml.feature import MinMaxScaler\n",
    "from pyspark.ml.feature import VectorAssembler"
   ]
  },
  {
   "cell_type": "code",
   "execution_count": 3,
   "metadata": {},
   "outputs": [
    {
     "data": {
      "application/vnd.jupyter.widget-view+json": {
       "model_id": "060cce5d51294191bfc94c281a83f80c",
       "version_major": 2,
       "version_minor": 0
      },
      "text/plain": [
       "VBox()"
      ]
     },
     "metadata": {},
     "output_type": "display_data"
    },
    {
     "data": {
      "application/vnd.jupyter.widget-view+json": {
       "model_id": "",
       "version_major": 2,
       "version_minor": 0
      },
      "text/plain": [
       "FloatProgress(value=0.0, bar_style='info', description='Progress:', layout=Layout(height='25px', width='50%'),…"
      ]
     },
     "metadata": {},
     "output_type": "display_data"
    },
    {
     "name": "stdout",
     "output_type": "stream",
     "text": [
      "Collecting pandas==0.25.1\n",
      "  Using cached pandas-0.25.1-cp36-cp36m-manylinux1_x86_64.whl (10.5 MB)\n",
      "Collecting python-dateutil>=2.6.1\n",
      "  Using cached python_dateutil-2.8.1-py2.py3-none-any.whl (227 kB)\n",
      "Requirement already satisfied: numpy>=1.13.3 in /usr/local/lib64/python3.6/site-packages (from pandas==0.25.1) (1.14.5)\n",
      "Requirement already satisfied: pytz>=2017.2 in /usr/local/lib/python3.6/site-packages (from pandas==0.25.1) (2019.3)\n",
      "Requirement already satisfied: six>=1.5 in /usr/local/lib/python3.6/site-packages (from python-dateutil>=2.6.1->pandas==0.25.1) (1.13.0)\n",
      "Installing collected packages: python-dateutil, pandas\n",
      "Successfully installed pandas-0.25.1 python-dateutil-2.8.1"
     ]
    }
   ],
   "source": [
    "sc.install_pypi_package(\"pandas==0.25.1\")"
   ]
  },
  {
   "cell_type": "code",
   "execution_count": 4,
   "metadata": {},
   "outputs": [
    {
     "data": {
      "application/vnd.jupyter.widget-view+json": {
       "model_id": "b718d4117fca4d8590047ab3ab1d8fa8",
       "version_major": 2,
       "version_minor": 0
      },
      "text/plain": [
       "VBox()"
      ]
     },
     "metadata": {},
     "output_type": "display_data"
    },
    {
     "data": {
      "application/vnd.jupyter.widget-view+json": {
       "model_id": "",
       "version_major": 2,
       "version_minor": 0
      },
      "text/plain": [
       "FloatProgress(value=0.0, bar_style='info', description='Progress:', layout=Layout(height='25px', width='50%'),…"
      ]
     },
     "metadata": {},
     "output_type": "display_data"
    }
   ],
   "source": [
    "import pandas as pd"
   ]
  },
  {
   "cell_type": "markdown",
   "metadata": {},
   "source": [
    "# Github Commands "
   ]
  },
  {
   "cell_type": "code",
   "execution_count": 5,
   "metadata": {
    "jupyter": {
     "source_hidden": true
    }
   },
   "outputs": [
    {
     "data": {
      "application/vnd.jupyter.widget-view+json": {
       "model_id": "49d7aa155fb64e8e88d72c843cb4cc68",
       "version_major": 2,
       "version_minor": 0
      },
      "text/plain": [
       "VBox()"
      ]
     },
     "metadata": {},
     "output_type": "display_data"
    },
    {
     "data": {
      "application/vnd.jupyter.widget-view+json": {
       "model_id": "",
       "version_major": 2,
       "version_minor": 0
      },
      "text/plain": [
       "FloatProgress(value=0.0, bar_style='info', description='Progress:', layout=Layout(height='25px', width='50%'),…"
      ]
     },
     "metadata": {},
     "output_type": "display_data"
    }
   ],
   "source": [
    "# !github ..... commands not working"
   ]
  },
  {
   "cell_type": "markdown",
   "metadata": {},
   "source": [
    "# Sample Data"
   ]
  },
  {
   "cell_type": "code",
   "execution_count": null,
   "metadata": {
    "jupyter": {
     "source_hidden": true
    }
   },
   "outputs": [],
   "source": [
    "input_bucket = 's3://amazon-reviews-pds'\n",
    "input_path = '/parquet/product_category=Books/*.parquet'\n",
    "df = spark.read.parquet(input_bucket + input_path)"
   ]
  },
  {
   "cell_type": "code",
   "execution_count": 9,
   "metadata": {
    "collapsed": true,
    "jupyter": {
     "outputs_hidden": true,
     "source_hidden": true
    }
   },
   "outputs": [
    {
     "data": {
      "application/vnd.jupyter.widget-view+json": {
       "model_id": "10067f14148244bf829e1721d77ae7a7",
       "version_major": 2,
       "version_minor": 0
      },
      "text/plain": [
       "VBox()"
      ]
     },
     "metadata": {},
     "output_type": "display_data"
    },
    {
     "data": {
      "application/vnd.jupyter.widget-view+json": {
       "model_id": "",
       "version_major": 2,
       "version_minor": 0
      },
      "text/plain": [
       "FloatProgress(value=0.0, bar_style='info', description='Progress:', layout=Layout(height='25px', width='50%'),…"
      ]
     },
     "metadata": {},
     "output_type": "display_data"
    },
    {
     "name": "stdout",
     "output_type": "stream",
     "text": [
      "+-----------+-----------+--------------+----------+--------------+--------------------+-----------+-------------+-----------+----+-----------------+--------------------+--------------------+-----------+----+\n",
      "|marketplace|customer_id|     review_id|product_id|product_parent|       product_title|star_rating|helpful_votes|total_votes|vine|verified_purchase|     review_headline|         review_body|review_date|year|\n",
      "+-----------+-----------+--------------+----------+--------------+--------------------+-----------+-------------+-----------+----+-----------------+--------------------+--------------------+-----------+----+\n",
      "|         US|   15444933|R1WWG70WK9VUCH|1848192576|     835940987|Standing Qigong f...|          5|            9|         10|   N|                Y|Informative AND i...|After attending a...| 2015-05-02|2015|\n",
      "|         US|   20595117|R1EQ3POS0RIOD5|145162445X|     574044348|A Universe from N...|          4|            4|          7|   N|                N|Between 'Nothing'...|Krauss traces the...| 2012-06-29|2012|\n",
      "|         US|   52925878|R10SRJA4VVGUBD|055341805X|     846590203|Hyacinth Girls: A...|          4|            0|          0|   Y|                N|Mysteries upon my...|Rebecca, a dental...| 2015-05-02|2015|\n",
      "|         US|   40062567| RD3268X41GM7U|0425263908|     119148606|        Bared to You|          5|            1|          1|   N|                N|\"RAW, STEAMY, HYP...|\\\\\"BARED TO YOU\\\\...| 2012-06-29|2012|\n",
      "|         US|   47221489|R3KGQL5X5BSJE1|1416556141|     987400385|     Healer: A Novel|          5|            0|          0|   N|                Y|  Well written story|Good characters a...| 2015-05-02|2015|\n",
      "|         US|   20709973|R3IY9A2Z7N2R49|1455523003|     181218559|The Missionary Po...|          4|            5|          7|   N|                Y|Eye opening, yet ...|This book was fas...| 2012-06-29|2012|\n",
      "|         US|   18052694|R12PGYPH9B9UVJ|0990388697|     840404589|I'm Tired of Bein...|          4|            1|          1|   N|                Y|                 JOY|A personal world ...| 2015-05-02|2015|\n",
      "|         US|   48279565|R2CA9LLJBEORNZ|0345803485|     600633062|Fifty Shades of G...|          1|            7|          7|   N|                N|This book is Twil...|I bought this boo...| 2012-06-29|2012|\n",
      "|         US|   14297627|R2C8BZMS1JRZ04|1469245167|     466321651|The Thrill of Vic...|          4|            0|          0|   N|                Y|          Four Stars|Sandra Brown is a...| 2015-05-02|2015|\n",
      "|         US|   37340439|R2F8UI9NNP6S33|0345803485|     600633062|Fifty Shades of G...|          5|            0|          9|   N|                N|Fifty shades of grey|Loved this book! ...| 2012-06-29|2012|\n",
      "|         US|   35122979|R18L06ZV927ZS0|0743477111|      43217624|Romeo and Juliet ...|          4|            0|          0|   N|                Y|Good text, but ed...|The text and comm...| 2015-05-02|2015|\n",
      "|         US|   11213632|R32NFRKUPJ3E4J|1609611543|     657488375|Wheat Belly: Lose...|          5|            1|          1|   N|                Y|         Wheat belly|This is an excell...| 2012-06-29|2012|\n",
      "|         US|   15816241|R1ZQ0M1HIMV8T9|0563551933|     412573914|Dangerous Dessert...|          5|            0|          0|   N|                Y|          Five Stars|Book in great con...| 2015-05-02|2015|\n",
      "|         US|   36748944| RKEHECW1IR9DT|0061777269|      84797790|Consciousness Bey...|          5|            0|          0|   N|                N|More evidence of ...|Consciousness Bey...| 2012-06-29|2012|\n",
      "|         US|   38261190|R3HKUZRLPR36SW|0316769487|     862964341|The Catcher in th...|          1|            1|          6|   N|                Y|Some people rave ...|This book seems t...| 2015-05-02|2015|\n",
      "|         US|   44704475|R36X05VUTXCEJQ|0307730697|      62706984|Fearless: The Und...|          4|            0|          0|   N|                Y|    American courage|For those who thi...| 2012-06-29|2012|\n",
      "|         US|   38351306|R257VQLC12S8IJ|0448439158|      27871958|Best-Ever Big Sister|          5|            0|          0|   N|                Y|My 1. 5-2yr old l...|My 1.5-2yr old lo...| 2015-05-02|2015|\n",
      "|         US|   49320969|R1DA0O932TXFV7|0375842209|      47504452|      The Book Thief|          5|            1|          1|   N|                N|Many Years Later,...|This is a book th...| 2012-06-29|2012|\n",
      "|         US|   21239776| RAF45VHW4W7HU|1402773536|     615203301|  Large Print Sudoku|          5|            1|          1|   N|                Y|          Five Stars|like the big prin...| 2015-05-02|2015|\n",
      "|         US|   39150739|R1YBB6HXVCZ8AR|0307592731|     576844294|Wild: From Lost t...|          5|            1|          1|   N|                N| A True Page-Turner!|I absolutely love...| 2012-06-29|2012|\n",
      "+-----------+-----------+--------------+----------+--------------+--------------------+-----------+-------------+-----------+----+-----------------+--------------------+--------------------+-----------+----+\n",
      "only showing top 20 rows"
     ]
    }
   ],
   "source": [
    "df.show()"
   ]
  },
  {
   "cell_type": "code",
   "execution_count": 3,
   "metadata": {
    "collapsed": true,
    "jupyter": {
     "outputs_hidden": true,
     "source_hidden": true
    }
   },
   "outputs": [
    {
     "data": {
      "application/vnd.jupyter.widget-view+json": {
       "model_id": "412fc2a8e919499a858f05ebc0a91ddd",
       "version_major": 2,
       "version_minor": 0
      },
      "text/plain": [
       "VBox()"
      ]
     },
     "metadata": {},
     "output_type": "display_data"
    },
    {
     "data": {
      "application/vnd.jupyter.widget-view+json": {
       "model_id": "",
       "version_major": 2,
       "version_minor": 0
      },
      "text/plain": [
       "FloatProgress(value=0.0, bar_style='info', description='Progress:', layout=Layout(height='25px', width='50%'),…"
      ]
     },
     "metadata": {},
     "output_type": "display_data"
    },
    {
     "name": "stdout",
     "output_type": "stream",
     "text": [
      "Row(marketplace='US', customer_id='15444933', review_id='R1WWG70WK9VUCH', product_id='1848192576', product_parent='835940987', product_title='Standing Qigong for Health and Martial Arts - Zhan Zhuang', star_rating=5, helpful_votes=9, total_votes=10, vine='N', verified_purchase='Y', review_headline='Informative AND interesting!', review_body=\"After attending a few Qigong classes, I wanted to have a book to read and re-read the instructions so I could practice at home.  I also wanted to gain more of an understanding of the purpose and benefit of the movements in order to practice them with a more focused purpose.<br /><br />The book exceeded my expectations.  The explanations are very clear and are paired with photos showing the correct form.  The book itself is more than just the Qigong, it's a very interesting read.  I read the whole book in two days and will read it again. I rarely read books twice!  The book has provided the information and additional instruction that I was looking for. I even use the breathing exercise to de-stress in traffic and fall asleep at night.  It really works!  I bought the book for my sister also and she's started practicing Standing Qigong and loves it.\", review_date=datetime.date(2015, 5, 2), year=2015)"
     ]
    }
   ],
   "source": [
    "df.head()"
   ]
  },
  {
   "cell_type": "code",
   "execution_count": 4,
   "metadata": {
    "collapsed": true,
    "jupyter": {
     "outputs_hidden": true,
     "source_hidden": true
    }
   },
   "outputs": [
    {
     "data": {
      "application/vnd.jupyter.widget-view+json": {
       "model_id": "60240e663bab4de4bd53d0ccee5bbd07",
       "version_major": 2,
       "version_minor": 0
      },
      "text/plain": [
       "VBox()"
      ]
     },
     "metadata": {},
     "output_type": "display_data"
    },
    {
     "data": {
      "application/vnd.jupyter.widget-view+json": {
       "model_id": "",
       "version_major": 2,
       "version_minor": 0
      },
      "text/plain": [
       "FloatProgress(value=0.0, bar_style='info', description='Progress:', layout=Layout(height='25px', width='50%'),…"
      ]
     },
     "metadata": {},
     "output_type": "display_data"
    },
    {
     "name": "stdout",
     "output_type": "stream",
     "text": [
      "DataFrame[summary: string, marketplace: string, customer_id: string, review_id: string, product_id: string, product_parent: string, product_title: string, star_rating: string, helpful_votes: string, total_votes: string, vine: string, verified_purchase: string, review_headline: string, review_body: string, year: string]"
     ]
    }
   ],
   "source": [
    "df.describe()"
   ]
  },
  {
   "cell_type": "code",
   "execution_count": 6,
   "metadata": {
    "collapsed": true,
    "jupyter": {
     "outputs_hidden": true,
     "source_hidden": true
    }
   },
   "outputs": [
    {
     "data": {
      "application/vnd.jupyter.widget-view+json": {
       "model_id": "0fd2baa91e2647738f6a0fa9e0e42721",
       "version_major": 2,
       "version_minor": 0
      },
      "text/plain": [
       "VBox()"
      ]
     },
     "metadata": {},
     "output_type": "display_data"
    },
    {
     "data": {
      "application/vnd.jupyter.widget-view+json": {
       "model_id": "",
       "version_major": 2,
       "version_minor": 0
      },
      "text/plain": [
       "FloatProgress(value=0.0, bar_style='info', description='Progress:', layout=Layout(height='25px', width='50%'),…"
      ]
     },
     "metadata": {},
     "output_type": "display_data"
    },
    {
     "name": "stdout",
     "output_type": "stream",
     "text": [
      "20726160"
     ]
    }
   ],
   "source": [
    "df.count(\n",
    ")"
   ]
  },
  {
   "cell_type": "markdown",
   "metadata": {},
   "source": [
    "# Import Real Data from S3  "
   ]
  },
  {
   "cell_type": "code",
   "execution_count": 44,
   "metadata": {},
   "outputs": [
    {
     "data": {
      "application/vnd.jupyter.widget-view+json": {
       "model_id": "d90951f3ea554dffbebb9ee758819474",
       "version_major": 2,
       "version_minor": 0
      },
      "text/plain": [
       "VBox()"
      ]
     },
     "metadata": {},
     "output_type": "display_data"
    },
    {
     "data": {
      "application/vnd.jupyter.widget-view+json": {
       "model_id": "",
       "version_major": 2,
       "version_minor": 0
      },
      "text/plain": [
       "FloatProgress(value=0.0, bar_style='info', description='Progress:', layout=Layout(height='25px', width='50%'),…"
      ]
     },
     "metadata": {},
     "output_type": "display_data"
    }
   ],
   "source": [
    "path =  's3://bosch-data-spark/data/train_numeric.csv'\n",
    "df_train_numeric = spark.read.load(path,format=\"csv\",inferSchema = True,header=True)"
   ]
  },
  {
   "cell_type": "code",
   "execution_count": 45,
   "metadata": {},
   "outputs": [
    {
     "data": {
      "application/vnd.jupyter.widget-view+json": {
       "model_id": "67328533e23b4251a6e2c2f7f20b0c8e",
       "version_major": 2,
       "version_minor": 0
      },
      "text/plain": [
       "VBox()"
      ]
     },
     "metadata": {},
     "output_type": "display_data"
    },
    {
     "data": {
      "application/vnd.jupyter.widget-view+json": {
       "model_id": "",
       "version_major": 2,
       "version_minor": 0
      },
      "text/plain": [
       "FloatProgress(value=0.0, bar_style='info', description='Progress:', layout=Layout(height='25px', width='50%'),…"
      ]
     },
     "metadata": {},
     "output_type": "display_data"
    },
    {
     "name": "stdout",
     "output_type": "stream",
     "text": [
      "970"
     ]
    }
   ],
   "source": [
    "len(df_train_numeric.columns)"
   ]
  },
  {
   "cell_type": "code",
   "execution_count": 46,
   "metadata": {},
   "outputs": [
    {
     "data": {
      "application/vnd.jupyter.widget-view+json": {
       "model_id": "9b47a5eca7144774be9bdc73615f1a6a",
       "version_major": 2,
       "version_minor": 0
      },
      "text/plain": [
       "VBox()"
      ]
     },
     "metadata": {},
     "output_type": "display_data"
    },
    {
     "data": {
      "application/vnd.jupyter.widget-view+json": {
       "model_id": "",
       "version_major": 2,
       "version_minor": 0
      },
      "text/plain": [
       "FloatProgress(value=0.0, bar_style='info', description='Progress:', layout=Layout(height='25px', width='50%'),…"
      ]
     },
     "metadata": {},
     "output_type": "display_data"
    },
    {
     "name": "stdout",
     "output_type": "stream",
     "text": [
      "1183747"
     ]
    }
   ],
   "source": [
    "df_train_numeric.count()"
   ]
  },
  {
   "cell_type": "code",
   "execution_count": 47,
   "metadata": {},
   "outputs": [
    {
     "data": {
      "application/vnd.jupyter.widget-view+json": {
       "model_id": "34afc158a07b447591ca8790dae6abad",
       "version_major": 2,
       "version_minor": 0
      },
      "text/plain": [
       "VBox()"
      ]
     },
     "metadata": {},
     "output_type": "display_data"
    },
    {
     "data": {
      "application/vnd.jupyter.widget-view+json": {
       "model_id": "",
       "version_major": 2,
       "version_minor": 0
      },
      "text/plain": [
       "FloatProgress(value=0.0, bar_style='info', description='Progress:', layout=Layout(height='25px', width='50%'),…"
      ]
     },
     "metadata": {},
     "output_type": "display_data"
    },
    {
     "name": "stdout",
     "output_type": "stream",
     "text": [
      "2"
     ]
    }
   ],
   "source": [
    "df_train_numeric.select(df_train_numeric[-1]).distinct().count()"
   ]
  },
  {
   "cell_type": "markdown",
   "metadata": {},
   "source": [
    "# Not using Categorical Features for Now  "
   ]
  },
  {
   "cell_type": "code",
   "execution_count": 10,
   "metadata": {
    "collapsed": true,
    "jupyter": {
     "outputs_hidden": true,
     "source_hidden": true
    }
   },
   "outputs": [
    {
     "data": {
      "application/vnd.jupyter.widget-view+json": {
       "model_id": "f9d9c19a65f34569bf826e90516d6979",
       "version_major": 2,
       "version_minor": 0
      },
      "text/plain": [
       "VBox()"
      ]
     },
     "metadata": {},
     "output_type": "display_data"
    },
    {
     "data": {
      "application/vnd.jupyter.widget-view+json": {
       "model_id": "",
       "version_major": 2,
       "version_minor": 0
      },
      "text/plain": [
       "FloatProgress(value=0.0, bar_style='info', description='Progress:', layout=Layout(height='25px', width='50%'),…"
      ]
     },
     "metadata": {},
     "output_type": "display_data"
    }
   ],
   "source": [
    "path =  's3://bosch-data-spark/data/train_categorical.csv'\n",
    "df_train_categorical = spark.read.load(path,format=\"csv\",header=True)"
   ]
  },
  {
   "cell_type": "code",
   "execution_count": 11,
   "metadata": {
    "collapsed": true,
    "jupyter": {
     "outputs_hidden": true,
     "source_hidden": true
    }
   },
   "outputs": [
    {
     "data": {
      "application/vnd.jupyter.widget-view+json": {
       "model_id": "232697604bce41db8e7fb6d65ef7e993",
       "version_major": 2,
       "version_minor": 0
      },
      "text/plain": [
       "VBox()"
      ]
     },
     "metadata": {},
     "output_type": "display_data"
    },
    {
     "data": {
      "application/vnd.jupyter.widget-view+json": {
       "model_id": "",
       "version_major": 2,
       "version_minor": 0
      },
      "text/plain": [
       "FloatProgress(value=0.0, bar_style='info', description='Progress:', layout=Layout(height='25px', width='50%'),…"
      ]
     },
     "metadata": {},
     "output_type": "display_data"
    },
    {
     "name": "stdout",
     "output_type": "stream",
     "text": [
      "     Id L0_S1_F25 L0_S1_F27  ... L3_S49_F4237 L3_S49_F4239 L3_S49_F4240\n",
      "0     4      None      None  ...         None         None         None\n",
      "1     6      None      None  ...         None         None         None\n",
      "2     7      None      None  ...         None         None         None\n",
      "3     9      None      None  ...         None         None         None\n",
      "4    11      None      None  ...         None         None         None\n",
      "..  ...       ...       ...  ...          ...          ...          ...\n",
      "95  192      None      None  ...         None         None         None\n",
      "96  197      None      None  ...         None         None         None\n",
      "97  200      None      None  ...         None         None         None\n",
      "98  201      None      None  ...         None         None         None\n",
      "99  205      None      None  ...         None         None         None\n",
      "\n",
      "[100 rows x 2141 columns]"
     ]
    }
   ],
   "source": [
    "df_train_categorical.limit(100).toPandas()"
   ]
  },
  {
   "cell_type": "markdown",
   "metadata": {},
   "source": [
    "# Start of numerical feature exploration"
   ]
  },
  {
   "cell_type": "code",
   "execution_count": 12,
   "metadata": {},
   "outputs": [
    {
     "data": {
      "application/vnd.jupyter.widget-view+json": {
       "model_id": "9e2cb0d20a004851a2fcad1b42658efb",
       "version_major": 2,
       "version_minor": 0
      },
      "text/plain": [
       "VBox()"
      ]
     },
     "metadata": {},
     "output_type": "display_data"
    },
    {
     "data": {
      "application/vnd.jupyter.widget-view+json": {
       "model_id": "",
       "version_major": 2,
       "version_minor": 0
      },
      "text/plain": [
       "FloatProgress(value=0.0, bar_style='info', description='Progress:', layout=Layout(height='25px', width='50%'),…"
      ]
     },
     "metadata": {},
     "output_type": "display_data"
    },
    {
     "name": "stdout",
     "output_type": "stream",
     "text": [
      "+---+\n",
      "| Id|\n",
      "+---+\n",
      "|  4|\n",
      "|  6|\n",
      "|  7|\n",
      "|  9|\n",
      "| 11|\n",
      "+---+\n",
      "only showing top 5 rows"
     ]
    }
   ],
   "source": [
    "df_train_numeric.select(df_train_numeric[0]).show(5)"
   ]
  },
  {
   "cell_type": "code",
   "execution_count": 13,
   "metadata": {},
   "outputs": [
    {
     "data": {
      "application/vnd.jupyter.widget-view+json": {
       "model_id": "e24b854568f447fd96a7c3b4d2dcbfb6",
       "version_major": 2,
       "version_minor": 0
      },
      "text/plain": [
       "VBox()"
      ]
     },
     "metadata": {},
     "output_type": "display_data"
    },
    {
     "data": {
      "application/vnd.jupyter.widget-view+json": {
       "model_id": "",
       "version_major": 2,
       "version_minor": 0
      },
      "text/plain": [
       "FloatProgress(value=0.0, bar_style='info', description='Progress:', layout=Layout(height='25px', width='50%'),…"
      ]
     },
     "metadata": {},
     "output_type": "display_data"
    },
    {
     "name": "stdout",
     "output_type": "stream",
     "text": [
      "+---+\n",
      "| Id|\n",
      "+---+\n",
      "|  4|\n",
      "|  6|\n",
      "|  7|\n",
      "|  9|\n",
      "| 11|\n",
      "+---+\n",
      "only showing top 5 rows"
     ]
    }
   ],
   "source": [
    "df_train_categorical.select(df_train_categorical[0]).show(5)"
   ]
  },
  {
   "cell_type": "code",
   "execution_count": null,
   "metadata": {},
   "outputs": [],
   "source": []
  },
  {
   "cell_type": "markdown",
   "metadata": {},
   "source": [
    "# NOTE: On Join for PySpark, indicate the column match as a string rather than the commented out statement "
   ]
  },
  {
   "cell_type": "code",
   "execution_count": 14,
   "metadata": {},
   "outputs": [
    {
     "data": {
      "application/vnd.jupyter.widget-view+json": {
       "model_id": "7c962001e8fc41d8958e14ae03d8afa7",
       "version_major": 2,
       "version_minor": 0
      },
      "text/plain": [
       "VBox()"
      ]
     },
     "metadata": {},
     "output_type": "display_data"
    },
    {
     "data": {
      "application/vnd.jupyter.widget-view+json": {
       "model_id": "",
       "version_major": 2,
       "version_minor": 0
      },
      "text/plain": [
       "FloatProgress(value=0.0, bar_style='info', description='Progress:', layout=Layout(height='25px', width='50%'),…"
      ]
     },
     "metadata": {},
     "output_type": "display_data"
    }
   ],
   "source": [
    "# inner_join = df_train_numeric.join(df_train_categorical, df_train_numeric.Id == df_train_categorical.Id )"
   ]
  },
  {
   "cell_type": "markdown",
   "metadata": {},
   "source": [
    "# On Exploring the Categorical Dataset, it appears there are so many NaN's that it simply doesn't make sense to analyze it"
   ]
  },
  {
   "cell_type": "code",
   "execution_count": 15,
   "metadata": {},
   "outputs": [
    {
     "data": {
      "application/vnd.jupyter.widget-view+json": {
       "model_id": "5344eba9a7de4f96b13038620bef8a66",
       "version_major": 2,
       "version_minor": 0
      },
      "text/plain": [
       "VBox()"
      ]
     },
     "metadata": {},
     "output_type": "display_data"
    },
    {
     "data": {
      "application/vnd.jupyter.widget-view+json": {
       "model_id": "",
       "version_major": 2,
       "version_minor": 0
      },
      "text/plain": [
       "FloatProgress(value=0.0, bar_style='info', description='Progress:', layout=Layout(height='25px', width='50%'),…"
      ]
     },
     "metadata": {},
     "output_type": "display_data"
    }
   ],
   "source": [
    "# inner_join = df_train_numeric.join(df_train_categorical, \"Id\" )"
   ]
  },
  {
   "cell_type": "code",
   "execution_count": 16,
   "metadata": {},
   "outputs": [
    {
     "data": {
      "application/vnd.jupyter.widget-view+json": {
       "model_id": "669ff7f0fa2a4d958e34c2abedeabea9",
       "version_major": 2,
       "version_minor": 0
      },
      "text/plain": [
       "VBox()"
      ]
     },
     "metadata": {},
     "output_type": "display_data"
    },
    {
     "data": {
      "application/vnd.jupyter.widget-view+json": {
       "model_id": "",
       "version_major": 2,
       "version_minor": 0
      },
      "text/plain": [
       "FloatProgress(value=0.0, bar_style='info', description='Progress:', layout=Layout(height='25px', width='50%'),…"
      ]
     },
     "metadata": {},
     "output_type": "display_data"
    }
   ],
   "source": [
    "# len(inner_join.columns)"
   ]
  },
  {
   "cell_type": "code",
   "execution_count": 17,
   "metadata": {},
   "outputs": [
    {
     "data": {
      "application/vnd.jupyter.widget-view+json": {
       "model_id": "b6d578f766ef41c79d534a75cc953d73",
       "version_major": 2,
       "version_minor": 0
      },
      "text/plain": [
       "VBox()"
      ]
     },
     "metadata": {},
     "output_type": "display_data"
    },
    {
     "data": {
      "application/vnd.jupyter.widget-view+json": {
       "model_id": "",
       "version_major": 2,
       "version_minor": 0
      },
      "text/plain": [
       "FloatProgress(value=0.0, bar_style='info', description='Progress:', layout=Layout(height='25px', width='50%'),…"
      ]
     },
     "metadata": {},
     "output_type": "display_data"
    }
   ],
   "source": [
    "# count all nan values for all columns\n",
    "# inner_join.select([count(when(isnan(c) | col(c).isNull(), c)).alias(c) for c in inner_join.columns]).show()"
   ]
  },
  {
   "cell_type": "code",
   "execution_count": 48,
   "metadata": {},
   "outputs": [
    {
     "data": {
      "application/vnd.jupyter.widget-view+json": {
       "model_id": "26664e9e973a4c83ae103d4c8f1d7f85",
       "version_major": 2,
       "version_minor": 0
      },
      "text/plain": [
       "VBox()"
      ]
     },
     "metadata": {},
     "output_type": "display_data"
    },
    {
     "data": {
      "application/vnd.jupyter.widget-view+json": {
       "model_id": "",
       "version_major": 2,
       "version_minor": 0
      },
      "text/plain": [
       "FloatProgress(value=0.0, bar_style='info', description='Progress:', layout=Layout(height='25px', width='50%'),…"
      ]
     },
     "metadata": {},
     "output_type": "display_data"
    },
    {
     "name": "stdout",
     "output_type": "stream",
     "text": [
      "(4, 0.03, -0.034, -0.197, -0.179, 0.118, 0.116, -0.015, -0.032, 0.02, 0.083, -0.273, -0.273, -0.271, 0.167, -0.213, -0.023, -0.192, -0.088, 0.001, 0, 0.01, -0.223, -0.03, None, None, None, None, None, None, None, None, None, -0.001, -0.004, None, None, None, None, None, -0.164, -0.077, 0.06, -0.157, 0.0, 0.001, None, None, None, None, None, None, None, None, None, None, None, None, None, None, None, None, None, None, None, None, None, None, None, None, 0.018, -0.136, -0.013, 0.106, -0.112, -0.131, -0.021, -0.097, 0.26, 0.012, -0.115, 0.113, None, None, None, None, None, None, None, None, None, None, None, None, None, None, None, None, None, None)"
     ]
    }
   ],
   "source": [
    "df_train_numeric.head(1)[0][:100]"
   ]
  },
  {
   "cell_type": "code",
   "execution_count": 33,
   "metadata": {},
   "outputs": [
    {
     "data": {
      "application/vnd.jupyter.widget-view+json": {
       "model_id": "72fe0920a0954e459438c5e04921b572",
       "version_major": 2,
       "version_minor": 0
      },
      "text/plain": [
       "VBox()"
      ]
     },
     "metadata": {},
     "output_type": "display_data"
    },
    {
     "data": {
      "application/vnd.jupyter.widget-view+json": {
       "model_id": "",
       "version_major": 2,
       "version_minor": 0
      },
      "text/plain": [
       "FloatProgress(value=0.0, bar_style='info', description='Progress:', layout=Layout(height='25px', width='50%'),…"
      ]
     },
     "metadata": {},
     "output_type": "display_data"
    }
   ],
   "source": [
    "def df_wrangle(df):\n",
    "    df =  df.drop(\"Id\",\"Response\")\n",
    "    df = df.select([col(c).cast(\"double\") for c in df.columns])\n",
    "    imputer = Imputer(\n",
    "    inputCols=df.columns, \n",
    "    outputCols=[\"{}_imputed\".format(c) for c in df.columns]\n",
    "    )\n",
    "    df = imputer.fit(df).transform(df)\n",
    "    df = df[imputer.getOutputCols()]\n",
    "    return df "
   ]
  },
  {
   "cell_type": "code",
   "execution_count": 60,
   "metadata": {},
   "outputs": [
    {
     "data": {
      "application/vnd.jupyter.widget-view+json": {
       "model_id": "a7b7ff34534844c9a5207b8b13831979",
       "version_major": 2,
       "version_minor": 0
      },
      "text/plain": [
       "VBox()"
      ]
     },
     "metadata": {},
     "output_type": "display_data"
    },
    {
     "data": {
      "application/vnd.jupyter.widget-view+json": {
       "model_id": "",
       "version_major": 2,
       "version_minor": 0
      },
      "text/plain": [
       "FloatProgress(value=0.0, bar_style='info', description='Progress:', layout=Layout(height='25px', width='50%'),…"
      ]
     },
     "metadata": {},
     "output_type": "display_data"
    }
   ],
   "source": [
    "def df_preprocess(df):\n",
    "    assembler = VectorAssembler(\n",
    "    inputCols = df.columns,\n",
    "    outputCol = \"features\"\n",
    "    )\n",
    "    df = assembler.transform(df)\n",
    "#     df.select(\"features\").show(truncate=False)\n",
    "    return df"
   ]
  },
  {
   "cell_type": "code",
   "execution_count": 50,
   "metadata": {},
   "outputs": [
    {
     "data": {
      "application/vnd.jupyter.widget-view+json": {
       "model_id": "214a093833d044ecab08a54ec2334666",
       "version_major": 2,
       "version_minor": 0
      },
      "text/plain": [
       "VBox()"
      ]
     },
     "metadata": {},
     "output_type": "display_data"
    },
    {
     "data": {
      "application/vnd.jupyter.widget-view+json": {
       "model_id": "",
       "version_major": 2,
       "version_minor": 0
      },
      "text/plain": [
       "FloatProgress(value=0.0, bar_style='info', description='Progress:', layout=Layout(height='25px', width='50%'),…"
      ]
     },
     "metadata": {},
     "output_type": "display_data"
    }
   ],
   "source": [
    "df_train_numeric_imputed = df_wrangle(df_train_numeric)"
   ]
  },
  {
   "cell_type": "code",
   "execution_count": 53,
   "metadata": {},
   "outputs": [
    {
     "data": {
      "application/vnd.jupyter.widget-view+json": {
       "model_id": "a66cbd20770f40ccaa9f4f8f8c1cc8ff",
       "version_major": 2,
       "version_minor": 0
      },
      "text/plain": [
       "VBox()"
      ]
     },
     "metadata": {},
     "output_type": "display_data"
    },
    {
     "data": {
      "application/vnd.jupyter.widget-view+json": {
       "model_id": "",
       "version_major": 2,
       "version_minor": 0
      },
      "text/plain": [
       "FloatProgress(value=0.0, bar_style='info', description='Progress:', layout=Layout(height='25px', width='50%'),…"
      ]
     },
     "metadata": {},
     "output_type": "display_data"
    },
    {
     "name": "stdout",
     "output_type": "stream",
     "text": [
      "(0.03, -0.034, -0.197, -0.179, 0.118, 0.116, -0.015, -0.032, 0.02, 0.083, -0.273, -0.273, -0.271, 0.167, -0.213, -0.023, -0.192, -0.088, 0.001, 0.0, 0.01, -0.223, -0.03, -0.0003108022515146497, -8.989925547050625e-06, 0.00043946365189956327, -0.00010633447661842699, -3.069839979923448e-05, -5.9753576251538656e-05, -2.2550999677299486e-05, -0.0001611494197927842, 0.0001058594356872173, -0.001, -0.004, 6.560298310517508e-05, 0.00017431195362756688, -0.00027867653132211657, -0.00016086705134108002, 0.00013200467273175753, -0.164, -0.077, 0.06, -0.157, 0.0, 0.001, 0.00011895825116658523, 0.000157033472469625, 1.9940532899666376e-05, 3.442072333147556e-05, 0.00019083661631044175, 2.3974226598538684e-05, -4.2723755755363216e-05, 5.233560372065071e-06, -0.00015426373421844163, -2.659765398233033e-05, -1.858113348016249e-05, 1.835512875622714e-05, -3.132863893676562e-05, 6.329384519462659e-05, -1.8184895357793733e-05, -5.411062616903939e-06, -7.771141486615497e-05, -2.6647604031658774e-05, -1.4310337916383032e-05, -1.3147873491793725e-05, -0.00014258672830845583, -5.237770740635265e-06, -2.6073052649394663e-05, 8.23969036579052e-07, 0.018, -0.136, -0.013, 0.106, -0.112, -0.131, -0.021, -0.097, 0.26, 0.012, -0.115, 0.113, -0.00013356137502540922, -0.00017105605611806847, -0.00012341517220865262, -0.0003012959543257939, 6.136469732820679e-05, 0.00021788722677342125, 4.83679733620866e-05, -0.00011438852190152115, -0.00017814104709146196, 0.00015698935392318526, 0.0001217709585600277, 0.00012734806515712527, -2.3014479582082136e-05, 1.7470514118111822e-05, 0.0004884974093263813, 0.0004601948186528596, -0.00021761658031087117, -0.00029305699481865007, 2.6346113989637348e-05)"
     ]
    }
   ],
   "source": [
    "df_train_numeric_imputed.head(1)[0][:100]"
   ]
  },
  {
   "cell_type": "code",
   "execution_count": 54,
   "metadata": {},
   "outputs": [
    {
     "data": {
      "application/vnd.jupyter.widget-view+json": {
       "model_id": "98e796d2c9274e93a860b22f4caa4204",
       "version_major": 2,
       "version_minor": 0
      },
      "text/plain": [
       "VBox()"
      ]
     },
     "metadata": {},
     "output_type": "display_data"
    },
    {
     "data": {
      "application/vnd.jupyter.widget-view+json": {
       "model_id": "",
       "version_major": 2,
       "version_minor": 0
      },
      "text/plain": [
       "FloatProgress(value=0.0, bar_style='info', description='Progress:', layout=Layout(height='25px', width='50%'),…"
      ]
     },
     "metadata": {},
     "output_type": "display_data"
    },
    {
     "name": "stdout",
     "output_type": "stream",
     "text": [
      "968"
     ]
    }
   ],
   "source": [
    "len(df_train_numeric_imputed.columns)"
   ]
  },
  {
   "cell_type": "code",
   "execution_count": 61,
   "metadata": {},
   "outputs": [
    {
     "data": {
      "application/vnd.jupyter.widget-view+json": {
       "model_id": "99667aeee2674458803610a8539f51a4",
       "version_major": 2,
       "version_minor": 0
      },
      "text/plain": [
       "VBox()"
      ]
     },
     "metadata": {},
     "output_type": "display_data"
    },
    {
     "data": {
      "application/vnd.jupyter.widget-view+json": {
       "model_id": "",
       "version_major": 2,
       "version_minor": 0
      },
      "text/plain": [
       "FloatProgress(value=0.0, bar_style='info', description='Progress:', layout=Layout(height='25px', width='50%'),…"
      ]
     },
     "metadata": {},
     "output_type": "display_data"
    }
   ],
   "source": [
    "df_preprocessed = df_preprocess(df_train_numeric_imputed)"
   ]
  },
  {
   "cell_type": "markdown",
   "metadata": {},
   "source": [
    "# Vectorization Was A Success "
   ]
  },
  {
   "cell_type": "code",
   "execution_count": 89,
   "metadata": {},
   "outputs": [
    {
     "data": {
      "application/vnd.jupyter.widget-view+json": {
       "model_id": "03b6e8906886413faf66d08a9537da0c",
       "version_major": 2,
       "version_minor": 0
      },
      "text/plain": [
       "VBox()"
      ]
     },
     "metadata": {},
     "output_type": "display_data"
    },
    {
     "data": {
      "application/vnd.jupyter.widget-view+json": {
       "model_id": "",
       "version_major": 2,
       "version_minor": 0
      },
      "text/plain": [
       "FloatProgress(value=0.0, bar_style='info', description='Progress:', layout=Layout(height='25px', width='50%'),…"
      ]
     },
     "metadata": {},
     "output_type": "display_data"
    },
    {
     "name": "stdout",
     "output_type": "stream",
     "text": [
      "DenseVector([0.03, -0.034, -0.197, -0.179, 0.118, 0.116, -0.015, -0.032, 0.02, 0.083, -0.273, -0.273, -0.271, 0.167, -0.213, -0.023, -0.192, -0.088, 0.001, 0.0, 0.01, -0.223, -0.03, -0.0003, -0.0, 0.0004, -0.0001, -0.0, -0.0001, -0.0, -0.0002, 0.0001, -0.001, -0.004, 0.0001, 0.0002, -0.0003, -0.0002, 0.0001, -0.164, -0.077, 0.06, -0.157, 0.0, 0.001, 0.0001, 0.0002, 0.0, 0.0, 0.0002, 0.0, -0.0, 0.0, -0.0002, -0.0, -0.0, 0.0, -0.0, 0.0001, -0.0, -0.0, -0.0001, -0.0, -0.0, -0.0, -0.0001, -0.0, -0.0, 0.0, 0.018, -0.136, -0.013, 0.106, -0.112, -0.131, -0.021, -0.097, 0.26, 0.012, -0.115, 0.113, -0.0001, -0.0002, -0.0001, -0.0003, 0.0001, 0.0002, 0.0, -0.0001, -0.0002, 0.0002, 0.0001, 0.0001, -0.0, 0.0, 0.0005, 0.0005, -0.0002, -0.0003, 0.0, -0.0, 0.0001, 0.0004, 0.0002, -0.0003, -0.0001, -0.0004, -0.0004, 0.0, -0.0, -0.0003, 0.0003, -0.0001, -0.0003, 0.0001, -0.0, 0.0002, -0.0002, -0.0004, -0.0002, -0.0003, -0.0005, -0.0, -0.0003, 0.0, -0.0003, -0.0002, -0.0001, -0.0002, 0.0002, 0.0001, 0.0001, 0.0001, 0.0002, -0.0011, 0.0001, -0.0005, 0.0001, 0.0001, 0.0001, -0.0001, -0.0004, 0.0001, 0.0, -0.0001, -0.0001, 0.0001, 0.0003, 0.0003, -0.0002, 0.0003, 0.0002, -0.0001, -0.0, -0.0001, -0.0002, -0.0002, 0.0002, 0.0001, 0.0001, 0.0001, 0.0002, 0.0004, -0.0001, 0.0001, 0.0, 0.0003, -0.0002, 0.0003, 0.0005, -0.0003, -0.0003, -0.0, -0.0012, -0.0001, 0.0002, -0.0017, 0.0002, -0.0005, -0.0002, -0.0035, -0.0028, -0.0033, -0.0033, -0.0006, -0.0011, -0.0009, 0.0007, -0.001, -0.0011, -0.001, 0.0009, -0.0005, -0.0002, 0.0002, -0.0, 0.0002, 0.0004, -0.0, -0.0001, -0.0002, -0.0009, -0.0001, -0.0001, -0.0001, -0.0001, 0.0002, -0.0003, -0.0009, -0.0001, 0.0001, -0.0003, -0.0014, -0.0005, -0.0004, -0.0006, 0.0014, 0.0002, 0.0003, -0.0001, 0.0002, 0.001, -0.0001, -0.0015, 0.0002, 0.0018, 0.0, -0.0004, -0.0001, 0.0002, -0.001, -0.0001, 0.0016, 0.0, 0.0, 0.0002, 0.0, -0.0002, 0.0, 0.0, -0.0005, 0.0004, -0.0002, 0.0007, 0.0009, -0.0009, -0.0004, -0.0003, -0.0006, 0.0004, 0.0003, -0.0001, 0.0006, 0.0001, 0.0002, 0.0, -0.0005, 0.0, 0.0001, -0.0, 0.0006, 0.0006, 0.0001, -0.0, -0.0001, -0.0011, 0.0001, 0.0001, -0.0003, -0.0009, 0.0039, 0.0036, 0.0006, -0.0023, 0.0, 0.0001, 0.0005, -0.0, 0.0005, -0.0008, -0.0, -0.0, -0.0002, -0.0001, -0.0001, 0.0, 0.0, -0.0004, 0.0002, -0.0, -0.0, -0.0018, 0.0, -0.0004, -0.0001, -0.0014, -0.0, -0.0001, 0.0011, 0.0, 0.0013, 0.0, 0.0007, 0.0001, -0.0008, -0.0003, 0.0001, -0.0001, -0.0, -0.0004, -0.0, 0.0001, -0.0002, 0.0006, -0.0004, -0.0001, -0.0, 0.0012, 0.0, -0.0012, -0.001, 0.0003, 0.0006, 0.0, -0.0002, 0.0001, -0.0002, 0.0, -0.0, 0.0, 0.0003, -0.0002, -0.0003, 0.0003, 0.0002, 0.0001, -0.0003, 0.0, 0.0, -0.0, -0.0001, 0.0, -0.0001, -0.0, -0.0, -0.0002, 0.0001, -0.0001, -0.0001, -0.0007, -0.0, -0.0005, -0.0, -0.0003, 0.0004, 0.0, -0.0002, -0.0001, 0.0015, 0.0013, -0.0, 0.0, 0.0, 0.0, -0.0008, 0.0001, 0.0005, 0.0001, 0.0006, 0.0, -0.0001, 0.0001, 0.0, -0.0002, 0.0, -0.0003, -0.0, -0.0007, -0.0, 0.0002, 0.0003, 0.0002, 0.0003, 0.0, 0.0007, 0.0, -0.0003, 0.0001, -0.0003, -0.0003, -0.0002, 0.0002, -0.0003, -0.0003, -0.0001, -0.0003, -0.0, 0.0004, -0.0004, -0.0, 0.0001, -0.0, -0.0001, 0.0001, 0.0, -0.0004, 0.0, -0.0001, 0.0, 0.0001, 0.0, 0.0001, -0.0001, 0.0004, 0.0, -0.0002, -0.0002, -0.0001, -0.0001, 0.0, -0.0001, -0.0, -0.0006, -0.0004, 0.0, -0.0, 0.0001, -0.0, 0.0002, -0.0001, 0.0, 0.0, 0.0001, 0.0001, 0.0001, 0.0004, -0.0, -0.0006, -0.0005, 0.0, 0.0002, 0.0002, 0.0, -0.0001, 0.0007, -0.0, -0.0001, -0.0001, -0.0006, 0.0002, -0.0, 0.0001, 0.0002, -0.0, 0.0006, 0.0001, 0.0002, 0.0, 0.0006, 0.0003, 0.0002, 0.0003, 0.0002, 0.0006, 0.0001, -0.002, -0.0084, 0.0002, 0.0002, 0.0032, 0.0005, 0.0002, 0.0022, 0.0001, 0.0004, -0.0003, 0.0008, -0.0011, -0.0001, -0.0006, 0.0005, 0.0001, -0.0017, -0.0007, 0.0001, -0.0006, -0.0018, -0.0014, 0.0001, -0.0002, 0.0007, -0.0005, -0.0006, 0.0002, 0.0001, 0.0008, 0.0003, 0.0001, -0.0002, -0.0027, 0.0009, 0.0006, -0.0001, 0.0002, 0.0001, 0.0007, -0.0003, 0.0006, -0.0004, 0.0004, 0.0002, -0.0005, 0.0001, -0.0028, 0.0001, -0.0006, 0.0022, 0.0003, 0.0003, -0.0032, 0.0016, -0.0006, -0.0027, 0.0001, 0.0007, -0.0007, -0.0013, 0.0003, -0.0003, -0.0003, 0.0011, 0.0014, -0.0006, -0.0018, -0.0019, 0.0002, -0.0012, -0.001, 0.0011, 0.0014, 0.001, 0.0, 0.0023, -0.0, -0.0, 0.001, -0.001, 0.0001, -0.0001, 0.0013, -0.0021, 0.0007, -0.0004, -0.0002, 0.0039, 0.0003, -0.0001, -0.0013, -0.001, -0.0, -0.0017, 0.0005, -0.0034, -0.0003, 0.0013, 0.0016, -0.0016, -0.0053, -0.0025, -0.001, -0.0022, -0.0029, 0.0, -0.0003, -0.0002, 0.0001, -0.0052, 0.0008, 0.0052, 0.0034, -0.0002, -0.0, -0.0013, 0.0015, -0.0016, 0.0026, -0.0028, -0.0004, -0.0015, 0.0027, -0.0001, 0.0001, 0.002, 0.0006, -0.0054, -0.0006, 0.0004, 0.0008, 0.005, -0.0024, 0.0006, -0.0009, 0.0026, -0.0003, -0.0001, 0.0004, -0.0042, -0.0039, 0.0013, -0.0009, 0.0031, 0.0016, -0.0024, -0.0038, -0.0038, -0.0017, 0.0023, -0.0034, -0.0054, -0.0002, -0.001, 0.0008, 0.0002, -0.0002, -0.0003, -0.0006, 0.0001, -0.0005, -0.0, 0.0001, 0.0002, -0.0002, -0.0003, 0.0001, 0.0002, 0.0001, 0.0002, 0.0, 0.0003, 0.0005, -0.0001, 0.001, -0.0005, 0.0008, 0.0002, -0.0001, 0.0012, -0.0041, -0.0005, -0.0004, 0.0002, -0.0023, 0.0004, -0.0005, -0.0001, 0.0003, 0.003, -0.0, -0.0019, 0.0006, 0.0, 0.0002, -0.0001, -0.0003, 0.0023, 0.0008, 0.0023, -0.0033, 0.0004, -0.0022, 0.0003, -0.0001, -0.0, 0.0002, 0.0001, 0.0008, 0.0001, 0.0002, 0.0, -0.0001, -0.0001, 0.0001, 0.0001, 0.0002, -0.0003, 0.0004, 0.0001, -0.0002, -0.0, 0.0005, 0.0002, 0.0003, 0.0004, -0.0002, 0.0004, -0.0003, -0.0003, 0.0001, 0.0001, 0.0004, -0.0, 0.0001, 0.0, -0.0002, 0.0005, 0.0002, 0.0003, 0.0002, 0.0001, 0.0024, -0.0015, -0.001, -0.0011, -0.0016, -0.0014, -0.0004, -0.0011, -0.0026, -0.0008, -0.0014, -0.0015, -0.0015, 0.0016, 0.03, -0.047, -0.119, 0.04, -0.067, -0.058, 0.044, 0.044, 0.01, 0.041, -0.072, -0.024, -0.026, -0.257, 0.25, 0.218, 0.04, 0.044, 0.09, 0.036, -0.117, 0.054, -0.119, 0.044, -0.024, 0.218, -0.072, 0.25, -0.702, -0.702, -0.047, -0.058, 0.065, -0.069, -0.027, -0.058, 0.03, -0.067, 0.041, -0.257, 0.01, -0.026, -0.24, 0.52, -0.24, 0.52, 0.015, 0.015, 0.067, 0.0, 0.0, 0.0, 0.0, 0.003, 0.003, -0.003, 0.0, -0.137, 0.086, -0.006, -0.003, 0.159, -0.137, -0.02, -0.006, -0.01, 0.159, -0.0, -0.0002, -0.0002, -0.0001, 0.0001, -0.0003, -0.0, -0.0, 0.0, 0.0, -0.0, -0.0, 0.0001, -0.0, 0.0, -0.0, -0.0001, -0.0, -0.0, -0.0, -0.0001, 0.0001, -0.0, 0.0001, 0.0, 0.0001, -0.0, -0.0, -0.0001, 0.0, -0.0, -0.0, 0.0, 0.0, 0.0, 0.0, -0.177, -0.16, 0.091, 0.275, 0.01, -0.007, 0.038, 0.013, 0.019, 0.013, -0.009, 0.012, -0.01, -0.06, 0.013, -0.027, 0.013, 0.005, 0.002, 0.0, -0.049, 0.001, 0.0, -0.119, -0.102, -0.048, -0.119, -0.119, 0.026, 0.0, 0.0, 0.0, 0.0, 0.0, 0.0, 0.0, 0.0, 0.0, -0.009, -0.082, -0.022, 0.0, 0.0, 0.0, 0.0, -0.0001, 0.0, -0.0001, 0.0, 0.0, 0.0, 0.0, 0.0001, 0.0, 0.0, 0.0, 0.0, 0.0003, -0.0003, -0.0, 0.0, 0.0, 0.0002, 0.0001, -0.0003, -0.0004, -0.0003, -0.0002, 0.0, 0.0, 0.0002, 0.0001, 0.0, 0.0, -0.0001, 0.0001, 0.0005, 0.0002, 0.0002, 0.0001, -0.0, 0.0005, -0.0003, 0.001, 0.0003, 0.0006, 0.0, 0.0002, 0.0001, 0.0002, -0.0001, -0.0, -0.0001, 0.0001, 0.0, 0.0, 0.0001, 0.0002, -0.0007, 0.0003, -0.0002, 0.0003, -0.0006, 0.0, 0.0, 0.0001, 0.0001, -0.0005, -0.0, -0.0005, -0.0005, -0.0006, -0.0002, -0.0005, 0.0, 0.0001, 0.0001, 0.0, -0.0005, 0.0004, 0.0002, 0.0, 0.0002, 0.0001, 0.0001, -0.0001, 0.0001, 0.0, 0.0002, 0.0001, -0.0011, -0.0, -0.0006, 0.0, 0.0, 0.0004, 0.0002, -0.0024, -0.0, 0.0, 0.0002, 0.0001])"
     ]
    }
   ],
   "source": [
    "df_preprocessed.limit(1).toPandas()[\"features\"][0]"
   ]
  },
  {
   "cell_type": "markdown",
   "metadata": {},
   "source": [
    "# Ready For Machine Learning  "
   ]
  },
  {
   "cell_type": "code",
   "execution_count": null,
   "metadata": {},
   "outputs": [],
   "source": []
  },
  {
   "cell_type": "code",
   "execution_count": 112,
   "metadata": {},
   "outputs": [
    {
     "data": {
      "application/vnd.jupyter.widget-view+json": {
       "model_id": "f22fedaa73e74bb08fda45cf7721a143",
       "version_major": 2,
       "version_minor": 0
      },
      "text/plain": [
       "VBox()"
      ]
     },
     "metadata": {},
     "output_type": "display_data"
    },
    {
     "data": {
      "application/vnd.jupyter.widget-view+json": {
       "model_id": "",
       "version_major": 2,
       "version_minor": 0
      },
      "text/plain": [
       "FloatProgress(value=0.0, bar_style='info', description='Progress:', layout=Layout(height='25px', width='50%'),…"
      ]
     },
     "metadata": {},
     "output_type": "display_data"
    },
    {
     "name": "stdout",
     "output_type": "stream",
     "text": [
      "   L0_S0_F0_imputed  L0_S0_F2_imputed  ...  L0_S0_F16_imputed  L0_S0_F18_imputed\n",
      "0          0.030000         -0.034000  ...       2.000000e-02           0.083000\n",
      "1          0.000055          0.000091  ...       6.722445e-07           0.000005\n",
      "2          0.088000          0.086000  ...      -2.250000e-01          -0.147000\n",
      "3         -0.036000         -0.064000  ...      -2.600000e-02          -0.046000\n",
      "4         -0.055000         -0.086000  ...      -1.690000e-01          -0.099000\n",
      "\n",
      "[5 rows x 10 columns]"
     ]
    }
   ],
   "source": [
    "df_train_numeric.select(df_train_numeric.columns[:10]).limit(5).toPandas()"
   ]
  },
  {
   "cell_type": "code",
   "execution_count": null,
   "metadata": {},
   "outputs": [],
   "source": [
    "spark.sql(\"SELECT C* FROM table1 where \")"
   ]
  }
 ],
 "metadata": {
  "kernelspec": {
   "display_name": "PySpark",
   "language": "",
   "name": "pysparkkernel"
  },
  "language_info": {
   "codemirror_mode": {
    "name": "python",
    "version": 2
   },
   "mimetype": "text/x-python",
   "name": "pyspark",
   "pygments_lexer": "python2"
  }
 },
 "nbformat": 4,
 "nbformat_minor": 4
}
